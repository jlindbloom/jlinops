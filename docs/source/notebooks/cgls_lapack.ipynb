{
 "cells": [
  {
   "cell_type": "code",
   "execution_count": 2,
   "metadata": {},
   "outputs": [],
   "source": [
    "import numpy as np\n",
    "import matplotlib.pyplot as plt"
   ]
  },
  {
   "cell_type": "code",
   "execution_count": 3,
   "metadata": {},
   "outputs": [],
   "source": [
    "import numpy as np\n",
    "from ctypes import c_double, c_void_p, POINTER, cdll, c_int, addressof, c_char_p, c_char\n",
    "from numpy.ctypeslib import ndpointer"
   ]
  },
  {
   "cell_type": "code",
   "execution_count": 4,
   "metadata": {},
   "outputs": [],
   "source": [
    "# Load appropriate LAPACK library\n",
    "#liblapack = cdll.LoadLibrary(\"/usr/local/lib/liblapack.dylib\")\n",
    "liblapack = cdll.LoadLibrary(\"/usr/local/Cellar/lapack/3.12.0/lib/liblapack.3.12.0.dylib\")\n"
   ]
  },
  {
   "cell_type": "markdown",
   "metadata": {},
   "source": [
    "# SciPy linalg lapack"
   ]
  },
  {
   "cell_type": "code",
   "execution_count": 16,
   "metadata": {},
   "outputs": [],
   "source": [
    "import numpy as _np\n",
    "from scipy.linalg.blas import _get_funcs, _memoize_get_funcs # from .blas import _get_funcs, _memoize_get_funcs\n",
    "from scipy.linalg import _flapack\n",
    "from re import compile as regex_compile\n",
    "try:\n",
    "    from scipy.linalg import _clapack\n",
    "except ImportError:\n",
    "    _clapack = None\n",
    "\n",
    "try:\n",
    "    from scipy.linalg import _flapack_64\n",
    "    HAS_ILP64 = True\n",
    "except ImportError:\n",
    "    HAS_ILP64 = False\n",
    "    _flapack_64 = None\n"
   ]
  },
  {
   "cell_type": "code",
   "execution_count": 17,
   "metadata": {},
   "outputs": [],
   "source": [
    "\n",
    "\n",
    "# Expose all functions (only flapack --- clapack is an implementation detail)\n",
    "empty_module = None\n",
    "from scipy.linalg._flapack import *  # noqa: E402, F403\n",
    "del empty_module\n",
    "\n",
    "__all__ = ['get_lapack_funcs']\n",
    "\n",
    "# some convenience alias for complex functions\n",
    "_lapack_alias = {\n",
    "    'corghr': 'cunghr', 'zorghr': 'zunghr',\n",
    "    'corghr_lwork': 'cunghr_lwork', 'zorghr_lwork': 'zunghr_lwork',\n",
    "    'corgqr': 'cungqr', 'zorgqr': 'zungqr',\n",
    "    'cormqr': 'cunmqr', 'zormqr': 'zunmqr',\n",
    "    'corgrq': 'cungrq', 'zorgrq': 'zungrq',\n",
    "}\n",
    "\n",
    "\n",
    "# Place guards against docstring rendering issues with special characters\n",
    "p1 = regex_compile(r'with bounds (?P<b>.*?)( and (?P<s>.*?) storage){0,1}\\n')\n",
    "p2 = regex_compile(r'Default: (?P<d>.*?)\\n')\n",
    "\n",
    "\n",
    "def backtickrepl(m):\n",
    "    if m.group('s'):\n",
    "        return ('with bounds ``{}`` with ``{}`` storage\\n'\n",
    "                ''.format(m.group('b'), m.group('s')))\n",
    "    else:\n",
    "        return 'with bounds ``{}``\\n'.format(m.group('b'))\n",
    "\n",
    "\n",
    "for routine in [ssyevr, dsyevr, cheevr, zheevr,\n",
    "                ssyevx, dsyevx, cheevx, zheevx,\n",
    "                ssygvd, dsygvd, chegvd, zhegvd]:\n",
    "    if routine.__doc__:\n",
    "        routine.__doc__ = p1.sub(backtickrepl, routine.__doc__)\n",
    "        routine.__doc__ = p2.sub('Default ``\\\\1``\\n', routine.__doc__)\n",
    "    else:\n",
    "        continue\n",
    "\n",
    "del regex_compile, p1, p2, backtickrepl\n",
    "\n",
    "\n",
    "@_memoize_get_funcs\n",
    "def get_lapack_funcs(names, arrays=(), dtype=None, ilp64=False):\n",
    "    \"\"\"Return available LAPACK function objects from names.\n",
    "\n",
    "    Arrays are used to determine the optimal prefix of LAPACK routines.\n",
    "\n",
    "    Parameters\n",
    "    ----------\n",
    "    names : str or sequence of str\n",
    "        Name(s) of LAPACK functions without type prefix.\n",
    "\n",
    "    arrays : sequence of ndarrays, optional\n",
    "        Arrays can be given to determine optimal prefix of LAPACK\n",
    "        routines. If not given, double-precision routines will be\n",
    "        used, otherwise the most generic type in arrays will be used.\n",
    "\n",
    "    dtype : str or dtype, optional\n",
    "        Data-type specifier. Not used if `arrays` is non-empty.\n",
    "\n",
    "    ilp64 : {True, False, 'preferred'}, optional\n",
    "        Whether to return ILP64 routine variant.\n",
    "        Choosing 'preferred' returns ILP64 routine if available, and\n",
    "        otherwise the 32-bit routine. Default: False\n",
    "\n",
    "    Returns\n",
    "    -------\n",
    "    funcs : list\n",
    "        List containing the found function(s).\n",
    "\n",
    "    Notes\n",
    "    -----\n",
    "    This routine automatically chooses between Fortran/C\n",
    "    interfaces. Fortran code is used whenever possible for arrays with\n",
    "    column major order. In all other cases, C code is preferred.\n",
    "\n",
    "    In LAPACK, the naming convention is that all functions start with a\n",
    "    type prefix, which depends on the type of the principal\n",
    "    matrix. These can be one of {'s', 'd', 'c', 'z'} for the NumPy\n",
    "    types {float32, float64, complex64, complex128} respectively, and\n",
    "    are stored in attribute ``typecode`` of the returned functions.\n",
    "\n",
    "    Examples\n",
    "    --------\n",
    "    Suppose we would like to use '?lange' routine which computes the selected\n",
    "    norm of an array. We pass our array in order to get the correct 'lange'\n",
    "    flavor.\n",
    "\n",
    "    >>> import numpy as np\n",
    "    >>> import scipy.linalg as LA\n",
    "    >>> rng = np.random.default_rng()\n",
    "\n",
    "    >>> a = rng.random((3,2))\n",
    "    >>> x_lange = LA.get_lapack_funcs('lange', (a,))\n",
    "    >>> x_lange.typecode\n",
    "    'd'\n",
    "    >>> x_lange = LA.get_lapack_funcs('lange',(a*1j,))\n",
    "    >>> x_lange.typecode\n",
    "    'z'\n",
    "\n",
    "    Several LAPACK routines work best when its internal WORK array has\n",
    "    the optimal size (big enough for fast computation and small enough to\n",
    "    avoid waste of memory). This size is determined also by a dedicated query\n",
    "    to the function which is often wrapped as a standalone function and\n",
    "    commonly denoted as ``###_lwork``. Below is an example for ``?sysv``\n",
    "\n",
    "    >>> a = rng.random((1000, 1000))\n",
    "    >>> b = rng.random((1000, 1)) * 1j\n",
    "    >>> # We pick up zsysv and zsysv_lwork due to b array\n",
    "    ... xsysv, xlwork = LA.get_lapack_funcs(('sysv', 'sysv_lwork'), (a, b))\n",
    "    >>> opt_lwork, _ = xlwork(a.shape[0])  # returns a complex for 'z' prefix\n",
    "    >>> udut, ipiv, x, info = xsysv(a, b, lwork=int(opt_lwork.real))\n",
    "\n",
    "    \"\"\"\n",
    "    if isinstance(ilp64, str):\n",
    "        if ilp64 == 'preferred':\n",
    "            ilp64 = HAS_ILP64\n",
    "        else:\n",
    "            raise ValueError(\"Invalid value for 'ilp64'\")\n",
    "\n",
    "    if not ilp64:\n",
    "        print(\"this one)\")\n",
    "        return _get_funcs(names, arrays, dtype,\n",
    "                          \"LAPACK\", _flapack, _clapack,\n",
    "                          \"flapack\", \"clapack\", _lapack_alias,\n",
    "                          ilp64=False)\n",
    "    else:\n",
    "        if not HAS_ILP64:\n",
    "            raise RuntimeError(\"LAPACK ILP64 routine requested, but Scipy \"\n",
    "                               \"compiled only with 32-bit BLAS\")\n",
    "        return _get_funcs(names, arrays, dtype,\n",
    "                          \"LAPACK\", _flapack_64, None,\n",
    "                          \"flapack_64\", None, _lapack_alias,\n",
    "                          ilp64=True)\n",
    "\n",
    "\n",
    "_int32_max = _np.iinfo(_np.int32).max\n",
    "_int64_max = _np.iinfo(_np.int64).max\n",
    "\n",
    "\n",
    "def _compute_lwork(routine, *args, **kwargs):\n",
    "    \"\"\"\n",
    "    Round floating-point lwork returned by lapack to integer.\n",
    "\n",
    "    Several LAPACK routines compute optimal values for LWORK, which\n",
    "    they return in a floating-point variable. However, for large\n",
    "    values of LWORK, single-precision floating point is not sufficient\n",
    "    to hold the exact value --- some LAPACK versions (<= 3.5.0 at\n",
    "    least) truncate the returned integer to single precision and in\n",
    "    some cases this can be smaller than the required value.\n",
    "\n",
    "    Examples\n",
    "    --------\n",
    "    >>> from scipy.linalg import lapack\n",
    "    >>> n = 5000\n",
    "    >>> s_r, s_lw = lapack.get_lapack_funcs(('sysvx', 'sysvx_lwork'))\n",
    "    >>> lwork = lapack._compute_lwork(s_lw, n)\n",
    "    >>> lwork\n",
    "    32000\n",
    "\n",
    "    \"\"\"\n",
    "    dtype = getattr(routine, 'dtype', None)\n",
    "    int_dtype = getattr(routine, 'int_dtype', None)\n",
    "    ret = routine(*args, **kwargs)\n",
    "    if ret[-1] != 0:\n",
    "        raise ValueError(\"Internal work array size computation failed: \"\n",
    "                         \"%d\" % (ret[-1],))\n",
    "\n",
    "    if len(ret) == 2:\n",
    "        return _check_work_float(ret[0].real, dtype, int_dtype)\n",
    "    else:\n",
    "        return tuple(_check_work_float(x.real, dtype, int_dtype)\n",
    "                     for x in ret[:-1])\n",
    "\n",
    "\n",
    "def _check_work_float(value, dtype, int_dtype):\n",
    "    \"\"\"\n",
    "    Convert LAPACK-returned work array size float to integer,\n",
    "    carefully for single-precision types.\n",
    "    \"\"\"\n",
    "\n",
    "    if dtype == _np.float32 or dtype == _np.complex64:\n",
    "        # Single-precision routine -- take next fp value to work\n",
    "        # around possible truncation in LAPACK code\n",
    "        value = _np.nextafter(value, _np.inf, dtype=_np.float32)\n",
    "\n",
    "    value = int(value)\n",
    "    if int_dtype.itemsize == 4:\n",
    "        if value < 0 or value > _int32_max:\n",
    "            raise ValueError(\"Too large work array required -- computation \"\n",
    "                             \"cannot be performed with standard 32-bit\"\n",
    "                             \" LAPACK.\")\n",
    "    elif int_dtype.itemsize == 8:\n",
    "        if value < 0 or value > _int64_max:\n",
    "            raise ValueError(\"Too large work array required -- computation\"\n",
    "                             \" cannot be performed with standard 64-bit\"\n",
    "                             \" LAPACK.\")\n",
    "    return value"
   ]
  },
  {
   "cell_type": "code",
   "execution_count": 18,
   "metadata": {},
   "outputs": [
    {
     "name": "stdout",
     "output_type": "stream",
     "text": [
      "this one)\n"
     ]
    },
    {
     "data": {
      "text/plain": [
       "<fortran object>"
      ]
     },
     "execution_count": 18,
     "metadata": {},
     "output_type": "execute_result"
    }
   ],
   "source": [
    "get_lapack_funcs(\"gesvd\")"
   ]
  },
  {
   "cell_type": "code",
   "execution_count": 20,
   "metadata": {},
   "outputs": [
    {
     "name": "stdout",
     "output_type": "stream",
     "text": [
      "this one)\n"
     ]
    },
    {
     "ename": "ValueError",
     "evalue": "LAPACK function ddggsvd could not be found",
     "output_type": "error",
     "traceback": [
      "\u001b[0;31m---------------------------------------------------------------------------\u001b[0m",
      "\u001b[0;31mValueError\u001b[0m                                Traceback (most recent call last)",
      "\u001b[0;32m/var/folders/8y/4mq6cs_x20j1gp06wytwhlwm0000gn/T/ipykernel_68515/3511353585.py\u001b[0m in \u001b[0;36m<module>\u001b[0;34m\u001b[0m\n\u001b[0;32m----> 1\u001b[0;31m \u001b[0mget_lapack_funcs\u001b[0m\u001b[0;34m(\u001b[0m\u001b[0;34m\"dggsvd\"\u001b[0m\u001b[0;34m)\u001b[0m\u001b[0;34m\u001b[0m\u001b[0;34m\u001b[0m\u001b[0m\n\u001b[0m",
      "\u001b[0;32m~/opt/miniconda3/envs/speckle38/lib/python3.8/site-packages/scipy/linalg/blas.py\u001b[0m in \u001b[0;36mgetter\u001b[0;34m(names, arrays, dtype, ilp64)\u001b[0m\n\u001b[1;32m    399\u001b[0m             \u001b[0;32mreturn\u001b[0m \u001b[0mvalue\u001b[0m\u001b[0;34m\u001b[0m\u001b[0;34m\u001b[0m\u001b[0m\n\u001b[1;32m    400\u001b[0m \u001b[0;34m\u001b[0m\u001b[0m\n\u001b[0;32m--> 401\u001b[0;31m         \u001b[0mvalue\u001b[0m \u001b[0;34m=\u001b[0m \u001b[0mfunc\u001b[0m\u001b[0;34m(\u001b[0m\u001b[0mnames\u001b[0m\u001b[0;34m,\u001b[0m \u001b[0marrays\u001b[0m\u001b[0;34m,\u001b[0m \u001b[0mdtype\u001b[0m\u001b[0;34m,\u001b[0m \u001b[0milp64\u001b[0m\u001b[0;34m)\u001b[0m\u001b[0;34m\u001b[0m\u001b[0;34m\u001b[0m\u001b[0m\n\u001b[0m\u001b[1;32m    402\u001b[0m \u001b[0;34m\u001b[0m\u001b[0m\n\u001b[1;32m    403\u001b[0m         \u001b[0;32mif\u001b[0m \u001b[0mkey\u001b[0m \u001b[0;32mis\u001b[0m \u001b[0;32mnot\u001b[0m \u001b[0;32mNone\u001b[0m\u001b[0;34m:\u001b[0m\u001b[0;34m\u001b[0m\u001b[0;34m\u001b[0m\u001b[0m\n",
      "\u001b[0;32m/var/folders/8y/4mq6cs_x20j1gp06wytwhlwm0000gn/T/ipykernel_68515/2941729067.py\u001b[0m in \u001b[0;36mget_lapack_funcs\u001b[0;34m(names, arrays, dtype, ilp64)\u001b[0m\n\u001b[1;32m    122\u001b[0m     \u001b[0;32mif\u001b[0m \u001b[0;32mnot\u001b[0m \u001b[0milp64\u001b[0m\u001b[0;34m:\u001b[0m\u001b[0;34m\u001b[0m\u001b[0;34m\u001b[0m\u001b[0m\n\u001b[1;32m    123\u001b[0m         \u001b[0mprint\u001b[0m\u001b[0;34m(\u001b[0m\u001b[0;34m\"this one)\"\u001b[0m\u001b[0;34m)\u001b[0m\u001b[0;34m\u001b[0m\u001b[0;34m\u001b[0m\u001b[0m\n\u001b[0;32m--> 124\u001b[0;31m         return _get_funcs(names, arrays, dtype,\n\u001b[0m\u001b[1;32m    125\u001b[0m                           \u001b[0;34m\"LAPACK\"\u001b[0m\u001b[0;34m,\u001b[0m \u001b[0m_flapack\u001b[0m\u001b[0;34m,\u001b[0m \u001b[0m_clapack\u001b[0m\u001b[0;34m,\u001b[0m\u001b[0;34m\u001b[0m\u001b[0;34m\u001b[0m\u001b[0m\n\u001b[1;32m    126\u001b[0m                           \u001b[0;34m\"flapack\"\u001b[0m\u001b[0;34m,\u001b[0m \u001b[0;34m\"clapack\"\u001b[0m\u001b[0;34m,\u001b[0m \u001b[0m_lapack_alias\u001b[0m\u001b[0;34m,\u001b[0m\u001b[0;34m\u001b[0m\u001b[0;34m\u001b[0m\u001b[0m\n",
      "\u001b[0;32m~/opt/miniconda3/envs/speckle38/lib/python3.8/site-packages/scipy/linalg/blas.py\u001b[0m in \u001b[0;36m_get_funcs\u001b[0;34m(names, arrays, dtype, lib_name, fmodule, cmodule, fmodule_name, cmodule_name, alias, ilp64)\u001b[0m\n\u001b[1;32m    358\u001b[0m             \u001b[0mmodule_name\u001b[0m \u001b[0;34m=\u001b[0m \u001b[0mmodule2\u001b[0m\u001b[0;34m[\u001b[0m\u001b[0;36m1\u001b[0m\u001b[0;34m]\u001b[0m\u001b[0;34m\u001b[0m\u001b[0;34m\u001b[0m\u001b[0m\n\u001b[1;32m    359\u001b[0m         \u001b[0;32mif\u001b[0m \u001b[0mfunc\u001b[0m \u001b[0;32mis\u001b[0m \u001b[0;32mNone\u001b[0m\u001b[0;34m:\u001b[0m\u001b[0;34m\u001b[0m\u001b[0;34m\u001b[0m\u001b[0m\n\u001b[0;32m--> 360\u001b[0;31m             raise ValueError(\n\u001b[0m\u001b[1;32m    361\u001b[0m                 '%s function %s could not be found' % (lib_name, func_name))\n\u001b[1;32m    362\u001b[0m         \u001b[0mfunc\u001b[0m\u001b[0;34m.\u001b[0m\u001b[0mmodule_name\u001b[0m\u001b[0;34m,\u001b[0m \u001b[0mfunc\u001b[0m\u001b[0;34m.\u001b[0m\u001b[0mtypecode\u001b[0m \u001b[0;34m=\u001b[0m \u001b[0mmodule_name\u001b[0m\u001b[0;34m,\u001b[0m \u001b[0mprefix\u001b[0m\u001b[0;34m\u001b[0m\u001b[0;34m\u001b[0m\u001b[0m\n",
      "\u001b[0;31mValueError\u001b[0m: LAPACK function ddggsvd could not be found"
     ]
    }
   ],
   "source": [
    "get_lapack_funcs(\"dggsvd\")"
   ]
  },
  {
   "cell_type": "markdown",
   "metadata": {},
   "source": [
    "# How scipy SVD works"
   ]
  },
  {
   "cell_type": "code",
   "execution_count": null,
   "metadata": {},
   "outputs": [],
   "source": [
    "\"\"\"SVD decomposition functions.\"\"\"\n",
    "import numpy\n",
    "from numpy import zeros, r_, diag, dot, arccos, arcsin, where, clip\n",
    "\n",
    "# Local imports.\n",
    "from ._misc import LinAlgError, _datacopied\n",
    "from .lapack import get_lapack_funcs, _compute_lwork\n",
    "from ._decomp import _asarray_validated\n",
    "\n",
    "__all__ = ['svd', 'svdvals', 'diagsvd', 'orth', 'subspace_angles', 'null_space']\n",
    "\n",
    "\n",
    "def svd(a, full_matrices=True, compute_uv=True, overwrite_a=False,\n",
    "        check_finite=True, lapack_driver='gesdd'):\n",
    "    \"\"\"\n",
    "    Singular Value Decomposition.\n",
    "\n",
    "    Factorizes the matrix `a` into two unitary matrices ``U`` and ``Vh``, and\n",
    "    a 1-D array ``s`` of singular values (real, non-negative) such that\n",
    "    ``a == U @ S @ Vh``, where ``S`` is a suitably shaped matrix of zeros with\n",
    "    main diagonal ``s``.\n",
    "\n",
    "    Parameters\n",
    "    ----------\n",
    "    a : (M, N) array_like\n",
    "        Matrix to decompose.\n",
    "    full_matrices : bool, optional\n",
    "        If True (default), `U` and `Vh` are of shape ``(M, M)``, ``(N, N)``.\n",
    "        If False, the shapes are ``(M, K)`` and ``(K, N)``, where\n",
    "        ``K = min(M, N)``.\n",
    "    compute_uv : bool, optional\n",
    "        Whether to compute also ``U`` and ``Vh`` in addition to ``s``.\n",
    "        Default is True.\n",
    "    overwrite_a : bool, optional\n",
    "        Whether to overwrite `a`; may improve performance.\n",
    "        Default is False.\n",
    "    check_finite : bool, optional\n",
    "        Whether to check that the input matrix contains only finite numbers.\n",
    "        Disabling may give a performance gain, but may result in problems\n",
    "        (crashes, non-termination) if the inputs do contain infinities or NaNs.\n",
    "    lapack_driver : {'gesdd', 'gesvd'}, optional\n",
    "        Whether to use the more efficient divide-and-conquer approach\n",
    "        (``'gesdd'``) or general rectangular approach (``'gesvd'``)\n",
    "        to compute the SVD. MATLAB and Octave use the ``'gesvd'`` approach.\n",
    "        Default is ``'gesdd'``.\n",
    "\n",
    "        .. versionadded:: 0.18\n",
    "\n",
    "    Returns\n",
    "    -------\n",
    "    U : ndarray\n",
    "        Unitary matrix having left singular vectors as columns.\n",
    "        Of shape ``(M, M)`` or ``(M, K)``, depending on `full_matrices`.\n",
    "    s : ndarray\n",
    "        The singular values, sorted in non-increasing order.\n",
    "        Of shape (K,), with ``K = min(M, N)``.\n",
    "    Vh : ndarray\n",
    "        Unitary matrix having right singular vectors as rows.\n",
    "        Of shape ``(N, N)`` or ``(K, N)`` depending on `full_matrices`.\n",
    "\n",
    "    For ``compute_uv=False``, only ``s`` is returned.\n",
    "\n",
    "    Raises\n",
    "    ------\n",
    "    LinAlgError\n",
    "        If SVD computation does not converge.\n",
    "\n",
    "    See Also\n",
    "    --------\n",
    "    svdvals : Compute singular values of a matrix.\n",
    "    diagsvd : Construct the Sigma matrix, given the vector s.\n",
    "\n",
    "    Examples\n",
    "    --------\n",
    "    >>> import numpy as np\n",
    "    >>> from scipy import linalg\n",
    "    >>> rng = np.random.default_rng()\n",
    "    >>> m, n = 9, 6\n",
    "    >>> a = rng.standard_normal((m, n)) + 1.j*rng.standard_normal((m, n))\n",
    "    >>> U, s, Vh = linalg.svd(a)\n",
    "    >>> U.shape,  s.shape, Vh.shape\n",
    "    ((9, 9), (6,), (6, 6))\n",
    "\n",
    "    Reconstruct the original matrix from the decomposition:\n",
    "\n",
    "    >>> sigma = np.zeros((m, n))\n",
    "    >>> for i in range(min(m, n)):\n",
    "    ...     sigma[i, i] = s[i]\n",
    "    >>> a1 = np.dot(U, np.dot(sigma, Vh))\n",
    "    >>> np.allclose(a, a1)\n",
    "    True\n",
    "\n",
    "    Alternatively, use ``full_matrices=False`` (notice that the shape of\n",
    "    ``U`` is then ``(m, n)`` instead of ``(m, m)``):\n",
    "\n",
    "    >>> U, s, Vh = linalg.svd(a, full_matrices=False)\n",
    "    >>> U.shape, s.shape, Vh.shape\n",
    "    ((9, 6), (6,), (6, 6))\n",
    "    >>> S = np.diag(s)\n",
    "    >>> np.allclose(a, np.dot(U, np.dot(S, Vh)))\n",
    "    True\n",
    "\n",
    "    >>> s2 = linalg.svd(a, compute_uv=False)\n",
    "    >>> np.allclose(s, s2)\n",
    "    True\n",
    "\n",
    "    \"\"\"\n",
    "    a1 = _asarray_validated(a, check_finite=check_finite)\n",
    "    if len(a1.shape) != 2:\n",
    "        raise ValueError('expected matrix')\n",
    "    m, n = a1.shape\n",
    "    overwrite_a = overwrite_a or (_datacopied(a1, a))\n",
    "\n",
    "    if not isinstance(lapack_driver, str):\n",
    "        raise TypeError('lapack_driver must be a string')\n",
    "    if lapack_driver not in ('gesdd', 'gesvd'):\n",
    "        raise ValueError('lapack_driver must be \"gesdd\" or \"gesvd\", not \"%s\"'\n",
    "                         % (lapack_driver,))\n",
    "    funcs = (lapack_driver, lapack_driver + '_lwork')\n",
    "    gesXd, gesXd_lwork = get_lapack_funcs(funcs, (a1,), ilp64='preferred')\n",
    "\n",
    "    # compute optimal lwork\n",
    "    lwork = _compute_lwork(gesXd_lwork, a1.shape[0], a1.shape[1],\n",
    "                           compute_uv=compute_uv, full_matrices=full_matrices)\n",
    "\n",
    "    # perform decomposition\n",
    "    u, s, v, info = gesXd(a1, compute_uv=compute_uv, lwork=lwork,\n",
    "                          full_matrices=full_matrices, overwrite_a=overwrite_a)\n",
    "\n",
    "    if info > 0:\n",
    "        raise LinAlgError(\"SVD did not converge\")\n",
    "    if info < 0:\n",
    "        raise ValueError('illegal value in %dth argument of internal gesdd'\n",
    "                         % -info)\n",
    "    if compute_uv:\n",
    "        return u, s, v\n",
    "    else:\n",
    "        return s"
   ]
  },
  {
   "cell_type": "code",
   "execution_count": null,
   "metadata": {},
   "outputs": [],
   "source": []
  },
  {
   "cell_type": "code",
   "execution_count": null,
   "metadata": {},
   "outputs": [],
   "source": []
  },
  {
   "cell_type": "code",
   "execution_count": null,
   "metadata": {},
   "outputs": [],
   "source": []
  },
  {
   "cell_type": "code",
   "execution_count": null,
   "metadata": {},
   "outputs": [],
   "source": []
  },
  {
   "cell_type": "code",
   "execution_count": null,
   "metadata": {},
   "outputs": [],
   "source": []
  },
  {
   "cell_type": "code",
   "execution_count": null,
   "metadata": {},
   "outputs": [],
   "source": []
  },
  {
   "cell_type": "code",
   "execution_count": null,
   "metadata": {},
   "outputs": [],
   "source": []
  },
  {
   "cell_type": "code",
   "execution_count": null,
   "metadata": {},
   "outputs": [],
   "source": []
  },
  {
   "cell_type": "markdown",
   "metadata": {},
   "source": [
    "# OLD"
   ]
  },
  {
   "cell_type": "code",
   "execution_count": 4,
   "metadata": {},
   "outputs": [],
   "source": [
    "\n",
    "# Define function for calling DGGSVD\n",
    "def dgsvd(A, jobu=\"A\", jobvt=\"A\"):\n",
    "  \"\"\"\n",
    "  Performs GSVD using LAPACK DGGSVD routine.\n",
    "\n",
    "  Args:\n",
    "    A (numpy.ndarray): Input matrix A (double precision).\n",
    "\n",
    "\n",
    "  Returns:\n",
    "    u (numpy.ndarray): Singular vectors of A.\n",
    "    s (numpy.ndarray): Singular values.\n",
    "    v (numpy.ndarray): Singular vectors of B.\n",
    "  \"\"\"\n",
    "\n",
    "  ###  Handle inputs\n",
    "  m, n = A.shape\n",
    "\n",
    "  valid_jobs = [\"A\", \"S\", \"O\", \"N\"]\n",
    "  assert jobu in valid_jobs, \"invalid choice for jobu.\"\n",
    "  assert jobvt in valid_jobs, \"invalid choice for jobvt.\"\n",
    "  assert not ((jobu == \"O\") and (jobvt == \"O\")), \"jobu and jobvt cannot both be O.\"\n",
    "\n",
    "  lda = m\n",
    "  assert lda >= max([1, m]), \"invalid choice for LDA\"\n",
    "\n",
    "  if jobu == \"A\":\n",
    "    u_shape = (m,n)\n",
    "    ldu = m\n",
    "  elif jobu == \"S\":\n",
    "    u_shape = (m, min([m,n]))\n",
    "    ldu = m\n",
    "  else:\n",
    "    # u not referenced in this case\n",
    "    u_shape = (1,1)\n",
    "    ldu = 1\n",
    "\n",
    "  if jobvt == \"A\":\n",
    "    vt_shape = (n,n)\n",
    "    ldvt = n\n",
    "  elif jobvt == \"S\":\n",
    "    #vt_shape = (min([m,n]), n)\n",
    "    vt_shape = (n, min([m,n]))\n",
    "    ldvt = min([m,n])\n",
    "  else:\n",
    "    # vt not referenced in this case\n",
    "    vt_shape = (1,1)\n",
    "    ldvt = 1\n",
    "\n",
    "\n",
    "  lwork = -1\n",
    "\n",
    "  jobu = jobu.encode(\"utf-8\")\n",
    "  jobvt = jobvt.encode(\"utf-8\")\n",
    "\n",
    "\n",
    "\n",
    "  # Convert A to C-compatible data structures\n",
    "  a = A.ctypes.data_as(POINTER(c_double))\n",
    "  #a_data = A.copy().ctypes.cast(POINTER(c_double), strides=False)\n",
    "  #a_data = np.ctypes.data_as(a)\n",
    "\n",
    "  # Allocate memory for output arrays\n",
    "  s = np.empty( (min([m,n]),), dtype=np.double)\n",
    "  #a = np.empty( (lda, n), dtype=np.double)\n",
    "  u = np.empty( u_shape, dtype=np.double )\n",
    "  vt = np.empty( vt_shape, dtype=np.double )\n",
    "  work = np.empty( (100,), dtype=np.double )\n",
    "  info = 0\n",
    "\n",
    "\n",
    "  dgesvd_ = liblapack.dgesvd_\n",
    "  dgesvd_.restype = None\n",
    "  dgesvd_.argtypes = [\n",
    "    c_char_p,\n",
    "    c_char_p,\n",
    "    c_int, \n",
    "    c_int,\n",
    "    ndpointer(c_double, flags=\"C_CONTIGUOUS\"),\n",
    "    c_int,\n",
    "    ndpointer(c_double, flags=\"C_CONTIGUOUS\"),\n",
    "    ndpointer(c_double, flags=\"C_CONTIGUOUS\"),\n",
    "    c_int, \n",
    "    ndpointer(c_double, flags=\"C_CONTIGUOUS\"),\n",
    "    c_int,\n",
    "    ndpointer(c_double),\n",
    "    c_int,\n",
    "    c_int\n",
    "  ]\n",
    "\n",
    "# propagate = lib.propagate\n",
    "# propagate.restype = None\n",
    "# propagate.argtypes = [ndpointer(ctypes.c_float, flags=\"C_CONTIGUOUS\"),\n",
    "#                       ndpointer(ctypes.c_float, flags=\"C_CONTIGUOUS\"),\n",
    "#                       ndpointer(ctypes.c_float, flags=\"C_CONTIGUOUS\"),\n",
    "#                       ndpointer(ctypes.c_float, flags=\"C_CONTIGUOUS\"),\n",
    "#                       ctypes.c_float, ctypes.c_int, ctypes.c_int]\n",
    "\n",
    "\n",
    "  return dgesvd_(jobu, jobvt, m, n, A, lda, s, u, ldu, vt, ldvt, work, 100, info )\n",
    "\n",
    "\n",
    "  # liblapack.dgesvd_(c_char_p(jobu.encode(\"utf-8\")),  # JOBU\n",
    "  #                   c_char_p(jobvt.encode(\"utf-8\")),  # JOBVT\n",
    "  #                   c_int(m),  # M\n",
    "  #                   c_int(n), # N\n",
    "  #                   a,  # A\n",
    "  #                   c_int(lda),  # LDA\n",
    "  #                   s,  # S\n",
    "  #                    u, # u\n",
    "  #                     c_int(ldu), # ldu\n",
    "  #                     vt, # vt\n",
    "  #                     c_int(ldvt) # ldvt\n",
    "  #                     None, # work\n",
    "  #                     lwork, #lwork\n",
    "  #                     c_int(info), # Info  \n",
    "  #                     )  \n",
    "\n",
    "  # if liblapack.dgesvd_.err == 1:\n",
    "  #   raise Exception(\"DGGSVD error: The algorithm did not converge.\")\n",
    "\n",
    "  # return u, s, vt"
   ]
  },
  {
   "cell_type": "code",
   "execution_count": 5,
   "metadata": {},
   "outputs": [
    {
     "data": {
      "text/plain": [
       "c_char(b'A')"
      ]
     },
     "execution_count": 5,
     "metadata": {},
     "output_type": "execute_result"
    }
   ],
   "source": [
    "c_char(\"A\".encode(\"utf-8\"))"
   ]
  },
  {
   "cell_type": "code",
   "execution_count": null,
   "metadata": {},
   "outputs": [
    {
     "ename": "",
     "evalue": "",
     "output_type": "error",
     "traceback": [
      "\u001b[1;31mThe Kernel crashed while executing code in the the current cell or a previous cell. Please review the code in the cell(s) to identify a possible cause of the failure. Click <a href='https://aka.ms/vscodeJupyterKernelCrash'>here</a> for more info. View Jupyter <a href='command:jupyter.viewOutput'>log</a> for further details."
     ]
    }
   ],
   "source": [
    "\n",
    "# Example usage\n",
    "\n",
    "a = np.random.rand(5,2).astype(np.double) \n",
    "\n",
    "res = dgsvd(a, jobu=\"N\", jobvt=\"N\")\n",
    "\n",
    "print(\"U:\", u)\n",
    "print(\"S:\", s)\n",
    "print(\"V:\", v)\n",
    "print(\"Q:\", q)"
   ]
  },
  {
   "cell_type": "code",
   "execution_count": null,
   "metadata": {},
   "outputs": [
    {
     "data": {
      "text/plain": [
       "array([[0.77527774, 0.87995414, 0.06275372],\n",
       "       [0.05673105, 0.70302994, 0.23901943],\n",
       "       [0.7829233 , 0.99197642, 0.13926028],\n",
       "       [0.2499869 , 0.4925873 , 0.06164146],\n",
       "       [0.56281278, 0.90729101, 0.800618  ]])"
      ]
     },
     "execution_count": 12,
     "metadata": {},
     "output_type": "execute_result"
    }
   ],
   "source": [
    "np.random.rand(5,3).astype(np.double)"
   ]
  },
  {
   "cell_type": "code",
   "execution_count": 18,
   "metadata": {},
   "outputs": [
    {
     "data": {
      "text/plain": [
       "'1.21.4'"
      ]
     },
     "execution_count": 18,
     "metadata": {},
     "output_type": "execute_result"
    }
   ],
   "source": [
    "np.__version__"
   ]
  },
  {
   "cell_type": "code",
   "execution_count": null,
   "metadata": {},
   "outputs": [
    {
     "ename": "TypeError",
     "evalue": "cannot be converted to pointer",
     "output_type": "error",
     "traceback": [
      "\u001b[0;31m---------------------------------------------------------------------------\u001b[0m",
      "\u001b[0;31mTypeError\u001b[0m                                 Traceback (most recent call last)",
      "\u001b[0;32m/var/folders/8y/4mq6cs_x20j1gp06wytwhlwm0000gn/T/ipykernel_45515/286252845.py\u001b[0m in \u001b[0;36m<module>\u001b[0;34m\u001b[0m\n\u001b[1;32m     62\u001b[0m \u001b[0mn\u001b[0m \u001b[0;34m=\u001b[0m \u001b[0ma\u001b[0m\u001b[0;34m.\u001b[0m\u001b[0mshape\u001b[0m\u001b[0;34m[\u001b[0m\u001b[0;36m0\u001b[0m\u001b[0;34m]\u001b[0m\u001b[0;34m\u001b[0m\u001b[0;34m\u001b[0m\u001b[0m\n\u001b[1;32m     63\u001b[0m \u001b[0mu\u001b[0m \u001b[0;34m=\u001b[0m \u001b[0mnp\u001b[0m\u001b[0;34m.\u001b[0m\u001b[0mempty\u001b[0m\u001b[0;34m(\u001b[0m\u001b[0;34m(\u001b[0m\u001b[0mn\u001b[0m\u001b[0;34m,\u001b[0m \u001b[0mn\u001b[0m\u001b[0;34m)\u001b[0m\u001b[0;34m,\u001b[0m \u001b[0mdtype\u001b[0m\u001b[0;34m=\u001b[0m\u001b[0mnp\u001b[0m\u001b[0;34m.\u001b[0m\u001b[0mdouble\u001b[0m\u001b[0;34m)\u001b[0m\u001b[0;34m\u001b[0m\u001b[0;34m\u001b[0m\u001b[0m\n\u001b[0;32m---> 64\u001b[0;31m \u001b[0mu\u001b[0m\u001b[0;34m,\u001b[0m \u001b[0ms\u001b[0m\u001b[0;34m,\u001b[0m \u001b[0mv\u001b[0m\u001b[0;34m,\u001b[0m \u001b[0mq\u001b[0m \u001b[0;34m=\u001b[0m \u001b[0mdgsvd\u001b[0m\u001b[0;34m(\u001b[0m\u001b[0ma\u001b[0m\u001b[0;34m,\u001b[0m \u001b[0mb\u001b[0m\u001b[0;34m)\u001b[0m\u001b[0;34m\u001b[0m\u001b[0;34m\u001b[0m\u001b[0m\n\u001b[0m\u001b[1;32m     65\u001b[0m \u001b[0;34m\u001b[0m\u001b[0m\n\u001b[1;32m     66\u001b[0m \u001b[0mprint\u001b[0m\u001b[0;34m(\u001b[0m\u001b[0;34m\"U:\"\u001b[0m\u001b[0;34m,\u001b[0m \u001b[0mu\u001b[0m\u001b[0;34m)\u001b[0m\u001b[0;34m\u001b[0m\u001b[0;34m\u001b[0m\u001b[0m\n",
      "\u001b[0;32m/var/folders/8y/4mq6cs_x20j1gp06wytwhlwm0000gn/T/ipykernel_45515/286252845.py\u001b[0m in \u001b[0;36mdgsvd\u001b[0;34m(a, b)\u001b[0m\n\u001b[1;32m     45\u001b[0m \u001b[0;34m\u001b[0m\u001b[0m\n\u001b[1;32m     46\u001b[0m   \u001b[0;31m# Call DGGSVD routine\u001b[0m\u001b[0;34m\u001b[0m\u001b[0;34m\u001b[0m\u001b[0;34m\u001b[0m\u001b[0m\n\u001b[0;32m---> 47\u001b[0;31m   liblapack.dgesvd_(c_void_p(b\"N\"), c_void_p(b\"N\"), c_int(n), c_int(lda),\n\u001b[0m\u001b[1;32m     48\u001b[0m                      \u001b[0mc_int\u001b[0m\u001b[0;34m(\u001b[0m\u001b[0mldb\u001b[0m\u001b[0;34m)\u001b[0m\u001b[0;34m,\u001b[0m \u001b[0ma_data\u001b[0m\u001b[0;34m,\u001b[0m \u001b[0mc_int\u001b[0m\u001b[0;34m(\u001b[0m\u001b[0mlda\u001b[0m\u001b[0;34m)\u001b[0m\u001b[0;34m,\u001b[0m \u001b[0ms\u001b[0m\u001b[0;34m.\u001b[0m\u001b[0mctypes\u001b[0m\u001b[0;34m.\u001b[0m\u001b[0mdata_as\u001b[0m\u001b[0;34m(\u001b[0m\u001b[0mPOINTER\u001b[0m\u001b[0;34m(\u001b[0m\u001b[0mc_double\u001b[0m\u001b[0;34m)\u001b[0m\u001b[0;34m)\u001b[0m\u001b[0;34m,\u001b[0m\u001b[0;34m\u001b[0m\u001b[0;34m\u001b[0m\u001b[0m\n\u001b[1;32m     49\u001b[0m                      \u001b[0mu_data\u001b[0m\u001b[0;34m,\u001b[0m \u001b[0mc_int\u001b[0m\u001b[0;34m(\u001b[0m\u001b[0mlda\u001b[0m\u001b[0;34m)\u001b[0m\u001b[0;34m,\u001b[0m \u001b[0mv\u001b[0m\u001b[0;34m.\u001b[0m\u001b[0mctypes\u001b[0m\u001b[0;34m.\u001b[0m\u001b[0mdata_as\u001b[0m\u001b[0;34m(\u001b[0m\u001b[0mPOINTER\u001b[0m\u001b[0;34m(\u001b[0m\u001b[0mc_double\u001b[0m\u001b[0;34m)\u001b[0m\u001b[0;34m)\u001b[0m\u001b[0;34m,\u001b[0m \u001b[0mc_int\u001b[0m\u001b[0;34m(\u001b[0m\u001b[0mlda\u001b[0m\u001b[0;34m)\u001b[0m\u001b[0;34m,\u001b[0m\u001b[0;34m\u001b[0m\u001b[0;34m\u001b[0m\u001b[0m\n",
      "\u001b[0;31mTypeError\u001b[0m: cannot be converted to pointer"
     ]
    }
   ],
   "source": [
    "# import numpy as np\n",
    "# from ctypes import c_double, c_void_p, POINTER, cdll\n",
    "\n",
    "# # Load appropriate LAPACK library\n",
    "# liblapack = cdll.LoadLibrary(\"/usr/local/lib/liblapack.dylib\")\n",
    "\n",
    "# import numpy as np\n",
    "# from ctypes import c_double, c_void_p, POINTER, cdll\n",
    "\n",
    "# Load appropriate LAPACK library\n",
    "# liblapack = cdll.LoadLibrary(\"/usr/local/lib/liblapack.dylib\")\n",
    "\n",
    "# Define function for calling DGGSVD\n",
    "def dgsvd(a, b):\n",
    "  \"\"\"\n",
    "  Performs GSVD using LAPACK DGGSVD routine.\n",
    "\n",
    "  Args:\n",
    "    a (numpy.ndarray): Input matrix A (double precision).\n",
    "    b (numpy.ndarray): Input matrix B (double precision).\n",
    "\n",
    "  Returns:\n",
    "    u (numpy.ndarray): Singular vectors of A.\n",
    "    s (numpy.ndarray): Singular values.\n",
    "    v (numpy.ndarray): Singular vectors of B.\n",
    "    q (numpy.ndarray): Q matrix.\n",
    "  \"\"\"\n",
    "  n = a.shape[0]\n",
    "  lda = a.shape[1]\n",
    "  ldb = b.shape[1]\n",
    "\n",
    "  # Allocate memory for output arrays\n",
    "  u = np.empty((n, n), dtype=np.double)\n",
    "  s = np.empty(min(n, lda), dtype=np.double)\n",
    "  v = np.empty((lda, lda), dtype=np.double)\n",
    "  q = np.empty((ldb, ldb), dtype=np.double)\n",
    "\n",
    "  # Access underlying data buffer with np.ctypeslib\n",
    "  #u_data = np.ctypeslib.as_array(u).ctypes.data_as(c_double * lda)\n",
    "  u_data = np.ctypeslib.as_array(u).ctypes.data_as(POINTER(c_double))\n",
    "\n",
    "  # Convert NumPy arrays to C-compatible data structures\n",
    "  a_data = a.ctypes.data_as(POINTER(c_double))\n",
    "  b_data = b.ctypes.data_as(POINTER(c_double))\n",
    "\n",
    "  # Call DGGSVD routine\n",
    "  liblapack.dgesvd_(c_void_p(b\"N\"), c_void_p(b\"N\"), c_int(n), c_int(lda),\n",
    "                     c_int(ldb), a_data, c_int(lda), s.ctypes.data_as(POINTER(c_double)),\n",
    "                     u_data, c_int(lda), v.ctypes.data_as(POINTER(c_double)), c_int(lda),\n",
    "                     q.ctypes.data_as(POINTER(c_double)), c_int(ldb))\n",
    "\n",
    "  # Check for errors (example)\n",
    "  if liblapack.dgesvd_.err == 1:\n",
    "    raise Exception(\"DGGSVD error: The algorithm did not converge.\")\n",
    "\n",
    "  return u, s, v, q\n",
    "\n",
    "# Example usage\n",
    "a = np.random.rand(5, 3)\n",
    "b = np.random.rand(5, 2)\n",
    "\n",
    "n = a.shape[0]\n",
    "u = np.empty((n, n), dtype=np.double)\n",
    "u, s, v, q = dgsvd(a, b)\n",
    "\n",
    "print(\"U:\", u)\n",
    "print(\"S:\", s)\n",
    "print(\"V:\", v)\n",
    "print(\"Q:\", q)"
   ]
  },
  {
   "cell_type": "code",
   "execution_count": null,
   "metadata": {},
   "outputs": [],
   "source": []
  },
  {
   "cell_type": "code",
   "execution_count": null,
   "metadata": {},
   "outputs": [],
   "source": [
    "# Example usage\n",
    "a = np.random.rand(5, 3)\n",
    "b = np.random.rand(5, 2)\n",
    "\n",
    "n = a.shape[0]\n",
    "lda = a.shape[1]\n",
    "ldb = b.shape[1]\n",
    "\n",
    "# Allocate memory for output arrays\n",
    "u = np.empty((n, n), dtype=np.double)\n",
    "s = np.empty(min(n, lda), dtype=np.double)\n",
    "v = np.empty((lda, lda), dtype=np.double)\n",
    "q = np.empty((ldb, ldb), dtype=np.double)\n",
    "\n",
    "# Access underlying data buffer with np.ctypeslib\n",
    "#u_data = np.ctypeslib.as_array(u).ctypes.data_as(c_double * lda)\n",
    "u_data = np.ctypeslib.as_array(u).ctypes.data_as(POINTER(c_double))\n",
    "\n",
    "# Convert NumPy arrays to C-compatible data structures\n",
    "a_data = a.ctypes.data_as(POINTER(c_double))\n",
    "b_data = b.ctypes.data_as(POINTER(c_double))"
   ]
  },
  {
   "cell_type": "code",
   "execution_count": null,
   "metadata": {},
   "outputs": [
    {
     "ename": "TypeError",
     "evalue": "cannot be converted to pointer",
     "output_type": "error",
     "traceback": [
      "\u001b[0;31m---------------------------------------------------------------------------\u001b[0m",
      "\u001b[0;31mTypeError\u001b[0m                                 Traceback (most recent call last)",
      "\u001b[0;32m/var/folders/8y/4mq6cs_x20j1gp06wytwhlwm0000gn/T/ipykernel_45515/2409178719.py\u001b[0m in \u001b[0;36m<module>\u001b[0;34m\u001b[0m\n\u001b[0;32m----> 1\u001b[0;31m \u001b[0mc_void_p\u001b[0m\u001b[0;34m(\u001b[0m\u001b[0;34mb\"N\"\u001b[0m\u001b[0;34m)\u001b[0m\u001b[0;34m\u001b[0m\u001b[0;34m\u001b[0m\u001b[0m\n\u001b[0m",
      "\u001b[0;31mTypeError\u001b[0m: cannot be converted to pointer"
     ]
    }
   ],
   "source": [
    "c_void_p(b\"N\")"
   ]
  },
  {
   "cell_type": "code",
   "execution_count": null,
   "metadata": {},
   "outputs": [],
   "source": [
    "import ctypes"
   ]
  },
  {
   "cell_type": "code",
   "execution_count": null,
   "metadata": {},
   "outputs": [
    {
     "ename": "AttributeError",
     "evalue": "module 'ctypes' has no attribute '_CData'",
     "output_type": "error",
     "traceback": [
      "\u001b[0;31m---------------------------------------------------------------------------\u001b[0m",
      "\u001b[0;31mAttributeError\u001b[0m                            Traceback (most recent call last)",
      "\u001b[0;32m/var/folders/8y/4mq6cs_x20j1gp06wytwhlwm0000gn/T/ipykernel_45515/3877653430.py\u001b[0m in \u001b[0;36m<module>\u001b[0;34m\u001b[0m\n\u001b[1;32m      1\u001b[0m \u001b[0mdata\u001b[0m \u001b[0;34m=\u001b[0m \u001b[0;34mb\"N\"\u001b[0m\u001b[0;34m\u001b[0m\u001b[0;34m\u001b[0m\u001b[0m\n\u001b[0;32m----> 2\u001b[0;31m \u001b[0;32mif\u001b[0m \u001b[0;32mnot\u001b[0m \u001b[0misinstance\u001b[0m\u001b[0;34m(\u001b[0m\u001b[0mdata\u001b[0m\u001b[0;34m,\u001b[0m \u001b[0mctypes\u001b[0m\u001b[0;34m.\u001b[0m\u001b[0m_CData\u001b[0m\u001b[0;34m)\u001b[0m\u001b[0;34m:\u001b[0m\u001b[0;34m\u001b[0m\u001b[0;34m\u001b[0m\u001b[0m\n\u001b[0m\u001b[1;32m      3\u001b[0m     \u001b[0;32mraise\u001b[0m \u001b[0mTypeError\u001b[0m\u001b[0;34m(\u001b[0m\u001b[0;34m\"Invalid type for addressof\"\u001b[0m\u001b[0;34m)\u001b[0m\u001b[0;34m\u001b[0m\u001b[0;34m\u001b[0m\u001b[0m\n\u001b[1;32m      4\u001b[0m \u001b[0;34m\u001b[0m\u001b[0m\n\u001b[1;32m      5\u001b[0m \u001b[0mdata_ptr\u001b[0m \u001b[0;34m=\u001b[0m \u001b[0mctypes\u001b[0m\u001b[0;34m.\u001b[0m\u001b[0maddressof\u001b[0m\u001b[0;34m(\u001b[0m\u001b[0mdata\u001b[0m\u001b[0;34m)\u001b[0m\u001b[0;34m\u001b[0m\u001b[0;34m\u001b[0m\u001b[0m\n",
      "\u001b[0;31mAttributeError\u001b[0m: module 'ctypes' has no attribute '_CData'"
     ]
    }
   ],
   "source": [
    "data = b\"N\"\n",
    "if not isinstance(data, ctypes._CData):\n",
    "    raise TypeError(\"Invalid type for addressof\")\n",
    "\n",
    "data_ptr = ctypes.addressof(data)\n",
    "c_void_ptr = ctypes.c_void_p(data_ptr)"
   ]
  },
  {
   "cell_type": "code",
   "execution_count": null,
   "metadata": {},
   "outputs": [
    {
     "data": {
      "text/plain": [
       "<__main__.LP_c_double at 0x7fb9355a10c0>"
      ]
     },
     "execution_count": 31,
     "metadata": {},
     "output_type": "execute_result"
    }
   ],
   "source": [
    "s.ctypes.data_as(POINTER(c_double))"
   ]
  },
  {
   "cell_type": "code",
   "execution_count": null,
   "metadata": {},
   "outputs": [
    {
     "ename": "TypeError",
     "evalue": "cannot be converted to pointer",
     "output_type": "error",
     "traceback": [
      "\u001b[0;31m---------------------------------------------------------------------------\u001b[0m",
      "\u001b[0;31mTypeError\u001b[0m                                 Traceback (most recent call last)",
      "\u001b[0;32m/var/folders/8y/4mq6cs_x20j1gp06wytwhlwm0000gn/T/ipykernel_45515/99639439.py\u001b[0m in \u001b[0;36m<module>\u001b[0;34m\u001b[0m\n\u001b[0;32m----> 1\u001b[0;31m \u001b[0mc_void_p\u001b[0m\u001b[0;34m(\u001b[0m\u001b[0;34m\"M\"\u001b[0m\u001b[0;34m)\u001b[0m\u001b[0;34m\u001b[0m\u001b[0;34m\u001b[0m\u001b[0m\n\u001b[0m",
      "\u001b[0;31mTypeError\u001b[0m: cannot be converted to pointer"
     ]
    }
   ],
   "source": [
    "c_void_p(b\"M\")"
   ]
  },
  {
   "cell_type": "code",
   "execution_count": 32,
   "metadata": {},
   "outputs": [
    {
     "ename": "TypeError",
     "evalue": "cannot be converted to pointer",
     "output_type": "error",
     "traceback": [
      "\u001b[0;31m---------------------------------------------------------------------------\u001b[0m",
      "\u001b[0;31mTypeError\u001b[0m                                 Traceback (most recent call last)",
      "\u001b[0;32m/var/folders/8y/4mq6cs_x20j1gp06wytwhlwm0000gn/T/ipykernel_45515/1937932646.py\u001b[0m in \u001b[0;36m<module>\u001b[0;34m\u001b[0m\n\u001b[1;32m      1\u001b[0m \u001b[0;31m# Call DGGSVD routine\u001b[0m\u001b[0;34m\u001b[0m\u001b[0;34m\u001b[0m\u001b[0;34m\u001b[0m\u001b[0m\n\u001b[0;32m----> 2\u001b[0;31m liblapack.dgesvd_(c_void_p(b\"N\"), c_void_p(b\"N\"), c_int(n), c_int(lda),\n\u001b[0m\u001b[1;32m      3\u001b[0m                     \u001b[0mc_int\u001b[0m\u001b[0;34m(\u001b[0m\u001b[0mldb\u001b[0m\u001b[0;34m)\u001b[0m\u001b[0;34m,\u001b[0m \u001b[0ma_data\u001b[0m\u001b[0;34m,\u001b[0m \u001b[0mc_int\u001b[0m\u001b[0;34m(\u001b[0m\u001b[0mlda\u001b[0m\u001b[0;34m)\u001b[0m\u001b[0;34m,\u001b[0m \u001b[0ms\u001b[0m\u001b[0;34m.\u001b[0m\u001b[0mctypes\u001b[0m\u001b[0;34m.\u001b[0m\u001b[0mdata_as\u001b[0m\u001b[0;34m(\u001b[0m\u001b[0mPOINTER\u001b[0m\u001b[0;34m(\u001b[0m\u001b[0mc_double\u001b[0m\u001b[0;34m)\u001b[0m\u001b[0;34m)\u001b[0m\u001b[0;34m,\u001b[0m\u001b[0;34m\u001b[0m\u001b[0;34m\u001b[0m\u001b[0m\n\u001b[1;32m      4\u001b[0m                     \u001b[0mu_data\u001b[0m\u001b[0;34m,\u001b[0m \u001b[0mc_int\u001b[0m\u001b[0;34m(\u001b[0m\u001b[0mlda\u001b[0m\u001b[0;34m)\u001b[0m\u001b[0;34m,\u001b[0m \u001b[0mv\u001b[0m\u001b[0;34m.\u001b[0m\u001b[0mctypes\u001b[0m\u001b[0;34m.\u001b[0m\u001b[0mdata_as\u001b[0m\u001b[0;34m(\u001b[0m\u001b[0mPOINTER\u001b[0m\u001b[0;34m(\u001b[0m\u001b[0mc_double\u001b[0m\u001b[0;34m)\u001b[0m\u001b[0;34m)\u001b[0m\u001b[0;34m,\u001b[0m \u001b[0mc_int\u001b[0m\u001b[0;34m(\u001b[0m\u001b[0mlda\u001b[0m\u001b[0;34m)\u001b[0m\u001b[0;34m,\u001b[0m\u001b[0;34m\u001b[0m\u001b[0;34m\u001b[0m\u001b[0m\n\u001b[1;32m      5\u001b[0m                     q.ctypes.data_as(POINTER(c_double)), c_int(ldb))\n",
      "\u001b[0;31mTypeError\u001b[0m: cannot be converted to pointer"
     ]
    }
   ],
   "source": [
    "\n",
    "# Call DGGSVD routine\n",
    "liblapack.dgesvd_(c_void_p(b\"N\"), c_void_p(b\"N\"), c_int(n), c_int(lda),\n",
    "                    c_int(ldb), a_data, c_int(lda), s.ctypes.data_as(POINTER(c_double)),\n",
    "                    u_data, c_int(lda), v.ctypes.data_as(POINTER(c_double)), c_int(lda),\n",
    "                    q.ctypes.data_as(POINTER(c_double)), c_int(ldb))"
   ]
  },
  {
   "cell_type": "code",
   "execution_count": 35,
   "metadata": {},
   "outputs": [],
   "source": [
    "target_address = None\n",
    "c_void_ptr = ctypes.addressof(ctypes.c_char_p(target_address))"
   ]
  },
  {
   "cell_type": "code",
   "execution_count": null,
   "metadata": {},
   "outputs": [],
   "source": []
  },
  {
   "cell_type": "code",
   "execution_count": null,
   "metadata": {},
   "outputs": [],
   "source": []
  },
  {
   "cell_type": "code",
   "execution_count": null,
   "metadata": {},
   "outputs": [],
   "source": []
  },
  {
   "cell_type": "code",
   "execution_count": null,
   "metadata": {},
   "outputs": [],
   "source": []
  },
  {
   "cell_type": "code",
   "execution_count": null,
   "metadata": {},
   "outputs": [],
   "source": []
  },
  {
   "cell_type": "code",
   "execution_count": null,
   "metadata": {},
   "outputs": [],
   "source": []
  }
 ],
 "metadata": {
  "kernelspec": {
   "display_name": "speckle38",
   "language": "python",
   "name": "python3"
  },
  "language_info": {
   "codemirror_mode": {
    "name": "ipython",
    "version": 3
   },
   "file_extension": ".py",
   "mimetype": "text/x-python",
   "name": "python",
   "nbconvert_exporter": "python",
   "pygments_lexer": "ipython3",
   "version": "3.8.12"
  }
 },
 "nbformat": 4,
 "nbformat_minor": 2
}
