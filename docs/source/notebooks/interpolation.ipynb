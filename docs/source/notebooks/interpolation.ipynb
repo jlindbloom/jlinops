{
 "cells": [
  {
   "cell_type": "code",
   "execution_count": 2,
   "metadata": {},
   "outputs": [],
   "source": [
    "import numpy as np\n",
    "import matplotlib.pyplot as plt\n",
    "\n",
    "import jlinops"
   ]
  },
  {
   "cell_type": "code",
   "execution_count": 4,
   "metadata": {},
   "outputs": [],
   "source": [
    "np.random.seed(0)\n",
    "n_nonuniform = 15\n",
    "x_nonuniform = np.linspace(0,1,n_nonuniform) +  0.01*np.random.normal(size=n_nonuniform)\n",
    "x_nonuniform = np.clip(x_nonuniform)\n",
    "# y_nonuniform = np.cumsum(np.random.normal(size=n_nonuniform))\n",
    "\n",
    "n_uniform = 30\n",
    "x_uniform = np.linspace(0,1,n_uniform)\n",
    "y_uniform = np.cumsum(np.random.normal(size=n_nonuniform))"
   ]
  },
  {
   "cell_type": "code",
   "execution_count": 5,
   "metadata": {},
   "outputs": [
    {
     "ename": "AssertionError",
     "evalue": "nonuniform grid points must be within uniform grid boundaries.",
     "output_type": "error",
     "traceback": [
      "\u001b[0;31m---------------------------------------------------------------------------\u001b[0m",
      "\u001b[0;31mAssertionError\u001b[0m                            Traceback (most recent call last)",
      "\u001b[1;32m/Users/jonathanlindbloom/Github/jlinops/docs/source/notebooks/interpolation.ipynb Cell 3\u001b[0m line \u001b[0;36m4\n\u001b[1;32m      <a href='vscode-notebook-cell:/Users/jonathanlindbloom/Github/jlinops/docs/source/notebooks/interpolation.ipynb#W3sZmlsZQ%3D%3D?line=1'>2</a>\u001b[0m grid_upper_bound \u001b[39m=\u001b[39m np\u001b[39m.\u001b[39mamax(x_uniform)\n\u001b[1;32m      <a href='vscode-notebook-cell:/Users/jonathanlindbloom/Github/jlinops/docs/source/notebooks/interpolation.ipynb#W3sZmlsZQ%3D%3D?line=2'>3</a>\u001b[0m \u001b[39massert\u001b[39;00m np\u001b[39m.\u001b[39mamin(x_nonuniform) \u001b[39m>\u001b[39m grid_lower_bound, \u001b[39m\"\u001b[39m\u001b[39mnonuniform grid points must be within uniform grid boundaries.\u001b[39m\u001b[39m\"\u001b[39m\n\u001b[0;32m----> <a href='vscode-notebook-cell:/Users/jonathanlindbloom/Github/jlinops/docs/source/notebooks/interpolation.ipynb#W3sZmlsZQ%3D%3D?line=3'>4</a>\u001b[0m \u001b[39massert\u001b[39;00m np\u001b[39m.\u001b[39mamax(x_nonuniform) \u001b[39m<\u001b[39m grid_upper_bound, \u001b[39m\"\u001b[39m\u001b[39mnonuniform grid points must be within uniform grid boundaries.\u001b[39m\u001b[39m\"\u001b[39m\n",
      "\u001b[0;31mAssertionError\u001b[0m: nonuniform grid points must be within uniform grid boundaries."
     ]
    }
   ],
   "source": [
    "grid_lower_bound = np.amin(x_uniform)\n",
    "grid_upper_bound = np.amax(x_uniform)\n",
    "assert np.amin(x_nonuniform) >= grid_lower_bound, \"nonuniform grid points must be within uniform grid boundaries.\"\n",
    "assert np.amax(x_nonuniform) < grid_upper_bound, \"nonuniform grid points must be within uniform grid boundaries.\""
   ]
  },
  {
   "cell_type": "code",
   "execution_count": null,
   "metadata": {},
   "outputs": [],
   "source": []
  },
  {
   "cell_type": "code",
   "execution_count": null,
   "metadata": {},
   "outputs": [],
   "source": []
  }
 ],
 "metadata": {
  "kernelspec": {
   "display_name": "jlinops",
   "language": "python",
   "name": "python3"
  },
  "language_info": {
   "codemirror_mode": {
    "name": "ipython",
    "version": 3
   },
   "file_extension": ".py",
   "mimetype": "text/x-python",
   "name": "python",
   "nbconvert_exporter": "python",
   "pygments_lexer": "ipython3",
   "version": "3.11.6"
  }
 },
 "nbformat": 4,
 "nbformat_minor": 2
}
