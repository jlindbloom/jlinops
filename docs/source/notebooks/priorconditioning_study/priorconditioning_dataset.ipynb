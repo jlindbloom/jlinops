{
 "cells": [
  {
   "cell_type": "code",
   "execution_count": 12,
   "metadata": {},
   "outputs": [],
   "source": [
    "import numpy as np\n",
    "import matplotlib.pyplot as plt\n",
    "import pandas as pd\n",
    "\n",
    "import itertools\n",
    "\n",
    "from fastprogress import progress_bar\n",
    "\n",
    "import jlinops"
   ]
  },
  {
   "cell_type": "markdown",
   "metadata": {},
   "source": [
    "# Functions"
   ]
  },
  {
   "cell_type": "code",
   "execution_count": 2,
   "metadata": {},
   "outputs": [],
   "source": [
    "def rand_theta(n, num_nsparse, eps=1e-1, reg_lambda=1.0):\n",
    "    assert num_nsparse < n, \"num_nsparse must be less than n.\"\n",
    "    result = eps*np.ones(n)\n",
    "    nsparse_idxs = np.random.choice( [i for i in range(n)], size=num_nsparse, replace=False )\n",
    "    result[nsparse_idxs] = np.ones(num_nsparse)\n",
    "    result = result/reg_lambda\n",
    "    return result"
   ]
  },
  {
   "cell_type": "code",
   "execution_count": 30,
   "metadata": {},
   "outputs": [],
   "source": [
    "def evaluate_rho(blur_sigma, nsparse, eps, reg_lambda, n_samples=500):\n",
    "\n",
    "    n = 100\n",
    "    assert nsparse <= 100, \"invalid nsparse.\"\n",
    "    F = jlinops.Gaussian1DBlurOperator(n, blur_sigma=blur_sigma)\n",
    "    F = jlinops.black_box_to_dense(F)\n",
    "    R, W = jlinops.first_order_derivative_1d(n, boundary=\"zero\")\n",
    "    _R = R.toarray()\n",
    "    \n",
    "    rho_ests = []\n",
    "    Q1_conds = []\n",
    "    Q2_conds = []\n",
    "    for j in range(n_samples):\n",
    "\n",
    "        theta = rand_theta(n, nsparse, eps, reg_lambda=reg_lambda)\n",
    "\n",
    "        R = np.diag(1.0/np.sqrt(theta)) @ _R # put in the weights \n",
    "\n",
    "\n",
    "        # Get spectrum of original problem\n",
    "        Q1 = (F.T @ F) + (R.T @ R)\n",
    "        Q1_eigvals = np.real(np.flip(np.sort(np.linalg.eigvals(Q1))))\n",
    "        Q1_cond = np.linalg.cond(Q1)\n",
    "        Q1_conds.append(Q1_cond)\n",
    "\n",
    "        # Get spectrum for transformed problem\n",
    "        Rpinv = np.linalg.pinv(R)\n",
    "        Q2 = np.eye(R.shape[0]) + (Rpinv.T @ F.T @ F @ Rpinv)\n",
    "        Q2_eigvals = np.real(np.flip(np.sort(np.linalg.eigvals(Q2))))\n",
    "        Q2_cond = np.linalg.cond(Q2)\n",
    "        Q2_conds.append(Q2_cond)\n",
    "\n",
    "        # Improvement factor\n",
    "        rho = Q1_cond/Q2_cond\n",
    "        rho_ests.append(rho)\n",
    "\n",
    "    return np.mean(rho_ests)\n",
    "        "
   ]
  },
  {
   "cell_type": "markdown",
   "metadata": {},
   "source": [
    "# Define parameter space"
   ]
  },
  {
   "cell_type": "code",
   "execution_count": 40,
   "metadata": {},
   "outputs": [],
   "source": [
    "reg_lambdas = np.logspace(-2, 3, 5)\n",
    "epss = np.logspace(-4, -1, num=4)\n",
    "nsparses = np.arange(start=0, stop=100+4, step=4)\n",
    "blur_sigmas = np.arange(start=1, stop=26, step=2)"
   ]
  },
  {
   "cell_type": "code",
   "execution_count": 41,
   "metadata": {},
   "outputs": [],
   "source": [
    "df = pd.DataFrame({\"reg_lambda\":[],\n",
    "              \"eps\": [],\n",
    "              \"nsparse\": [],\n",
    "              \"blur_sigma\": [],\n",
    "              \"rho\": [],\n",
    "              })"
   ]
  },
  {
   "cell_type": "code",
   "execution_count": 42,
   "metadata": {},
   "outputs": [
    {
     "data": {
      "text/html": [
       "\n",
       "<style>\n",
       "    /* Turns off some styling */\n",
       "    progress {\n",
       "        /* gets rid of default border in Firefox and Opera. */\n",
       "        border: none;\n",
       "        /* Needs to be in here for Safari polyfill so background images work as expected. */\n",
       "        background-size: auto;\n",
       "    }\n",
       "    progress:not([value]), progress:not([value])::-webkit-progress-bar {\n",
       "        background: repeating-linear-gradient(45deg, #7e7e7e, #7e7e7e 10px, #5c5c5c 10px, #5c5c5c 20px);\n",
       "    }\n",
       "    .progress-bar-interrupted, .progress-bar-interrupted::-webkit-progress-bar {\n",
       "        background: #F44336;\n",
       "    }\n",
       "</style>\n"
      ],
      "text/plain": [
       "<IPython.core.display.HTML object>"
      ]
     },
     "metadata": {},
     "output_type": "display_data"
    },
    {
     "data": {
      "text/html": [
       "\n",
       "    <div>\n",
       "      <progress value='11' class='' max='6760' style='width:300px; height:20px; vertical-align: middle;'></progress>\n",
       "      0.16% [11/6760 01:22&lt;14:05:22]\n",
       "    </div>\n",
       "    "
      ],
      "text/plain": [
       "<IPython.core.display.HTML object>"
      ]
     },
     "metadata": {},
     "output_type": "display_data"
    },
    {
     "ename": "KeyboardInterrupt",
     "evalue": "",
     "output_type": "error",
     "traceback": [
      "\u001b[0;31m---------------------------------------------------------------------------\u001b[0m",
      "\u001b[0;31mKeyboardInterrupt\u001b[0m                         Traceback (most recent call last)",
      "\u001b[1;32m/Users/jonathanlindbloom/Github/jlinops/docs/source/notebooks/priorconditioning_study/priorconditioning_dataset.ipynb Cell 8\u001b[0m line \u001b[0;36m6\n\u001b[1;32m      <a href='vscode-notebook-cell:/Users/jonathanlindbloom/Github/jlinops/docs/source/notebooks/priorconditioning_study/priorconditioning_dataset.ipynb#X43sZmlsZQ%3D%3D?line=3'>4</a>\u001b[0m \u001b[39mfor\u001b[39;00m item \u001b[39min\u001b[39;00m progress_bar(combinations):\n\u001b[1;32m      <a href='vscode-notebook-cell:/Users/jonathanlindbloom/Github/jlinops/docs/source/notebooks/priorconditioning_study/priorconditioning_dataset.ipynb#X43sZmlsZQ%3D%3D?line=4'>5</a>\u001b[0m     reg_lambda, eps, nsparse, blur_sigma \u001b[39m=\u001b[39m item\n\u001b[0;32m----> <a href='vscode-notebook-cell:/Users/jonathanlindbloom/Github/jlinops/docs/source/notebooks/priorconditioning_study/priorconditioning_dataset.ipynb#X43sZmlsZQ%3D%3D?line=5'>6</a>\u001b[0m     rho \u001b[39m=\u001b[39m evaluate_rho(blur_sigma, nsparse, eps, reg_lambda)\n\u001b[1;32m      <a href='vscode-notebook-cell:/Users/jonathanlindbloom/Github/jlinops/docs/source/notebooks/priorconditioning_study/priorconditioning_dataset.ipynb#X43sZmlsZQ%3D%3D?line=6'>7</a>\u001b[0m     df_new \u001b[39m=\u001b[39m pd\u001b[39m.\u001b[39mDataFrame({\u001b[39m\"\u001b[39m\u001b[39mreg_lambda\u001b[39m\u001b[39m\"\u001b[39m:[reg_lambda],\n\u001b[1;32m      <a href='vscode-notebook-cell:/Users/jonathanlindbloom/Github/jlinops/docs/source/notebooks/priorconditioning_study/priorconditioning_dataset.ipynb#X43sZmlsZQ%3D%3D?line=7'>8</a>\u001b[0m               \u001b[39m\"\u001b[39m\u001b[39meps\u001b[39m\u001b[39m\"\u001b[39m: [eps],\n\u001b[1;32m      <a href='vscode-notebook-cell:/Users/jonathanlindbloom/Github/jlinops/docs/source/notebooks/priorconditioning_study/priorconditioning_dataset.ipynb#X43sZmlsZQ%3D%3D?line=8'>9</a>\u001b[0m               \u001b[39m\"\u001b[39m\u001b[39mnsparse\u001b[39m\u001b[39m\"\u001b[39m: [nsparse],\n\u001b[1;32m     <a href='vscode-notebook-cell:/Users/jonathanlindbloom/Github/jlinops/docs/source/notebooks/priorconditioning_study/priorconditioning_dataset.ipynb#X43sZmlsZQ%3D%3D?line=9'>10</a>\u001b[0m               \u001b[39m\"\u001b[39m\u001b[39mblur_sigma\u001b[39m\u001b[39m\"\u001b[39m: [blur_sigma],\n\u001b[1;32m     <a href='vscode-notebook-cell:/Users/jonathanlindbloom/Github/jlinops/docs/source/notebooks/priorconditioning_study/priorconditioning_dataset.ipynb#X43sZmlsZQ%3D%3D?line=10'>11</a>\u001b[0m               \u001b[39m\"\u001b[39m\u001b[39mrho\u001b[39m\u001b[39m\"\u001b[39m: [rho],\n\u001b[1;32m     <a href='vscode-notebook-cell:/Users/jonathanlindbloom/Github/jlinops/docs/source/notebooks/priorconditioning_study/priorconditioning_dataset.ipynb#X43sZmlsZQ%3D%3D?line=11'>12</a>\u001b[0m               })\n\u001b[1;32m     <a href='vscode-notebook-cell:/Users/jonathanlindbloom/Github/jlinops/docs/source/notebooks/priorconditioning_study/priorconditioning_dataset.ipynb#X43sZmlsZQ%3D%3D?line=12'>13</a>\u001b[0m     df \u001b[39m=\u001b[39m pd\u001b[39m.\u001b[39mconcat([ df, df_new ], ignore_index\u001b[39m=\u001b[39m\u001b[39mTrue\u001b[39;00m)\n",
      "\u001b[1;32m/Users/jonathanlindbloom/Github/jlinops/docs/source/notebooks/priorconditioning_study/priorconditioning_dataset.ipynb Cell 8\u001b[0m line \u001b[0;36m6\n\u001b[1;32m      <a href='vscode-notebook-cell:/Users/jonathanlindbloom/Github/jlinops/docs/source/notebooks/priorconditioning_study/priorconditioning_dataset.ipynb#X43sZmlsZQ%3D%3D?line=3'>4</a>\u001b[0m \u001b[39massert\u001b[39;00m nsparse \u001b[39m<\u001b[39m\u001b[39m=\u001b[39m \u001b[39m100\u001b[39m, \u001b[39m\"\u001b[39m\u001b[39minvalid nsparse.\u001b[39m\u001b[39m\"\u001b[39m\n\u001b[1;32m      <a href='vscode-notebook-cell:/Users/jonathanlindbloom/Github/jlinops/docs/source/notebooks/priorconditioning_study/priorconditioning_dataset.ipynb#X43sZmlsZQ%3D%3D?line=4'>5</a>\u001b[0m F \u001b[39m=\u001b[39m jlinops\u001b[39m.\u001b[39mGaussian1DBlurOperator(n, blur_sigma\u001b[39m=\u001b[39mblur_sigma)\n\u001b[0;32m----> <a href='vscode-notebook-cell:/Users/jonathanlindbloom/Github/jlinops/docs/source/notebooks/priorconditioning_study/priorconditioning_dataset.ipynb#X43sZmlsZQ%3D%3D?line=5'>6</a>\u001b[0m F \u001b[39m=\u001b[39m jlinops\u001b[39m.\u001b[39;49mblack_box_to_dense(F)\n\u001b[1;32m      <a href='vscode-notebook-cell:/Users/jonathanlindbloom/Github/jlinops/docs/source/notebooks/priorconditioning_study/priorconditioning_dataset.ipynb#X43sZmlsZQ%3D%3D?line=6'>7</a>\u001b[0m R, W \u001b[39m=\u001b[39m jlinops\u001b[39m.\u001b[39mfirst_order_derivative_1d(n, boundary\u001b[39m=\u001b[39m\u001b[39m\"\u001b[39m\u001b[39mzero\u001b[39m\u001b[39m\"\u001b[39m)\n\u001b[1;32m      <a href='vscode-notebook-cell:/Users/jonathanlindbloom/Github/jlinops/docs/source/notebooks/priorconditioning_study/priorconditioning_dataset.ipynb#X43sZmlsZQ%3D%3D?line=7'>8</a>\u001b[0m _R \u001b[39m=\u001b[39m R\u001b[39m.\u001b[39mtoarray()\n",
      "File \u001b[0;32m~/Github/jlinops/src/jlinops/util.py:259\u001b[0m, in \u001b[0;36mblack_box_to_dense\u001b[0;34m(A)\u001b[0m\n\u001b[1;32m    257\u001b[0m         ej \u001b[39m=\u001b[39m np\u001b[39m.\u001b[39mzeros(n)\n\u001b[1;32m    258\u001b[0m         ej[j] \u001b[39m=\u001b[39m \u001b[39m1.0\u001b[39m\n\u001b[0;32m--> 259\u001b[0m         B[i,j] \u001b[39m=\u001b[39m np\u001b[39m.\u001b[39mdot(ei\u001b[39m.\u001b[39mT, A\u001b[39m.\u001b[39;49mmatvec(ej))\n\u001b[1;32m    261\u001b[0m \u001b[39mreturn\u001b[39;00m B\n",
      "File \u001b[0;32m~/Github/jlinops/src/jlinops/base.py:217\u001b[0m, in \u001b[0;36mLinearOperator.matvec\u001b[0;34m(self, x)\u001b[0m\n\u001b[1;32m    214\u001b[0m \u001b[39mif\u001b[39;00m x\u001b[39m.\u001b[39mshape \u001b[39m!=\u001b[39m (N,) \u001b[39mand\u001b[39;00m x\u001b[39m.\u001b[39mshape \u001b[39m!=\u001b[39m (N,\u001b[39m1\u001b[39m):\n\u001b[1;32m    215\u001b[0m     \u001b[39mraise\u001b[39;00m \u001b[39mValueError\u001b[39;00m(\u001b[39m'\u001b[39m\u001b[39mdimension mismatch\u001b[39m\u001b[39m'\u001b[39m)\n\u001b[0;32m--> 217\u001b[0m y \u001b[39m=\u001b[39m \u001b[39mself\u001b[39;49m\u001b[39m.\u001b[39;49m_matvec(x)\n\u001b[1;32m    219\u001b[0m \u001b[39mif\u001b[39;00m \u001b[39misinstance\u001b[39m(x, np\u001b[39m.\u001b[39mmatrix):\n\u001b[1;32m    220\u001b[0m     y \u001b[39m=\u001b[39m asmatrix(y)\n",
      "File \u001b[0;32m~/Github/jlinops/src/jlinops/base.py:607\u001b[0m, in \u001b[0;36m_CustomLinearOperator._matvec\u001b[0;34m(self, x)\u001b[0m\n\u001b[1;32m    606\u001b[0m \u001b[39mdef\u001b[39;00m \u001b[39m_matvec\u001b[39m(\u001b[39mself\u001b[39m, x):\n\u001b[0;32m--> 607\u001b[0m     \u001b[39mreturn\u001b[39;00m \u001b[39mself\u001b[39;49m\u001b[39m.\u001b[39;49m__matvec_impl(x)\n",
      "File \u001b[0;32m~/Github/jlinops/src/jlinops/blurring.py:36\u001b[0m, in \u001b[0;36mGaussian1DBlurOperator.__init__.<locals>._matvec\u001b[0;34m(x)\u001b[0m\n\u001b[1;32m     35\u001b[0m \u001b[39mdef\u001b[39;00m \u001b[39m_matvec\u001b[39m(x):\n\u001b[0;32m---> 36\u001b[0m     \u001b[39mreturn\u001b[39;00m gaussian_filter(x, \u001b[39mfloat\u001b[39;49m(\u001b[39mself\u001b[39;49m\u001b[39m.\u001b[39;49mblur_sigma), mode\u001b[39m=\u001b[39;49m\u001b[39mself\u001b[39;49m\u001b[39m.\u001b[39;49mmode)\n",
      "File \u001b[0;32m~/opt/miniconda3/envs/jlinops/lib/python3.11/site-packages/scipy/ndimage/_filters.py:367\u001b[0m, in \u001b[0;36mgaussian_filter\u001b[0;34m(input, sigma, order, output, mode, cval, truncate, radius, axes)\u001b[0m\n\u001b[1;32m    284\u001b[0m \u001b[39m\u001b[39m\u001b[39m\"\"\"Multidimensional Gaussian filter.\u001b[39;00m\n\u001b[1;32m    285\u001b[0m \n\u001b[1;32m    286\u001b[0m \u001b[39mParameters\u001b[39;00m\n\u001b[0;32m   (...)\u001b[0m\n\u001b[1;32m    364\u001b[0m \u001b[39m>>> plt.show()\u001b[39;00m\n\u001b[1;32m    365\u001b[0m \u001b[39m\"\"\"\u001b[39;00m\n\u001b[1;32m    366\u001b[0m \u001b[39minput\u001b[39m \u001b[39m=\u001b[39m numpy\u001b[39m.\u001b[39masarray(\u001b[39minput\u001b[39m)\n\u001b[0;32m--> 367\u001b[0m output \u001b[39m=\u001b[39m _ni_support\u001b[39m.\u001b[39;49m_get_output(output, \u001b[39minput\u001b[39;49m)\n\u001b[1;32m    369\u001b[0m axes \u001b[39m=\u001b[39m _ni_support\u001b[39m.\u001b[39m_check_axes(axes, \u001b[39minput\u001b[39m\u001b[39m.\u001b[39mndim)\n\u001b[1;32m    370\u001b[0m num_axes \u001b[39m=\u001b[39m \u001b[39mlen\u001b[39m(axes)\n",
      "File \u001b[0;32m~/opt/miniconda3/envs/jlinops/lib/python3.11/site-packages/scipy/ndimage/_ni_support.py:79\u001b[0m, in \u001b[0;36m_get_output\u001b[0;34m(output, input, shape, complex_output)\u001b[0m\n\u001b[1;32m     77\u001b[0m \u001b[39mif\u001b[39;00m output \u001b[39mis\u001b[39;00m \u001b[39mNone\u001b[39;00m:\n\u001b[1;32m     78\u001b[0m     \u001b[39mif\u001b[39;00m \u001b[39mnot\u001b[39;00m complex_output:\n\u001b[0;32m---> 79\u001b[0m         output \u001b[39m=\u001b[39m numpy\u001b[39m.\u001b[39mzeros(shape, dtype\u001b[39m=\u001b[39m\u001b[39minput\u001b[39;49m\u001b[39m.\u001b[39;49mdtype\u001b[39m.\u001b[39;49mname)\n\u001b[1;32m     80\u001b[0m     \u001b[39melse\u001b[39;00m:\n\u001b[1;32m     81\u001b[0m         complex_type \u001b[39m=\u001b[39m numpy\u001b[39m.\u001b[39mpromote_types(\u001b[39minput\u001b[39m\u001b[39m.\u001b[39mdtype, numpy\u001b[39m.\u001b[39mcomplex64)\n",
      "File \u001b[0;32m~/opt/miniconda3/envs/jlinops/lib/python3.11/site-packages/numpy/core/_dtype.py:346\u001b[0m, in \u001b[0;36m_name_get\u001b[0;34m(dtype)\u001b[0m\n\u001b[1;32m    342\u001b[0m     \u001b[39melse\u001b[39;00m:\n\u001b[1;32m    343\u001b[0m         \u001b[39mreturn\u001b[39;00m \u001b[39mTrue\u001b[39;00m\n\u001b[0;32m--> 346\u001b[0m \u001b[39mdef\u001b[39;00m \u001b[39m_name_get\u001b[39m(dtype):\n\u001b[1;32m    347\u001b[0m     \u001b[39m# provides dtype.name.__get__, documented as returning a \"bit name\"\u001b[39;00m\n\u001b[1;32m    349\u001b[0m     \u001b[39mif\u001b[39;00m dtype\u001b[39m.\u001b[39misbuiltin \u001b[39m==\u001b[39m \u001b[39m2\u001b[39m:\n\u001b[1;32m    350\u001b[0m         \u001b[39m# user dtypes don't promise to do anything special\u001b[39;00m\n\u001b[1;32m    351\u001b[0m         \u001b[39mreturn\u001b[39;00m dtype\u001b[39m.\u001b[39mtype\u001b[39m.\u001b[39m\u001b[39m__name__\u001b[39m\n",
      "\u001b[0;31mKeyboardInterrupt\u001b[0m: "
     ]
    }
   ],
   "source": [
    "combinations = itertools.product(reg_lambdas, epss, nsparses, blur_sigmas)\n",
    "combinations = list(combinations)\n",
    "\n",
    "for item in progress_bar(combinations):\n",
    "    reg_lambda, eps, nsparse, blur_sigma = item\n",
    "    rho = evaluate_rho(blur_sigma, nsparse, eps, reg_lambda)\n",
    "    df_new = pd.DataFrame({\"reg_lambda\":[reg_lambda],\n",
    "              \"eps\": [eps],\n",
    "              \"nsparse\": [nsparse],\n",
    "              \"blur_sigma\": [blur_sigma],\n",
    "              \"rho\": [rho],\n",
    "              })\n",
    "    df = pd.concat([ df, df_new ], ignore_index=True)\n",
    "\n",
    "df.to_csv(\"deblurring_gradient_dataset.csv\", index=False)"
   ]
  },
  {
   "cell_type": "code",
   "execution_count": null,
   "metadata": {},
   "outputs": [],
   "source": []
  },
  {
   "cell_type": "code",
   "execution_count": null,
   "metadata": {},
   "outputs": [],
   "source": []
  },
  {
   "cell_type": "code",
   "execution_count": null,
   "metadata": {},
   "outputs": [],
   "source": []
  },
  {
   "cell_type": "code",
   "execution_count": null,
   "metadata": {},
   "outputs": [],
   "source": []
  },
  {
   "cell_type": "code",
   "execution_count": null,
   "metadata": {},
   "outputs": [],
   "source": []
  }
 ],
 "metadata": {
  "kernelspec": {
   "display_name": "jlinops",
   "language": "python",
   "name": "python3"
  },
  "language_info": {
   "codemirror_mode": {
    "name": "ipython",
    "version": 3
   },
   "file_extension": ".py",
   "mimetype": "text/x-python",
   "name": "python",
   "nbconvert_exporter": "python",
   "pygments_lexer": "ipython3",
   "version": "3.11.6"
  }
 },
 "nbformat": 4,
 "nbformat_minor": 2
}
