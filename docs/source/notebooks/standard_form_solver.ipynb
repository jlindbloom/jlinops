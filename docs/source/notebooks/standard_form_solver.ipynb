{
 "cells": [
  {
   "cell_type": "code",
   "execution_count": 1,
   "id": "b7fe42ed-58a4-401d-99cd-6c0c2b11dad8",
   "metadata": {
    "tags": []
   },
   "outputs": [],
   "source": [
    "import numpy as np\n",
    "import matplotlib.pyplot as plt\n",
    "\n",
    "from scipy.sparse.linalg import cg\n",
    "\n",
    "import jlinops\n",
    "import sampi"
   ]
  },
  {
   "cell_type": "markdown",
   "id": "d57728ee-2846-4cff-8633-67c32721a21a",
   "metadata": {},
   "source": [
    "# Transformed regularized least-squares"
   ]
  },
  {
   "cell_type": "markdown",
   "id": "82c5a478-7ee0-49fd-a1b5-588116f15122",
   "metadata": {
    "tags": []
   },
   "source": [
    "# Type 1, R is invertible."
   ]
  },
  {
   "cell_type": "code",
   "execution_count": 2,
   "id": "99a44c3a-9e56-43c7-9d56-4049795c7dc7",
   "metadata": {
    "tags": []
   },
   "outputs": [],
   "source": [
    "def trlstsq_rinv(A, Rinv, b, lam=1.0, *args, **kwargs):\n",
    "    \"\"\"Solves the regularized least-squares problem\n",
    "    min_x || A x - b ||_2^2 + lam*|| R x ||_2^2\n",
    "    using a transformation to standard form + a CGLS method. \n",
    "    It is assumed that null(A) and null(R) intersect trivially,\n",
    "    and additionally that R is square invertible.\n",
    "    \"\"\"\n",
    "    # Build Atilde\n",
    "    device = A.device\n",
    "    xp = jlinops.device_to_module(device)\n",
    "    n = A.shape[1]\n",
    "    \n",
    "    Atilde = A @ Rinv \n",
    "    data = jlinops.rlstsq(Atilde, b, lam=lam, *args, **kwargs)\n",
    "    \n",
    "    # Transform solution and overwrite cgls_data\n",
    "    data[\"z\"] = data[\"x\"].copy() # z is new coordinate\n",
    "    x = Rinv @ data[\"x\"]\n",
    "    data[\"x\"] = x\n",
    "    \n",
    "    return data"
   ]
  },
  {
   "cell_type": "code",
   "execution_count": 19,
   "id": "0fe467d6-afd5-43d5-b517-c5f87781c2ec",
   "metadata": {
    "tags": []
   },
   "outputs": [],
   "source": [
    "n = 100\n",
    "A = jlinops.Gaussian1DBlurOperator(n, blur_sigma=4)\n",
    "#A = jlinops.IdentityOperator((n,n))\n",
    "Rmat, _ = jlinops.first_order_derivative_1d(n, boundary=\"zero\")\n",
    "R = jlinops.MatrixLinearOperator(Rmat)\n",
    "b = A.matvec(np.cumsum(np.random.normal(size=n)))\n",
    "Rinv = jlinops.MatrixLinearOperator(np.linalg.inv(Rmat.toarray()))"
   ]
  },
  {
   "cell_type": "code",
   "execution_count": 20,
   "id": "2bbee2ad-6dd0-4a24-b11b-2f215571e024",
   "metadata": {
    "tags": []
   },
   "outputs": [],
   "source": [
    "lam = 1e1\n",
    "\n",
    "data_trlstsq_rinv = trlstsq_rinv(A, Rinv, b, lam=lam, tol=1e-3)\n",
    "data_trlstsq = jlinops.trlstsq(A, R, b, lam=lam, tol=1e-3)\n",
    "\n",
    "Q = (A.T @ A) + lam*(R.T @ R)\n",
    "scipy_cg_sol, _ = cg(Q, A.T @ b, tol=1e-4, x0=np.ones(n))"
   ]
  },
  {
   "cell_type": "code",
   "execution_count": 21,
   "id": "2309217f-7ba3-4f5d-aee5-40ec4170c16a",
   "metadata": {
    "tags": []
   },
   "outputs": [
    {
     "name": "stdout",
     "output_type": "stream",
     "text": [
      "0.008201254391989545\n"
     ]
    }
   ],
   "source": [
    "print(np.linalg.norm(data_trlstsq[\"x\"] - scipy_cg_sol))"
   ]
  },
  {
   "cell_type": "code",
   "execution_count": 22,
   "id": "4b400fc7-5dc6-4755-b277-b55ee75a1d92",
   "metadata": {
    "tags": []
   },
   "outputs": [
    {
     "name": "stdout",
     "output_type": "stream",
     "text": [
      "0.002064127221395356\n"
     ]
    }
   ],
   "source": [
    "print(np.linalg.norm(data_trlstsq_rinv[\"x\"] - scipy_cg_sol))"
   ]
  },
  {
   "cell_type": "code",
   "execution_count": 23,
   "id": "327cce58-0185-4e73-b033-16255a47702f",
   "metadata": {
    "tags": []
   },
   "outputs": [
    {
     "name": "stdout",
     "output_type": "stream",
     "text": [
      "0.008698458703686343\n"
     ]
    }
   ],
   "source": [
    "print(np.linalg.norm(data_trlstsq_rinv[\"x\"] - data_trlstsq[\"x\"] ))"
   ]
  },
  {
   "cell_type": "code",
   "execution_count": 24,
   "id": "ab299749-bd9f-4f85-8f76-53062c3fa2e0",
   "metadata": {
    "tags": []
   },
   "outputs": [
    {
     "data": {
      "text/plain": [
       "True"
      ]
     },
     "execution_count": 24,
     "metadata": {},
     "output_type": "execute_result"
    }
   ],
   "source": [
    "data_trlstsq_rinv[\"converged\"]"
   ]
  },
  {
   "cell_type": "code",
   "execution_count": 25,
   "id": "352992b8-9ec1-416f-9ecf-8ed461d06e6d",
   "metadata": {
    "tags": []
   },
   "outputs": [
    {
     "data": {
      "text/plain": [
       "True"
      ]
     },
     "execution_count": 25,
     "metadata": {},
     "output_type": "execute_result"
    }
   ],
   "source": [
    "data_trlstsq[\"converged\"]"
   ]
  },
  {
   "cell_type": "code",
   "execution_count": 26,
   "id": "3147c60a-9993-48f6-942f-ebca5af76d8d",
   "metadata": {
    "tags": []
   },
   "outputs": [
    {
     "data": {
      "image/png": "[encoded data removed]",
      "text/plain": [
       "<Figure size 640x480 with 1 Axes>"
      ]
     },
     "metadata": {},
     "output_type": "display_data"
    }
   ],
   "source": [
    "plt.plot(data_trlstsq_rinv[\"At_residual_norms\"])\n",
    "plt.show()"
   ]
  },
  {
   "cell_type": "markdown",
   "id": "502ddb9e-c9bc-47a2-b7f6-9b79d2b2addc",
   "metadata": {},
   "source": [
    "# R noninvertible but with trivial kernel"
   ]
  },
  {
   "cell_type": "code",
   "execution_count": 31,
   "id": "c0d800a8-243e-400d-b28b-9c562f61894a",
   "metadata": {
    "tags": []
   },
   "outputs": [],
   "source": [
    "from scipy.linalg import null_space"
   ]
  },
  {
   "cell_type": "code",
   "execution_count": 38,
   "id": "15ab255f-f674-4923-b4b3-f5a6330c9d50",
   "metadata": {
    "tags": []
   },
   "outputs": [],
   "source": [
    "def trlstsq_rtker(A, Rpinv, b, lam=1.0, chol_fac=False, *args, **kwargs):\n",
    "    \"\"\"Solves the regularized least-squares problem\n",
    "    min_x || A x - b ||_2^2 + lam*|| R x ||_2^2\n",
    "    using a transformation to standard form + a CGLS method. \n",
    "    It is assumed that null(A) and null(R) intersect trivially,\n",
    "    and additionally that R has a trivial kernel (but possibly\n",
    "    non-square).\n",
    "    \n",
    "    If chol_fac=False, Rpinv should represent the MP pseudoinverse.\n",
    "    If chol_fac=True, Rpinv should represent square L^-T where R^T R = L L^T.\n",
    "    \"\"\"\n",
    "    # Build Atilde\n",
    "    device = A.device\n",
    "    xp = jlinops.device_to_module(device)\n",
    "    n = A.shape[1]\n",
    "    \n",
    "    Atilde = A @ Rpinv \n",
    "    data = jlinops.rlstsq(Atilde, b, lam=lam, *args, **kwargs)\n",
    "    \n",
    "    # Transform solution and overwrite cgls_data\n",
    "    data[\"z\"] = data[\"x\"].copy() # z is new coordinate\n",
    "    x = Rpinv @ data[\"x\"]\n",
    "    data[\"x\"] = x\n",
    "    \n",
    "    return data"
   ]
  },
  {
   "cell_type": "code",
   "execution_count": 95,
   "id": "60ebcc7f-fd6d-4381-8c27-8fb2af88ba44",
   "metadata": {},
   "outputs": [],
   "source": [
    "n = 25\n",
    "A = jlinops.Gaussian1DBlurOperator(n, blur_sigma=4)\n",
    "#A = jlinops.IdentityOperator((n,n))\n",
    "Rmat, _ = jlinops.first_order_derivative_1d(n, boundary=\"zero\")\n",
    "Rmat = Rmat.toarray()\n",
    "Rmat = np.vstack([Rmat, Rmat])\n",
    "# Rmat = Rmat.T @ Rmat\n",
    "R = jlinops.MatrixLinearOperator(Rmat)\n",
    "Rpinv = jlinops.MatrixLinearOperator(np.linalg.pinv(Rmat))\n",
    "b = A.matvec(np.cumsum(np.random.normal(size=n)))"
   ]
  },
  {
   "cell_type": "code",
   "execution_count": 96,
   "id": "9f93c33a-a18b-4876-b105-0f4c2dce8066",
   "metadata": {},
   "outputs": [],
   "source": [
    "lam = 1e1\n",
    "\n",
    "#data_trlstsq_rinv = trlstsq_rinv(A, Rinv, b, lam=lam, tol=1e-3)\n",
    "data_trlstsq = jlinops.trlstsq(A, R, b, lam=lam, tol=1e-3)\n",
    "data_trlstsq_rtker = trlstsq_rtker(A, Rpinv, b, lam=lam, tol=1e-3)\n",
    "\n",
    "Q = (A.T @ A) + lam*(R.T @ R)\n",
    "scipy_cg_sol, _ = cg(Q, A.T @ b, tol=1e-3)"
   ]
  },
  {
   "cell_type": "code",
   "execution_count": 97,
   "id": "f43f3d7c-d01e-4fdf-a5a6-3b283621fddf",
   "metadata": {},
   "outputs": [
    {
     "name": "stdout",
     "output_type": "stream",
     "text": [
      "0.0004443350182862952\n"
     ]
    }
   ],
   "source": [
    "print(np.linalg.norm(data_trlstsq_rtker[\"x\"] - scipy_cg_sol))"
   ]
  },
  {
   "cell_type": "code",
   "execution_count": 98,
   "id": "b29af923-907b-436c-9adc-3f5c619f525a",
   "metadata": {},
   "outputs": [
    {
     "name": "stdout",
     "output_type": "stream",
     "text": [
      "2.927390968173784e-15\n"
     ]
    }
   ],
   "source": [
    "print(np.linalg.norm(data_trlstsq[\"x\"] - scipy_cg_sol))"
   ]
  },
  {
   "cell_type": "code",
   "execution_count": 99,
   "id": "613994ae-9373-4109-9fb5-ed6e7fa6e45d",
   "metadata": {
    "tags": []
   },
   "outputs": [
    {
     "name": "stdout",
     "output_type": "stream",
     "text": [
      "0.0004443350182866868\n"
     ]
    }
   ],
   "source": [
    "print(np.linalg.norm(data_trlstsq[\"x\"] - data_trlstsq_rtker[\"x\"]))"
   ]
  },
  {
   "cell_type": "code",
   "execution_count": 100,
   "id": "8f57b9b8-8cbc-4b36-9c49-f54cea562ceb",
   "metadata": {
    "tags": []
   },
   "outputs": [
    {
     "data": {
      "image/png": "[encoded data removed]",
      "text/plain": [
       "<Figure size 640x480 with 1 Axes>"
      ]
     },
     "metadata": {},
     "output_type": "display_data"
    }
   ],
   "source": [
    "plt.plot(data_trlstsq[\"x\"])\n",
    "plt.plot(data_trlstsq_rtker[\"x\"])\n",
    "plt.plot(scipy_cg_sol)\n",
    "plt.show()"
   ]
  },
  {
   "cell_type": "code",
   "execution_count": 101,
   "id": "f0412b3c-dc48-4943-b2bc-c2a9eeb6a706",
   "metadata": {
    "tags": []
   },
   "outputs": [],
   "source": [
    "n = 25\n",
    "A = jlinops.Gaussian1DBlurOperator(n, blur_sigma=4)\n",
    "#A = jlinops.IdentityOperator((n,n))\n",
    "Rmat, _ = jlinops.first_order_derivative_1d(n, boundary=\"zero\")\n",
    "Rmat = Rmat.toarray()\n",
    "Rmat = np.vstack([Rmat, Rmat])\n",
    "R = jlinops.MatrixLinearOperator(Rmat)\n",
    "RtRchol = np.linalg.cholesky(Rmat.T @ Rmat)\n",
    "Linv = np.linalg.inv(RtRchol)\n",
    "Linv = jlinops.MatrixLinearOperator(Linv)\n",
    "b = A.matvec(np.cumsum(np.random.normal(size=n)))"
   ]
  },
  {
   "cell_type": "code",
   "execution_count": 102,
   "id": "fa2c2da7-2694-4b0a-b192-ecb5e04131c3",
   "metadata": {
    "tags": []
   },
   "outputs": [],
   "source": [
    "lam = 1e1\n",
    "\n",
    "#data_trlstsq_rinv = trlstsq_rinv(A, Rinv, b, lam=lam, tol=1e-3)\n",
    "data_trlstsq = jlinops.trlstsq(A, R, b, lam=lam, tol=1e-3)\n",
    "data_trlstsq_rtker = trlstsq_rtker(A, Linv.T, b, lam=lam, tol=1e-3)\n",
    "\n",
    "Q = (A.T @ A) + lam*(R.T @ R)\n",
    "scipy_cg_sol, _ = cg(Q, A.T @ b, tol=1e-3)"
   ]
  },
  {
   "cell_type": "code",
   "execution_count": 103,
   "id": "8cc257d4-1ef8-423b-8c97-f347c6bcdc52",
   "metadata": {
    "tags": []
   },
   "outputs": [
    {
     "name": "stdout",
     "output_type": "stream",
     "text": [
      "0.0010298243759140902\n"
     ]
    }
   ],
   "source": [
    "print(np.linalg.norm(data_trlstsq_rtker[\"x\"] - scipy_cg_sol))"
   ]
  },
  {
   "cell_type": "code",
   "execution_count": 104,
   "id": "2960dba9-edbd-4f05-a7d6-ef0082a4e92a",
   "metadata": {
    "tags": []
   },
   "outputs": [
    {
     "data": {
      "image/png": "[encoded data removed]",
      "text/plain": [
       "<Figure size 640x480 with 1 Axes>"
      ]
     },
     "metadata": {},
     "output_type": "display_data"
    }
   ],
   "source": [
    "plt.plot(data_trlstsq[\"x\"])\n",
    "plt.plot(data_trlstsq_rtker[\"x\"])\n",
    "plt.plot(scipy_cg_sol)\n",
    "plt.show()"
   ]
  },
  {
   "cell_type": "code",
   "execution_count": null,
   "id": "86511e55-79e1-4e60-8d9b-38c02f44068f",
   "metadata": {},
   "outputs": [],
   "source": []
  },
  {
   "cell_type": "markdown",
   "id": "44cfd2cb-1d17-443a-87e4-d5dcf1b7d4ea",
   "metadata": {},
   "source": [
    "### Which has better condition number?"
   ]
  },
  {
   "cell_type": "code",
   "execution_count": 105,
   "id": "6320da31-0159-44c2-adfc-30add45f50e5",
   "metadata": {
    "tags": []
   },
   "outputs": [],
   "source": [
    "Q1 = Rpinv.T @ ( A.T @ ( A @ Rpinv )) + jlinops.IdentityOperator( (Rpinv.shape[1], Rpinv.shape[1]) )\n",
    "Q2 =  Linv @ ( A.T @ ( A @ Linv.T )) + jlinops.IdentityOperator( (Linv.shape[1], Linv.shape[1]) )"
   ]
  },
  {
   "cell_type": "code",
   "execution_count": 106,
   "id": "d9f12f21-3c12-4343-880a-3399e68b8559",
   "metadata": {
    "tags": []
   },
   "outputs": [],
   "source": [
    "Q1mat = jlinops.black_box_to_dense(Q1)\n",
    "Q2mat = jlinops.black_box_to_dense(Q2)"
   ]
  },
  {
   "cell_type": "code",
   "execution_count": 107,
   "id": "453bcafa-440d-4d53-b1a4-c534e05f9901",
   "metadata": {
    "tags": []
   },
   "outputs": [
    {
     "data": {
      "text/plain": [
       "(50, 50)"
      ]
     },
     "execution_count": 107,
     "metadata": {},
     "output_type": "execute_result"
    }
   ],
   "source": [
    "Q1mat.shape"
   ]
  },
  {
   "cell_type": "code",
   "execution_count": 108,
   "id": "97b058d2-ff0e-4b4c-ae73-3065527a2b09",
   "metadata": {
    "tags": []
   },
   "outputs": [
    {
     "data": {
      "text/plain": [
       "(25, 25)"
      ]
     },
     "execution_count": 108,
     "metadata": {},
     "output_type": "execute_result"
    }
   ],
   "source": [
    "Q2mat.shape"
   ]
  },
  {
   "cell_type": "code",
   "execution_count": 109,
   "id": "6ab597ab-598c-4462-b6ca-781a5d9e829a",
   "metadata": {
    "tags": []
   },
   "outputs": [
    {
     "data": {
      "text/plain": [
       "116.20807752092735"
      ]
     },
     "execution_count": 109,
     "metadata": {},
     "output_type": "execute_result"
    }
   ],
   "source": [
    "np.linalg.cond(Q1mat)"
   ]
  },
  {
   "cell_type": "code",
   "execution_count": 110,
   "id": "fde01088-2be6-43ff-af39-a312776f8d48",
   "metadata": {
    "tags": []
   },
   "outputs": [
    {
     "data": {
      "text/plain": [
       "116.20807751979635"
      ]
     },
     "execution_count": 110,
     "metadata": {},
     "output_type": "execute_result"
    }
   ],
   "source": [
    "np.linalg.cond(Q2mat)"
   ]
  },
  {
   "cell_type": "code",
   "execution_count": 111,
   "id": "4d89a759-f1da-484a-9ed2-ac2efe4ffa14",
   "metadata": {
    "tags": []
   },
   "outputs": [
    {
     "data": {
      "image/png": "[encoded data removed]",
      "text/plain": [
       "<Figure size 640x480 with 1 Axes>"
      ]
     },
     "metadata": {},
     "output_type": "display_data"
    }
   ],
   "source": [
    "plt.plot(data_trlstsq[\"x\"])\n",
    "plt.plot(data_trlstsq_rtker[\"x\"])\n",
    "plt.plot(scipy_cg_sol)\n",
    "plt.show()"
   ]
  },
  {
   "cell_type": "code",
   "execution_count": null,
   "id": "d06365be-f421-4580-832b-eb303be33866",
   "metadata": {},
   "outputs": [],
   "source": []
  },
  {
   "cell_type": "code",
   "execution_count": null,
   "id": "5e60d7c3-94c9-48bb-b7b0-e1c50dfd7efe",
   "metadata": {},
   "outputs": [],
   "source": []
  },
  {
   "cell_type": "markdown",
   "id": "cf4a5b7f-8c55-4259-962d-7c94f181ce37",
   "metadata": {},
   "source": [
    "# Oblique method for nontrivial kernel"
   ]
  },
  {
   "cell_type": "code",
   "execution_count": 113,
   "id": "05a0520e-478e-4169-872a-e7e2467c50a4",
   "metadata": {
    "tags": []
   },
   "outputs": [],
   "source": [
    "from scipy.linalg import null_space"
   ]
  },
  {
   "cell_type": "code",
   "execution_count": 141,
   "id": "a73bf121-7cf6-4d8d-83b4-0645fa9e93dd",
   "metadata": {
    "tags": []
   },
   "outputs": [],
   "source": [
    "def trlstsq_rntker(A, Rpinv, W, b, lam=1.0, AWpinv=None, chol_fac=False, *args, **kwargs):\n",
    "    \"\"\"Solves the regularized least-squares problem\n",
    "    min_x || A x - b ||_2^2 + lam*|| R x ||_2^2\n",
    "    using a transformation to standard form + a CGLS method. \n",
    "    It is assumed that null(A) and null(R) intersect trivially,\n",
    "    and additionally that R has a nontrivial kernel.\n",
    "    \n",
    "    W should be a MatrixLinearOperator whose columns span null(R).\n",
    "    \"\"\"\n",
    "    # Build Atilde\n",
    "    device = A.device\n",
    "    xp = jlinops.device_to_module(device)\n",
    "    n = A.shape[1]\n",
    "    \n",
    "    # Build oblique pseudoinverse\n",
    "    if AWpinv is None:\n",
    "        AWpinv = jlinops.QRPinvOperator( A.matmat(W.A) )\n",
    "    oblique_pinv = ( jlinops.IdentityOperator((n,n)) -  W @ (AWpinv @ A)  ) @ Rpinv\n",
    "    \n",
    "    # Get contribution from kernel\n",
    "    x_null = W @ (AWpinv @ b)\n",
    "    \n",
    "    # Get contribution from complement\n",
    "    Atilde = A @ oblique_pinv\n",
    "    data = jlinops.rlstsq(Atilde, b, lam=lam, *args, **kwargs)\n",
    "    \n",
    "    # Transform solution and overwrite cgls_data\n",
    "    data[\"z\"] = data[\"x\"].copy() # z is transformed coordinate\n",
    "    data[\"x_null\"] = x_null\n",
    "    x_null_comp = oblique_pinv @ data[\"x\"]\n",
    "    data[\"x_null_comp\"] = x_null_comp\n",
    "    x = x_null_comp + x_null\n",
    "    data[\"x\"] = x\n",
    "    data[\"oblique_pinv\"] = oblique_pinv\n",
    "    \n",
    "    return data"
   ]
  },
  {
   "cell_type": "code",
   "execution_count": 190,
   "id": "bb9b6096-799a-4e85-844b-75c7b4c9a7f2",
   "metadata": {
    "tags": []
   },
   "outputs": [],
   "source": [
    "n = 25\n",
    "A = jlinops.Gaussian1DBlurOperator(n, blur_sigma=4)\n",
    "#A = jlinops.IdentityOperator((n,n))\n",
    "Rmat, _ = jlinops.first_order_derivative_1d(n, boundary=\"zero\")\n",
    "Rmat = Rmat.toarray()\n",
    "rows_to_drop = [10, 15]\n",
    "Rmat = np.delete(Rmat, rows_to_drop, axis=0)\n",
    "Wmat = null_space(Rmat)\n",
    "R = jlinops.MatrixLinearOperator(Rmat)\n",
    "W = jlinops.MatrixLinearOperator(Wmat)\n",
    "# R = jlinops.MatrixLinearOperator(Rmat)\n",
    "# RtRchol = np.linalg.cholesky(Rmat.T @ Rmat)\n",
    "# Linv = np.linalg.inv(RtRchol)\n",
    "# Linv = jlinops.MatrixLinearOperator(Linv)\n",
    "b = A.matvec(np.cumsum(np.random.normal(size=n)))"
   ]
  },
  {
   "cell_type": "code",
   "execution_count": 198,
   "id": "da3c42ea-f1e6-43fc-b943-dc8f051fc997",
   "metadata": {
    "tags": []
   },
   "outputs": [],
   "source": [
    "# Build oblique pseudoinverse\n",
    "Rpinv = jlinops.MatrixLinearOperator(np.linalg.pinv(Rmat))\n",
    "# AWpinv = jlinops.QRPinvOperator( A.matmat(Wmat) )\n",
    "# obl_op = ( jlinops.IdentityOperator((n,n)) -  W @ (AWpinv @ A)  ) @ Rpinv"
   ]
  },
  {
   "cell_type": "code",
   "execution_count": 199,
   "id": "32f57f74-2cc2-41ba-9073-af74409e2373",
   "metadata": {
    "tags": []
   },
   "outputs": [],
   "source": [
    "lam = 1e0\n",
    "\n",
    "#data_trlstsq_rinv = trlstsq_rinv(A, Rinv, b, lam=lam, tol=1e-3)\n",
    "data_trlstsq = jlinops.trlstsq(A, R, b, lam=lam, tol=1e-3)\n",
    "data_trlstsq_rntker = trlstsq_rntker(A, Rpinv, W, b, lam=lam, tol=1e-8)\n",
    "\n",
    "Q = (A.T @ A) + lam*(R.T @ R)\n",
    "scipy_cg_sol, _ = cg(Q, A.T @ b, tol=1e-3)"
   ]
  },
  {
   "cell_type": "code",
   "execution_count": 200,
   "id": "ac1d3dcc-2324-44a0-aab0-53f09dea5253",
   "metadata": {
    "tags": []
   },
   "outputs": [
    {
     "data": {
      "image/png": "[encoded data removed]",
      "text/plain": [
       "<Figure size 640x480 with 1 Axes>"
      ]
     },
     "metadata": {},
     "output_type": "display_data"
    }
   ],
   "source": [
    "plt.plot(data_trlstsq[\"x\"])\n",
    "plt.plot(data_trlstsq_rntker[\"x\"])\n",
    "plt.plot(scipy_cg_sol)\n",
    "plt.show()"
   ]
  },
  {
   "cell_type": "code",
   "execution_count": 201,
   "id": "db0f75c5-ef59-40f3-b804-eace6f20aeb0",
   "metadata": {
    "tags": []
   },
   "outputs": [
    {
     "data": {
      "image/png": "[encoded data removed]",
      "text/plain": [
       "<Figure size 640x480 with 1 Axes>"
      ]
     },
     "metadata": {},
     "output_type": "display_data"
    }
   ],
   "source": [
    "plt.plot(data_trlstsq_rntker[\"x_null\"])\n",
    "plt.show()"
   ]
  },
  {
   "cell_type": "code",
   "execution_count": 202,
   "id": "c407c985-8e36-4926-947a-06b248742155",
   "metadata": {
    "tags": []
   },
   "outputs": [
    {
     "name": "stdout",
     "output_type": "stream",
     "text": [
      "88.1039684784181\n"
     ]
    }
   ],
   "source": [
    "Qmat = jlinops.black_box_to_dense(Q)\n",
    "print(np.linalg.cond(Qmat))"
   ]
  },
  {
   "cell_type": "code",
   "execution_count": 204,
   "id": "6f586691-6cf8-4be8-b171-907a9d3f4ad1",
   "metadata": {
    "tags": []
   },
   "outputs": [],
   "source": [
    "O = jlinops.black_box_to_dense(data_trlstsq_rntker[\"oblique_pinv\"])"
   ]
  },
  {
   "cell_type": "code",
   "execution_count": 206,
   "id": "ea7e5504-5124-4989-abcc-78236e09d8e5",
   "metadata": {
    "tags": []
   },
   "outputs": [],
   "source": [
    "Otilde = (O.T @ O) + np.eye(O.shape[1])"
   ]
  },
  {
   "cell_type": "code",
   "execution_count": 207,
   "id": "29faf206-b364-46df-9c59-e5836ac84d2d",
   "metadata": {
    "tags": []
   },
   "outputs": [
    {
     "name": "stdout",
     "output_type": "stream",
     "text": [
      "46.384645811908044\n"
     ]
    }
   ],
   "source": [
    "print(np.linalg.cond(Otilde))"
   ]
  },
  {
   "cell_type": "code",
   "execution_count": null,
   "id": "4b0ce8a8-460e-4dc3-985a-92c1c8aacc31",
   "metadata": {},
   "outputs": [],
   "source": []
  },
  {
   "cell_type": "code",
   "execution_count": null,
   "id": "e71338f6-698c-430d-9f95-98a7c5fcd4bc",
   "metadata": {},
   "outputs": [],
   "source": []
  }
 ],
 "metadata": {
  "environment": {
   "kernel": "conda-env-jlinops-py",
   "name": "workbench-notebooks.m113",
   "type": "gcloud",
   "uri": "gcr.io/deeplearning-platform-release/workbench-notebooks:m113"
  },
  "kernelspec": {
   "display_name": "Python 3 (ipykernel) (Local)",
   "language": "python",
   "name": "conda-env-jlinops-py"
  },
  "language_info": {
   "codemirror_mode": {
    "name": "ipython",
    "version": 3
   },
   "file_extension": ".py",
   "mimetype": "text/x-python",
   "name": "python",
   "nbconvert_exporter": "python",
   "pygments_lexer": "ipython3",
   "version": "3.11.6"
  }
 },
 "nbformat": 4,
 "nbformat_minor": 5
}
