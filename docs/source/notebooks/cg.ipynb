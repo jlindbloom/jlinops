{
 "cells": [
  {
   "cell_type": "code",
   "execution_count": 1,
   "id": "31952c93",
   "metadata": {},
   "outputs": [],
   "source": [
    "%%capture\n",
    "import numpy as np\n",
    "import matplotlib.pyplot as plt\n",
    "import requests\n",
    "from io import BytesIO\n",
    "from PIL import Image\n",
    "\n",
    "import cupy as cp\n",
    "\n",
    "from jlinops import check_adjoint, get_device"
   ]
  },
  {
   "cell_type": "markdown",
   "id": "eeb6db6a",
   "metadata": {},
   "source": [
    "# Test CG"
   ]
  },
  {
   "cell_type": "code",
   "execution_count": 2,
   "id": "4efe7755",
   "metadata": {},
   "outputs": [],
   "source": [
    "from jlinops import Neumann2D, cg, IdentityOperator"
   ]
  },
  {
   "cell_type": "code",
   "execution_count": 3,
   "id": "61d14d87",
   "metadata": {},
   "outputs": [
    {
     "name": "stdout",
     "output_type": "stream",
     "text": [
      "True\n",
      "True\n"
     ]
    }
   ],
   "source": [
    "grid_shape = (30,30)\n",
    "R = Neumann2D(grid_shape, device=\"cpu\")\n",
    "print(check_adjoint(R))\n",
    "result = cg(R.T @ R + IdentityOperator((R.shape[1], R.shape[1]), device=\"cpu\") , np.random.normal(size=R.shape[1]))\n",
    "print(result[\"converged\"])"
   ]
  },
  {
   "cell_type": "code",
   "execution_count": 4,
   "id": "88061d3b",
   "metadata": {},
   "outputs": [
    {
     "name": "stdout",
     "output_type": "stream",
     "text": [
      "True\n",
      "True\n"
     ]
    }
   ],
   "source": [
    "grid_shape = (30,30)\n",
    "R = Neumann2D(grid_shape, device=\"gpu\")\n",
    "print(check_adjoint(R))\n",
    "result = cg(R.T @ R + IdentityOperator((R.shape[1], R.shape[1]), device=\"gpu\") , cp.random.normal(size=R.shape[1]))\n",
    "print(result[\"converged\"])"
   ]
  },
  {
   "cell_type": "markdown",
   "id": "716b082c",
   "metadata": {},
   "source": [
    "# Test CGinv"
   ]
  },
  {
   "cell_type": "code",
   "execution_count": 5,
   "id": "86fec47b",
   "metadata": {},
   "outputs": [],
   "source": [
    "from jlinops import CGInverseOperator"
   ]
  },
  {
   "cell_type": "code",
   "execution_count": 16,
   "id": "a9edc262",
   "metadata": {},
   "outputs": [
    {
     "name": "stdout",
     "output_type": "stream",
     "text": [
      "True\n"
     ]
    }
   ],
   "source": [
    "grid_shape = (30,30)\n",
    "R = Neumann2D(grid_shape, device=\"cpu\")\n",
    "A = R.T @ R + IdentityOperator((R.shape[1], R.shape[1]), device=\"cpu\")\n",
    "Ainv = CGInverseOperator(A)\n",
    "_ = Ainv @ np.random.normal(size=R.shape[1])\n",
    "print(check_adjoint(Ainv))"
   ]
  },
  {
   "cell_type": "code",
   "execution_count": 17,
   "id": "d0836728",
   "metadata": {},
   "outputs": [
    {
     "name": "stdout",
     "output_type": "stream",
     "text": [
      "True\n"
     ]
    }
   ],
   "source": [
    "grid_shape = (30,30)\n",
    "R = Neumann2D(grid_shape, device=\"gpu\")\n",
    "A = R.T @ R + IdentityOperator((R.shape[1], R.shape[1]), device=\"gpu\")\n",
    "Ainv = CGInverseOperator(A)\n",
    "_ = Ainv @ np.random.normal(size=R.shape[1])\n",
    "print(check_adjoint(Ainv))"
   ]
  },
  {
   "cell_type": "code",
   "execution_count": null,
   "id": "d8203a22",
   "metadata": {},
   "outputs": [],
   "source": []
  },
  {
   "cell_type": "code",
   "execution_count": null,
   "id": "446b9c17",
   "metadata": {},
   "outputs": [],
   "source": []
  },
  {
   "cell_type": "code",
   "execution_count": null,
   "id": "258ca48e",
   "metadata": {},
   "outputs": [],
   "source": []
  },
  {
   "cell_type": "code",
   "execution_count": null,
   "id": "fecd852a",
   "metadata": {},
   "outputs": [],
   "source": []
  },
  {
   "cell_type": "code",
   "execution_count": null,
   "id": "a8e203dc",
   "metadata": {},
   "outputs": [],
   "source": []
  },
  {
   "cell_type": "code",
   "execution_count": null,
   "id": "2d1b3754",
   "metadata": {},
   "outputs": [],
   "source": []
  }
 ],
 "metadata": {
  "kernelspec": {
   "display_name": "jlinops",
   "language": "python",
   "name": "jlinops"
  },
  "language_info": {
   "codemirror_mode": {
    "name": "ipython",
    "version": 3
   },
   "file_extension": ".py",
   "mimetype": "text/x-python",
   "name": "python",
   "nbconvert_exporter": "python",
   "pygments_lexer": "ipython3",
   "version": "3.11.6"
  }
 },
 "nbformat": 4,
 "nbformat_minor": 5
}
