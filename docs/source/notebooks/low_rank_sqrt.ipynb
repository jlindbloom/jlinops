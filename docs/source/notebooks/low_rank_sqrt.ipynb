{
 "cells": [
  {
   "cell_type": "code",
   "execution_count": 28,
   "metadata": {},
   "outputs": [],
   "source": [
    "import numpy as np\n",
    "import matplotlib.pyplot as plt"
   ]
  },
  {
   "cell_type": "markdown",
   "metadata": {},
   "source": [
    "# Random matrices"
   ]
  },
  {
   "cell_type": "code",
   "execution_count": 35,
   "metadata": {},
   "outputs": [],
   "source": [
    "m = 100\n",
    "n = 100\n",
    "k = 200\n",
    "\n",
    "F = np.random.normal(size=(m,n))\n",
    "R = np.random.normal(size=(k,n))\n",
    "Qold = F.T @ F + R.T @ R\n",
    "\n",
    "# Form modified matrix\n",
    "Rpinv = np.linalg.pinv(R)\n",
    "A = Rpinv.T @ F.T @ F @ Rpinv\n",
    "Q = A + np.eye(Rpinv.shape[1])"
   ]
  },
  {
   "cell_type": "code",
   "execution_count": 36,
   "metadata": {},
   "outputs": [],
   "source": [
    "# Form modified matrix\n",
    "Rpinv = np.linalg.pinv(R)\n",
    "A = Rpinv.T @ F.T @ F @ Rpinv\n",
    "Q = A + np.eye(Rpinv.shape[1])"
   ]
  },
  {
   "cell_type": "code",
   "execution_count": 37,
   "metadata": {},
   "outputs": [
    {
     "name": "stdout",
     "output_type": "stream",
     "text": [
      "11.546228611163452\n",
      "8.388988735112328\n"
     ]
    }
   ],
   "source": [
    "print(np.linalg.cond(Qold))\n",
    "print(np.linalg.cond(Q))"
   ]
  },
  {
   "cell_type": "code",
   "execution_count": 64,
   "metadata": {},
   "outputs": [],
   "source": [
    "# Parameter r\n",
    "\n",
    "# Get eigendecomposition of the \n",
    "eigh_res = np.linalg.eigh(A)\n",
    "eigvals = eigh_res.eigenvalues\n",
    "eigvecs = eigh_res.eigenvectors\n",
    "\n",
    "# Flip into descending order\n",
    "eigvals = np.flip(eigvals)\n",
    "eigvecs = np.flip(eigvecs, axis=1)\n",
    "\n",
    "# Last index to keep\n",
    "last_idx = np.argmin(eigvals > 1.0) - 1\n",
    "\n",
    "# Get low rank approximation"
   ]
  },
  {
   "cell_type": "code",
   "execution_count": null,
   "metadata": {},
   "outputs": [],
   "source": [
    "m = 10\n",
    "n = 8\n",
    "s = np.zeros((m,n))"
   ]
  },
  {
   "cell_type": "code",
   "execution_count": null,
   "metadata": {},
   "outputs": [],
   "source": []
  },
  {
   "cell_type": "code",
   "execution_count": null,
   "metadata": {},
   "outputs": [],
   "source": []
  },
  {
   "cell_type": "code",
   "execution_count": null,
   "metadata": {},
   "outputs": [],
   "source": []
  },
  {
   "cell_type": "code",
   "execution_count": null,
   "metadata": {},
   "outputs": [],
   "source": []
  },
  {
   "cell_type": "code",
   "execution_count": 74,
   "metadata": {},
   "outputs": [
    {
     "data": {
      "text/plain": [
       "28"
      ]
     },
     "execution_count": 74,
     "metadata": {},
     "output_type": "execute_result"
    }
   ],
   "source": [
    "np.argmin(eigvals > 1.0) - 1"
   ]
  },
  {
   "cell_type": "code",
   "execution_count": 73,
   "metadata": {},
   "outputs": [
    {
     "data": {
      "text/plain": [
       "1.0690074742643099"
      ]
     },
     "execution_count": 73,
     "metadata": {},
     "output_type": "execute_result"
    }
   ],
   "source": [
    "eigvals[28]"
   ]
  },
  {
   "cell_type": "code",
   "execution_count": 65,
   "metadata": {},
   "outputs": [
    {
     "data": {
      "text/plain": [
       "0.145"
      ]
     },
     "execution_count": 65,
     "metadata": {},
     "output_type": "execute_result"
    }
   ],
   "source": [
    "np.sum(eigvals > 1)/len(eigvals)"
   ]
  },
  {
   "cell_type": "code",
   "execution_count": null,
   "metadata": {},
   "outputs": [],
   "source": [
    "# Build low rank"
   ]
  },
  {
   "cell_type": "code",
   "execution_count": 63,
   "metadata": {},
   "outputs": [
    {
     "data": {
      "text/plain": [
       "array([-1.46041020e-15, -1.34681830e-15, -1.21792932e-15, -1.14442685e-15,\n",
       "       -1.07809908e-15, -1.00302770e-15, -9.63595470e-16, -9.04583879e-16,\n",
       "       -8.43799206e-16, -8.17174274e-16, -7.85225877e-16, -7.61394327e-16,\n",
       "       -7.08158378e-16, -6.82148162e-16, -6.78855738e-16, -6.35507934e-16,\n",
       "       -6.27908477e-16, -6.19473043e-16, -5.80197629e-16, -5.77830294e-16,\n",
       "       -5.41919763e-16, -4.83469534e-16, -4.78842723e-16, -4.31713220e-16,\n",
       "       -4.23058221e-16, -4.11056734e-16, -4.09228681e-16, -3.68226419e-16,\n",
       "       -3.65790953e-16, -3.62260689e-16, -3.08139414e-16, -3.02466132e-16,\n",
       "       -2.99513582e-16, -2.84786252e-16, -2.77828658e-16, -2.56411211e-16,\n",
       "       -2.45887168e-16, -2.35147389e-16, -2.10522284e-16, -1.88163961e-16,\n",
       "       -1.80387840e-16, -1.73643766e-16, -1.35264217e-16, -1.33979968e-16,\n",
       "       -1.33294498e-16, -1.14442746e-16, -1.03291678e-16, -7.72020559e-17,\n",
       "       -7.25238187e-17, -5.68236910e-17, -5.29607406e-17, -2.38132639e-17,\n",
       "        8.27679772e-18,  1.65933205e-17,  1.90988340e-17,  2.56953256e-17,\n",
       "        3.22515041e-17,  4.28003585e-17,  8.64720962e-17,  8.87190725e-17,\n",
       "        1.26011550e-16,  1.30736893e-16,  1.47198280e-16,  1.56956789e-16,\n",
       "        1.71796552e-16,  1.84713542e-16,  1.96016869e-16,  2.10517662e-16,\n",
       "        2.37047787e-16,  2.65563039e-16,  2.71654937e-16,  3.09410314e-16,\n",
       "        3.15920645e-16,  3.26972505e-16,  3.29580579e-16,  3.44680386e-16,\n",
       "        3.72983650e-16,  3.86806385e-16,  3.92616214e-16,  4.35266965e-16,\n",
       "        4.60377846e-16,  4.81324855e-16,  4.94895411e-16,  5.14730053e-16,\n",
       "        5.48235748e-16,  5.69877175e-16,  5.83315974e-16,  5.89654273e-16,\n",
       "        6.43553296e-16,  7.26443653e-16,  7.61789523e-16,  7.65752485e-16,\n",
       "        7.90895169e-16,  8.29076575e-16,  9.04068109e-16,  9.28400962e-16,\n",
       "        9.97340215e-16,  1.09051128e-15,  1.28442981e-15,  1.36764193e-15,\n",
       "        5.03358663e-05,  2.15367271e-04,  3.27649374e-04,  1.12005877e-03,\n",
       "        2.27751170e-03,  3.18957957e-03,  3.87299899e-03,  5.19332732e-03,\n",
       "        6.94707679e-03,  7.86113376e-03,  1.20170798e-02,  1.43961490e-02,\n",
       "        1.95215260e-02,  2.02300387e-02,  2.52529471e-02,  3.07633747e-02,\n",
       "        3.26797689e-02,  3.54688760e-02,  3.87592946e-02,  4.32941717e-02,\n",
       "        4.76972298e-02,  5.11296132e-02,  5.53503908e-02,  6.65258441e-02,\n",
       "        7.35485527e-02,  7.77841558e-02,  8.33379370e-02,  9.56361817e-02,\n",
       "        1.02163647e-01,  1.05766007e-01,  1.10168173e-01,  1.21252575e-01,\n",
       "        1.32793806e-01,  1.40875735e-01,  1.48758393e-01,  1.82789481e-01,\n",
       "        1.86103242e-01,  1.95952599e-01,  2.00811707e-01,  2.17808430e-01,\n",
       "        2.24250371e-01,  2.41805800e-01,  2.48345444e-01,  2.73874098e-01,\n",
       "        2.76732605e-01,  2.98161824e-01,  3.28309478e-01,  3.33171181e-01,\n",
       "        3.37765363e-01,  3.63318221e-01,  3.78995737e-01,  3.87323897e-01,\n",
       "        4.34552627e-01,  4.65650188e-01,  4.71331530e-01,  4.84896419e-01,\n",
       "        5.05740862e-01,  5.37755640e-01,  5.49581977e-01,  6.20498189e-01,\n",
       "        6.38140572e-01,  6.48211327e-01,  6.84879003e-01,  7.35338199e-01,\n",
       "        7.67536363e-01,  7.94919811e-01,  8.39279038e-01,  8.59322138e-01,\n",
       "        9.05588457e-01,  9.11949218e-01,  9.28705359e-01,  1.06900747e+00,\n",
       "        1.10309420e+00,  1.20626257e+00,  1.24054317e+00,  1.33234683e+00,\n",
       "        1.35828854e+00,  1.52368395e+00,  1.55468854e+00,  1.59989552e+00,\n",
       "        1.72432325e+00,  1.77204274e+00,  1.79286699e+00,  1.98226610e+00,\n",
       "        2.10276407e+00,  2.20094081e+00,  2.29490646e+00,  2.45821512e+00,\n",
       "        2.61817427e+00,  2.94696506e+00,  3.16505207e+00,  3.36444634e+00,\n",
       "        3.53582970e+00,  3.94033068e+00,  4.17769368e+00,  4.54284045e+00,\n",
       "        5.41397843e+00,  5.93105677e+00,  6.42557832e+00,  7.38898874e+00])"
      ]
     },
     "execution_count": 63,
     "metadata": {},
     "output_type": "execute_result"
    }
   ],
   "source": [
    "eigvals"
   ]
  },
  {
   "cell_type": "code",
   "execution_count": null,
   "metadata": {},
   "outputs": [],
   "source": []
  },
  {
   "cell_type": "code",
   "execution_count": 58,
   "metadata": {},
   "outputs": [
    {
     "data": {
      "image/png": "[encoded data removed]",
      "text/plain": [
       "<Figure size 640x480 with 1 Axes>"
      ]
     },
     "metadata": {},
     "output_type": "display_data"
    }
   ],
   "source": [
    "plt.hist(lambdas)\n",
    "plt.show()"
   ]
  },
  {
   "cell_type": "code",
   "execution_count": null,
   "metadata": {},
   "outputs": [],
   "source": []
  },
  {
   "cell_type": "code",
   "execution_count": null,
   "metadata": {},
   "outputs": [],
   "source": []
  }
 ],
 "metadata": {
  "kernelspec": {
   "display_name": "jlinops",
   "language": "python",
   "name": "python3"
  },
  "language_info": {
   "codemirror_mode": {
    "name": "ipython",
    "version": 3
   },
   "file_extension": ".py",
   "mimetype": "text/x-python",
   "name": "python",
   "nbconvert_exporter": "python",
   "pygments_lexer": "ipython3",
   "version": "3.11.6"
  }
 },
 "nbformat": 4,
 "nbformat_minor": 2
}
