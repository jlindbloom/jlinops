{
 "cells": [
  {
   "cell_type": "code",
   "execution_count": 1,
   "metadata": {},
   "outputs": [],
   "source": [
    "import numpy as np\n",
    "import matplotlib.pyplot as plt\n",
    "\n",
    "from jlinops import CustomLinearOperator, BaseLinearOperator, MatrixLUInverseOperator\n",
    "from scipy.sparse import issparse\n",
    "from scipy.sparse.linalg import LinearOperator\n",
    "from scipy.sparse.linalg._interface import MatrixLinearOperator"
   ]
  },
  {
   "cell_type": "markdown",
   "metadata": {},
   "source": [
    "# Create a MatrixOperator"
   ]
  },
  {
   "cell_type": "code",
   "execution_count": 11,
   "metadata": {},
   "outputs": [],
   "source": [
    "\n",
    "\n",
    "class MatrixOperator(BaseLinearOperator):\n",
    "    \"\"\"A class for representing linear operators defined by explicit matrices.\n",
    "    This is a subclass of SciPy's MatrixLinearOperator, which is modified\n",
    "    such that it retains its identity as a MatrixOperator after various operations\n",
    "    involving other LinearOperators.\n",
    "    \"\"\"\n",
    "\n",
    "\n",
    "    def __init__(self, A):\n",
    "\n",
    "        super().__init__(A.dtype, A.shape)\n",
    "        self.A = A\n",
    "        self.__adj = None\n",
    "        self.args = (A,)\n",
    "\n",
    "\n",
    "    def _matrix_dot(self, x):\n",
    "        \"\"\"Matrix-matrix and matrix-vector multiplication. Essentially the same as\n",
    "        SciPy's LinearOperator.dot().\n",
    "        \"\"\"\n",
    "        if isinstance(x, MatrixOperator) or isinstance(x, MatrixLinearOperator):\n",
    "            return self.__class__( self.A.dot(x.A) )\n",
    "        elif isinstance(x, BaseLinearOperator) or isinstance(LinearOperator):\n",
    "            return self.dot(x)\n",
    "        elif np.isscalar(x):\n",
    "            return self.__class__(x*self.A)\n",
    "        else:\n",
    "            if not issparse(x):\n",
    "                x = np.asarray(x)\n",
    "            if x.ndim == 1 or x.ndim == 2 and x.shape[1] == 1:\n",
    "                return self.matvec(x)\n",
    "            elif x.ndim == 2:\n",
    "                return self.matmat(x)\n",
    "            else:\n",
    "                raise ValueError('expected 1-d or 2-d array or matrix, got %r'\n",
    "                                 % x)\n",
    "    \n",
    "\n",
    "\n",
    "    def _matrix_rdot(self, x):\n",
    "        \"\"\"Matrix-matrix and matrix-vector multiplication from the right.\n",
    "        \"\"\"\n",
    "        if isinstance(x, MatrixOperator) or isinstance(x, MatrixLinearOperator):\n",
    "            return self.__class__( x.A.dot(self.A) )\n",
    "        elif isinstance(x, BaseLinearOperator) or isinstance(LinearOperator):\n",
    "            return self._rdot(x)\n",
    "        elif np.isscalar(x):\n",
    "            return self.__class__(x*self.A)\n",
    "        else:\n",
    "            if not issparse(x):\n",
    "                # Sparse matrices shouldn't be converted to numpy arrays.\n",
    "                x = np.asarray(x)\n",
    "\n",
    "            # We use transpose instead of rmatvec/rmatmat to avoid\n",
    "            # unnecessary complex conjugation if possible.\n",
    "            if x.ndim == 1 or x.ndim == 2 and x.shape[0] == 1:\n",
    "                return self.T.matvec(x.T).T\n",
    "            elif x.ndim == 2:\n",
    "                return self.T.matmat(x.T).T\n",
    "            else:\n",
    "                raise ValueError('expected 1-d or 2-d array or matrix, got %r'\n",
    "                                 % x)\n",
    "\n",
    "\n",
    "\n",
    "    def __call__(self, x):\n",
    "        \"\"\"On call.\n",
    "        \"\"\"\n",
    "        return self*x\n",
    "    \n",
    "\n",
    "\n",
    "    def __mul__(self, x):\n",
    "        \"\"\"* multiplication.\n",
    "        \"\"\"\n",
    "        return self._matrix_dot(x)\n",
    "\n",
    "\n",
    "\n",
    "    def __rmul__(self,x):\n",
    "        \"\"\"\n",
    "        \"\"\"\n",
    "        if np.isscalar(x):\n",
    "            return self.__class__(x*self.A)\n",
    "        else:\n",
    "            return self._matrix_rdot(x)\n",
    "\n",
    "\n",
    "\n",
    "    def __matmul__(self, x):\n",
    "        \"\"\"\n",
    "        \"\"\"\n",
    "        if np.isscalar(x):\n",
    "            raise ValueError(\"Scalar operands are not allowed, \"\n",
    "                             \"use '*' instead\")\n",
    "        return self.__mul__(x)\n",
    "    \n",
    "\n",
    "    \n",
    "    def __rmatmul__(self, x):\n",
    "        \"\"\"\n",
    "        \"\"\"\n",
    "        if np.isscalar(x):\n",
    "            raise ValueError(\"Scalar operands are not allowed, \"\n",
    "                             \"use '*' instead\")\n",
    "        return self.__rmul__(x)\n",
    "\n",
    "\n",
    "\n",
    "    def __pow__(self, p):\n",
    "        \"\"\"Raise to a power.\n",
    "        \"\"\"\n",
    "        raise NotImplementedError\n",
    "\n",
    "\n",
    "\n",
    "    def __add__(self, x):\n",
    "        \"\"\"Addition.\n",
    "        \"\"\"\n",
    "        if isinstance(x, MatrixOperator) or isinstance(x, MatrixLinearOperator):\n",
    "            return self.__class__(self.A + x.A)\n",
    "        elif isinstance(x, BaseLinearOperator) or isinstance(LinearOperator):\n",
    "            return self + x\n",
    "        else:\n",
    "            return NotImplemented\n",
    "        \n",
    "\n",
    "\n",
    "    def __neg__(self):\n",
    "        \"\"\"Negation.\n",
    "        \"\"\"\n",
    "        return -1*self\n",
    "    \n",
    "\n",
    "\n",
    "    def __sub__(self, x):\n",
    "        \"\"\"Subtraction.\n",
    "        \"\"\"\n",
    "        return self.__add__(-x)\n",
    "\n",
    "\n",
    "\n",
    "    def _transpose(self):\n",
    "        #return MatrixOperator(self.A.T)\n",
    "        return self.__class__(self.A.T)\n",
    "        \n",
    "    T = property(_transpose)\n",
    "\n",
    "\n",
    "\n",
    "    # def _adjoint(self):\n",
    "    #     return self.__class__(self.A.H)\n",
    "    \n",
    "    def _adjoint(self):\n",
    "        if self.__adj is None:\n",
    "            self.__adj = _AdjointMatrixOperator(self)\n",
    "        return self.__adj\n",
    "\n",
    "    \n",
    "    H = property(_adjoint)\n",
    "\n",
    "\n",
    "\n",
    "    def _inv(self):\n",
    "        \"\"\"Creates a linear operator representing the inverse operator, which uses the LU decomposition.\n",
    "        \"\"\"\n",
    "        return MatrixLUInverseOperator(self)\n",
    "\n",
    "    Inv = property(_inv)\n",
    "\n",
    "\n",
    "\n",
    "\n",
    "class _AdjointMatrixOperator(MatrixOperator):\n",
    "    \n",
    "    def __init__(self, adjoint):\n",
    "        self.A = adjoint.A.T.conj()\n",
    "        self.__adjoint = adjoint\n",
    "        self.args = (adjoint,)\n",
    "        self.shape = adjoint.shape[1], adjoint.shape[0]\n",
    "\n",
    "    @property\n",
    "    def dtype(self):\n",
    "        return self.__adjoint.dtype\n",
    "\n",
    "    def _adjoint(self):\n",
    "        return self.__adjoint\n"
   ]
  },
  {
   "cell_type": "code",
   "execution_count": 12,
   "metadata": {},
   "outputs": [],
   "source": [
    "A = np.random.normal(size=(8,5))"
   ]
  },
  {
   "cell_type": "code",
   "execution_count": 13,
   "metadata": {},
   "outputs": [],
   "source": [
    "M = MatrixOperator(A)"
   ]
  },
  {
   "cell_type": "code",
   "execution_count": 14,
   "metadata": {},
   "outputs": [
    {
     "data": {
      "text/plain": [
       "<8x5 MatrixOperator with dtype=float64>"
      ]
     },
     "execution_count": 14,
     "metadata": {},
     "output_type": "execute_result"
    }
   ],
   "source": [
    "M + M"
   ]
  },
  {
   "cell_type": "code",
   "execution_count": 15,
   "metadata": {},
   "outputs": [],
   "source": [
    "from scipy.sparse.linalg import aslinearoperator"
   ]
  },
  {
   "cell_type": "code",
   "execution_count": 16,
   "metadata": {},
   "outputs": [
    {
     "data": {
      "text/plain": [
       "<8x5 _SumLinearOperator with dtype=float64>"
      ]
     },
     "execution_count": 16,
     "metadata": {},
     "output_type": "execute_result"
    }
   ],
   "source": [
    "aslinearoperator(A) + M"
   ]
  },
  {
   "cell_type": "code",
   "execution_count": 18,
   "metadata": {},
   "outputs": [
    {
     "data": {
      "text/plain": [
       "<8x5 MatrixOperator with dtype=float64>"
      ]
     },
     "execution_count": 18,
     "metadata": {},
     "output_type": "execute_result"
    }
   ],
   "source": [
    "M + aslinearoperator(A)"
   ]
  },
  {
   "cell_type": "code",
   "execution_count": 17,
   "metadata": {},
   "outputs": [
    {
     "data": {
      "text/plain": [
       "<8x5 MatrixLinearOperator with dtype=float64>"
      ]
     },
     "execution_count": 17,
     "metadata": {},
     "output_type": "execute_result"
    }
   ],
   "source": [
    "aslinearoperator(A)"
   ]
  },
  {
   "cell_type": "code",
   "execution_count": null,
   "metadata": {},
   "outputs": [],
   "source": []
  }
 ],
 "metadata": {
  "kernelspec": {
   "display_name": "speckle38",
   "language": "python",
   "name": "python3"
  },
  "language_info": {
   "codemirror_mode": {
    "name": "ipython",
    "version": 3
   },
   "file_extension": ".py",
   "mimetype": "text/x-python",
   "name": "python",
   "nbconvert_exporter": "python",
   "pygments_lexer": "ipython3",
   "version": "3.8.12"
  }
 },
 "nbformat": 4,
 "nbformat_minor": 2
}
