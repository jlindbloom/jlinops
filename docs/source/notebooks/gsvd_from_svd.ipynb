{
 "cells": [
  {
   "cell_type": "code",
   "execution_count": 1,
   "metadata": {},
   "outputs": [],
   "source": [
    "import numpy as np\n",
    "import matplotlib.pyplot as plt\n",
    "\n",
    "from scipy.linalg.lapack import dtrtri\n",
    "from scipy.linalg import block_diag"
   ]
  },
  {
   "cell_type": "code",
   "execution_count": 88,
   "metadata": {},
   "outputs": [],
   "source": [
    "n = 10\n",
    "m = 20\n",
    "p = 8\n",
    "np.random.seed(0)\n",
    "A = np.random.normal(size=(m,n))\n",
    "L = np.random.normal(size=(p,n))\n",
    "L[:,3] = L[:,2]"
   ]
  },
  {
   "cell_type": "markdown",
   "metadata": {},
   "source": [
    "# First method"
   ]
  },
  {
   "cell_type": "code",
   "execution_count": 89,
   "metadata": {},
   "outputs": [],
   "source": [
    "def antidiag(l):\n",
    "    return np.flip(np.eye(l), axis=0)"
   ]
  },
  {
   "cell_type": "code",
   "execution_count": 90,
   "metadata": {},
   "outputs": [],
   "source": [
    "# Derived quantities\n",
    "o = n - p\n",
    "q = m - (n - p)\n",
    "\n",
    "# QR factorization of L^T and split into pieces\n",
    "Lt_qr_fac = np.linalg.qr(L.T, \"complete\")\n",
    "Kp = Lt_qr_fac.Q[:,:p]\n",
    "Ko = Lt_qr_fac.Q[:,p:]\n",
    "Rp = Lt_qr_fac.R[:p,:]\n",
    "\n",
    "# Pseudoinverse of L\n",
    "Rpinv, _ = dtrtri(Rp)\n",
    "Lpinv = Kp @ Rpinv.T\n",
    "\n",
    "# QR factorization of AKo and split into pieces\n",
    "AKo = A @ Ko\n",
    "AKo_qr_fac = np.linalg.qr(AKo, \"complete\")\n",
    "Ho = AKo_qr_fac.Q[:,:o]\n",
    "Hq = AKo_qr_fac.Q[:,o:]\n",
    "To = AKo_qr_fac.R[:o,:]\n",
    "\n",
    "# Rest\n",
    "Abar = Hq.T @ A @ Lpinv\n",
    "Abar_svd = np.linalg.svd(Abar, full_matrices=True)\n",
    "Ubar, Sbar, Vhbar = Abar_svd.U, Abar_svd.S, Abar_svd.Vh\n",
    "Ep = antidiag(p)\n",
    "\n",
    "U1 = Hq @ Ubar[:,:p] @ Ep\n",
    "U2 = Ho\n",
    "U = np.hstack([U1, U2])\n",
    "\n",
    "V = Vhbar.T.conj() @ Ep\n",
    "\n",
    "SMinv = Ep @ np.diag(Sbar) @ Ep\n",
    "\n",
    "d = np.diag(SMinv)\n",
    "sigmas = np.sqrt( (d**2)/(1+(d**2)))\n",
    "mus = np.sqrt(1 - (sigmas**2))\n",
    "\n",
    "Minv = np.diag(1/mus)\n",
    "Xinv1 = Minv @ V.T.conj() @ L \n",
    "Xinv2 = Ho.T @ A\n",
    "Xinv = np.vstack([Xinv1, Xinv2])\n",
    "X = np.linalg.inv(Xinv)\n",
    "\n",
    "gen_svals = sigmas/mus"
   ]
  },
  {
   "cell_type": "code",
   "execution_count": 1,
   "metadata": {},
   "outputs": [
    {
     "ename": "NameError",
     "evalue": "name 'U' is not defined",
     "output_type": "error",
     "traceback": [
      "\u001b[0;31m---------------------------------------------------------------------------\u001b[0m",
      "\u001b[0;31mNameError\u001b[0m                                 Traceback (most recent call last)",
      "\u001b[1;32m/Users/jonathanlindbloom/Github/jlinops/docs/source/notebooks/gsvd_from_svd.ipynb Cell 6\u001b[0m line \u001b[0;36m2\n\u001b[1;32m      <a href='vscode-notebook-cell:/Users/jonathanlindbloom/Github/jlinops/docs/source/notebooks/gsvd_from_svd.ipynb#Y126sZmlsZQ%3D%3D?line=0'>1</a>\u001b[0m \u001b[39m# Build guesses of original matrices from the factorization\u001b[39;00m\n\u001b[0;32m----> <a href='vscode-notebook-cell:/Users/jonathanlindbloom/Github/jlinops/docs/source/notebooks/gsvd_from_svd.ipynb#Y126sZmlsZQ%3D%3D?line=1'>2</a>\u001b[0m Aguess \u001b[39m=\u001b[39m U \u001b[39m@\u001b[39m block_diag(np\u001b[39m.\u001b[39mdiag(sigmas), np\u001b[39m.\u001b[39meye(n\u001b[39m-\u001b[39mp)) \u001b[39m@\u001b[39m Xinv\n\u001b[1;32m      <a href='vscode-notebook-cell:/Users/jonathanlindbloom/Github/jlinops/docs/source/notebooks/gsvd_from_svd.ipynb#Y126sZmlsZQ%3D%3D?line=2'>3</a>\u001b[0m \u001b[39mprint\u001b[39m(np\u001b[39m.\u001b[39mlinalg\u001b[39m.\u001b[39mnorm(A \u001b[39m-\u001b[39m Aguess))\n\u001b[1;32m      <a href='vscode-notebook-cell:/Users/jonathanlindbloom/Github/jlinops/docs/source/notebooks/gsvd_from_svd.ipynb#Y126sZmlsZQ%3D%3D?line=4'>5</a>\u001b[0m Lguess \u001b[39m=\u001b[39m V \u001b[39m@\u001b[39m np\u001b[39m.\u001b[39mhstack([np\u001b[39m.\u001b[39mdiag(mus), np\u001b[39m.\u001b[39mzeros((p,o))]) \u001b[39m@\u001b[39m Xinv\n",
      "\u001b[0;31mNameError\u001b[0m: name 'U' is not defined"
     ]
    }
   ],
   "source": [
    "# Build guesses of original matrices from the factorization\n",
    "Aguess = U @ block_diag(np.diag(sigmas), np.eye(n-p)) @ Xinv\n",
    "print(np.linalg.norm(A - Aguess))\n",
    "\n",
    "Lguess = V @ np.hstack([np.diag(mus), np.zeros((p,o))]) @ Xinv\n",
    "print(np.linalg.norm(L - Lguess))"
   ]
  },
  {
   "cell_type": "code",
   "execution_count": null,
   "metadata": {},
   "outputs": [],
   "source": []
  },
  {
   "cell_type": "markdown",
   "metadata": {},
   "source": [
    "# Define function"
   ]
  },
  {
   "cell_type": "code",
   "execution_count": 92,
   "metadata": {},
   "outputs": [],
   "source": [
    "def naive_gsvd(A, L):\n",
    "    \"\"\"Computes the gsvd of the matrix pair (A, L) in a very naive and expensive way.\n",
    "    Returns U, S, M, V, Xinv such that\n",
    "    A = U diag( S, I ) Xinv and L = V (M 0) Xinv.\n",
    "    Code assumes that leftmost dimension of A is >= its rightmost dimension, and that\n",
    "    leftmost dimension of L is <= its rightmost dimension.\n",
    "    \"\"\"\n",
    "\n",
    "    n = A.shape[1]\n",
    "    m = A.shape[0]\n",
    "    p = L.shape[0]\n",
    "\n",
    "    assert m >= n, \"must have m >= n.\"\n",
    "    assert  p <= n, \"must have p <= n.\"\n",
    "\n",
    "    # Derived quantities\n",
    "    o = n - p\n",
    "    q = m - (n - p)\n",
    "\n",
    "    # QR factorization of L^T and split into pieces\n",
    "    Lt_qr_fac = np.linalg.qr(L.T, \"complete\")\n",
    "    Kp = Lt_qr_fac.Q[:,:p]\n",
    "    Ko = Lt_qr_fac.Q[:,p:]\n",
    "    Rp = Lt_qr_fac.R[:p,:]\n",
    "\n",
    "    # Pseudoinverse of L\n",
    "    Rpinv, _ = dtrtri(Rp)\n",
    "    Lpinv = Kp @ Rpinv.T\n",
    "\n",
    "    # QR factorization of AKo and split into pieces\n",
    "    AKo = A @ Ko\n",
    "    AKo_qr_fac = np.linalg.qr(AKo, \"complete\")\n",
    "    Ho = AKo_qr_fac.Q[:,:o]\n",
    "    Hq = AKo_qr_fac.Q[:,o:]\n",
    "    To = AKo_qr_fac.R[:o,:]\n",
    "\n",
    "    # Rest\n",
    "    Abar = Hq.T @ A @ Lpinv\n",
    "    Abar_svd = np.linalg.svd(Abar, full_matrices=True)\n",
    "    Ubar, Sbar, Vhbar = Abar_svd.U, Abar_svd.S, Abar_svd.Vh\n",
    "    Ep = antidiag(p)\n",
    "\n",
    "    U1 = Hq @ Ubar[:,:p] @ Ep\n",
    "    U2 = Ho\n",
    "    U = np.hstack([U1, U2])\n",
    "\n",
    "    V = Vhbar.T.conj() @ Ep\n",
    "\n",
    "    SMinv = Ep @ np.diag(Sbar) @ Ep\n",
    "\n",
    "    d = np.diag(SMinv)\n",
    "    sigmas = np.sqrt( (d**2)/(1+(d**2)))\n",
    "    mus = np.sqrt(1 - (sigmas**2))\n",
    "\n",
    "    Minv = np.diag(1/mus)\n",
    "    Xinv1 = Minv @ V.T.conj() @ L \n",
    "    Xinv2 = Ho.T @ A\n",
    "    Xinv = np.vstack([Xinv1, Xinv2])\n",
    "\n",
    "    gen_svals = sigmas/mus\n",
    "    S = np.diag(sigmas)\n",
    "    M = np.diag(mus)\n",
    "\n",
    "    return U, S, M, V, Xinv"
   ]
  },
  {
   "cell_type": "code",
   "execution_count": 97,
   "metadata": {},
   "outputs": [
    {
     "name": "stdout",
     "output_type": "stream",
     "text": [
      "2.5279110668102083e-13\n",
      "9.383437902100703e-15\n",
      "1.4505741578699024e-13\n",
      "5.1966346095387934e-15\n",
      "2.673440971505225e-14\n",
      "8.752085669950807e-15\n",
      "2.1911683800650764e-14\n",
      "7.51226302516416e-15\n",
      "3.645535285722249e-13\n",
      "8.66741057364453e-15\n",
      "5.893528424924797e-13\n",
      "8.20356087441806e-15\n",
      "1.2478084242206958e-13\n",
      "7.070911010466144e-15\n",
      "7.719881795086843e-14\n",
      "8.545412650367388e-15\n",
      "1.6225932412963343e-14\n",
      "9.108222396573371e-15\n",
      "7.419206738564692e-13\n",
      "6.8505123998773e-15\n"
     ]
    }
   ],
   "source": [
    "n = 10\n",
    "m = 10\n",
    "p = 10\n",
    "np.random.seed(0)\n",
    "for j in range(10):\n",
    "\n",
    "    A = np.random.normal(size=(m,n))\n",
    "    L = np.random.normal(size=(p,n))\n",
    "\n",
    "    U, S, M, V, Xinv = naive_gsvd(A,L)\n",
    "\n",
    "    # Build guesses of original matrices from the factorization\n",
    "    Aguess = U @ block_diag(S, np.eye(n-p)) @ Xinv\n",
    "    print(np.linalg.norm(A - Aguess))\n",
    "\n",
    "    Lguess = V @ np.hstack([M, np.zeros((p,n-p))]) @ Xinv\n",
    "    print(np.linalg.norm(L - Lguess))"
   ]
  },
  {
   "cell_type": "code",
   "execution_count": null,
   "metadata": {},
   "outputs": [],
   "source": []
  },
  {
   "cell_type": "markdown",
   "metadata": {},
   "source": [
    "# Second way to compute GSVD"
   ]
  },
  {
   "cell_type": "code",
   "execution_count": 106,
   "metadata": {},
   "outputs": [],
   "source": [
    "n = 10\n",
    "m = 10\n",
    "p = 8\n",
    "A = np.random.normal(size=(m,n))\n",
    "L = np.random.normal(size=(p,n))"
   ]
  },
  {
   "cell_type": "code",
   "execution_count": 117,
   "metadata": {},
   "outputs": [],
   "source": [
    "# Derived quantities\n",
    "o = n - p\n",
    "q = m - (n - p)\n",
    "\n",
    "# QR factorization of L^T and split into pieces\n",
    "Lt_qr_fac = np.linalg.qr(L.T, \"complete\")\n",
    "Kp = Lt_qr_fac.Q[:,:p]\n",
    "Ko = Lt_qr_fac.Q[:,p:]\n",
    "Rp = Lt_qr_fac.R[:p,:]\n",
    "\n",
    "# Pseudoinverse of L\n",
    "Rpinv, _ = dtrtri(Rp)\n",
    "Lpinv = Kp @ Rpinv.T\n",
    "\n",
    "# QR factorization of AKo and split into pieces\n",
    "AKo = A @ Ko\n",
    "AKo_qr_fac = np.linalg.qr(AKo, \"complete\")\n",
    "Ho = AKo_qr_fac.Q[:,:o]\n",
    "Hq = AKo_qr_fac.Q[:,o:]\n",
    "To = AKo_qr_fac.R[:o,:]\n",
    "\n",
    "\n",
    "# Compute A-weighted pseudoinverse\n",
    "To_inv, _ = dtrtri(To)\n",
    "Lwpinv = (np.eye(n) - (Ko @ To_inv @ Ho.T @ A ) ) @ Lpinv\n",
    "\n",
    "# Abar and svd\n",
    "Abar = A @ Lwpinv \n",
    "Abar_svd = np.linalg.svd(Abar, full_matrices=True) \n",
    "\n",
    "\n",
    "\n",
    "# # Rest\n",
    "# Abar = Hq.T @ A @ Lpinv\n",
    "# Abar_svd = np.linalg.svd(Abar, full_matrices=True)\n",
    "# Ubar, Sbar, Vhbar = Abar_svd.U, Abar_svd.S, Abar_svd.Vh\n",
    "# Ep = antidiag(p)\n",
    "\n",
    "# U1 = Hq @ Ubar[:,:p] @ Ep\n",
    "# U2 = Ho\n",
    "# U = np.hstack([U1, U2])\n",
    "\n",
    "# V = Vhbar.T.conj() @ Ep\n",
    "\n",
    "# SMinv = Ep @ np.diag(Sbar) @ Ep\n",
    "\n",
    "# d = np.diag(SMinv)\n",
    "# sigmas = np.sqrt( (d**2)/(1+(d**2)))\n",
    "# mus = np.sqrt(1 - (sigmas**2))\n",
    "\n",
    "# Minv = np.diag(1/mus)\n",
    "# Xinv1 = Minv @ V.T.conj() @ L \n",
    "# Xinv2 = Ho.T @ A\n",
    "# Xinv = np.vstack([Xinv1, Xinv2])\n",
    "# X = np.linalg.inv(Xinv)\n",
    "\n",
    "# gen_svals = sigmas/mus"
   ]
  },
  {
   "cell_type": "code",
   "execution_count": null,
   "metadata": {},
   "outputs": [],
   "source": []
  },
  {
   "cell_type": "code",
   "execution_count": null,
   "metadata": {},
   "outputs": [],
   "source": []
  },
  {
   "cell_type": "code",
   "execution_count": 118,
   "metadata": {},
   "outputs": [
    {
     "data": {
      "text/plain": [
       "array([6.49504026, 2.82414181, 1.06254295, 0.71064895, 0.59673023,\n",
       "       0.40174923, 0.33130101, 0.16162997])"
      ]
     },
     "execution_count": 118,
     "metadata": {},
     "output_type": "execute_result"
    }
   ],
   "source": [
    "Abar_svd.S"
   ]
  },
  {
   "cell_type": "code",
   "execution_count": 123,
   "metadata": {},
   "outputs": [],
   "source": [
    "u1, s1, m1, v1, xinv1 = naive_gsvd(A, L)"
   ]
  },
  {
   "cell_type": "code",
   "execution_count": 124,
   "metadata": {},
   "outputs": [
    {
     "data": {
      "text/plain": [
       "array([0.16162997, 0.33130101, 0.40174923, 0.59673023, 0.71064895,\n",
       "       1.06254295, 2.82414181, 6.49504026])"
      ]
     },
     "execution_count": 124,
     "metadata": {},
     "output_type": "execute_result"
    }
   ],
   "source": [
    "np.diag(s1)/np.diag(m1)"
   ]
  },
  {
   "cell_type": "code",
   "execution_count": null,
   "metadata": {},
   "outputs": [],
   "source": []
  },
  {
   "cell_type": "markdown",
   "metadata": {},
   "source": [
    "# General GSVD guess?"
   ]
  },
  {
   "cell_type": "code",
   "execution_count": 126,
   "metadata": {},
   "outputs": [],
   "source": [
    "from scipy.linalg import null_space"
   ]
  },
  {
   "cell_type": "code",
   "execution_count": 142,
   "metadata": {},
   "outputs": [],
   "source": [
    "n = 10\n",
    "m = 8\n",
    "p = n\n",
    "A = np.random.normal(size=(m,n))\n",
    "L = np.random.normal(size=(p,n))\n",
    "L[:,2] = L[:,4]\n",
    "W = null_space(L)"
   ]
  },
  {
   "cell_type": "code",
   "execution_count": 143,
   "metadata": {},
   "outputs": [
    {
     "data": {
      "text/plain": [
       "array([[-0.13398775],\n",
       "       [-0.50790288]])"
      ]
     },
     "execution_count": 143,
     "metadata": {},
     "output_type": "execute_result"
    }
   ],
   "source": [
    "null_space(A).T @ W"
   ]
  },
  {
   "cell_type": "code",
   "execution_count": 144,
   "metadata": {},
   "outputs": [],
   "source": [
    "Lpinv = np.linalg.pinv(L)\n",
    "Lwpinv = (np.eye(n) - W @ np.linalg.pinv(A @ W) @ A ) @ Lpinv"
   ]
  },
  {
   "cell_type": "code",
   "execution_count": 145,
   "metadata": {},
   "outputs": [],
   "source": [
    "svd_res = np.linalg.svd(A @ Lwpinv)\n",
    "U, S, Vt = svd_res.U, svd_res.S, svd_res.Vh"
   ]
  },
  {
   "cell_type": "code",
   "execution_count": null,
   "metadata": {},
   "outputs": [],
   "source": []
  },
  {
   "cell_type": "code",
   "execution_count": 146,
   "metadata": {},
   "outputs": [
    {
     "data": {
      "text/plain": [
       "[<matplotlib.lines.Line2D at 0x130645650>]"
      ]
     },
     "execution_count": 146,
     "metadata": {},
     "output_type": "execute_result"
    },
    {
     "data": {
      "image/png": "[encoded data removed]",
      "text/plain": [
       "<Figure size 640x480 with 1 Axes>"
      ]
     },
     "metadata": {},
     "output_type": "display_data"
    }
   ],
   "source": [
    "plt.plot(S)"
   ]
  },
  {
   "cell_type": "code",
   "execution_count": 138,
   "metadata": {},
   "outputs": [
    {
     "data": {
      "text/plain": [
       "(8,)"
      ]
     },
     "execution_count": 138,
     "metadata": {},
     "output_type": "execute_result"
    }
   ],
   "source": [
    "S.shape"
   ]
  },
  {
   "cell_type": "code",
   "execution_count": null,
   "metadata": {},
   "outputs": [],
   "source": []
  },
  {
   "cell_type": "markdown",
   "metadata": {},
   "source": [
    "# test"
   ]
  },
  {
   "cell_type": "code",
   "execution_count": 12,
   "metadata": {},
   "outputs": [],
   "source": [
    "import numpy as np\n",
    "import matplotlib.pyplot as plt"
   ]
  },
  {
   "cell_type": "code",
   "execution_count": 17,
   "metadata": {},
   "outputs": [],
   "source": [
    "k = 20\n",
    "n = 10\n",
    "A = np.random.normal(size=(n,n))\n",
    "B = np.zeros((n,k))\n",
    "s = np.abs(np.random.normal(size=k)) + 1.0\n",
    "np.fill_diagonal(B, s)"
   ]
  },
  {
   "cell_type": "code",
   "execution_count": 18,
   "metadata": {},
   "outputs": [
    {
     "data": {
      "image/png": "[encoded data removed]",
      "text/plain": [
       "<Figure size 640x480 with 1 Axes>"
      ]
     },
     "metadata": {},
     "output_type": "display_data"
    }
   ],
   "source": [
    "plt.imshow(B)\n",
    "plt.show()"
   ]
  },
  {
   "cell_type": "code",
   "execution_count": 21,
   "metadata": {},
   "outputs": [
    {
     "data": {
      "image/png": "[encoded data removed]",
      "text/plain": [
       "<Figure size 640x480 with 1 Axes>"
      ]
     },
     "metadata": {},
     "output_type": "display_data"
    }
   ],
   "source": [
    "plt.imshow(A @ B)\n",
    "plt.show()"
   ]
  },
  {
   "cell_type": "code",
   "execution_count": 20,
   "metadata": {},
   "outputs": [
    {
     "data": {
      "text/plain": [
       "(10, 20)"
      ]
     },
     "execution_count": 20,
     "metadata": {},
     "output_type": "execute_result"
    }
   ],
   "source": [
    "(A @ B).shape"
   ]
  },
  {
   "cell_type": "code",
   "execution_count": 23,
   "metadata": {},
   "outputs": [
    {
     "data": {
      "text/plain": [
       "10"
      ]
     },
     "execution_count": 23,
     "metadata": {},
     "output_type": "execute_result"
    }
   ],
   "source": [
    "np.linalg.matrix_rank((A @ B).T)"
   ]
  },
  {
   "cell_type": "code",
   "execution_count": 16,
   "metadata": {},
   "outputs": [
    {
     "ename": "ValueError",
     "evalue": "matmul: Input operand 1 has a mismatch in its core dimension 0, with gufunc signature (n?,k),(k,m?)->(n?,m?) (size 10 is different from 2)",
     "output_type": "error",
     "traceback": [
      "\u001b[0;31m---------------------------------------------------------------------------\u001b[0m",
      "\u001b[0;31mValueError\u001b[0m                                Traceback (most recent call last)",
      "\u001b[1;32m/Users/jonathanlindbloom/Github/jlinops/docs/source/notebooks/gsvd_from_svd.ipynb Cell 36\u001b[0m line \u001b[0;36m1\n\u001b[0;32m----> <a href='vscode-notebook-cell:/Users/jonathanlindbloom/Github/jlinops/docs/source/notebooks/gsvd_from_svd.ipynb#Y162sZmlsZQ%3D%3D?line=0'>1</a>\u001b[0m A \u001b[39m@\u001b[39;49m B\n",
      "\u001b[0;31mValueError\u001b[0m: matmul: Input operand 1 has a mismatch in its core dimension 0, with gufunc signature (n?,k),(k,m?)->(n?,m?) (size 10 is different from 2)"
     ]
    }
   ],
   "source": [
    "A @ B"
   ]
  },
  {
   "cell_type": "code",
   "execution_count": 26,
   "metadata": {},
   "outputs": [],
   "source": [
    "k = 20\n",
    "n = 10\n",
    "n_tries = 10000\n",
    "for j in range(n_tries):\n",
    "    A = np.random.normal(size=(n,n))\n",
    "    B = np.zeros((n,k))\n",
    "    s = np.abs(np.random.normal(size=k)) + 1.0\n",
    "    np.fill_diagonal(B, s)\n",
    "    row_rank_AB = np.linalg.matrix_rank((A @ B).T)\n",
    "    if not row_rank_AB == n:\n",
    "        print(\"failed!\")\n"
   ]
  },
  {
   "cell_type": "code",
   "execution_count": null,
   "metadata": {},
   "outputs": [],
   "source": []
  },
  {
   "cell_type": "code",
   "execution_count": null,
   "metadata": {},
   "outputs": [],
   "source": []
  },
  {
   "cell_type": "code",
   "execution_count": 20,
   "metadata": {},
   "outputs": [],
   "source": [
    "m = 10\n",
    "n = 8\n",
    "s = np.zeros((m,n))\n",
    "d = np.abs(np.random.normal(size=n)) + 1.0\n",
    "np.fill_diagonal(s, d)"
   ]
  },
  {
   "cell_type": "code",
   "execution_count": 21,
   "metadata": {},
   "outputs": [
    {
     "data": {
      "text/plain": [
       "8"
      ]
     },
     "execution_count": 21,
     "metadata": {},
     "output_type": "execute_result"
    }
   ],
   "source": [
    "np.linalg.matrix_rank(s)"
   ]
  },
  {
   "cell_type": "code",
   "execution_count": null,
   "metadata": {},
   "outputs": [],
   "source": []
  },
  {
   "cell_type": "code",
   "execution_count": 22,
   "metadata": {},
   "outputs": [
    {
     "data": {
      "image/png": "[encoded data removed]",
      "text/plain": [
       "<Figure size 640x480 with 1 Axes>"
      ]
     },
     "metadata": {},
     "output_type": "display_data"
    }
   ],
   "source": [
    "plt.imshow(s)\n",
    "plt.show()"
   ]
  },
  {
   "cell_type": "code",
   "execution_count": 23,
   "metadata": {},
   "outputs": [
    {
     "data": {
      "text/plain": [
       "array([[1., 0., 0., 0., 0., 0., 0., 0., 0., 0.],\n",
       "       [0., 1., 0., 0., 0., 0., 0., 0., 0., 0.],\n",
       "       [0., 0., 1., 0., 0., 0., 0., 0., 0., 0.],\n",
       "       [0., 0., 0., 1., 0., 0., 0., 0., 0., 0.],\n",
       "       [0., 0., 0., 0., 1., 0., 0., 0., 0., 0.],\n",
       "       [0., 0., 0., 0., 0., 1., 0., 0., 0., 0.],\n",
       "       [0., 0., 0., 0., 0., 0., 1., 0., 0., 0.],\n",
       "       [0., 0., 0., 0., 0., 0., 0., 1., 0., 0.],\n",
       "       [0., 0., 0., 0., 0., 0., 0., 0., 0., 0.],\n",
       "       [0., 0., 0., 0., 0., 0., 0., 0., 0., 0.]])"
      ]
     },
     "execution_count": 23,
     "metadata": {},
     "output_type": "execute_result"
    }
   ],
   "source": [
    "s @ np.linalg.pinv(s)"
   ]
  },
  {
   "cell_type": "code",
   "execution_count": 24,
   "metadata": {},
   "outputs": [
    {
     "data": {
      "text/plain": [
       "array([[1., 0., 0., 0., 0., 0., 0., 0., 0., 0.],\n",
       "       [0., 1., 0., 0., 0., 0., 0., 0., 0., 0.],\n",
       "       [0., 0., 1., 0., 0., 0., 0., 0., 0., 0.],\n",
       "       [0., 0., 0., 1., 0., 0., 0., 0., 0., 0.],\n",
       "       [0., 0., 0., 0., 1., 0., 0., 0., 0., 0.],\n",
       "       [0., 0., 0., 0., 0., 1., 0., 0., 0., 0.],\n",
       "       [0., 0., 0., 0., 0., 0., 1., 0., 0., 0.],\n",
       "       [0., 0., 0., 0., 0., 0., 0., 1., 0., 0.],\n",
       "       [0., 0., 0., 0., 0., 0., 0., 0., 0., 0.],\n",
       "       [0., 0., 0., 0., 0., 0., 0., 0., 0., 0.]])"
      ]
     },
     "execution_count": 24,
     "metadata": {},
     "output_type": "execute_result"
    }
   ],
   "source": [
    "np.linalg.pinv(s).T @ s.T"
   ]
  },
  {
   "cell_type": "code",
   "execution_count": null,
   "metadata": {},
   "outputs": [],
   "source": []
  },
  {
   "cell_type": "code",
   "execution_count": null,
   "metadata": {},
   "outputs": [],
   "source": []
  },
  {
   "cell_type": "code",
   "execution_count": null,
   "metadata": {},
   "outputs": [],
   "source": []
  },
  {
   "cell_type": "code",
   "execution_count": null,
   "metadata": {},
   "outputs": [],
   "source": []
  },
  {
   "cell_type": "code",
   "execution_count": null,
   "metadata": {},
   "outputs": [],
   "source": []
  },
  {
   "cell_type": "code",
   "execution_count": null,
   "metadata": {},
   "outputs": [],
   "source": []
  },
  {
   "cell_type": "code",
   "execution_count": null,
   "metadata": {},
   "outputs": [],
   "source": []
  },
  {
   "cell_type": "code",
   "execution_count": null,
   "metadata": {},
   "outputs": [],
   "source": []
  },
  {
   "cell_type": "code",
   "execution_count": null,
   "metadata": {},
   "outputs": [],
   "source": []
  },
  {
   "cell_type": "code",
   "execution_count": null,
   "metadata": {},
   "outputs": [],
   "source": []
  }
 ],
 "metadata": {
  "kernelspec": {
   "display_name": "jlinops",
   "language": "python",
   "name": "python3"
  },
  "language_info": {
   "codemirror_mode": {
    "name": "ipython",
    "version": 3
   },
   "file_extension": ".py",
   "mimetype": "text/x-python",
   "name": "python",
   "nbconvert_exporter": "python",
   "pygments_lexer": "ipython3",
   "version": "3.11.6"
  }
 },
 "nbformat": 4,
 "nbformat_minor": 2
}
