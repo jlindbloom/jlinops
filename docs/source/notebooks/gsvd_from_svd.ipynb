{
 "cells": [
  {
   "cell_type": "code",
   "execution_count": 51,
   "metadata": {},
   "outputs": [],
   "source": [
    "import numpy as np\n",
    "import matplotlib.pyplot as plt\n",
    "\n",
    "from scipy.linalg.lapack import dtrtri\n",
    "from scipy.linalg import block_diag"
   ]
  },
  {
   "cell_type": "code",
   "execution_count": 88,
   "metadata": {},
   "outputs": [],
   "source": [
    "n = 10\n",
    "m = 20\n",
    "p = 8\n",
    "np.random.seed(0)\n",
    "A = np.random.normal(size=(m,n))\n",
    "L = np.random.normal(size=(p,n))\n",
    "L[:,3] = L[:,2]"
   ]
  },
  {
   "cell_type": "markdown",
   "metadata": {},
   "source": [
    "# First method"
   ]
  },
  {
   "cell_type": "code",
   "execution_count": 89,
   "metadata": {},
   "outputs": [],
   "source": [
    "def antidiag(l):\n",
    "    return np.flip(np.eye(l), axis=0)"
   ]
  },
  {
   "cell_type": "code",
   "execution_count": 90,
   "metadata": {},
   "outputs": [],
   "source": [
    "# Derived quantities\n",
    "o = n - p\n",
    "q = m - (n - p)\n",
    "\n",
    "# QR factorization of L^T and split into pieces\n",
    "Lt_qr_fac = np.linalg.qr(L.T, \"complete\")\n",
    "Kp = Lt_qr_fac.Q[:,:p]\n",
    "Ko = Lt_qr_fac.Q[:,p:]\n",
    "Rp = Lt_qr_fac.R[:p,:]\n",
    "\n",
    "# Pseudoinverse of L\n",
    "Rpinv, _ = dtrtri(Rp)\n",
    "Lpinv = Kp @ Rpinv.T\n",
    "\n",
    "# QR factorization of AKo and split into pieces\n",
    "AKo = A @ Ko\n",
    "AKo_qr_fac = np.linalg.qr(AKo, \"complete\")\n",
    "Ho = AKo_qr_fac.Q[:,:o]\n",
    "Hq = AKo_qr_fac.Q[:,o:]\n",
    "To = AKo_qr_fac.R[:o,:]\n",
    "\n",
    "# Rest\n",
    "Abar = Hq.T @ A @ Lpinv\n",
    "Abar_svd = np.linalg.svd(Abar, full_matrices=True)\n",
    "Ubar, Sbar, Vhbar = Abar_svd.U, Abar_svd.S, Abar_svd.Vh\n",
    "Ep = antidiag(p)\n",
    "\n",
    "U1 = Hq @ Ubar[:,:p] @ Ep\n",
    "U2 = Ho\n",
    "U = np.hstack([U1, U2])\n",
    "\n",
    "V = Vhbar.T.conj() @ Ep\n",
    "\n",
    "SMinv = Ep @ np.diag(Sbar) @ Ep\n",
    "\n",
    "d = np.diag(SMinv)\n",
    "sigmas = np.sqrt( (d**2)/(1+(d**2)))\n",
    "mus = np.sqrt(1 - (sigmas**2))\n",
    "\n",
    "Minv = np.diag(1/mus)\n",
    "Xinv1 = Minv @ V.T.conj() @ L \n",
    "Xinv2 = Ho.T @ A\n",
    "Xinv = np.vstack([Xinv1, Xinv2])\n",
    "X = np.linalg.inv(Xinv)\n",
    "\n",
    "gen_svals = sigmas/mus"
   ]
  },
  {
   "cell_type": "code",
   "execution_count": 91,
   "metadata": {},
   "outputs": [
    {
     "name": "stdout",
     "output_type": "stream",
     "text": [
      "1.966006925034094e-13\n",
      "6.697136277833479e-15\n"
     ]
    }
   ],
   "source": [
    "# Build guesses of original matrices from the factorization\n",
    "Aguess = U @ block_diag(np.diag(sigmas), np.eye(n-p)) @ Xinv\n",
    "print(np.linalg.norm(A - Aguess))\n",
    "\n",
    "Lguess = V @ np.hstack([np.diag(mus), np.zeros((p,o))]) @ Xinv\n",
    "print(np.linalg.norm(L - Lguess))"
   ]
  },
  {
   "cell_type": "code",
   "execution_count": null,
   "metadata": {},
   "outputs": [],
   "source": []
  },
  {
   "cell_type": "markdown",
   "metadata": {},
   "source": [
    "# Define function"
   ]
  },
  {
   "cell_type": "code",
   "execution_count": 92,
   "metadata": {},
   "outputs": [],
   "source": [
    "def naive_gsvd(A, L):\n",
    "    \"\"\"Computes the gsvd of the matrix pair (A, L) in a very naive and expensive way.\n",
    "    Returns U, S, M, V, Xinv such that\n",
    "    A = U diag( S, I ) Xinv and L = V (M 0) Xinv.\n",
    "    Code assumes that leftmost dimension of A is >= its rightmost dimension, and that\n",
    "    leftmost dimension of L is <= its rightmost dimension.\n",
    "    \"\"\"\n",
    "\n",
    "    n = A.shape[1]\n",
    "    m = A.shape[0]\n",
    "    p = L.shape[0]\n",
    "\n",
    "    assert m >= n, \"must have m >= n.\"\n",
    "    assert  p <= n, \"must have p <= n.\"\n",
    "\n",
    "    # Derived quantities\n",
    "    o = n - p\n",
    "    q = m - (n - p)\n",
    "\n",
    "    # QR factorization of L^T and split into pieces\n",
    "    Lt_qr_fac = np.linalg.qr(L.T, \"complete\")\n",
    "    Kp = Lt_qr_fac.Q[:,:p]\n",
    "    Ko = Lt_qr_fac.Q[:,p:]\n",
    "    Rp = Lt_qr_fac.R[:p,:]\n",
    "\n",
    "    # Pseudoinverse of L\n",
    "    Rpinv, _ = dtrtri(Rp)\n",
    "    Lpinv = Kp @ Rpinv.T\n",
    "\n",
    "    # QR factorization of AKo and split into pieces\n",
    "    AKo = A @ Ko\n",
    "    AKo_qr_fac = np.linalg.qr(AKo, \"complete\")\n",
    "    Ho = AKo_qr_fac.Q[:,:o]\n",
    "    Hq = AKo_qr_fac.Q[:,o:]\n",
    "    To = AKo_qr_fac.R[:o,:]\n",
    "\n",
    "    # Rest\n",
    "    Abar = Hq.T @ A @ Lpinv\n",
    "    Abar_svd = np.linalg.svd(Abar, full_matrices=True)\n",
    "    Ubar, Sbar, Vhbar = Abar_svd.U, Abar_svd.S, Abar_svd.Vh\n",
    "    Ep = antidiag(p)\n",
    "\n",
    "    U1 = Hq @ Ubar[:,:p] @ Ep\n",
    "    U2 = Ho\n",
    "    U = np.hstack([U1, U2])\n",
    "\n",
    "    V = Vhbar.T.conj() @ Ep\n",
    "\n",
    "    SMinv = Ep @ np.diag(Sbar) @ Ep\n",
    "\n",
    "    d = np.diag(SMinv)\n",
    "    sigmas = np.sqrt( (d**2)/(1+(d**2)))\n",
    "    mus = np.sqrt(1 - (sigmas**2))\n",
    "\n",
    "    Minv = np.diag(1/mus)\n",
    "    Xinv1 = Minv @ V.T.conj() @ L \n",
    "    Xinv2 = Ho.T @ A\n",
    "    Xinv = np.vstack([Xinv1, Xinv2])\n",
    "\n",
    "    gen_svals = sigmas/mus\n",
    "    S = np.diag(sigmas)\n",
    "    M = np.diag(mus)\n",
    "\n",
    "    return U, S, M, V, Xinv"
   ]
  },
  {
   "cell_type": "code",
   "execution_count": 97,
   "metadata": {},
   "outputs": [
    {
     "name": "stdout",
     "output_type": "stream",
     "text": [
      "2.5279110668102083e-13\n",
      "9.383437902100703e-15\n",
      "1.4505741578699024e-13\n",
      "5.1966346095387934e-15\n",
      "2.673440971505225e-14\n",
      "8.752085669950807e-15\n",
      "2.1911683800650764e-14\n",
      "7.51226302516416e-15\n",
      "3.645535285722249e-13\n",
      "8.66741057364453e-15\n",
      "5.893528424924797e-13\n",
      "8.20356087441806e-15\n",
      "1.2478084242206958e-13\n",
      "7.070911010466144e-15\n",
      "7.719881795086843e-14\n",
      "8.545412650367388e-15\n",
      "1.6225932412963343e-14\n",
      "9.108222396573371e-15\n",
      "7.419206738564692e-13\n",
      "6.8505123998773e-15\n"
     ]
    }
   ],
   "source": [
    "n = 10\n",
    "m = 10\n",
    "p = 10\n",
    "np.random.seed(0)\n",
    "for j in range(10):\n",
    "\n",
    "    A = np.random.normal(size=(m,n))\n",
    "    L = np.random.normal(size=(p,n))\n",
    "\n",
    "    U, S, M, V, Xinv = naive_gsvd(A,L)\n",
    "\n",
    "    # Build guesses of original matrices from the factorization\n",
    "    Aguess = U @ block_diag(S, np.eye(n-p)) @ Xinv\n",
    "    print(np.linalg.norm(A - Aguess))\n",
    "\n",
    "    Lguess = V @ np.hstack([M, np.zeros((p,n-p))]) @ Xinv\n",
    "    print(np.linalg.norm(L - Lguess))"
   ]
  },
  {
   "cell_type": "code",
   "execution_count": null,
   "metadata": {},
   "outputs": [],
   "source": []
  },
  {
   "cell_type": "markdown",
   "metadata": {},
   "source": [
    "# Second way to compute GSVD"
   ]
  },
  {
   "cell_type": "code",
   "execution_count": 106,
   "metadata": {},
   "outputs": [],
   "source": [
    "n = 10\n",
    "m = 10\n",
    "p = 8\n",
    "A = np.random.normal(size=(m,n))\n",
    "L = np.random.normal(size=(p,n))"
   ]
  },
  {
   "cell_type": "code",
   "execution_count": 117,
   "metadata": {},
   "outputs": [],
   "source": [
    "# Derived quantities\n",
    "o = n - p\n",
    "q = m - (n - p)\n",
    "\n",
    "# QR factorization of L^T and split into pieces\n",
    "Lt_qr_fac = np.linalg.qr(L.T, \"complete\")\n",
    "Kp = Lt_qr_fac.Q[:,:p]\n",
    "Ko = Lt_qr_fac.Q[:,p:]\n",
    "Rp = Lt_qr_fac.R[:p,:]\n",
    "\n",
    "# Pseudoinverse of L\n",
    "Rpinv, _ = dtrtri(Rp)\n",
    "Lpinv = Kp @ Rpinv.T\n",
    "\n",
    "# QR factorization of AKo and split into pieces\n",
    "AKo = A @ Ko\n",
    "AKo_qr_fac = np.linalg.qr(AKo, \"complete\")\n",
    "Ho = AKo_qr_fac.Q[:,:o]\n",
    "Hq = AKo_qr_fac.Q[:,o:]\n",
    "To = AKo_qr_fac.R[:o,:]\n",
    "\n",
    "\n",
    "# Compute A-weighted pseudoinverse\n",
    "To_inv, _ = dtrtri(To)\n",
    "Lwpinv = (np.eye(n) - (Ko @ To_inv @ Ho.T @ A ) ) @ Lpinv\n",
    "\n",
    "# Abar and svd\n",
    "Abar = A @ Lwpinv \n",
    "Abar_svd = np.linalg.svd(Abar, full_matrices=True) \n",
    "\n",
    "\n",
    "\n",
    "# # Rest\n",
    "# Abar = Hq.T @ A @ Lpinv\n",
    "# Abar_svd = np.linalg.svd(Abar, full_matrices=True)\n",
    "# Ubar, Sbar, Vhbar = Abar_svd.U, Abar_svd.S, Abar_svd.Vh\n",
    "# Ep = antidiag(p)\n",
    "\n",
    "# U1 = Hq @ Ubar[:,:p] @ Ep\n",
    "# U2 = Ho\n",
    "# U = np.hstack([U1, U2])\n",
    "\n",
    "# V = Vhbar.T.conj() @ Ep\n",
    "\n",
    "# SMinv = Ep @ np.diag(Sbar) @ Ep\n",
    "\n",
    "# d = np.diag(SMinv)\n",
    "# sigmas = np.sqrt( (d**2)/(1+(d**2)))\n",
    "# mus = np.sqrt(1 - (sigmas**2))\n",
    "\n",
    "# Minv = np.diag(1/mus)\n",
    "# Xinv1 = Minv @ V.T.conj() @ L \n",
    "# Xinv2 = Ho.T @ A\n",
    "# Xinv = np.vstack([Xinv1, Xinv2])\n",
    "# X = np.linalg.inv(Xinv)\n",
    "\n",
    "# gen_svals = sigmas/mus"
   ]
  },
  {
   "cell_type": "code",
   "execution_count": null,
   "metadata": {},
   "outputs": [],
   "source": []
  },
  {
   "cell_type": "code",
   "execution_count": null,
   "metadata": {},
   "outputs": [],
   "source": []
  },
  {
   "cell_type": "code",
   "execution_count": 118,
   "metadata": {},
   "outputs": [
    {
     "data": {
      "text/plain": [
       "array([6.49504026, 2.82414181, 1.06254295, 0.71064895, 0.59673023,\n",
       "       0.40174923, 0.33130101, 0.16162997])"
      ]
     },
     "execution_count": 118,
     "metadata": {},
     "output_type": "execute_result"
    }
   ],
   "source": [
    "Abar_svd.S"
   ]
  },
  {
   "cell_type": "code",
   "execution_count": 123,
   "metadata": {},
   "outputs": [],
   "source": [
    "u1, s1, m1, v1, xinv1 = naive_gsvd(A, L)"
   ]
  },
  {
   "cell_type": "code",
   "execution_count": 124,
   "metadata": {},
   "outputs": [
    {
     "data": {
      "text/plain": [
       "array([0.16162997, 0.33130101, 0.40174923, 0.59673023, 0.71064895,\n",
       "       1.06254295, 2.82414181, 6.49504026])"
      ]
     },
     "execution_count": 124,
     "metadata": {},
     "output_type": "execute_result"
    }
   ],
   "source": [
    "np.diag(s1)/np.diag(m1)"
   ]
  },
  {
   "cell_type": "code",
   "execution_count": null,
   "metadata": {},
   "outputs": [],
   "source": []
  },
  {
   "cell_type": "markdown",
   "metadata": {},
   "source": [
    "# General GSVD guess?"
   ]
  },
  {
   "cell_type": "code",
   "execution_count": 126,
   "metadata": {},
   "outputs": [],
   "source": [
    "from scipy.linalg import null_space"
   ]
  },
  {
   "cell_type": "code",
   "execution_count": 142,
   "metadata": {},
   "outputs": [],
   "source": [
    "n = 10\n",
    "m = 8\n",
    "p = n\n",
    "A = np.random.normal(size=(m,n))\n",
    "L = np.random.normal(size=(p,n))\n",
    "L[:,2] = L[:,4]\n",
    "W = null_space(L)"
   ]
  },
  {
   "cell_type": "code",
   "execution_count": 143,
   "metadata": {},
   "outputs": [
    {
     "data": {
      "text/plain": [
       "array([[-0.13398775],\n",
       "       [-0.50790288]])"
      ]
     },
     "execution_count": 143,
     "metadata": {},
     "output_type": "execute_result"
    }
   ],
   "source": [
    "null_space(A).T @ W"
   ]
  },
  {
   "cell_type": "code",
   "execution_count": 144,
   "metadata": {},
   "outputs": [],
   "source": [
    "Lpinv = np.linalg.pinv(L)\n",
    "Lwpinv = (np.eye(n) - W @ np.linalg.pinv(A @ W) @ A ) @ Lpinv"
   ]
  },
  {
   "cell_type": "code",
   "execution_count": 145,
   "metadata": {},
   "outputs": [],
   "source": [
    "svd_res = np.linalg.svd(A @ Lwpinv)\n",
    "U, S, Vt = svd_res.U, svd_res.S, svd_res.Vh"
   ]
  },
  {
   "cell_type": "code",
   "execution_count": null,
   "metadata": {},
   "outputs": [],
   "source": []
  },
  {
   "cell_type": "code",
   "execution_count": 146,
   "metadata": {},
   "outputs": [
    {
     "data": {
      "text/plain": [
       "[<matplotlib.lines.Line2D at 0x130645650>]"
      ]
     },
     "execution_count": 146,
     "metadata": {},
     "output_type": "execute_result"
    },
    {
     "data": {
      "image/png": "[encoded data removed]",
      "text/plain": [
       "<Figure size 640x480 with 1 Axes>"
      ]
     },
     "metadata": {},
     "output_type": "display_data"
    }
   ],
   "source": [
    "plt.plot(S)"
   ]
  },
  {
   "cell_type": "code",
   "execution_count": 138,
   "metadata": {},
   "outputs": [
    {
     "data": {
      "text/plain": [
       "(8,)"
      ]
     },
     "execution_count": 138,
     "metadata": {},
     "output_type": "execute_result"
    }
   ],
   "source": [
    "S.shape"
   ]
  },
  {
   "cell_type": "code",
   "execution_count": null,
   "metadata": {},
   "outputs": [],
   "source": []
  },
  {
   "cell_type": "code",
   "execution_count": null,
   "metadata": {},
   "outputs": [],
   "source": []
  },
  {
   "cell_type": "code",
   "execution_count": null,
   "metadata": {},
   "outputs": [],
   "source": []
  },
  {
   "cell_type": "code",
   "execution_count": null,
   "metadata": {},
   "outputs": [],
   "source": []
  },
  {
   "cell_type": "code",
   "execution_count": null,
   "metadata": {},
   "outputs": [],
   "source": []
  },
  {
   "cell_type": "code",
   "execution_count": null,
   "metadata": {},
   "outputs": [],
   "source": []
  },
  {
   "cell_type": "code",
   "execution_count": null,
   "metadata": {},
   "outputs": [],
   "source": []
  }
 ],
 "metadata": {
  "kernelspec": {
   "display_name": "jlinops",
   "language": "python",
   "name": "python3"
  },
  "language_info": {
   "codemirror_mode": {
    "name": "ipython",
    "version": 3
   },
   "file_extension": ".py",
   "mimetype": "text/x-python",
   "name": "python",
   "nbconvert_exporter": "python",
   "pygments_lexer": "ipython3",
   "version": "3.11.6"
  }
 },
 "nbformat": 4,
 "nbformat_minor": 2
}
