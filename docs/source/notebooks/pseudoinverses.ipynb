{
 "cells": [
  {
   "cell_type": "code",
   "execution_count": 1,
   "id": "5cfdf793",
   "metadata": {
    "tags": []
   },
   "outputs": [],
   "source": [
    "%%capture\n",
    "import numpy as np\n",
    "from scipy.linalg import qr as scipy_qr\n",
    "from scipy.linalg import solve_triangular as scipy_solve_triangular\n",
    "# from scipy.sparse.linalg._interface import MatrixLinearOperator, _CustomLinearOperator\n",
    "import scipy.sparse as sps\n",
    "import scipy.sparse.linalg as splinalg\n",
    "import math\n",
    "\n",
    "from scipy.linalg import null_space\n",
    "\n",
    "# from .matrix import MatrixOperator, SparseMatrixOperator\n",
    "# from .util import banded_cholesky_factorization\n",
    "# from .diagonal import DiagonalOperator\n",
    "# from .derivatives import DiscreteGradientNeumann2D\n",
    "# from .dct import build_dct_Lpinv\n",
    "\n",
    "import cupy as cp\n",
    "\n",
    "from jlinops import MatrixLinearOperator, cg, _CustomLinearOperator\n",
    "from jlinops import banded_cholesky\n",
    "from jlinops import issparse, tosparse\n",
    "from jlinops import scipy_superlu_to_cupy_superlu\n",
    "from jlinops import check_adjoint\n",
    "from jlinops import dct_sqrt_pinv"
   ]
  },
  {
   "cell_type": "code",
   "execution_count": 2,
   "id": "46f91b47",
   "metadata": {
    "tags": []
   },
   "outputs": [],
   "source": [
    "A = np.random.normal(size=(40,40))"
   ]
  },
  {
   "cell_type": "code",
   "execution_count": 3,
   "id": "1db0b1b4",
   "metadata": {
    "tags": []
   },
   "outputs": [
    {
     "data": {
      "text/plain": [
       "<40x40 sparse matrix of type '<class 'numpy.float64'>'\n",
       "\twith 1600 stored elements in Compressed Sparse Column format>"
      ]
     },
     "execution_count": 3,
     "metadata": {},
     "output_type": "execute_result"
    }
   ],
   "source": [
    "tosparse(A)"
   ]
  },
  {
   "cell_type": "code",
   "execution_count": 4,
   "id": "969789b5",
   "metadata": {
    "tags": []
   },
   "outputs": [],
   "source": [
    "A = cp.random.normal(size=(40,40))"
   ]
  },
  {
   "cell_type": "code",
   "execution_count": 5,
   "id": "e35b5aac",
   "metadata": {
    "tags": []
   },
   "outputs": [
    {
     "data": {
      "text/plain": [
       "<cupyx.scipy.sparse._csc.csc_matrix at 0x7f62d5ee4bd0>"
      ]
     },
     "execution_count": 5,
     "metadata": {},
     "output_type": "execute_result"
    }
   ],
   "source": [
    "tosparse(A)"
   ]
  },
  {
   "cell_type": "code",
   "execution_count": null,
   "id": "67eb5bcd",
   "metadata": {},
   "outputs": [],
   "source": []
  },
  {
   "cell_type": "markdown",
   "id": "a887e37c",
   "metadata": {},
   "source": [
    "# Figure out superlu"
   ]
  },
  {
   "cell_type": "code",
   "execution_count": 6,
   "id": "be931d13",
   "metadata": {
    "tags": []
   },
   "outputs": [],
   "source": [
    "from cupyx.scipy.sparse.linalg import SuperLU as cp_SuperLU"
   ]
  },
  {
   "cell_type": "code",
   "execution_count": 7,
   "id": "4b2962bb",
   "metadata": {
    "tags": []
   },
   "outputs": [],
   "source": [
    "A = np.random.normal(size=(40,40))\n",
    "A = tosparse(A)"
   ]
  },
  {
   "cell_type": "code",
   "execution_count": 8,
   "id": "fb479b93",
   "metadata": {
    "tags": []
   },
   "outputs": [],
   "source": [
    "# Sparse LU\n",
    "LU = splinalg.splu(A, diag_pivot_thresh=0, permc_spec=\"NATURAL\") "
   ]
  },
  {
   "cell_type": "code",
   "execution_count": 9,
   "id": "3be63ce0",
   "metadata": {
    "tags": []
   },
   "outputs": [
    {
     "data": {
      "text/plain": [
       "<cupyx.scipy.sparse.linalg._solve.SuperLU at 0x7f62d71d54d0>"
      ]
     },
     "execution_count": 9,
     "metadata": {},
     "output_type": "execute_result"
    }
   ],
   "source": [
    "cp_SuperLU(LU)"
   ]
  },
  {
   "cell_type": "code",
   "execution_count": null,
   "id": "154abc3c",
   "metadata": {},
   "outputs": [],
   "source": []
  },
  {
   "cell_type": "code",
   "execution_count": null,
   "id": "948961bf",
   "metadata": {},
   "outputs": [],
   "source": []
  },
  {
   "cell_type": "code",
   "execution_count": 18,
   "id": "4be5bffd",
   "metadata": {
    "tags": []
   },
   "outputs": [],
   "source": [
    "class BandedCholeskyPinvOperator(_CustomLinearOperator):\n",
    "    \"\"\"Takes a (non-square) MatrixLinearOperator A and builds a linear operator representing an approximation to the \n",
    "    pseudo-inverse of A. This is most efficient if A^T A is sparse and (already) banded.\n",
    "    \"\"\"\n",
    "\n",
    "    def __init__(self, A, delta=1e-3, _superlu=None):\n",
    "\n",
    "        assert isinstance(A, MatrixLinearOperator), \"Must give MatrixOperator as an input.\"\n",
    "        \n",
    "        # Bind\n",
    "        self.original_op = A\n",
    "        self.original_shape = A.shape\n",
    "        self.delta = delta\n",
    "        \n",
    "        # Device\n",
    "        device = A.device\n",
    "        \n",
    "        # Original shape\n",
    "        k, n = A.shape\n",
    "        \n",
    "        # Enforce that underling A.T A is a sparse type\n",
    "        if not issparse(A.A):\n",
    "            AtA = MatrixLinearOperator( tosparse(A.A.T @ A.A).tocsc() )\n",
    "        else:\n",
    "            AtA = MatrixLinearOperator(A.A.T @ A.A)\n",
    "        \n",
    "        # Even if on GPU, factorize and make superlu object on CPU\n",
    "        if device == \"cpu\":\n",
    "            AtA_cpu = AtA\n",
    "        else:\n",
    "            AtA_cpu = AtA.to_cpu()\n",
    "            \n",
    "        # Matrix we will factorize\n",
    "        mat = AtA_cpu.A + self.delta*sps.eye(n)\n",
    "        \n",
    "        # Perform factorization\n",
    "        chol_fac, superlu = banded_cholesky( mat )\n",
    "        \n",
    "        # Make GPU superlu object if applicable\n",
    "        if device == \"gpu\":\n",
    "            superlu = cp_SuperLU(superlu)\n",
    "            \n",
    "        # Bind superlu and A\n",
    "        self.superlu = superlu\n",
    "        self.A = A\n",
    "            \n",
    "        # Build matvec and rmatvec\n",
    "        def _matvec(x):\n",
    "            tmp = self.A.rmatvec(x)\n",
    "            tmp = self.superlu.solve(tmp, trans=\"N\")\n",
    "            return tmp\n",
    "        \n",
    "        def _rmatvec(x):\n",
    "            tmp = self.superlu.solve(x, trans=\"T\")\n",
    "            tmp = self.A.matvec(tmp)\n",
    "            return tmp\n",
    "        \n",
    "        super().__init__( (n,k), _matvec, _rmatvec, device=device, dtype=A.dtype)\n",
    "        \n",
    "        \n",
    "    def to_gpu(self):\n",
    "        \n",
    "        # Switch to CPU superlu\n",
    "        superlu = cp_SuperLU(self.superlu)\n",
    "        \n",
    "        return BandedCholeskyPinvOperator(A.to_gpu(), delta=self.delta, _superlu=superlu)\n",
    "    \n",
    "    \n",
    "    def to_cpu(self):\n",
    "        \n",
    "        raise NotImplementedError\n"
   ]
  },
  {
   "cell_type": "code",
   "execution_count": null,
   "id": "4f278661",
   "metadata": {},
   "outputs": [],
   "source": []
  },
  {
   "cell_type": "markdown",
   "id": "0d07b193",
   "metadata": {},
   "source": [
    "# Test it out"
   ]
  },
  {
   "cell_type": "code",
   "execution_count": 19,
   "id": "10304ad1",
   "metadata": {
    "tags": []
   },
   "outputs": [],
   "source": [
    "Amat = np.random.normal(size=(40,40))\n",
    "A = Amat.copy()\n",
    "A = tosparse(A)\n",
    "A = MatrixLinearOperator(A)"
   ]
  },
  {
   "cell_type": "code",
   "execution_count": 20,
   "id": "b449e925",
   "metadata": {
    "tags": []
   },
   "outputs": [
    {
     "name": "stderr",
     "output_type": "stream",
     "text": [
      "/opt/conda/envs/jlinops/lib/python3.11/site-packages/scipy/sparse/linalg/_dsolve/linsolve.py:412: SparseEfficiencyWarning: splu converted its input to CSC format\n",
      "  warn('splu converted its input to CSC format', SparseEfficiencyWarning)\n"
     ]
    }
   ],
   "source": [
    "Apinv = BandedCholeskyPinvOperator(A, delta=1e-13)"
   ]
  },
  {
   "cell_type": "code",
   "execution_count": 21,
   "id": "9d2c331f",
   "metadata": {
    "tags": []
   },
   "outputs": [
    {
     "data": {
      "text/plain": [
       "7.249072523900067e-10"
      ]
     },
     "execution_count": 21,
     "metadata": {},
     "output_type": "execute_result"
    }
   ],
   "source": [
    "u = np.random.normal(size=Apinv.shape[1])\n",
    "np.linalg.norm( (Apinv @ u) - (np.linalg.pinv(Amat) @ u) )"
   ]
  },
  {
   "cell_type": "code",
   "execution_count": 22,
   "id": "5e54a9c5",
   "metadata": {
    "tags": []
   },
   "outputs": [
    {
     "data": {
      "text/plain": [
       "True"
      ]
     },
     "execution_count": 22,
     "metadata": {},
     "output_type": "execute_result"
    }
   ],
   "source": [
    "check_adjoint(Apinv)"
   ]
  },
  {
   "cell_type": "code",
   "execution_count": 23,
   "id": "ea190c65",
   "metadata": {
    "tags": []
   },
   "outputs": [],
   "source": [
    "Apinv = Apinv.to_gpu()"
   ]
  },
  {
   "cell_type": "code",
   "execution_count": 24,
   "id": "f6f58387",
   "metadata": {
    "tags": []
   },
   "outputs": [
    {
     "data": {
      "text/plain": [
       "array(1.13351602e-09)"
      ]
     },
     "execution_count": 24,
     "metadata": {},
     "output_type": "execute_result"
    }
   ],
   "source": [
    "u = cp.random.normal(size=Apinv.shape[1])\n",
    "cp.linalg.norm( (Apinv @ u) - (cp.asarray(np.linalg.pinv(Amat)) @ u) )"
   ]
  },
  {
   "cell_type": "code",
   "execution_count": 25,
   "id": "0cdb89d0",
   "metadata": {
    "tags": []
   },
   "outputs": [
    {
     "data": {
      "text/plain": [
       "True"
      ]
     },
     "execution_count": 25,
     "metadata": {},
     "output_type": "execute_result"
    }
   ],
   "source": [
    "check_adjoint(Apinv)"
   ]
  },
  {
   "cell_type": "code",
   "execution_count": 26,
   "id": "4bb56841",
   "metadata": {
    "tags": []
   },
   "outputs": [],
   "source": [
    "Amat = cp.random.normal(size=(40,40))\n",
    "A = Amat.copy()\n",
    "A = tosparse(A)\n",
    "A = MatrixLinearOperator(A)"
   ]
  },
  {
   "cell_type": "code",
   "execution_count": 27,
   "id": "3a4b4fbc",
   "metadata": {
    "tags": []
   },
   "outputs": [],
   "source": [
    "Apinv = BandedCholeskyPinvOperator(A, delta=1e-13)"
   ]
  },
  {
   "cell_type": "code",
   "execution_count": 28,
   "id": "c639ee28",
   "metadata": {
    "tags": []
   },
   "outputs": [
    {
     "data": {
      "text/plain": [
       "array(1.34604197e-11)"
      ]
     },
     "execution_count": 28,
     "metadata": {},
     "output_type": "execute_result"
    }
   ],
   "source": [
    "u = cp.random.normal(size=Apinv.shape[1])\n",
    "cp.linalg.norm( (Apinv @ u) - (cp.asarray(np.linalg.pinv(Amat)) @ u) )"
   ]
  },
  {
   "cell_type": "code",
   "execution_count": null,
   "id": "11c4e1a1",
   "metadata": {},
   "outputs": [],
   "source": []
  },
  {
   "cell_type": "markdown",
   "id": "06be4873",
   "metadata": {},
   "source": [
    "# QR Pseudoinverse"
   ]
  },
  {
   "cell_type": "code",
   "execution_count": 29,
   "id": "7c4de5e0",
   "metadata": {
    "tags": []
   },
   "outputs": [],
   "source": [
    "from cupy.linalg import qr as cp_qr"
   ]
  },
  {
   "cell_type": "code",
   "execution_count": 34,
   "id": "c9ed8932",
   "metadata": {
    "tags": []
   },
   "outputs": [],
   "source": [
    "from scipy.linalg import qr as sp_qr\n",
    "from cupy.linalg import qr as cp_qr\n",
    "from scipy.linalg import solve_triangular as sp_solve_triangular\n",
    "from cupyx.scipy.linalg import solve_triangular as cp_solve_triangular\n",
    "\n",
    "\n",
    "class QRPinvOperator(_CustomLinearOperator):\n",
    "    \"\"\"Takes a dense matrix A with full column rank, builds a linear operator representing the pseudo-inverse of A\n",
    "    using the QR method.\n",
    "    \"\"\"\n",
    "\n",
    "    def __init__(self, A):\n",
    "\n",
    "        assert isinstance(A, MatrixLinearOperator), \"must give MatrixOperator as an input.\"\n",
    "\n",
    "        # Store original operator\n",
    "        self.original_op = A\n",
    "        k, n = A.shape\n",
    "        \n",
    "        # Device\n",
    "        device = A.device\n",
    "        \n",
    "        if device == \"cpu\":\n",
    "            \n",
    "            Q_fac, R_fac = sp_qr(A.A, mode=\"economic\")\n",
    "\n",
    "            # Build matvec and rmatvec\n",
    "            def _matvec(vec):\n",
    "                tmp = Q_fac.T @ vec\n",
    "                tmp = sp_solve_triangular(R_fac, tmp, lower=False)\n",
    "                return tmp\n",
    "\n",
    "            def _rmatvec(vec):\n",
    "                tmp = scipy_solve_triangular(R_fac.T, vec, lower=True)\n",
    "                tmp = Q_fac @ tmp\n",
    "                return tmp\n",
    "            \n",
    "        else:\n",
    "            \n",
    "            # economic is deprecated\n",
    "            Q_fac, R_fac = cp_qr(A.A, mode=\"reduced\")\n",
    "\n",
    "            # Build matvec and rmatvec\n",
    "            def _matvec(vec):\n",
    "                tmp = Q_fac.T @ vec\n",
    "                tmp = cp_solve_triangular(R_fac, tmp, lower=False)\n",
    "                return tmp\n",
    "\n",
    "            def _rmatvec(vec):\n",
    "                tmp = cp_solve_triangular(R_fac.T, vec, lower=True)\n",
    "                tmp = Q_fac @ tmp\n",
    "                return tmp\n",
    "\n",
    "        super().__init__( (n, k), _matvec, _rmatvec , device=device)\n",
    "        \n",
    "        \n",
    "    def to_gpu(self):\n",
    "        return QRPinvOperator(self.original_op.to_gpu())\n",
    "    \n",
    "    def to_cpu(self):\n",
    "        return QRPinvOperator(self.original_op.to_cpu())\n"
   ]
  },
  {
   "cell_type": "code",
   "execution_count": null,
   "id": "50d6fee6",
   "metadata": {},
   "outputs": [],
   "source": []
  },
  {
   "cell_type": "code",
   "execution_count": null,
   "id": "4e54abb5",
   "metadata": {},
   "outputs": [],
   "source": []
  },
  {
   "cell_type": "code",
   "execution_count": 35,
   "id": "b96ce48b",
   "metadata": {
    "tags": []
   },
   "outputs": [
    {
     "data": {
      "text/plain": [
       "4.461039660953078e-16"
      ]
     },
     "execution_count": 35,
     "metadata": {},
     "output_type": "execute_result"
    }
   ],
   "source": [
    "Wmat = np.random.normal(size=(30,3))\n",
    "W = MatrixLinearOperator(Wmat)\n",
    "Wpinv = QRPinvOperator(W)\n",
    "\n",
    "u = np.random.normal(size=Wpinv.shape[1])\n",
    "np.linalg.norm( (Wpinv @ u) - (np.linalg.pinv(Wmat) @ u) )"
   ]
  },
  {
   "cell_type": "code",
   "execution_count": 36,
   "id": "3c05787b",
   "metadata": {
    "tags": []
   },
   "outputs": [],
   "source": [
    "Wpinv = Wpinv.to_gpu()"
   ]
  },
  {
   "cell_type": "code",
   "execution_count": 37,
   "id": "ee48697e",
   "metadata": {
    "tags": []
   },
   "outputs": [
    {
     "data": {
      "text/plain": [
       "array(1.28427661e-15)"
      ]
     },
     "execution_count": 37,
     "metadata": {},
     "output_type": "execute_result"
    }
   ],
   "source": [
    "u = cp.random.normal(size=Wpinv.shape[1])\n",
    "cp.linalg.norm( (Wpinv @ u) - (cp.asarray(np.linalg.pinv(Wmat)) @ u) )"
   ]
  },
  {
   "cell_type": "code",
   "execution_count": null,
   "id": "3cb651a8",
   "metadata": {},
   "outputs": [],
   "source": []
  },
  {
   "cell_type": "code",
   "execution_count": null,
   "id": "7d309076",
   "metadata": {},
   "outputs": [],
   "source": []
  },
  {
   "cell_type": "markdown",
   "id": "3ab9b19a",
   "metadata": {},
   "source": [
    "# CGPseudoinverse"
   ]
  },
  {
   "cell_type": "code",
   "execution_count": 67,
   "id": "443b1c30",
   "metadata": {
    "tags": []
   },
   "outputs": [],
   "source": [
    "from jlinops import cg as jlinops_cg\n",
    "from scipy.sparse.linalg import cg as scipy_cg\n",
    "from cupyx.scipy.sparse.linalg import cg as cupy_cg"
   ]
  },
  {
   "cell_type": "code",
   "execution_count": 68,
   "id": "36bc6c4c",
   "metadata": {
    "tags": []
   },
   "outputs": [],
   "source": [
    "class CGPinvOperator(_CustomLinearOperator):\n",
    "    \"\"\"Returns a linear operator that approximately computes the pseudoinverse of a matrix A using \n",
    "    a conjugate gradient method.\n",
    "    \"\"\"\n",
    "\n",
    "    def __init__(self, A, warmstart_prev=False, which=\"jlinops\", check=False, *args, **kwargs):\n",
    "\n",
    "        assert which in [\"jlinops\", \"scipy\"], \"Invalid choice for which!\"\n",
    "\n",
    "        # Store operator\n",
    "        self.original_op = A\n",
    "        self.A = A\n",
    "        \n",
    "        # Device\n",
    "        device = A.device\n",
    "        \n",
    "        # Shape\n",
    "        m, n = A.shape\n",
    "        shape = (n, m)\n",
    "    \n",
    "        # Setup\n",
    "        self.which = which\n",
    "        self.warmstart_prev = warmstart_prev\n",
    "        self.check = check\n",
    "        self.args = args\n",
    "        self.kwargs = kwargs\n",
    "        self.in_shape = A.shape[0]\n",
    "        self.out_shape = A.shape[1]\n",
    "        \n",
    "        if device == \"cpu\":\n",
    "            self.prev_eval = np.zeros(self.out_shape)\n",
    "            self.prev_eval_t = np.zeros(self.in_shape)\n",
    "        else:\n",
    "            self.prev_eval = cp.zeros(self.out_shape)\n",
    "            self.prev_eval_t = cp.zeros(self.in_shape)\n",
    "            \n",
    "        self.warmstart_prev = warmstart_prev\n",
    "\n",
    "        # Build both operators we need\n",
    "        self.AtA = self.original_op.T @ self.original_op\n",
    "        self.AAt = self.original_op @ self.original_op.T\n",
    "        \n",
    "        \n",
    "        if device == \"cpu\":\n",
    "            \n",
    "            if self.which == \"jlinops\":\n",
    "                \n",
    "                def _matvec(x):\n",
    "                    solver_data = jlinops_cg(self.AtA, self.A.rmatvec(x), x0=self.prev_eval, *args, **kwargs)\n",
    "                    sol = solver_data[\"x\"]\n",
    "                    if self.check:\n",
    "                        assert solver_data[\"converged\"], \"CG algorithm did not converge\"\n",
    "                    \n",
    "                    if self.warmstart_prev:\n",
    "                        self.prev_eval = sol.copy()\n",
    "                    \n",
    "                    return sol\n",
    "                \n",
    "                def _rmatvec(x):\n",
    "                    solver_data = jlinops_cg(self.AAt, self.A.matvec(x), x0=self.prev_eval_t, *args, **kwargs)\n",
    "                    sol = solver_data[\"x\"]\n",
    "                    if self.check:\n",
    "                        assert solver_data[\"converged\"], \"CG algorithm did not converge\"\n",
    "                        \n",
    "                    if self.warmstart_prev:\n",
    "                        self.prev_eval_t = sol.copy()\n",
    "                        \n",
    "                    return sol\n",
    "        \n",
    "            elif self.which == \"scipy\":\n",
    "                \n",
    "                def _matvec(x):\n",
    "                    sol, converged = scipy_cg(self.AtA, self.A.rmatvec(x), x0=self.prev_eval, *args, **kwargs) \n",
    "                    if self.check:\n",
    "                        assert converged == 0, \"CG algorithm did not converge!\"\n",
    "                        \n",
    "                    if self.warmstart_prev:\n",
    "                        self.prev_eval = sol.copy()\n",
    "                    \n",
    "                    return sol\n",
    "                \n",
    "                def _rmatvec(x):\n",
    "                    sol, converged = scipy_cg(self.AAt, self.A.matvec(x), x0=self.prev_eval_t, *args, **kwargs) \n",
    "                    if self.check:\n",
    "                        assert converged == 0, \"CG algorithm did not converge!\"\n",
    "                    \n",
    "                    if self.warmstart_prev:\n",
    "                        self.prev_eval_t = sol.copy()\n",
    "                    \n",
    "                    return sol\n",
    "                \n",
    "            else:\n",
    "                raise NotImplementedError\n",
    "                \n",
    "        else:\n",
    "            \n",
    "            \n",
    "            if self.which == \"jlinops\":\n",
    "                \n",
    "                def _matvec(x):\n",
    "                    solver_data = jlinops_cg(self.AtA, self.A.rmatvec(x), x0=self.prev_eval, *args, **kwargs)\n",
    "                    sol = solver_data[\"x\"]\n",
    "                    if self.check:\n",
    "                        assert solver_data[\"converged\"], \"CG algorithm did not converge\"\n",
    "                        \n",
    "                    if self.warmstart_prev:\n",
    "                        self.prev_eval = sol.copy()\n",
    "                        \n",
    "                    return sol\n",
    "                \n",
    "                def _rmatvec(x):\n",
    "                    solver_data = jlinops_cg(self.AAt, self.A.matvec(x), x0=self.prev_eval_t, *args, **kwargs)\n",
    "                    sol = solver_data[\"x\"]\n",
    "                    if self.check:\n",
    "                        assert solver_data[\"converged\"], \"CG algorithm did not converge\"\n",
    "                    \n",
    "                    if self.warmstart_prev:\n",
    "                        self.prev_eval_t = sol.copy()\n",
    "                    \n",
    "                    return sol\n",
    "        \n",
    "            elif self.which == \"scipy\":\n",
    "                \n",
    "                def _matvec(x):\n",
    "                    sol, converged = cupy_cg(self.AtA, self.A.rmatvec(x), x0=self.prev_eval, *args, **kwargs) \n",
    "                    if self.check:\n",
    "                        assert converged == 0, \"CG algorithm did not converge!\"\n",
    "                    \n",
    "                    if self.warmstart_prev:\n",
    "                        self.prev_eval = sol.copy()\n",
    "                        \n",
    "                    return sol\n",
    "                \n",
    "                def _rmatvec(x):\n",
    "                    sol, converged = cupy_cg(self.AAt, self.A.matvec(x), x0=self.prev_eval_t, *args, **kwargs) \n",
    "                    if self.check:\n",
    "                        assert converged == 0, \"CG algorithm did not converge!\"\n",
    "                    \n",
    "                    if self.warmstart_prev:\n",
    "                        self.prev_eval_t = sol.copy()\n",
    "                        \n",
    "                    return sol\n",
    "                \n",
    "            else:\n",
    "                raise NotImplementedError\n",
    "            \n",
    "            \n",
    "        super().__init__( shape, _matvec, _rmatvec, device=device, dtype=self.A.dtype)\n",
    "        \n",
    "        \n",
    "        \n",
    "    def to_gpu(self):\n",
    "        return CGPinvOperator(self.A.to_gpu(), warmstart_prev=self.warmstart_prev, which=self.which, check=self.check, *self.args, **self.kwargs)\n",
    "    \n",
    "    def to_cpu(self):\n",
    "        return CGPinvOperator(self.A.to_cpu(), warmstart_prev=self.warmstart_prev, which=self.which, check=self.check, *self.args, **self.kwargs)\n"
   ]
  },
  {
   "cell_type": "code",
   "execution_count": 40,
   "id": "845443f3",
   "metadata": {
    "tags": []
   },
   "outputs": [],
   "source": [
    "class CGModPinvOperator(_CustomLinearOperator):\n",
    "    \"\"\"Returns a linear operator that approximately computes the pseudoinverse of a matrix A using \n",
    "    a conjugate gradient method. Modifed so that it only ever solves systems with A^T A. \n",
    "    \n",
    "    W: a LinearOperator representing a matrix with linearly independent columns that spans null(A).\n",
    "    Wpinv: a LinearOperator represening the pseudoinverse of W.\n",
    "    \"\"\"\n",
    "\n",
    "    def __init__(self, A, W, Wpinv, warmstart_prev=False, which=\"jlinops\", check=False, *args, **kwargs):\n",
    "\n",
    "        assert which in [\"jlinops\", \"scipy\"], \"Invalid choice for which!\"\n",
    "\n",
    "        # Store operator\n",
    "        self.original_op = A\n",
    "        self.A = A\n",
    "        self.W = W\n",
    "        self.Wpinv = Wpinv\n",
    "        \n",
    "        # Device\n",
    "        device = A.device\n",
    "    \n",
    "        # Shape\n",
    "        m, n = A.shape\n",
    "        shape = (n, m)\n",
    "    \n",
    "        # Setup\n",
    "        self.which = which\n",
    "        self.warmstart_prev = warmstart_prev\n",
    "        self.check = check\n",
    "        self.args = args\n",
    "        self.kwargs = kwargs\n",
    "        self.in_shape = A.shape[0]\n",
    "        self.out_shape = A.shape[1]\n",
    "        \n",
    "        if device == \"cpu\":\n",
    "            self.prev_eval = np.zeros(self.out_shape)\n",
    "            self.prev_eval_t = np.zeros(self.in_shape)\n",
    "        else:\n",
    "            self.prev_eval = cp.zeros(self.out_shape)\n",
    "            self.prev_eval_t = cp.zeros(self.in_shape)\n",
    "            \n",
    "        self.warmstart_prev = warmstart_prev\n",
    "\n",
    "        # Build both operators we need\n",
    "        self.AtA = self.original_op.T @ self.original_op\n",
    "        self.AAt = self.original_op @ self.original_op.T\n",
    "        \n",
    "        \n",
    "        if device == \"cpu\":\n",
    "            \n",
    "            if self.which == \"jlinops\":\n",
    "                \n",
    "                def _matvec(x):\n",
    "                    solver_data = jlinops_cg(self.AtA, self.A.rmatvec(x), x0=self.prev_eval, *args, **kwargs)\n",
    "                    sol = solver_data[\"x\"]\n",
    "                    if self.check:\n",
    "                        assert solver_data[\"converged\"], \"CG algorithm did not converge\"\n",
    "                    \n",
    "                    if self.warmstart_prev:\n",
    "                        self.prev_eval = sol.copy()\n",
    "                    \n",
    "                    return sol\n",
    "                \n",
    "                def _rmatvec(x):\n",
    "                    \n",
    "                    # Project x onto range(A^T A) = range(A^T).\n",
    "                    x = x - (W @ (Wpinv @ x))\n",
    "                    \n",
    "                    solver_data = jlinops_cg(self.AtA, x, x0=self.prev_eval_t, *args, **kwargs)\n",
    "                    sol = solver_data[\"x\"]\n",
    "                    if self.check:\n",
    "                        assert solver_data[\"converged\"], \"CG algorithm did not converge\"\n",
    "                        \n",
    "                    if self.warmstart_prev:\n",
    "                        self.prev_eval_t = sol.copy()\n",
    "                        \n",
    "                    return self.A @ sol\n",
    "        \n",
    "            elif self.which == \"scipy\":\n",
    "                \n",
    "                def _matvec(x):\n",
    "                    sol, converged = scipy_cg(self.AtA, self.A.rmatvec(x), x0=self.prev_eval, *args, **kwargs) \n",
    "                    if self.check:\n",
    "                        assert converged == 0, \"CG algorithm did not converge!\"\n",
    "                        \n",
    "                    if self.warmstart_prev:\n",
    "                        self.prev_eval = sol.copy()\n",
    "                    \n",
    "                    return sol\n",
    "                \n",
    "                def _rmatvec(x):\n",
    "                    \n",
    "                    # Project x onto range(A^T A) = range(A^T).\n",
    "                    x = x - (W @ (Wpinv @ x))\n",
    "                    \n",
    "                    sol, converged = scipy_cg(self.AtA, x, x0=self.prev_eval_t, *args, **kwargs) \n",
    "                    if self.check:\n",
    "                        assert converged == 0, \"CG algorithm did not converge!\"\n",
    "                    \n",
    "                    if self.warmstart_prev:\n",
    "                        self.prev_eval_t = sol.copy()\n",
    "                    \n",
    "                    return self.A @ sol\n",
    "                \n",
    "            else:\n",
    "                raise NotImplementedError\n",
    "                \n",
    "        else:\n",
    "            \n",
    "            \n",
    "            if self.which == \"jlinops\":\n",
    "                \n",
    "                def _matvec(x):\n",
    "                    solver_data = jlinops_cg(self.AtA, self.A.rmatvec(x), x0=self.prev_eval, *args, **kwargs)\n",
    "                    sol = solver_data[\"x\"]\n",
    "                    if self.check:\n",
    "                        assert solver_data[\"converged\"], \"CG algorithm did not converge\"\n",
    "                        \n",
    "                    if self.warmstart_prev:\n",
    "                        self.prev_eval = sol.copy()\n",
    "                        \n",
    "                    return sol\n",
    "                \n",
    "                def _rmatvec(x):\n",
    "                    \n",
    "                    # Project x onto range(A^T A) = range(A^T).\n",
    "                    x = x - (W @ (Wpinv @ x))\n",
    "                    \n",
    "                    solver_data = jlinops_cg(self.AtA, x, x0=self.prev_eval_t, *args, **kwargs)\n",
    "                    sol = solver_data[\"x\"]\n",
    "                    if self.check:\n",
    "                        assert solver_data[\"converged\"], \"CG algorithm did not converge\"\n",
    "                    \n",
    "                    if self.warmstart_prev:\n",
    "                        self.prev_eval_t = sol.copy()\n",
    "                    \n",
    "                    return self.A @ sol\n",
    "        \n",
    "            elif self.which == \"scipy\":\n",
    "                \n",
    "                def _matvec(x):\n",
    "                    sol, converged = cupy_cg(self.AtA, self.A.rmatvec(x), x0=self.prev_eval, *args, **kwargs) \n",
    "                    if self.check:\n",
    "                        assert converged == 0, \"CG algorithm did not converge!\"\n",
    "                    \n",
    "                    if self.warmstart_prev:\n",
    "                        self.prev_eval = sol.copy()\n",
    "                        \n",
    "                    return sol\n",
    "                \n",
    "                def _rmatvec(x):\n",
    "                    \n",
    "                    # Project x onto range(A^T A) = range(A^T).\n",
    "                    x = x - (W @ (Wpinv @ x))\n",
    "                    \n",
    "                    sol, converged = cupy_cg(self.AtA, x, x0=self.prev_eval_t, *args, **kwargs) \n",
    "                    if self.check:\n",
    "                        assert converged == 0, \"CG algorithm did not converge!\"\n",
    "                    \n",
    "                    if self.warmstart_prev:\n",
    "                        self.prev_eval_t = sol.copy()\n",
    "                        \n",
    "                    return self.A @ sol\n",
    "                \n",
    "            else:\n",
    "                raise NotImplementedError\n",
    "            \n",
    "            \n",
    "        super().__init__( shape, _matvec, _rmatvec, device=device, dtype=self.A.dtype)\n",
    "        \n",
    "        \n",
    "        \n",
    "    def to_gpu(self):\n",
    "        return CGModPinvOperator(self.A.to_gpu(), self.W.to_gpu(), self.Wpinv.to_gpu(), warmstart_prev=self.warmstart_prev, which=self.which, check=self.check, *self.args, **self.kwargs)\n",
    "    \n",
    "    def to_cpu(self):\n",
    "        return CGPModinvOperator(self.A.to_cpu(), self.W.to_cpu(), self.Wpinv.to_cpu(), warmstart_prev=self.warmstart_prev, which=self.which, check=self.check, *self.args, **self.kwargs)\n"
   ]
  },
  {
   "cell_type": "code",
   "execution_count": 41,
   "id": "98c1b052",
   "metadata": {
    "tags": []
   },
   "outputs": [],
   "source": [
    "Amat = np.random.normal(size=(60,40))\n",
    "Amat[:,-1] = Amat[:,-2]\n",
    "Amat = Amat.T @ Amat\n",
    "A = Amat.copy()\n",
    "A = MatrixLinearOperator(A)"
   ]
  },
  {
   "cell_type": "code",
   "execution_count": 42,
   "id": "0824727c",
   "metadata": {
    "tags": []
   },
   "outputs": [
    {
     "data": {
      "text/plain": [
       "True"
      ]
     },
     "execution_count": 42,
     "metadata": {},
     "output_type": "execute_result"
    }
   ],
   "source": [
    "Apinv = CGPinvOperator(A, tol=1e-9, which=\"scipy\")\n",
    "check_adjoint(Apinv)"
   ]
  },
  {
   "cell_type": "code",
   "execution_count": 43,
   "id": "7c754219",
   "metadata": {
    "tags": []
   },
   "outputs": [
    {
     "data": {
      "text/plain": [
       "5.4048080710144624e-11"
      ]
     },
     "execution_count": 43,
     "metadata": {},
     "output_type": "execute_result"
    }
   ],
   "source": [
    "u = np.random.normal(size=Apinv.shape[1])\n",
    "np.linalg.norm( (Apinv @ u) - (np.linalg.pinv(Amat) @ u) )"
   ]
  },
  {
   "cell_type": "code",
   "execution_count": 44,
   "id": "5c3a5866",
   "metadata": {
    "tags": []
   },
   "outputs": [
    {
     "data": {
      "text/plain": [
       "4.9159474677279615e-11"
      ]
     },
     "execution_count": 44,
     "metadata": {},
     "output_type": "execute_result"
    }
   ],
   "source": [
    "u = np.random.normal(size=Apinv.shape[0])\n",
    "np.linalg.norm( (Apinv.T @ u) - (np.linalg.pinv(Amat).T @ u) )"
   ]
  },
  {
   "cell_type": "code",
   "execution_count": 45,
   "id": "0ebc3813",
   "metadata": {
    "tags": []
   },
   "outputs": [
    {
     "data": {
      "text/plain": [
       "True"
      ]
     },
     "execution_count": 45,
     "metadata": {},
     "output_type": "execute_result"
    }
   ],
   "source": [
    "Apinv = Apinv.to_gpu()\n",
    "check_adjoint(Apinv)"
   ]
  },
  {
   "cell_type": "code",
   "execution_count": 46,
   "id": "46505c27",
   "metadata": {
    "tags": []
   },
   "outputs": [
    {
     "data": {
      "text/plain": [
       "array(7.43714842e-11)"
      ]
     },
     "execution_count": 46,
     "metadata": {},
     "output_type": "execute_result"
    }
   ],
   "source": [
    "u = cp.random.normal(size=Apinv.shape[1])\n",
    "cp.linalg.norm( (Apinv @ u) - (cp.asarray(np.linalg.pinv(Amat)) @ u) )"
   ]
  },
  {
   "cell_type": "code",
   "execution_count": 47,
   "id": "fbf7c378",
   "metadata": {
    "tags": []
   },
   "outputs": [
    {
     "data": {
      "text/plain": [
       "array(3.14322002e-11)"
      ]
     },
     "execution_count": 47,
     "metadata": {},
     "output_type": "execute_result"
    }
   ],
   "source": [
    "u = cp.random.normal(size=Apinv.shape[0])\n",
    "cp.linalg.norm( (Apinv.T @ u) - (cp.asarray(np.linalg.pinv(Amat).T) @ u) )"
   ]
  },
  {
   "cell_type": "code",
   "execution_count": null,
   "id": "1eed1985",
   "metadata": {},
   "outputs": [],
   "source": []
  },
  {
   "cell_type": "code",
   "execution_count": null,
   "id": "1f419bf1",
   "metadata": {},
   "outputs": [],
   "source": []
  },
  {
   "cell_type": "code",
   "execution_count": 48,
   "id": "52a7c4ef",
   "metadata": {
    "tags": []
   },
   "outputs": [],
   "source": [
    "Amat = np.random.normal(size=(60,40))\n",
    "Amat[:,-1] = Amat[:,-2]\n",
    "Amat = Amat.T @ Amat\n",
    "A = Amat.copy()\n",
    "A = MatrixLinearOperator(A)"
   ]
  },
  {
   "cell_type": "code",
   "execution_count": 49,
   "id": "03552aed",
   "metadata": {
    "tags": []
   },
   "outputs": [],
   "source": [
    "W = null_space(Amat)\n",
    "W = MatrixLinearOperator(W)\n",
    "Wpinv = QRPinvOperator(W)"
   ]
  },
  {
   "cell_type": "code",
   "execution_count": 50,
   "id": "830b893b",
   "metadata": {
    "tags": []
   },
   "outputs": [
    {
     "data": {
      "text/plain": [
       "True"
      ]
     },
     "execution_count": 50,
     "metadata": {},
     "output_type": "execute_result"
    }
   ],
   "source": [
    "Apinv = CGModPinvOperator(A, W, Wpinv, tol=1e-9, which=\"scipy\")\n",
    "check_adjoint(Apinv)"
   ]
  },
  {
   "cell_type": "code",
   "execution_count": 51,
   "id": "875958a7",
   "metadata": {
    "tags": []
   },
   "outputs": [
    {
     "data": {
      "text/plain": [
       "9.423862561270442e-11"
      ]
     },
     "execution_count": 51,
     "metadata": {},
     "output_type": "execute_result"
    }
   ],
   "source": [
    "u = np.random.normal(size=Apinv.shape[1])\n",
    "np.linalg.norm( (Apinv @ u) - (np.linalg.pinv(Amat) @ u) )"
   ]
  },
  {
   "cell_type": "code",
   "execution_count": 52,
   "id": "7455679e",
   "metadata": {
    "tags": []
   },
   "outputs": [
    {
     "data": {
      "text/plain": [
       "7.02644224946758e-11"
      ]
     },
     "execution_count": 52,
     "metadata": {},
     "output_type": "execute_result"
    }
   ],
   "source": [
    "u = np.random.normal(size=Apinv.shape[0])\n",
    "np.linalg.norm( (Apinv.T @ u) - (np.linalg.pinv(Amat).T @ u) )"
   ]
  },
  {
   "cell_type": "code",
   "execution_count": 53,
   "id": "91783aad",
   "metadata": {
    "tags": []
   },
   "outputs": [
    {
     "data": {
      "text/plain": [
       "True"
      ]
     },
     "execution_count": 53,
     "metadata": {},
     "output_type": "execute_result"
    }
   ],
   "source": [
    "Apinv = Apinv.to_gpu()\n",
    "check_adjoint(Apinv)"
   ]
  },
  {
   "cell_type": "code",
   "execution_count": 54,
   "id": "db527d60",
   "metadata": {
    "tags": []
   },
   "outputs": [
    {
     "data": {
      "text/plain": [
       "array(2.33197472e-11)"
      ]
     },
     "execution_count": 54,
     "metadata": {},
     "output_type": "execute_result"
    }
   ],
   "source": [
    "u = cp.random.normal(size=Apinv.shape[1])\n",
    "cp.linalg.norm( (Apinv @ u) - (cp.asarray(np.linalg.pinv(Amat)) @ u) )"
   ]
  },
  {
   "cell_type": "code",
   "execution_count": 55,
   "id": "5e9f5070",
   "metadata": {
    "tags": []
   },
   "outputs": [
    {
     "data": {
      "text/plain": [
       "array(3.87061371e-11)"
      ]
     },
     "execution_count": 55,
     "metadata": {},
     "output_type": "execute_result"
    }
   ],
   "source": [
    "u = cp.random.normal(size=Apinv.shape[0])\n",
    "cp.linalg.norm( (Apinv.T @ u) - (cp.asarray(np.linalg.pinv(Amat).T) @ u) )"
   ]
  },
  {
   "cell_type": "code",
   "execution_count": null,
   "id": "94de5be3",
   "metadata": {},
   "outputs": [],
   "source": []
  },
  {
   "cell_type": "markdown",
   "id": "c33bdf1a",
   "metadata": {},
   "source": [
    "# Preconditioned CGpinv"
   ]
  },
  {
   "cell_type": "code",
   "execution_count": 56,
   "id": "eb8b15e8",
   "metadata": {
    "tags": []
   },
   "outputs": [],
   "source": [
    "class CGPreconditionedPinvOperator(_CustomLinearOperator):\n",
    "    \"\"\"Returns a linear operator that approximately computes the pseudoinverse of a matrix A using \n",
    "    a conjugate gradient method. Modifed so that it only ever solves systems with A^T A. \n",
    "    \n",
    "    W: a LinearOperator representing a matrix with linearly independent columns that spans null(A).\n",
    "    Wpinv: a LinearOperator represening the pseudoinverse of W.\n",
    "    Lpinv: \n",
    "    \"\"\"\n",
    "\n",
    "    def __init__(self, A, W, Wpinv, Lpinv, warmstart_prev=True, check=False, which=\"jlinops\", *args, **kwargs):\n",
    "\n",
    "        assert which in [\"jlinops\", \"scipy\"], \"Invalid choice for which!\"\n",
    "\n",
    "        # Device\n",
    "        device = A.device\n",
    "        \n",
    "        # Store operator\n",
    "        self.A = A\n",
    "        self.W = W\n",
    "        self.Wpinv = Wpinv\n",
    "        self.Lpinv = Lpinv\n",
    "        self.Ltpinv = Lpinv.T\n",
    "        \n",
    "        # Shape\n",
    "        m, n = A.shape\n",
    "        shape = (n, m)\n",
    "\n",
    "        # Setup\n",
    "        self.which = which\n",
    "        self.check = check\n",
    "        self.warmstart_prev = warmstart_prev\n",
    "        self.in_shape = self.A.shape[0]\n",
    "        self.out_shape = self.A.shape[1]\n",
    "        \n",
    "        if device == \"cpu\":\n",
    "            self.prev_eval = np.zeros(self.out_shape)\n",
    "            self.prev_eval_t = np.zeros(self.out_shape)\n",
    "        else:\n",
    "            self.prev_eval = cp.zeros(self.out_shape)\n",
    "            self.prev_eval_t = cp.zeros(self.out_shape)\n",
    "\n",
    "        # Build both operators we need\n",
    "        self.AtA = self.A.T @ self.A\n",
    "        self.Q = self.Lpinv @ self.AtA @ self.Ltpinv\n",
    "\n",
    "        \n",
    "        if device == \"cpu\":\n",
    "            \n",
    "            if self.which == \"jlinops\":\n",
    "                \n",
    "                def _matvec(x):\n",
    "                    solver_data = jlinops_cg(self.Q, self.Lpinv @ (self.A.rmatvec(x)), x0=self.prev_eval, *args, **kwargs)\n",
    "                    sol = solver_data[\"x\"]\n",
    "                    if self.check:\n",
    "                        assert solver_data[\"converged\"], \"CG algorithm did not converge\"\n",
    "                    \n",
    "                    if self.warmstart_prev:\n",
    "                        self.prev_eval = sol.copy()\n",
    "                    \n",
    "                    return self.Ltpinv @ sol\n",
    "                \n",
    "                def _rmatvec(x):\n",
    "                    \n",
    "                    # Project x onto range(A^T A) = range(A^T).\n",
    "                    x = x - (W @ (Wpinv @ x))\n",
    "                    \n",
    "                    solver_data = jlinops_cg(self.Q, self.Lpinv @ x, x0=self.prev_eval_t, *args, **kwargs)\n",
    "                    sol = solver_data[\"x\"]\n",
    "                    if self.check:\n",
    "                        assert solver_data[\"converged\"], \"CG algorithm did not converge\"\n",
    "                        \n",
    "                    if self.warmstart_prev:\n",
    "                        self.prev_eval_t = sol.copy()\n",
    "                        \n",
    "                    return self.A @ (self.Ltpinv @ sol)\n",
    "        \n",
    "            elif self.which == \"scipy\":\n",
    "                \n",
    "                def _matvec(x):\n",
    "                    sol, converged = scipy_cg(self.Q, self.Lpinv @ (self.A.rmatvec(x)), x0=self.prev_eval, *args, **kwargs) \n",
    "                    if self.check:\n",
    "                        assert converged == 0, \"CG algorithm did not converge!\"\n",
    "                    \n",
    "                    if self.warmstart_prev:\n",
    "                        self.prev_eval = sol.copy()\n",
    "                    \n",
    "                    return self.Ltpinv @ sol\n",
    "                \n",
    "                def _rmatvec(x):\n",
    "                    \n",
    "                    # Project x onto range(A^T A) = range(A^T).\n",
    "                    x = x - (W @ (Wpinv @ x))\n",
    "                    \n",
    "                    sol, converged = scipy_cg(self.Q, self.Lpinv @ x, x0=self.prev_eval_t, *args, **kwargs) \n",
    "                    if self.check:\n",
    "                        assert converged == 0, \"CG algorithm did not converge!\"\n",
    "                    \n",
    "                    if self.warmstart_prev:\n",
    "                        self.prev_eval_t = sol.copy()\n",
    "                    \n",
    "                    return self.A @ (self.Ltpinv @ sol)\n",
    "                \n",
    "            else:\n",
    "                raise NotImplementedError\n",
    "                \n",
    "        else:\n",
    "            \n",
    "            \n",
    "            if self.which == \"jlinops\":\n",
    "                \n",
    "                def _matvec(x):\n",
    "                    solver_data = jlinops_cg(self.Q, self.Lpinv @ (self.A.rmatvec(x)), x0=self.prev_eval, *args, **kwargs)\n",
    "                    sol = solver_data[\"x\"]\n",
    "                    if self.check:\n",
    "                        assert solver_data[\"converged\"], \"CG algorithm did not converge\"\n",
    "                        \n",
    "                    if self.warmstart_prev:\n",
    "                        self.prev_eval = sol.copy()\n",
    "                        \n",
    "                    return self.Ltpinv @ sol\n",
    "                \n",
    "                def _rmatvec(x):\n",
    "                    \n",
    "                    # Project x onto range(A^T A) = range(A^T).\n",
    "                    x = x - (W @ (Wpinv @ x))\n",
    "                    \n",
    "                    solver_data = jlinops_cg(self.Q, self.Lpinv @ x, x0=self.prev_eval_t, *args, **kwargs)\n",
    "                    sol = solver_data[\"x\"]\n",
    "                    if self.check:\n",
    "                        assert solver_data[\"converged\"], \"CG algorithm did not converge\"\n",
    "                    \n",
    "                    if self.warmstart_prev:\n",
    "                        self.prev_eval_t = sol.copy()\n",
    "                    \n",
    "                    return self.A @ (self.Ltpinv @ sol)\n",
    "        \n",
    "            elif self.which == \"scipy\":\n",
    "                \n",
    "                def _matvec(x):\n",
    "                    sol, converged = cupy_cg(self.Q, self.Lpinv @ (self.A.rmatvec(x)), x0=self.prev_eval, *args, **kwargs)\n",
    "                    if self.check:\n",
    "                        assert converged == 0, \"CG algorithm did not converge!\"\n",
    "                    \n",
    "                    if self.warmstart_prev:\n",
    "                        self.prev_eval = sol.copy()\n",
    "                        \n",
    "                    return self.Ltpinv @ sol\n",
    "                \n",
    "                def _rmatvec(x):\n",
    "                    \n",
    "                    # Project x onto range(A^T A) = range(A^T).\n",
    "                    x = x - (W @ (Wpinv @ x))\n",
    "                    \n",
    "                    sol, converged = cupy_cg(self.Q, self.Lpinv @ x, x0=self.prev_eval_t, *args, **kwargs) \n",
    "                    if self.check:\n",
    "                        assert converged == 0, \"CG algorithm did not converge!\"\n",
    "                    \n",
    "                    if self.warmstart_prev:\n",
    "                        self.prev_eval_t = sol.copy()\n",
    "                        \n",
    "                    return self.A @ (self.Ltpinv @ sol)\n",
    "                \n",
    "            else:\n",
    "                raise NotImplementedError\n",
    "        \n",
    "        \n",
    "        super().__init__( shape, _matvec, _rmatvec, dtype=np.float64, device=device)\n",
    "        \n",
    "        \n",
    "    def to_gpu(self):\n",
    "        return CGPreconditionedPinvOperator(self.A.to_gpu(), self.W.to_gpu(), self.Wpinv.to_gpu(), self.Lpinv.to_gpu(), warmstart_prev=self.warmstart_prev, which=self.which, check=self.check, *self.args, **self.kwargs)\n",
    "    \n",
    "        \n",
    "    def to_cpu(self):\n",
    "        return CGPreconditionedPinvOperator(self.A.to_cpu(), self.W.to_cpu(), self.Wpinv.to_cpu(), self.Lpinv.to_cpu(), warmstart_prev=self.warmstart_prev, which=self.which, check=self.check, *self.args, **self.kwargs)\n",
    "    "
   ]
  },
  {
   "cell_type": "code",
   "execution_count": 60,
   "id": "71203c35",
   "metadata": {
    "tags": []
   },
   "outputs": [],
   "source": [
    "class CGWeightedNeumann2DPinvOperator(_CustomLinearOperator):\n",
    "    \"\"\"Represents the pseudoinverse (R_w)^\\dagger of a linear operator R_w = D_w R, where\n",
    "    D_w is a diagonal matrix of weights and R is a DiscreteGradientNeumann2D operator.\n",
    "    Here matvecs/rmatvecs are applied approximately using a preconditioned conjugate\n",
    "    gradient method, where the preconditioner is based on the operator with identity weights. \n",
    "    \"\"\"\n",
    "\n",
    "    def __init__(self, grid_shape, weights, warmstart_prev=True, check=False, which=\"jlinops\", *args, **kwargs):\n",
    "\n",
    "        assert 2*math.prod(grid_shape) == len(weights), \"Weights incompatible!\"\n",
    "        self.weights = weights\n",
    "        self.grid_shape = grid_shape\n",
    "        self.warmstart_prev = warmstart_prev\n",
    "        self.check = check\n",
    "        self.which = which\n",
    "        self.args = args\n",
    "        self.kwargs = kwargs\n",
    "        \n",
    "        # Figure out device\n",
    "        device = get_device(weights)\n",
    "\n",
    "        # Build R_w\n",
    "        self.R = Neumann2D(grid_shape, device=device)\n",
    "        self.Dw = DiagonalOperator(weights)\n",
    "        self.Rw = self.Dw @ self.R\n",
    "\n",
    "        # Get Rpinv (with identity weights)\n",
    "        self.Rpinv = dct_sqrt_pinv(self.R.T @ self.R, grid_shape)\n",
    "\n",
    "        # Take care of W (columns span the kernel of R)\n",
    "        if device == \"cpu\":\n",
    "            W = np.ones((self.R.shape[1],1))\n",
    "        else:\n",
    "            W = cp.ones((self.R.shape[1],1))\n",
    "            \n",
    "        self.W = MatrixLinearOperator(W)\n",
    "        self.Wpinv = QRPinvOperator(self.W)\n",
    "\n",
    "        # Make Rwpinv\n",
    "        self.Rwpinv = CGPreconditionedPinvOperator(self.Rw, self.W, self.Wpinv, self.Rpinv, warmstart_prev=warmstart_prev, check=check, which=which, *args, **kwargs)\n",
    "\n",
    "        def _matvec(x):\n",
    "            return self.Rwpinv @ x\n",
    "\n",
    "        def _rmatvec(x):\n",
    "            return self.Rwpinv.T @ x\n",
    "\n",
    "        super().__init__( self.Rwpinv.shape, _matvec, _rmatvec, dtype=np.float64, device=device)\n",
    "        \n",
    "\n",
    "    def to_gpu(self):\n",
    "        return CGWeightedNeumann2DPinvOperator(self.grid_shape, cp.asarray(self.weights), warmstart_prev=self.warmstart_prev, check=self.check, which=self.which, *self.args, **self.kwargs)\n",
    "    \n",
    "    def to_cpu(self):\n",
    "        return CGWeightedNeumann2DPinvOperator(self.grid_shape, cp.numpy(self.weights), warmstart_prev=self.warmstart_prev, check=self.check, which=self.which, *self.args, **self.kwargs)\n"
   ]
  },
  {
   "cell_type": "code",
   "execution_count": 61,
   "id": "2ccfeda1",
   "metadata": {
    "tags": []
   },
   "outputs": [],
   "source": [
    "from jlinops import get_device, Neumann2D, DiagonalOperator"
   ]
  },
  {
   "cell_type": "code",
   "execution_count": 80,
   "id": "284ae924",
   "metadata": {
    "tags": []
   },
   "outputs": [],
   "source": [
    "M, N = 256, 256\n",
    "weights = np.random.uniform(low=1e-1, high=1e1, size=2*M*N)\n",
    "grid_shape = (M,N)\n",
    "A = CGWeightedNeumann2DPinvOperator(grid_shape, weights, which=\"scipy\", tol=1e-7)\n",
    "#A = CGWeightedNeumann2DPinvOperator(grid_shape, weights, which=\"jlinops\", eps=1e-7)\n",
    "#check_adjoint(A)"
   ]
  },
  {
   "cell_type": "code",
   "execution_count": 81,
   "id": "428eefa7",
   "metadata": {
    "tags": []
   },
   "outputs": [
    {
     "name": "stdout",
     "output_type": "stream",
     "text": [
      "1.6 s ± 822 ms per loop (mean ± std. dev. of 7 runs, 1 loop each)\n"
     ]
    }
   ],
   "source": [
    "%%timeit\n",
    "u = np.random.normal(size=A.shape[1])\n",
    "_ = A @ u"
   ]
  },
  {
   "cell_type": "code",
   "execution_count": 82,
   "id": "8d4b873f",
   "metadata": {
    "tags": []
   },
   "outputs": [],
   "source": [
    "A = A.to_gpu()"
   ]
  },
  {
   "cell_type": "code",
   "execution_count": 83,
   "id": "952c3aba",
   "metadata": {
    "tags": []
   },
   "outputs": [
    {
     "data": {
      "text/plain": [
       "True"
      ]
     },
     "execution_count": 83,
     "metadata": {},
     "output_type": "execute_result"
    }
   ],
   "source": [
    "check_adjoint(A)"
   ]
  },
  {
   "cell_type": "code",
   "execution_count": 84,
   "id": "db635849",
   "metadata": {
    "tags": []
   },
   "outputs": [
    {
     "name": "stdout",
     "output_type": "stream",
     "text": [
      "308 ms ± 8.12 ms per loop (mean ± std. dev. of 7 runs, 1 loop each)\n"
     ]
    }
   ],
   "source": [
    "%%timeit\n",
    "u = cp.random.normal(size=A.shape[1])\n",
    "_ = A @ u"
   ]
  },
  {
   "cell_type": "code",
   "execution_count": 75,
   "id": "a998e17b-3339-4bb6-be51-dd688c220654",
   "metadata": {
    "tags": []
   },
   "outputs": [
    {
     "data": {
      "text/plain": [
       "80.31496062992126"
      ]
     },
     "execution_count": 75,
     "metadata": {},
     "output_type": "execute_result"
    }
   ],
   "source": [
    "10200/127"
   ]
  },
  {
   "cell_type": "code",
   "execution_count": null,
   "id": "bf7c309f-ed59-4392-bda9-75382af92f64",
   "metadata": {},
   "outputs": [],
   "source": []
  },
  {
   "cell_type": "code",
   "execution_count": 85,
   "id": "7ed56841-7639-4434-8f1d-1322c3c5e95a",
   "metadata": {
    "tags": []
   },
   "outputs": [
    {
     "data": {
      "text/plain": [
       "5.194805194805195"
      ]
     },
     "execution_count": 85,
     "metadata": {},
     "output_type": "execute_result"
    }
   ],
   "source": [
    "1600/308"
   ]
  },
  {
   "cell_type": "code",
   "execution_count": null,
   "id": "23cd93f6-f3e1-40cd-93c8-a48ffd74095b",
   "metadata": {},
   "outputs": [],
   "source": []
  },
  {
   "cell_type": "code",
   "execution_count": null,
   "id": "8d4d0a80-887a-4c9f-ac31-70fd4abc2d63",
   "metadata": {},
   "outputs": [],
   "source": []
  },
  {
   "cell_type": "code",
   "execution_count": null,
   "id": "9a60c5d2",
   "metadata": {
    "tags": []
   },
   "outputs": [],
   "source": [
    "%%timeit\n",
    "u = cp.random.normal(size=A.shape[1])\n",
    "_ = A @ u"
   ]
  },
  {
   "cell_type": "code",
   "execution_count": null,
   "id": "75626895",
   "metadata": {},
   "outputs": [],
   "source": []
  },
  {
   "cell_type": "code",
   "execution_count": null,
   "id": "6a790d03",
   "metadata": {},
   "outputs": [],
   "source": []
  },
  {
   "cell_type": "code",
   "execution_count": 76,
   "id": "7c6c5800",
   "metadata": {
    "tags": []
   },
   "outputs": [
    {
     "data": {
      "text/plain": [
       "101.6470588235294"
      ]
     },
     "execution_count": 76,
     "metadata": {},
     "output_type": "execute_result"
    }
   ],
   "source": [
    "43200/425"
   ]
  },
  {
   "cell_type": "code",
   "execution_count": 77,
   "id": "c41d977e",
   "metadata": {
    "tags": []
   },
   "outputs": [
    {
     "data": {
      "text/plain": [
       "102.74509803921569"
      ]
     },
     "execution_count": 77,
     "metadata": {},
     "output_type": "execute_result"
    }
   ],
   "source": [
    "26200/255"
   ]
  },
  {
   "cell_type": "code",
   "execution_count": 78,
   "id": "033223bd",
   "metadata": {
    "tags": []
   },
   "outputs": [
    {
     "data": {
      "text/plain": [
       "42.5462962962963"
      ]
     },
     "execution_count": 78,
     "metadata": {},
     "output_type": "execute_result"
    }
   ],
   "source": [
    "9190/216"
   ]
  },
  {
   "cell_type": "code",
   "execution_count": null,
   "id": "a8b51445",
   "metadata": {},
   "outputs": [],
   "source": []
  },
  {
   "cell_type": "code",
   "execution_count": null,
   "id": "5b186377",
   "metadata": {},
   "outputs": [],
   "source": []
  },
  {
   "cell_type": "code",
   "execution_count": null,
   "id": "19a3f7d6",
   "metadata": {
    "tags": []
   },
   "outputs": [],
   "source": [
    "u = np.random.normal(size=A.shape[1])\n",
    "A @ u"
   ]
  },
  {
   "cell_type": "code",
   "execution_count": null,
   "id": "53586157",
   "metadata": {
    "tags": []
   },
   "outputs": [],
   "source": [
    "A = A.to_gpu()"
   ]
  },
  {
   "cell_type": "code",
   "execution_count": null,
   "id": "3ad772bc",
   "metadata": {
    "tags": []
   },
   "outputs": [],
   "source": [
    "u = cp.random.normal(size=A.shape[1])\n",
    "A @ u"
   ]
  },
  {
   "cell_type": "code",
   "execution_count": 328,
   "id": "54bf1104",
   "metadata": {},
   "outputs": [
    {
     "data": {
      "text/plain": [
       "True"
      ]
     },
     "execution_count": 328,
     "metadata": {},
     "output_type": "execute_result"
    }
   ],
   "source": [
    "check_adjoint(A)"
   ]
  },
  {
   "cell_type": "code",
   "execution_count": null,
   "id": "7f85eec6",
   "metadata": {},
   "outputs": [],
   "source": []
  },
  {
   "cell_type": "markdown",
   "id": "685e23ea-eaff-4bc8-a3cd-db06fd59e130",
   "metadata": {},
   "source": [
    "# Oblique projection"
   ]
  },
  {
   "cell_type": "code",
   "execution_count": null,
   "id": "eba658a9-525c-4d37-8a5f-e51c571506b1",
   "metadata": {},
   "outputs": [],
   "source": [
    "# def build_oblique_projection():\n",
    "#     \"\"\"Returns a LinearOperator representing the oblique projector onto a subspace \\mathcal{X} along another subspace \\mathcal{Y}. \n",
    "#     Here \\mathcal{X} and \\mathcal{Y} must intersect trivially. \n",
    "    \n",
    "#     X: a MatrixLinearOperator such that range(X) = \\mathcal{X}.\n",
    "#     Y: a LinearOperator such that \n",
    "#     \"\"\""
   ]
  },
  {
   "cell_type": "code",
   "execution_count": null,
   "id": "72f11d93-d723-4010-b913-80f9d2d8b5b2",
   "metadata": {},
   "outputs": [],
   "source": []
  },
  {
   "cell_type": "code",
   "execution_count": null,
   "id": "3ca7c952-84b5-422a-ba97-7bf5ed0e7ad6",
   "metadata": {},
   "outputs": [],
   "source": []
  },
  {
   "cell_type": "code",
   "execution_count": null,
   "id": "50a43ab0",
   "metadata": {},
   "outputs": [],
   "source": []
  },
  {
   "cell_type": "markdown",
   "id": "252ef222-4504-48ea-bf15-5f61c86ad6e1",
   "metadata": {},
   "source": [
    "# Oblique pseudoinverse operator"
   ]
  },
  {
   "cell_type": "code",
   "execution_count": 87,
   "id": "bc2ce961-bfb3-4bf8-ad59-9dc5d72c5819",
   "metadata": {
    "tags": []
   },
   "outputs": [],
   "source": [
    "def build_oblique_pinv(X, Y, Ypinv, W, XWpinv=None):\n",
    "    \"\"\"Returns a linear operator representing the oblique pseudoinverse relative to X and Y.\n",
    "    The kernels of X and Y must intersect trivially.\n",
    "    \n",
    "    X: a LinearOperator.\n",
    "    Y: another LinearOperator.\n",
    "    Ypinv: a LinearOperator representing the Moore-Penrose pseudoinverse of Y.\n",
    "    W: a MatrixLinearOperator such that col(W) = null(Y).\n",
    "    \n",
    "    \"\"\"\n",
    "    \n",
    "    if XWpinv is None:\n",
    "        XWpinv = QRPinv( X.dot(W.A) )\n",
    "    \n",
    "    n = X.shape[1]\n",
    "    identity = IdentityOperator( (n,n) ) \n",
    "    \n",
    "    oblique_pinv = (identity_op - (W @ (XWpinv @ X ) ) ) @ Ypinv\n",
    "    \n",
    "    return oblique_pinv"
   ]
  },
  {
   "cell_type": "code",
   "execution_count": null,
   "id": "2485e63a-c22a-4bf4-829d-2ab59581e28e",
   "metadata": {},
   "outputs": [],
   "source": []
  },
  {
   "cell_type": "code",
   "execution_count": null,
   "id": "b46b2a99-d9d6-49ef-87ef-ccdc54700d2e",
   "metadata": {},
   "outputs": [],
   "source": []
  },
  {
   "cell_type": "code",
   "execution_count": null,
   "id": "329cdc31-e05b-4598-81d9-bda542678e89",
   "metadata": {},
   "outputs": [],
   "source": []
  },
  {
   "cell_type": "code",
   "execution_count": null,
   "id": "0cbf9654-3430-4ad4-94cd-33142eeffbde",
   "metadata": {},
   "outputs": [],
   "source": []
  },
  {
   "cell_type": "code",
   "execution_count": null,
   "id": "2cbd21d3-f28c-4a53-a4bc-2ea66051ffe0",
   "metadata": {},
   "outputs": [],
   "source": []
  },
  {
   "cell_type": "code",
   "execution_count": null,
   "id": "8ba3416c-6bd1-485a-ade0-0747196bd29a",
   "metadata": {},
   "outputs": [],
   "source": []
  },
  {
   "cell_type": "code",
   "execution_count": null,
   "id": "f627f408-34b7-4747-82c8-8b565b57e5a0",
   "metadata": {},
   "outputs": [],
   "source": []
  },
  {
   "cell_type": "code",
   "execution_count": null,
   "id": "256b51f5-d400-4f79-88a1-98d3a2a59690",
   "metadata": {},
   "outputs": [],
   "source": []
  },
  {
   "cell_type": "code",
   "execution_count": null,
   "id": "6f2547ab-e721-4145-a072-16c6ac0edd08",
   "metadata": {},
   "outputs": [],
   "source": []
  },
  {
   "cell_type": "code",
   "execution_count": null,
   "id": "0354b3c7-18d4-475e-b0da-b0a19701da8e",
   "metadata": {},
   "outputs": [],
   "source": []
  },
  {
   "cell_type": "code",
   "execution_count": null,
   "id": "0bc316cf-604f-4843-b5f9-629f4c875243",
   "metadata": {},
   "outputs": [],
   "source": []
  },
  {
   "cell_type": "markdown",
   "id": "7142a22b",
   "metadata": {},
   "source": [
    "# Old version"
   ]
  },
  {
   "cell_type": "code",
   "execution_count": null,
   "id": "c2f969bd",
   "metadata": {},
   "outputs": [],
   "source": []
  },
  {
   "cell_type": "code",
   "execution_count": null,
   "id": "980f3c76",
   "metadata": {},
   "outputs": [],
   "source": []
  },
  {
   "cell_type": "code",
   "execution_count": null,
   "id": "aa460b4f",
   "metadata": {},
   "outputs": [],
   "source": []
  },
  {
   "cell_type": "code",
   "execution_count": null,
   "id": "6ed75bcb",
   "metadata": {},
   "outputs": [],
   "source": []
  },
  {
   "cell_type": "code",
   "execution_count": null,
   "id": "5a8b0933",
   "metadata": {},
   "outputs": [],
   "source": []
  },
  {
   "cell_type": "code",
   "execution_count": null,
   "id": "c7f8fc7d",
   "metadata": {},
   "outputs": [],
   "source": []
  },
  {
   "cell_type": "code",
   "execution_count": null,
   "id": "eeeac616",
   "metadata": {},
   "outputs": [],
   "source": []
  },
  {
   "cell_type": "code",
   "execution_count": null,
   "id": "cdf766fc",
   "metadata": {},
   "outputs": [],
   "source": []
  },
  {
   "cell_type": "code",
   "execution_count": null,
   "id": "648760dc",
   "metadata": {},
   "outputs": [],
   "source": []
  }
 ],
 "metadata": {
  "environment": {
   "kernel": "conda-env-jlinops-py",
   "name": "workbench-notebooks.m113",
   "type": "gcloud",
   "uri": "gcr.io/deeplearning-platform-release/workbench-notebooks:m113"
  },
  "kernelspec": {
   "display_name": "Python 3 (ipykernel) (Local)",
   "language": "python",
   "name": "conda-env-jlinops-py"
  },
  "language_info": {
   "codemirror_mode": {
    "name": "ipython",
    "version": 3
   },
   "file_extension": ".py",
   "mimetype": "text/x-python",
   "name": "python",
   "nbconvert_exporter": "python",
   "pygments_lexer": "ipython3",
   "version": "3.11.6"
  }
 },
 "nbformat": 4,
 "nbformat_minor": 5
}
