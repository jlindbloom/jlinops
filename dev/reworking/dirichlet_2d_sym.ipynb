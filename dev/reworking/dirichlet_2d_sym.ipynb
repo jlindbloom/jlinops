{
 "cells": [
  {
   "cell_type": "code",
   "execution_count": 1,
   "metadata": {},
   "outputs": [],
   "source": [
    "import numpy as np\n",
    "import matplotlib.pyplot as plt\n",
    "\n",
    "from jlinops import _CustomLinearOperator\n",
    "import jlinops"
   ]
  },
  {
   "cell_type": "code",
   "execution_count": 2,
   "metadata": {},
   "outputs": [],
   "source": [
    "class Dirichlet2DSym(_CustomLinearOperator):\n",
    "    \"\"\"Implements a matrix-free operator R representing the anisotropic discrete gradient of an input vector x\n",
    "    equipped with Dirichlet boundary conditions. The null space of this operator is spanned by the constant vector,\n",
    "    and is symmetrized such that R^T R can be diagonalized using a 2-dimensional DCT.\n",
    "    \"\"\"\n",
    "    def __init__(self, grid_shape, device=\"cpu\"):\n",
    "        \n",
    "        # Handle grid shape\n",
    "        self.grid_shape = grid_shape\n",
    "        m, n = grid_shape\n",
    "        shape = (2*m*n + m + n, m*n)\n",
    "        self.M, self.N = self.grid_shape\n",
    "\n",
    "        if device == \"cpu\":\n",
    "\n",
    "            def matvec(x):\n",
    "\n",
    "                # Reshape the vector into a 2D grid\n",
    "                grid = x.reshape(self.M, self.N)\n",
    "\n",
    "                # Compute the x-derivative\n",
    "                dx = np.zeros((self.M+1, self.N))\n",
    "                dx[1:-1, :] = grid[1:, :] - grid[:-1, :]\n",
    "                dx[-1, :] = - grid[-1,:]\n",
    "                dx[0, :] = grid[0,:]\n",
    "\n",
    "                # Compute the y-derivative\n",
    "                dy = np.zeros((self.M, self.N+1))\n",
    "                dy[:, 1:-1] = grid[:, 1:] - grid[:, :-1]\n",
    "                dy[:, -1] = -grid[:, -1]\n",
    "                dy[:, 0] = grid[:, 0]\n",
    "\n",
    "                # Flatten and combine the derivatives\n",
    "                return np.hstack((dx.ravel(), dy.ravel()))\n",
    "\n",
    "            def rmatvec(y):\n",
    "                \n",
    "                # The length of the x-derivative and y-derivative vectors\n",
    "                len_dx = (self.M + 1) * self.N\n",
    "                len_dy = self.M * (self.N + 1)\n",
    "                \n",
    "                # Extract the derivatives from y\n",
    "                dx = y[:len_dx].reshape((self.M + 1, self.N))\n",
    "                dy = y[len_dx:len_dx + len_dy].reshape((self.M, self.N + 1))\n",
    "                \n",
    "                # Compute the negative divergence from dx and dy\n",
    "                # Initialize divergence grid with zeros\n",
    "                div = np.zeros((self.M, self.N))\n",
    "                \n",
    "                # Compute divergence from the x-derivative\n",
    "                div[:-1, :] -= dx[1:-1, :]\n",
    "                div[1:, :] += dx[1:-1, :]\n",
    "                div[-1, :] -= dx[-1, :]\n",
    "                div[0, :] += dx[0, :]\n",
    "                \n",
    "                # Compute divergence from the y-derivative\n",
    "                div[:, :-1] -= dy[:, 1:-1]\n",
    "                div[:, 1:] += dy[:, 1:-1]\n",
    "                div[:, -1] -= dy[:, -1]\n",
    "                div[:, 0] += dy[:, 0]\n",
    "\n",
    "                # Return the flattened divergence\n",
    "                return div.ravel()\n",
    "\n",
    "        else:\n",
    "    \n",
    "            def matvec(x):\n",
    "\n",
    "                # Reshape the vector into a 2D grid\n",
    "                grid = x.reshape(self.M, self.N)\n",
    "\n",
    "                # Compute the x-derivative\n",
    "                dx = cp.zeros((self.M+1, self.N))\n",
    "                dx[1:-1, :] = grid[1:, :] - grid[:-1, :]\n",
    "                dx[-1, :] = - grid[-1,:]\n",
    "                dx[0, :] = grid[0,:]\n",
    "\n",
    "                # Compute the y-derivative\n",
    "                dy = cp.zeros((self.M, self.N+1))\n",
    "                dy[:, 1:-1] = grid[:, 1:] - grid[:, :-1]\n",
    "                dy[:, -1] = -grid[:, -1]\n",
    "                dy[:, 0] = grid[:, 0]\n",
    "\n",
    "                # Flatten and combine the derivatives\n",
    "                return cp.hstack((dx.ravel(), dy.ravel()))\n",
    "            \n",
    "\n",
    "            def rmatvec(y):\n",
    "                \n",
    "                # The length of the x-derivative and y-derivative vectors\n",
    "                len_dx = (self.M + 1) * self.N\n",
    "                len_dy = self.M * (self.N + 1)\n",
    "                \n",
    "                # Extract the derivatives from y\n",
    "                dx = y[:len_dx].reshape((self.M + 1, self.N))\n",
    "                dy = y[len_dx:len_dx + len_dy].reshape((self.M, self.N + 1))\n",
    "                \n",
    "                # Compute the negative divergence from dx and dy\n",
    "                # Initialize divergence grid with zeros\n",
    "                div = cp.zeros((self.M, self.N))\n",
    "                \n",
    "                # Compute divergence from the x-derivative\n",
    "                div[:-1, :] -= dx[1:-1, :]\n",
    "                div[1:, :] += dx[1:-1, :]\n",
    "                div[-1, :] -= dx[-1, :]\n",
    "                div[0, :] += dx[0, :]\n",
    "                \n",
    "                # Compute divergence from the y-derivative\n",
    "                div[:, :-1] -= dy[:, 1:-1]\n",
    "                div[:, 1:] += dy[:, 1:-1]\n",
    "                div[:, -1] -= dy[:, -1]\n",
    "                div[:, 0] += dy[:, 0]\n",
    "\n",
    "                # Return the flattened divergence\n",
    "                return div.ravel()\n",
    "                \n",
    "\n",
    "        super().__init__(shape, matvec, rmatvec, device=device, dtype=np.float64)\n",
    "\n",
    "\n",
    "    def to_gpu(self):\n",
    "        return Dirichlet2DSym(self.grid_shape, device=\"gpu\")\n",
    "\n",
    "    def to_cpu(self):\n",
    "        return Dirichlet2DSym(self.grid_shape, device=\"cpu\")\n"
   ]
  },
  {
   "cell_type": "code",
   "execution_count": 3,
   "metadata": {},
   "outputs": [],
   "source": [
    "m, n = 3, 5\n",
    "R = Dirichlet2DSym((m,n))"
   ]
  },
  {
   "cell_type": "code",
   "execution_count": 4,
   "metadata": {},
   "outputs": [
    {
     "data": {
      "text/plain": [
       "15"
      ]
     },
     "execution_count": 4,
     "metadata": {},
     "output_type": "execute_result"
    }
   ],
   "source": [
    "3*5"
   ]
  },
  {
   "cell_type": "code",
   "execution_count": 5,
   "metadata": {},
   "outputs": [
    {
     "data": {
      "image/png": "[encoded data removed]",
      "text/plain": [
       "<Figure size 640x480 with 1 Axes>"
      ]
     },
     "metadata": {},
     "output_type": "display_data"
    }
   ],
   "source": [
    "plt.imshow( jlinops.black_box_to_dense(R) )\n",
    "plt.show()"
   ]
  },
  {
   "cell_type": "code",
   "execution_count": 6,
   "metadata": {},
   "outputs": [
    {
     "data": {
      "image/png": "[encoded data removed]",
      "text/plain": [
       "<Figure size 640x480 with 1 Axes>"
      ]
     },
     "metadata": {},
     "output_type": "display_data"
    }
   ],
   "source": [
    "plt.imshow( jlinops.black_box_to_dense(R.T) )\n",
    "plt.show()"
   ]
  },
  {
   "cell_type": "code",
   "execution_count": 7,
   "metadata": {},
   "outputs": [
    {
     "data": {
      "text/plain": [
       "True"
      ]
     },
     "execution_count": 7,
     "metadata": {},
     "output_type": "execute_result"
    }
   ],
   "source": [
    "jlinops.check_adjoint(R)"
   ]
  },
  {
   "cell_type": "code",
   "execution_count": null,
   "metadata": {},
   "outputs": [],
   "source": []
  },
  {
   "cell_type": "code",
   "execution_count": 8,
   "metadata": {},
   "outputs": [
    {
     "data": {
      "image/png": "[encoded data removed]",
      "text/plain": [
       "<Figure size 640x480 with 1 Axes>"
      ]
     },
     "metadata": {},
     "output_type": "display_data"
    }
   ],
   "source": [
    "plt.imshow( jlinops.black_box_to_dense(R.T @ R) )\n",
    "plt.show()"
   ]
  },
  {
   "cell_type": "code",
   "execution_count": 15,
   "metadata": {},
   "outputs": [
    {
     "name": "stderr",
     "output_type": "stream",
     "text": [
      "/Users/jonathanlindbloom/opt/miniconda3/envs/jlinops/lib/python3.11/site-packages/scipy/sparse/_index.py:100: SparseEfficiencyWarning: Changing the sparsity structure of a csc_matrix is expensive. lil_matrix is more efficient.\n",
      "  self._set_intXint(row, col, x.flat[0])\n"
     ]
    }
   ],
   "source": [
    "Rmat = jlinops.build_dirichlet2dsym_sparse_matrix((m,n))\n",
    "Rmat = Rmat.toarray()"
   ]
  },
  {
   "cell_type": "code",
   "execution_count": 16,
   "metadata": {},
   "outputs": [
    {
     "data": {
      "image/png": "[encoded data removed]",
      "text/plain": [
       "<Figure size 640x480 with 1 Axes>"
      ]
     },
     "metadata": {},
     "output_type": "display_data"
    }
   ],
   "source": [
    "plt.imshow(Rmat)\n",
    "plt.show()"
   ]
  },
  {
   "cell_type": "code",
   "execution_count": null,
   "metadata": {},
   "outputs": [],
   "source": []
  }
 ],
 "metadata": {
  "kernelspec": {
   "display_name": "jlinops",
   "language": "python",
   "name": "python3"
  },
  "language_info": {
   "codemirror_mode": {
    "name": "ipython",
    "version": 3
   },
   "file_extension": ".py",
   "mimetype": "text/x-python",
   "name": "python",
   "nbconvert_exporter": "python",
   "pygments_lexer": "ipython3",
   "version": "3.11.6"
  }
 },
 "nbformat": 4,
 "nbformat_minor": 2
}
