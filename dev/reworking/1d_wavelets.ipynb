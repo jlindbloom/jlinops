{
 "cells": [
  {
   "cell_type": "code",
   "execution_count": 72,
   "metadata": {},
   "outputs": [],
   "source": [
    "import numpy as np\n",
    "import matplotlib.pyplot as plt\n",
    "\n",
    "import pywt\n",
    "\n",
    "from jlinops import _CustomLinearOperator\n",
    "import jlinops"
   ]
  },
  {
   "cell_type": "code",
   "execution_count": 151,
   "metadata": {},
   "outputs": [],
   "source": [
    "class Wavelet1DOperator(_CustomLinearOperator):\n",
    "    \"\"\"Represents a 1D wavelet operator extracting both approximation and detail coefficients.\n",
    "    Can only handle even-shaped inputs for now.\n",
    "    \"\"\"\n",
    "    def __init__(self, in_shape, wavelet='db1', mode='symmetric'):\n",
    "        \n",
    "        self.wavelet = wavelet\n",
    "        self.mode = mode\n",
    "        device = \"cpu\"\n",
    "        \n",
    "\n",
    "        def _matvec(x):\n",
    "\n",
    "            # Perform forward wavelet transform\n",
    "            cA, cD = pywt.dwt(x, \"db1\")\n",
    "\n",
    "            # Flatten the coefficients\n",
    "            return np.hstack([cA, cD])\n",
    "        \n",
    "        out_shape = len(_matvec(np.ones(in_shape)))\n",
    "        coeff_len = pywt.dwt_coeff_len(in_shape, pywt.Wavelet(self.wavelet), mode=self.mode)\n",
    "        print(out_shape)\n",
    "        \n",
    "        def _rmatvec(x):\n",
    "\n",
    "            cA, cD = x[:coeff_len], x[coeff_len:]\n",
    "\n",
    "            return pywt.idwt(cA, cD, wavelet=self.wavelet, mode=self.mode)\n",
    "\n",
    "        \n",
    "        shape = (out_shape, in_shape)\n",
    "\n",
    "            \n",
    "        super().__init__( shape, _matvec, _rmatvec, device=device, dtype=np.float64)"
   ]
  },
  {
   "cell_type": "code",
   "execution_count": 152,
   "metadata": {},
   "outputs": [
    {
     "name": "stdout",
     "output_type": "stream",
     "text": [
      "10\n"
     ]
    }
   ],
   "source": [
    "W = Wavelet1DOperator(10, wavelet='db1', mode='periodization')"
   ]
  },
  {
   "cell_type": "code",
   "execution_count": 154,
   "metadata": {},
   "outputs": [
    {
     "data": {
      "text/plain": [
       "array([1., 1., 1., 1., 1., 1., 1., 1., 1., 1.])"
      ]
     },
     "execution_count": 154,
     "metadata": {},
     "output_type": "execute_result"
    }
   ],
   "source": [
    "W.rmatvec( W @ np.ones(10) )"
   ]
  },
  {
   "cell_type": "code",
   "execution_count": 155,
   "metadata": {},
   "outputs": [
    {
     "data": {
      "text/plain": [
       "True"
      ]
     },
     "execution_count": 155,
     "metadata": {},
     "output_type": "execute_result"
    }
   ],
   "source": [
    "jlinops.check_adjoint(W)"
   ]
  },
  {
   "cell_type": "code",
   "execution_count": 163,
   "metadata": {},
   "outputs": [
    {
     "name": "stdout",
     "output_type": "stream",
     "text": [
      "100\n"
     ]
    }
   ],
   "source": [
    "W = Wavelet1DOperator(100, wavelet='db1', mode='periodization')"
   ]
  },
  {
   "cell_type": "code",
   "execution_count": 164,
   "metadata": {},
   "outputs": [
    {
     "data": {
      "image/png": "[encoded data removed]",
      "text/plain": [
       "<Figure size 640x480 with 1 Axes>"
      ]
     },
     "metadata": {},
     "output_type": "display_data"
    }
   ],
   "source": [
    "z = np.zeros(100)\n",
    "z[25:] += 3\n",
    "z[50:] += 5\n",
    "z[75:] -= 6\n",
    "\n",
    "plt.plot(z)\n",
    "plt.show()"
   ]
  },
  {
   "cell_type": "code",
   "execution_count": 165,
   "metadata": {},
   "outputs": [
    {
     "data": {
      "text/plain": [
       "array([ 0.        ,  0.        ,  0.        ,  0.        ,  0.        ,\n",
       "        0.        ,  0.        ,  0.        ,  0.        ,  0.        ,\n",
       "        0.        ,  0.        ,  2.12132034,  4.24264069,  4.24264069,\n",
       "        4.24264069,  4.24264069,  4.24264069,  4.24264069,  4.24264069,\n",
       "        4.24264069,  4.24264069,  4.24264069,  4.24264069,  4.24264069,\n",
       "       11.3137085 , 11.3137085 , 11.3137085 , 11.3137085 , 11.3137085 ,\n",
       "       11.3137085 , 11.3137085 , 11.3137085 , 11.3137085 , 11.3137085 ,\n",
       "       11.3137085 , 11.3137085 ,  7.07106781,  2.82842712,  2.82842712,\n",
       "        2.82842712,  2.82842712,  2.82842712,  2.82842712,  2.82842712,\n",
       "        2.82842712,  2.82842712,  2.82842712,  2.82842712,  2.82842712,\n",
       "        0.        ,  0.        ,  0.        ,  0.        ,  0.        ,\n",
       "        0.        ,  0.        ,  0.        ,  0.        ,  0.        ,\n",
       "        0.        ,  0.        , -2.12132034,  0.        ,  0.        ,\n",
       "        0.        ,  0.        ,  0.        ,  0.        ,  0.        ,\n",
       "        0.        ,  0.        ,  0.        ,  0.        ,  0.        ,\n",
       "        0.        ,  0.        ,  0.        ,  0.        ,  0.        ,\n",
       "        0.        ,  0.        ,  0.        ,  0.        ,  0.        ,\n",
       "        0.        ,  0.        ,  4.24264069,  0.        ,  0.        ,\n",
       "        0.        ,  0.        ,  0.        ,  0.        ,  0.        ,\n",
       "        0.        ,  0.        ,  0.        ,  0.        ,  0.        ])"
      ]
     },
     "execution_count": 165,
     "metadata": {},
     "output_type": "execute_result"
    }
   ],
   "source": [
    "W @ z"
   ]
  },
  {
   "cell_type": "markdown",
   "metadata": {},
   "source": [
    "# Now just the detail coefficients"
   ]
  },
  {
   "cell_type": "code",
   "execution_count": 156,
   "metadata": {},
   "outputs": [],
   "source": [
    "class WaveletDetail1DOperator(_CustomLinearOperator):\n",
    "    \"\"\"Represents a 1D wavelet operator extracting only the detail coefficients.\n",
    "    Can only handle even-shaped inputs for now.\n",
    "    \"\"\"\n",
    "\n",
    "    def __init__(self, in_shape, wavelet='db1', mode='symmetric'):\n",
    "        \n",
    "        self.wavelet = wavelet\n",
    "        self.mode = mode\n",
    "        device = \"cpu\"\n",
    "        \n",
    "\n",
    "        def _matvec(x):\n",
    "\n",
    "            # Perform forward wavelet transform\n",
    "            cA, cD = pywt.dwt(x, \"db1\")\n",
    "\n",
    "            # Flatten the coefficients\n",
    "            return cD\n",
    "        \n",
    "        out_shape = len(_matvec(np.ones(in_shape)))\n",
    "        \n",
    "        def _rmatvec(x):\n",
    "\n",
    "\n",
    "            return pywt.idwt(None, x, wavelet=self.wavelet, mode=self.mode)\n",
    "\n",
    "        \n",
    "        shape = (out_shape, in_shape)\n",
    "\n",
    "            \n",
    "        super().__init__( shape, _matvec, _rmatvec, device=device, dtype=np.float64)"
   ]
  },
  {
   "cell_type": "code",
   "execution_count": 157,
   "metadata": {},
   "outputs": [],
   "source": [
    "W = WaveletDetail1DOperator(10, wavelet='db1', mode='periodization')"
   ]
  },
  {
   "cell_type": "code",
   "execution_count": 158,
   "metadata": {},
   "outputs": [
    {
     "data": {
      "text/plain": [
       "array([0., 0., 0., 0., 0., 0., 0., 0., 0., 0.])"
      ]
     },
     "execution_count": 158,
     "metadata": {},
     "output_type": "execute_result"
    }
   ],
   "source": [
    "W.rmatvec( W @ np.ones(10) )"
   ]
  },
  {
   "cell_type": "code",
   "execution_count": 159,
   "metadata": {},
   "outputs": [
    {
     "data": {
      "text/plain": [
       "True"
      ]
     },
     "execution_count": 159,
     "metadata": {},
     "output_type": "execute_result"
    }
   ],
   "source": [
    "jlinops.check_adjoint(W)"
   ]
  },
  {
   "cell_type": "code",
   "execution_count": 160,
   "metadata": {},
   "outputs": [
    {
     "data": {
      "image/png": "[encoded data removed]",
      "text/plain": [
       "<Figure size 640x480 with 1 Axes>"
      ]
     },
     "metadata": {},
     "output_type": "display_data"
    }
   ],
   "source": [
    "z = np.zeros(100)\n",
    "z[25:] += 3\n",
    "z[50:] += 5\n",
    "z[75:] -= 6\n",
    "\n",
    "plt.plot(z)\n",
    "plt.show()"
   ]
  },
  {
   "cell_type": "code",
   "execution_count": 149,
   "metadata": {},
   "outputs": [],
   "source": [
    "W = WaveletDetail1DOperator(100, wavelet='db1', mode='periodization')"
   ]
  },
  {
   "cell_type": "code",
   "execution_count": 150,
   "metadata": {},
   "outputs": [
    {
     "data": {
      "text/plain": [
       "array([ 0.        ,  0.        ,  0.        ,  0.        ,  0.        ,\n",
       "        0.        ,  0.        ,  0.        ,  0.        ,  0.        ,\n",
       "        0.        ,  0.        , -2.12132034,  0.        ,  0.        ,\n",
       "        0.        ,  0.        ,  0.        ,  0.        ,  0.        ,\n",
       "        0.        ,  0.        ,  0.        ,  0.        ,  0.        ,\n",
       "        0.        ,  0.        ,  0.        ,  0.        ,  0.        ,\n",
       "        0.        ,  0.        ,  0.        ,  0.        ,  0.        ,\n",
       "        0.        ,  0.        ,  4.24264069,  0.        ,  0.        ,\n",
       "        0.        ,  0.        ,  0.        ,  0.        ,  0.        ,\n",
       "        0.        ,  0.        ,  0.        ,  0.        ,  0.        ])"
      ]
     },
     "execution_count": 150,
     "metadata": {},
     "output_type": "execute_result"
    }
   ],
   "source": [
    "W @ z"
   ]
  },
  {
   "cell_type": "code",
   "execution_count": null,
   "metadata": {},
   "outputs": [],
   "source": []
  },
  {
   "cell_type": "code",
   "execution_count": null,
   "metadata": {},
   "outputs": [],
   "source": []
  },
  {
   "cell_type": "markdown",
   "metadata": {},
   "source": [
    "# Multilevel 1D?"
   ]
  },
  {
   "cell_type": "code",
   "execution_count": null,
   "metadata": {},
   "outputs": [],
   "source": []
  },
  {
   "cell_type": "code",
   "execution_count": null,
   "metadata": {},
   "outputs": [],
   "source": []
  },
  {
   "cell_type": "code",
   "execution_count": null,
   "metadata": {},
   "outputs": [],
   "source": []
  },
  {
   "cell_type": "code",
   "execution_count": null,
   "metadata": {},
   "outputs": [],
   "source": []
  },
  {
   "cell_type": "code",
   "execution_count": null,
   "metadata": {},
   "outputs": [],
   "source": []
  }
 ],
 "metadata": {
  "kernelspec": {
   "display_name": "jlinops",
   "language": "python",
   "name": "python3"
  },
  "language_info": {
   "codemirror_mode": {
    "name": "ipython",
    "version": 3
   },
   "file_extension": ".py",
   "mimetype": "text/x-python",
   "name": "python",
   "nbconvert_exporter": "python",
   "pygments_lexer": "ipython3",
   "version": "3.11.6"
  }
 },
 "nbformat": 4,
 "nbformat_minor": 2
}
