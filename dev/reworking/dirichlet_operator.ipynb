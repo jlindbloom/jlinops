{
 "cells": [
  {
   "cell_type": "code",
   "execution_count": 16,
   "metadata": {},
   "outputs": [],
   "source": [
    "import numpy as np\n",
    "import matplotlib.pyplot as plt\n",
    "\n",
    "from jlinops import _CustomLinearOperator\n",
    "import jlinops"
   ]
  },
  {
   "cell_type": "code",
   "execution_count": 17,
   "metadata": {},
   "outputs": [],
   "source": [
    "class Dirichlet2D(_CustomLinearOperator):\n",
    "    \"\"\"Implements a matrix-free operator R representing the anisotropic discrete gradient of an input vector x\n",
    "    equipped with Neumann boundary conditions. The null space of this operator is spanned by the constant vector,\n",
    "    and is such that R^T R can be diagonalized using a 2-dimensional DCT.\n",
    "    \"\"\"\n",
    "    def __init__(self, grid_shape, device=\"cpu\"):\n",
    "        \n",
    "        # Handle grid shape\n",
    "        self.grid_shape = grid_shape\n",
    "        m, n = grid_shape\n",
    "        shape = (2*m*n, m*n)\n",
    "        self.M, self.N = self.grid_shape\n",
    "\n",
    "        if device == \"cpu\":\n",
    "\n",
    "            def matvec(x):\n",
    "                # Reshape the vector into a 2D grid\n",
    "                grid = x.reshape(self.M, self.N)\n",
    "\n",
    "                # Compute the x-derivative\n",
    "                dx = np.zeros_like(grid)\n",
    "                dx[:-1, :] = grid[1:, :] - grid[:-1, :]\n",
    "                dx[-1, :] = -grid[-1,:]\n",
    "\n",
    "                # Compute the y-derivative\n",
    "                dy = np.zeros_like(grid)\n",
    "                dy[:, :-1] = grid[:, 1:] - grid[:, :-1]\n",
    "                dy[:, -1] = -grid[:, -1]\n",
    "\n",
    "                # Flatten and combine the derivatives\n",
    "                return np.hstack((dx.ravel(), dy.ravel()))\n",
    "\n",
    "            def rmatvec(y):\n",
    "                # Reshape the vector into two 2D grids for dx and dy\n",
    "                dx, dy = np.split(y, 2)\n",
    "                dx = dx.reshape(self.M, self.N)\n",
    "                dy = dy.reshape(self.M, self.N)\n",
    "\n",
    "                # Compute the transpose operations with sign correction\n",
    "                dxt = np.zeros_like(dx)\n",
    "                dyt = np.zeros_like(dy)\n",
    "\n",
    "                # Transpose operation for x-derivative\n",
    "                dxt[1:, :] -= dx[:-1, :]\n",
    "                dxt[:, :] += dx[:, :]\n",
    "\n",
    "                # Transpose operation for y-derivative\n",
    "                dyt[:, 1:] -= dy[:, :-1]\n",
    "                dyt[:, :] += dy[:, :]\n",
    "\n",
    "\n",
    "                # Combine, flatten, and apply sign correction\n",
    "                return -(dxt + dyt).ravel()\n",
    "\n",
    "        else:\n",
    "    \n",
    "            def matvec(x):\n",
    "                # Reshape the vector into a 2D grid\n",
    "                grid = x.reshape(self.M, self.N)\n",
    "\n",
    "                # Compute the x-derivative\n",
    "                dx = cp.zeros_like(grid)\n",
    "                dx[:-1, :] = grid[1:, :] - grid[:-1, :]\n",
    "                dx[-1, :] = -grid[-1,:]\n",
    "\n",
    "                # Compute the y-derivative\n",
    "                dy = np.zeros_like(grid)\n",
    "                dy[:, :-1] = grid[:, 1:] - grid[:, :-1]\n",
    "                dy[:, -1] = -grid[:, -1]\n",
    "\n",
    "                # Flatten and combine the derivatives\n",
    "                return cp.hstack((dx.ravel(), dy.ravel()))\n",
    "\n",
    "            def rmatvec(y):\n",
    "                # Reshape the vector into two 2D grids for dx and dy\n",
    "                dx, dy = cp.split(y, 2)\n",
    "                dx = dx.reshape(self.M, self.N)\n",
    "                dy = dy.reshape(self.M, self.N)\n",
    "\n",
    "                # Compute the transpose operations with sign correction\n",
    "                dxt = cp.zeros_like(dx)\n",
    "                dyt = cp.zeros_like(dy)\n",
    "\n",
    "                # Transpose operation for x-derivative\n",
    "                dxt[1:, :] -= dx[:-1, :]\n",
    "                dxt[:, :] += dx[:, :]\n",
    "\n",
    "                # Transpose operation for y-derivative\n",
    "                dyt[:, 1:] -= dy[:, :-1]\n",
    "                dyt[:, :] += dy[:, :]\n",
    "\n",
    "                # Combine, flatten, and apply sign correction\n",
    "                return -(dxt + dyt).ravel()\n",
    "\n",
    "\n",
    "        super().__init__(shape, matvec, rmatvec, device=device)\n",
    "\n",
    "\n",
    "    def to_gpu(self):\n",
    "        return Dirichlet2D(self.grid_shape, device=\"gpu\")\n",
    "\n",
    "    def to_cpu(self):\n",
    "        return Dirichlet2D(self.grid_shape, device=\"cpu\")\n",
    "\n"
   ]
  },
  {
   "cell_type": "code",
   "execution_count": 18,
   "metadata": {},
   "outputs": [],
   "source": [
    "R = Dirichlet2D((4,5))"
   ]
  },
  {
   "cell_type": "code",
   "execution_count": 19,
   "metadata": {},
   "outputs": [
    {
     "data": {
      "text/plain": [
       "True"
      ]
     },
     "execution_count": 19,
     "metadata": {},
     "output_type": "execute_result"
    }
   ],
   "source": [
    "jlinops.check_adjoint(R)"
   ]
  },
  {
   "cell_type": "code",
   "execution_count": null,
   "metadata": {},
   "outputs": [],
   "source": []
  },
  {
   "cell_type": "code",
   "execution_count": 1,
   "metadata": {},
   "outputs": [],
   "source": [
    "from jlinops import Dirichlet2D"
   ]
  },
  {
   "cell_type": "code",
   "execution_count": null,
   "metadata": {},
   "outputs": [],
   "source": []
  }
 ],
 "metadata": {
  "kernelspec": {
   "display_name": "jlinops",
   "language": "python",
   "name": "python3"
  },
  "language_info": {
   "codemirror_mode": {
    "name": "ipython",
    "version": 3
   },
   "file_extension": ".py",
   "mimetype": "text/x-python",
   "name": "python",
   "nbconvert_exporter": "python",
   "pygments_lexer": "ipython3",
   "version": "3.11.6"
  }
 },
 "nbformat": 4,
 "nbformat_minor": 2
}
