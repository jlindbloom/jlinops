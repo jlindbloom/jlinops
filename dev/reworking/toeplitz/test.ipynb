{
 "cells": [
  {
   "cell_type": "code",
   "execution_count": 3,
   "metadata": {},
   "outputs": [],
   "source": [
    "import numpy as np\n",
    "import matplotlib.pyplot as plt\n",
    "\n",
    "from scipy.linalg import toeplitz, circulant, dft\n",
    "\n",
    "\n",
    "import jlinops"
   ]
  },
  {
   "cell_type": "code",
   "execution_count": 4,
   "metadata": {},
   "outputs": [],
   "source": [
    "\n",
    "def generate_random_toeplitz(n):\n",
    "    \"\"\" Generate a random Toeplitz matrix of size n x n. \"\"\"\n",
    "    c = np.random.rand(n)  # First column\n",
    "    r = np.random.rand(n)  # First row\n",
    "    r[0] = c[0]  # The first element of both should be the same\n",
    "    return toeplitz(c, r)\n",
    "\n",
    "def diagonalize_with_dft(matrix):\n",
    "    \"\"\" Diagonalize a Toeplitz matrix using DFT. \"\"\"\n",
    "    n = matrix.shape[0]\n",
    "    # Embedding Toeplitz matrix into a circulant matrix\n",
    "    first_col = np.r_[matrix[:,0], matrix[-1:0:-1,0]]\n",
    "    circ_matrix = circulant(first_col)\n",
    "\n",
    "    # DFT matrix\n",
    "    dft_matrix = dft(n, scale='sqrtn')\n",
    "    \n",
    "    # Diagonalizing the circulant matrix\n",
    "    diagonalized_matrix = np.dot(np.dot(np.conj(dft_matrix), circ_matrix), dft_matrix)\n",
    "    \n",
    "    return diagonalized_matrix\n"
   ]
  },
  {
   "cell_type": "code",
   "execution_count": 5,
   "metadata": {},
   "outputs": [
    {
     "ename": "ValueError",
     "evalue": "shapes (5,5) and (9,9) not aligned: 5 (dim 1) != 9 (dim 0)",
     "output_type": "error",
     "traceback": [
      "\u001b[0;31m---------------------------------------------------------------------------\u001b[0m",
      "\u001b[0;31mValueError\u001b[0m                                Traceback (most recent call last)",
      "Cell \u001b[0;32mIn[5], line 6\u001b[0m\n\u001b[1;32m      3\u001b[0m toeplitz_matrix \u001b[38;5;241m=\u001b[39m generate_random_toeplitz(n)\n\u001b[1;32m      5\u001b[0m \u001b[38;5;66;03m# Diagonalize the Toeplitz matrix using DFT\u001b[39;00m\n\u001b[0;32m----> 6\u001b[0m diagonalized_matrix \u001b[38;5;241m=\u001b[39m \u001b[43mdiagonalize_with_dft\u001b[49m\u001b[43m(\u001b[49m\u001b[43mtoeplitz_matrix\u001b[49m\u001b[43m)\u001b[49m\n\u001b[1;32m      8\u001b[0m toeplitz_matrix, diagonalized_matrix\n",
      "Cell \u001b[0;32mIn[4], line 19\u001b[0m, in \u001b[0;36mdiagonalize_with_dft\u001b[0;34m(matrix)\u001b[0m\n\u001b[1;32m     16\u001b[0m dft_matrix \u001b[38;5;241m=\u001b[39m dft(n, scale\u001b[38;5;241m=\u001b[39m\u001b[38;5;124m'\u001b[39m\u001b[38;5;124msqrtn\u001b[39m\u001b[38;5;124m'\u001b[39m)\n\u001b[1;32m     18\u001b[0m \u001b[38;5;66;03m# Diagonalizing the circulant matrix\u001b[39;00m\n\u001b[0;32m---> 19\u001b[0m diagonalized_matrix \u001b[38;5;241m=\u001b[39m np\u001b[38;5;241m.\u001b[39mdot(\u001b[43mnp\u001b[49m\u001b[38;5;241;43m.\u001b[39;49m\u001b[43mdot\u001b[49m\u001b[43m(\u001b[49m\u001b[43mnp\u001b[49m\u001b[38;5;241;43m.\u001b[39;49m\u001b[43mconj\u001b[49m\u001b[43m(\u001b[49m\u001b[43mdft_matrix\u001b[49m\u001b[43m)\u001b[49m\u001b[43m,\u001b[49m\u001b[43m \u001b[49m\u001b[43mcirc_matrix\u001b[49m\u001b[43m)\u001b[49m, dft_matrix)\n\u001b[1;32m     21\u001b[0m \u001b[38;5;28;01mreturn\u001b[39;00m diagonalized_matrix\n",
      "\u001b[0;31mValueError\u001b[0m: shapes (5,5) and (9,9) not aligned: 5 (dim 1) != 9 (dim 0)"
     ]
    }
   ],
   "source": [
    "\n",
    "# Generate a random Toeplitz matrix\n",
    "n = 5  # Size of the matrix\n",
    "toeplitz_matrix = generate_random_toeplitz(n)\n",
    "\n",
    "# Diagonalize the Toeplitz matrix using DFT\n",
    "diagonalized_matrix = diagonalize_with_dft(toeplitz_matrix)\n",
    "\n",
    "toeplitz_matrix, diagonalized_matrix\n"
   ]
  },
  {
   "cell_type": "code",
   "execution_count": null,
   "metadata": {},
   "outputs": [],
   "source": []
  },
  {
   "cell_type": "code",
   "execution_count": null,
   "metadata": {},
   "outputs": [],
   "source": []
  },
  {
   "cell_type": "code",
   "execution_count": null,
   "metadata": {},
   "outputs": [],
   "source": []
  }
 ],
 "metadata": {
  "kernelspec": {
   "display_name": "jlinops",
   "language": "python",
   "name": "python3"
  },
  "language_info": {
   "codemirror_mode": {
    "name": "ipython",
    "version": 3
   },
   "file_extension": ".py",
   "mimetype": "text/x-python",
   "name": "python",
   "nbconvert_exporter": "python",
   "pygments_lexer": "ipython3",
   "version": "3.11.6"
  }
 },
 "nbformat": 4,
 "nbformat_minor": 2
}
