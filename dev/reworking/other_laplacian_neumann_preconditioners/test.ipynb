{
 "cells": [
  {
   "cell_type": "code",
   "execution_count": 1,
   "metadata": {},
   "outputs": [],
   "source": [
    "import numpy as np\n",
    "import matplotlib.pyplot as plt\n",
    "\n",
    "from scipy.sparse.linalg import spilu\n",
    "import scipy.sparse as sps\n",
    "\n",
    "import math\n",
    "\n",
    "import jlinops"
   ]
  },
  {
   "cell_type": "code",
   "execution_count": 2,
   "metadata": {},
   "outputs": [],
   "source": [
    "grid_shape = (13, 4)\n",
    "R = jlinops.Dirichlet2DSym(grid_shape)\n",
    "A = R.T @ R\n",
    "Amat = jlinops.black_box_to_dense(A)"
   ]
  },
  {
   "cell_type": "code",
   "execution_count": 3,
   "metadata": {},
   "outputs": [],
   "source": [
    "\n",
    "\n",
    "def build_neumann2d_sparse_matrix(grid_shape):\n",
    "     \"\"\"Makes a sparse matrix corresponding to the matrix-free Neumann2D operator.\n",
    "     \"\"\"\n",
    "\n",
    "     m, n = grid_shape\n",
    "\n",
    "     Rv, _ = jlinops.first_order_derivative_1d(m, boundary=\"reflexive\")\n",
    "     Rv *= -1.0\n",
    "\n",
    "     Rh, _ = jlinops.first_order_derivative_1d(n, boundary=\"reflexive\")\n",
    "     Rh *= -1.0\n",
    "\n",
    "     \n",
    "\n",
    "     return sps.vstack([sps.kron(Rv, sps.eye(n)), sps.kron(sps.eye(m), Rh) ])\n",
    "\n"
   ]
  },
  {
   "cell_type": "code",
   "execution_count": 4,
   "metadata": {},
   "outputs": [],
   "source": [
    "A = build_neumann2d_sparse_matrix(grid_shape).toarray()\n",
    "A = A.T @ A"
   ]
  },
  {
   "cell_type": "code",
   "execution_count": 5,
   "metadata": {},
   "outputs": [
    {
     "data": {
      "text/plain": [
       "<matplotlib.image.AxesImage at 0x15b4be350>"
      ]
     },
     "execution_count": 5,
     "metadata": {},
     "output_type": "execute_result"
    },
    {
     "data": {
      "image/png": "[encoded data removed]",
      "text/plain": [
       "<Figure size 640x480 with 1 Axes>"
      ]
     },
     "metadata": {},
     "output_type": "display_data"
    }
   ],
   "source": [
    "plt.imshow(A)"
   ]
  },
  {
   "cell_type": "code",
   "execution_count": 6,
   "metadata": {},
   "outputs": [],
   "source": [
    "m, n = grid_shape\n",
    "d = 4*np.ones(math.prod(grid_shape))\n",
    "\n",
    "# Inner 3's\n",
    "d[ n : -n : n ] -= 1\n",
    "d[ 2*n - 1 : -n : n ] -= 1\n",
    "\n",
    "# First and last 2's, and 3's\n",
    "d[0] = 2\n",
    "d[-1] = 2\n",
    "d[n-1] = 2\n",
    "d[-n] = 2\n",
    "d[1:n-1] = 3\n",
    "d[-n+1:-1] = 3"
   ]
  },
  {
   "cell_type": "code",
   "execution_count": 7,
   "metadata": {},
   "outputs": [
    {
     "data": {
      "text/plain": [
       "array([2., 3., 3., 2., 3., 4., 4., 3., 3., 4., 4., 3., 3., 4., 4., 3., 3.,\n",
       "       4., 4., 3., 3., 4., 4., 3., 3., 4., 4., 3., 3., 4., 4., 3., 3., 4.,\n",
       "       4., 3., 3., 4., 4., 3., 3., 4., 4., 3., 3., 4., 4., 3., 2., 3., 3.,\n",
       "       2.])"
      ]
     },
     "execution_count": 7,
     "metadata": {},
     "output_type": "execute_result"
    }
   ],
   "source": [
    "d"
   ]
  },
  {
   "cell_type": "code",
   "execution_count": 8,
   "metadata": {},
   "outputs": [
    {
     "data": {
      "text/plain": [
       "(13, 4)"
      ]
     },
     "execution_count": 8,
     "metadata": {},
     "output_type": "execute_result"
    }
   ],
   "source": [
    "grid_shape"
   ]
  },
  {
   "cell_type": "code",
   "execution_count": 9,
   "metadata": {},
   "outputs": [
    {
     "data": {
      "text/plain": [
       "0.0"
      ]
     },
     "execution_count": 9,
     "metadata": {},
     "output_type": "execute_result"
    }
   ],
   "source": [
    "np.linalg.norm(d - A.diagonal(offset=0))"
   ]
  },
  {
   "cell_type": "code",
   "execution_count": 10,
   "metadata": {},
   "outputs": [
    {
     "data": {
      "text/plain": [
       "numpy.ndarray"
      ]
     },
     "execution_count": 10,
     "metadata": {},
     "output_type": "execute_result"
    }
   ],
   "source": [
    "type(A)"
   ]
  },
  {
   "cell_type": "code",
   "execution_count": 11,
   "metadata": {},
   "outputs": [
    {
     "data": {
      "text/plain": [
       "(13, 4)"
      ]
     },
     "execution_count": 11,
     "metadata": {},
     "output_type": "execute_result"
    }
   ],
   "source": [
    "grid_shape"
   ]
  },
  {
   "cell_type": "code",
   "execution_count": 12,
   "metadata": {},
   "outputs": [
    {
     "data": {
      "text/plain": [
       "(51,)"
      ]
     },
     "execution_count": 12,
     "metadata": {},
     "output_type": "execute_result"
    }
   ],
   "source": [
    "A.diagonal(offset=-1).shape"
   ]
  },
  {
   "cell_type": "code",
   "execution_count": 13,
   "metadata": {},
   "outputs": [
    {
     "data": {
      "text/plain": [
       "array([-1., -1., -1.,  0., -1., -1., -1.,  0., -1., -1., -1.,  0., -1.,\n",
       "       -1., -1.,  0., -1., -1., -1.,  0., -1., -1., -1.,  0., -1., -1.,\n",
       "       -1.,  0., -1., -1., -1.,  0., -1., -1., -1.,  0., -1., -1., -1.,\n",
       "        0., -1., -1., -1.,  0., -1., -1., -1.,  0., -1., -1., -1.])"
      ]
     },
     "execution_count": 13,
     "metadata": {},
     "output_type": "execute_result"
    }
   ],
   "source": [
    "A.diagonal(offset=-1)"
   ]
  },
  {
   "cell_type": "code",
   "execution_count": 14,
   "metadata": {},
   "outputs": [],
   "source": [
    "l = -1*np.ones(math.prod(grid_shape) - 1)\n",
    "l[n-1::n] = 0"
   ]
  },
  {
   "cell_type": "code",
   "execution_count": 15,
   "metadata": {},
   "outputs": [
    {
     "data": {
      "text/plain": [
       "0.0"
      ]
     },
     "execution_count": 15,
     "metadata": {},
     "output_type": "execute_result"
    }
   ],
   "source": [
    "np.linalg.norm( l - A.diagonal(offset=-1))"
   ]
  },
  {
   "cell_type": "markdown",
   "metadata": {},
   "source": [
    "# Function for pseudoinverse"
   ]
  },
  {
   "cell_type": "code",
   "execution_count": 16,
   "metadata": {},
   "outputs": [],
   "source": [
    "from scipy.sparse.linalg import cg as sp_cg\n",
    "from jlinops import _CustomLinearOperator, get_device, Neumann2D, DiagonalOperator"
   ]
  },
  {
   "cell_type": "code",
   "execution_count": 17,
   "metadata": {},
   "outputs": [],
   "source": [
    "from jlinops import get_neumann2d_laplacian_diagonal, get_neumann2d_laplacian_tridiagonal, TridiagInvOperator"
   ]
  },
  {
   "cell_type": "code",
   "execution_count": 18,
   "metadata": {},
   "outputs": [],
   "source": [
    "\n",
    "class CGWeightedNeumann2DSimplePinvOperator(_CustomLinearOperator):\n",
    "    \"\"\"Represents the pseudoinverse (R_w)^\\dagger of a linear operator R_w = D_w R, where\n",
    "    D_w is a diagonal matrix of weights and R is a Neumann2D operator.\n",
    "    Here matvecs/rmatvecs are applied approximately using a preconditioned conjugate\n",
    "    gradient method, where the preconditioner is based on the operator with identity weights. \n",
    "    \"\"\"\n",
    "\n",
    "    def __init__(self, grid_shape, weights, which=\"diagonal\", *args, **kwargs):\n",
    "\n",
    "        assert 2*math.prod(grid_shape) == len(weights), \"Weights incompatible!\"\n",
    "        assert which in [\"diagonal\", \"tridiagonal\"], f\"which must be one of diagonal, tridiagonal.\"\n",
    "        self.weights = weights\n",
    "        self.grid_shape = grid_shape\n",
    "        self.n = math.prod(grid_shape)\n",
    "        # self.warmstart_prev = warmstart_prev\n",
    "        # self.check = check\n",
    "        self.which = which\n",
    "        self.args = args\n",
    "        self.kwargs = kwargs\n",
    "        \n",
    "        # Figure out device\n",
    "        self.device = get_device(weights)\n",
    "\n",
    "        # Build R and R_w\n",
    "        self.R = Neumann2D(grid_shape, device=self.device)\n",
    "        self.m = self.R.shape[0]\n",
    "        self.RtR = self.R.T @ self.R\n",
    "        self.Dw = DiagonalOperator(weights)\n",
    "        self.Rw = self.Dw @ self.R\n",
    "        self.C = self.Rw.T @ self.Rw\n",
    "        \n",
    "\n",
    "        # Set up preconditioning operator\n",
    "        if self.which == \"diagonal\":\n",
    "\n",
    "            # Get diagonal\n",
    "            d = get_neumann2d_laplacian_diagonal(self.grid_shape)\n",
    "            M = DiagonalOperator(1.0/d)\n",
    "\n",
    "        elif self.which == \"tridiagonal\":\n",
    "            \n",
    "            l, d, u = get_neumann2d_laplacian_tridiagonal(self.grid_shape)\n",
    "            M = TridiagInvOperator(l, d, u)\n",
    "\n",
    "        else:\n",
    "\n",
    "            raise NotImplementedError\n",
    "\n",
    "        def _matvec(x):\n",
    "\n",
    "            tmp = self.Rw.rmatvec(x)\n",
    "            sol, converged = sp_cg( self.C, tmp, x0=None, M=M, *args, **kwargs) \n",
    "            \n",
    "            return sol\n",
    "        \n",
    "        def _rmatvec(x):\n",
    "\n",
    "            sol, converged = sp_cg( self.C, x, x0=None, M=M, *args, **kwargs) \n",
    "            tmp = self.Rw.matvec(sol)\n",
    "\n",
    "            return tmp\n",
    "\n",
    "        \n",
    "        super().__init__( (self.n, self.m), _matvec, _matvec, dtype=np.float64, device=\"cpu\")\n",
    "\n",
    "    def to_gpu(self):\n",
    "        return CGWeightedNeumann2DSimplePinvOperator( self.grid_shape, cp.asarray(self.weights), which=self.which, *self.args, **self.kwargs)\n",
    "    \n",
    "    def to_cpu(self):\n",
    "        return CGWeightedNeumann2DSimplePinvOperator( self.grid_shape, cp.asnumpy(self.weights), which=self.which, *self.args, **self.kwargs)\n",
    "    "
   ]
  },
  {
   "cell_type": "code",
   "execution_count": 26,
   "metadata": {},
   "outputs": [],
   "source": [
    "grid_shape = (6, 10)\n",
    "_R = jlinops.Neumann2D(grid_shape)\n",
    "weights = np.random.uniform(low=1, high=10, size=_R.shape[0])\n",
    "A1 = CGWeightedNeumann2DSimplePinvOperator(grid_shape, weights, which=\"diagonal\")\n",
    "A2 = CGWeightedNeumann2DSimplePinvOperator(grid_shape, weights, which=\"tridiagonal\")"
   ]
  },
  {
   "cell_type": "code",
   "execution_count": 28,
   "metadata": {},
   "outputs": [
    {
     "data": {
      "text/plain": [
       "(60, 120)"
      ]
     },
     "execution_count": 28,
     "metadata": {},
     "output_type": "execute_result"
    }
   ],
   "source": [
    "A1.shape"
   ]
  },
  {
   "cell_type": "code",
   "execution_count": 29,
   "metadata": {},
   "outputs": [],
   "source": [
    "z = np.random.normal(size=120)"
   ]
  },
  {
   "cell_type": "code",
   "execution_count": 30,
   "metadata": {},
   "outputs": [
    {
     "data": {
      "text/plain": [
       "array([-0.03428843, -0.01396831, -0.16516632, -0.42161132, -0.06622109,\n",
       "       -0.10274543, -0.06372215,  0.41459025,  0.44989874,  0.16103319,\n",
       "       -0.08570459, -0.13767873, -0.36112004, -0.34897882, -0.01973881,\n",
       "        0.2071232 ,  0.42003003,  0.37823228,  0.26757992,  0.05673395,\n",
       "        0.01614987, -0.03448938,  0.0149646 , -0.09954554, -0.11129278,\n",
       "        0.10461939,  0.1568005 ,  0.25165027,  0.0254564 , -0.11114506,\n",
       "       -0.17856891, -0.04746322, -0.07494091, -0.16827746,  0.05517746,\n",
       "        0.08445815, -0.10541397, -0.14555103,  0.17760886,  0.04998357,\n",
       "       -0.14654132,  0.03552151, -0.15588871, -0.20056217, -0.08626065,\n",
       "       -0.12817719, -0.17940903, -0.13846776,  0.22303181,  0.14132623,\n",
       "        0.44308697,  0.16607455,  0.0412746 ,  0.13253282,  0.04184024,\n",
       "       -0.14589722, -0.16794039, -0.07924727,  0.02644949,  0.02960951])"
      ]
     },
     "execution_count": 30,
     "metadata": {},
     "output_type": "execute_result"
    }
   ],
   "source": [
    "A1 @ z"
   ]
  },
  {
   "cell_type": "code",
   "execution_count": 31,
   "metadata": {},
   "outputs": [
    {
     "data": {
      "text/plain": [
       "array([-0.03276693, -0.01244808, -0.16364642, -0.42009739, -0.06469776,\n",
       "       -0.10122262, -0.06220136,  0.41611148,  0.45142074,  0.16255496,\n",
       "       -0.08418396, -0.13615955, -0.35960013, -0.34745878, -0.01821758,\n",
       "        0.20864454,  0.42154801,  0.37975401,  0.26909867,  0.05825598,\n",
       "        0.01766964, -0.03296815,  0.01648683, -0.09802546, -0.10977258,\n",
       "        0.10613999,  0.15832099,  0.25317054,  0.02697373, -0.10962967,\n",
       "       -0.17704879, -0.04594356, -0.07342107, -0.16675769,  0.05669792,\n",
       "        0.0859783 , -0.10389482, -0.14403231,  0.17912145,  0.05149743,\n",
       "       -0.14502041,  0.03704099, -0.15437157, -0.19904619, -0.08474082,\n",
       "       -0.12665509, -0.17788833, -0.13694704,  0.22454833,  0.14284324,\n",
       "        0.44460578,  0.16759342,  0.04279161,  0.13404896,  0.04335864,\n",
       "       -0.1443716 , -0.1664154 , -0.07772731,  0.02796748,  0.03112778])"
      ]
     },
     "execution_count": 31,
     "metadata": {},
     "output_type": "execute_result"
    }
   ],
   "source": [
    "A2 @ z"
   ]
  },
  {
   "cell_type": "code",
   "execution_count": null,
   "metadata": {},
   "outputs": [],
   "source": []
  },
  {
   "cell_type": "code",
   "execution_count": null,
   "metadata": {},
   "outputs": [],
   "source": []
  },
  {
   "cell_type": "code",
   "execution_count": null,
   "metadata": {},
   "outputs": [],
   "source": []
  },
  {
   "cell_type": "code",
   "execution_count": null,
   "metadata": {},
   "outputs": [],
   "source": []
  },
  {
   "cell_type": "code",
   "execution_count": null,
   "metadata": {},
   "outputs": [],
   "source": []
  },
  {
   "cell_type": "code",
   "execution_count": null,
   "metadata": {},
   "outputs": [],
   "source": []
  },
  {
   "cell_type": "code",
   "execution_count": null,
   "metadata": {},
   "outputs": [],
   "source": []
  },
  {
   "cell_type": "code",
   "execution_count": null,
   "metadata": {},
   "outputs": [],
   "source": []
  },
  {
   "cell_type": "code",
   "execution_count": null,
   "metadata": {},
   "outputs": [],
   "source": []
  },
  {
   "cell_type": "code",
   "execution_count": 34,
   "metadata": {},
   "outputs": [
    {
     "ename": "ImportError",
     "evalue": "cannot import name 'sp_solve_banded' from 'scipy.linalg' (/Users/jonathanlindbloom/opt/miniconda3/envs/jlinops/lib/python3.11/site-packages/scipy/linalg/__init__.py)",
     "output_type": "error",
     "traceback": [
      "\u001b[0;31m---------------------------------------------------------------------------\u001b[0m",
      "\u001b[0;31mImportError\u001b[0m                               Traceback (most recent call last)",
      "Cell \u001b[0;32mIn[34], line 1\u001b[0m\n\u001b[0;32m----> 1\u001b[0m \u001b[38;5;28;01mfrom\u001b[39;00m \u001b[38;5;21;01mscipy\u001b[39;00m\u001b[38;5;21;01m.\u001b[39;00m\u001b[38;5;21;01mlinalg\u001b[39;00m \u001b[38;5;28;01mimport\u001b[39;00m sp_solve_banded\n",
      "\u001b[0;31mImportError\u001b[0m: cannot import name 'sp_solve_banded' from 'scipy.linalg' (/Users/jonathanlindbloom/opt/miniconda3/envs/jlinops/lib/python3.11/site-packages/scipy/linalg/__init__.py)"
     ]
    }
   ],
   "source": [
    "from scipy.linalg import sp_solve_banded"
   ]
  },
  {
   "cell_type": "code",
   "execution_count": 41,
   "metadata": {},
   "outputs": [],
   "source": [
    "\n",
    "class TridiagInvOperator(_CustomLinearOperator):\n",
    "    \"\"\"Represents the inverse of a tridiagonal matrix.\n",
    "    l: lower off diagonal\n",
    "    d: diagonal\n",
    "    u: upper off diagonal\n",
    "    \"\"\"\n",
    "\n",
    "    def __init__(self, l, d, u):\n",
    "\n",
    "        self.n = len(d)\n",
    "        assert len(l) == self.n - 1, \"lower diagonal inconsistent.\"\n",
    "        assert len(u) == self.n - 1, \"upper diagonal inconsistent.\"\n",
    "\n",
    "        # Store diagonals\n",
    "        self.l = l\n",
    "        self.d = d\n",
    "        self.u = u \n",
    "\n",
    "        # Figure out device\n",
    "        self.device = get_device(d)\n",
    "\n",
    "        if self.device == \"cpu\":\n",
    "\n",
    "            # Helper matrix\n",
    "            self.Z = np.zeros((3, self.n))\n",
    "            self.Z[0, 1:] = self.u  # Superdiagonal\n",
    "            self.Z[1, :] = self.d  # Main diagonal\n",
    "            self.Z[2, :-1] = self.l  # Subdiagonal\n",
    "            self.Zt = self.Z.T\n",
    "\n",
    "            def _matvec(x):\n",
    "\n",
    "                sol = sp_solve_banded((1, 1), self.Z, x)\n",
    "                \n",
    "                return sol\n",
    "            \n",
    "            def _rmatvec(x):\n",
    "\n",
    "                sol = sp_solve_banded((1, 1), self.Zt, x)\n",
    "                \n",
    "                return sol\n",
    "            \n",
    "        else:\n",
    "\n",
    "            # Helper matrix\n",
    "            self.Z = cp.zeros((3, self.n))\n",
    "            self.Z[0, 1:] = self.u  # Superdiagonal\n",
    "            self.Z[1, :] = self.d  # Main diagonal\n",
    "            self.Z[2, :-1] = self.l  # Subdiagonal\n",
    "            self.Zt = self.Z.T\n",
    "\n",
    "            def _matvec(x):\n",
    "\n",
    "                sol = cp_solve_banded((1, 1), self.Z, x)\n",
    "                \n",
    "                return sol\n",
    "        \n",
    "            def _rmatvec(x):\n",
    "\n",
    "                sol = cp_solve_banded((1, 1), self.Zt, x)\n",
    "                \n",
    "                return sol\n",
    "            \n",
    "        \n",
    "        super().__init__( (self.n, self.n), _matvec, _rmatvec, dtype=np.float64, device=self.device)\n",
    "\n",
    "    def to_gpu(self):\n",
    "        l = cp.asarray(self.l)\n",
    "        d = cp.asarray(self.d)\n",
    "        u = cp.asarray(self.u)\n",
    "        return TridiagInvOperator(l, d, u)\n",
    "    \n",
    "    def to_cpu(self):\n",
    "        l = cp.asnumpy(self.l)\n",
    "        d = cp.asnumpy(self.d)\n",
    "        u = cp.asnumpy(self.u)\n",
    "        return TridiagInvOperator(l, d, u)\n",
    "    "
   ]
  },
  {
   "cell_type": "code",
   "execution_count": null,
   "metadata": {},
   "outputs": [],
   "source": []
  },
  {
   "cell_type": "code",
   "execution_count": 35,
   "metadata": {},
   "outputs": [],
   "source": [
    "L = jlinops.random_lower_triangular(10, 3)\n",
    "A = L @ L.T\n",
    "Amat = A.toarray()\n",
    "l, d, u = jlinops.extract_tridiag(A)"
   ]
  },
  {
   "cell_type": "code",
   "execution_count": 36,
   "metadata": {},
   "outputs": [],
   "source": [
    "T = TridiagInvOperator(l, d, u)"
   ]
  },
  {
   "cell_type": "code",
   "execution_count": 37,
   "metadata": {},
   "outputs": [],
   "source": [
    "Tinv_mat = jlinops.black_box_to_dense(T)"
   ]
  },
  {
   "cell_type": "code",
   "execution_count": 38,
   "metadata": {},
   "outputs": [],
   "source": [
    "K = jlinops.build_tridiag(l, d, u).toarray()\n",
    "Kinv = np.linalg.inv(K)"
   ]
  },
  {
   "cell_type": "code",
   "execution_count": 39,
   "metadata": {},
   "outputs": [
    {
     "data": {
      "image/png": "[encoded data removed]",
      "text/plain": [
       "<Figure size 640x480 with 1 Axes>"
      ]
     },
     "metadata": {},
     "output_type": "display_data"
    }
   ],
   "source": [
    "plt.imshow(Kinv)\n",
    "plt.show()"
   ]
  },
  {
   "cell_type": "code",
   "execution_count": 40,
   "metadata": {},
   "outputs": [
    {
     "data": {
      "image/png": "[encoded data removed]",
      "text/plain": [
       "<Figure size 640x480 with 1 Axes>"
      ]
     },
     "metadata": {},
     "output_type": "display_data"
    }
   ],
   "source": [
    "plt.imshow(Tinv_mat)\n",
    "plt.show()"
   ]
  },
  {
   "cell_type": "code",
   "execution_count": null,
   "metadata": {},
   "outputs": [],
   "source": []
  }
 ],
 "metadata": {
  "kernelspec": {
   "display_name": "jlinops",
   "language": "python",
   "name": "python3"
  },
  "language_info": {
   "codemirror_mode": {
    "name": "ipython",
    "version": 3
   },
   "file_extension": ".py",
   "mimetype": "text/x-python",
   "name": "python",
   "nbconvert_exporter": "python",
   "pygments_lexer": "ipython3",
   "version": "3.11.6"
  }
 },
 "nbformat": 4,
 "nbformat_minor": 2
}
