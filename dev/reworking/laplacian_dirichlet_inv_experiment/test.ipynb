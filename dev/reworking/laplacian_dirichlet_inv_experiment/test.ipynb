{
 "cells": [
  {
   "cell_type": "code",
   "execution_count": 1,
   "metadata": {},
   "outputs": [],
   "source": [
    "import numpy as np\n",
    "import math\n",
    "\n",
    "from scipy.linalg import solve_triangular as scipy_solve_triangular\n",
    "from scipy.linalg import qr as sp_qr\n",
    "from scipy.linalg import solve_triangular as sp_solve_triangular\n",
    "from scipy.sparse.linalg import SuperLU as sp_SuperLU\n",
    "from scipy.sparse.linalg import cg as sp_cg\n",
    "import scipy.sparse as sps\n",
    "\n",
    "from scipy.stats import linregress\n",
    "\n",
    "import jlinops\n",
    "\n",
    "\n",
    "from jlinops import MatrixLinearOperator, _CustomLinearOperator \n",
    "from jlinops import banded_cholesky\n",
    "from jlinops import DiagonalOperator\n",
    "from jlinops import Neumann2D\n",
    "from jlinops import dct_sqrt_pinv, dct_pinv\n",
    "from jlinops import cg\n",
    "from jlinops import issparse, tosparse, get_device\n",
    "from jlinops import QRPinvOperator\n",
    "\n",
    "\n",
    "from jlinops import CUPY_INSTALLED\n",
    "if CUPY_INSTALLED:\n",
    "    import cupy as cp\n",
    "    from cupyx.scipy.linalg import solve_triangular as cp_solve_triangular\n",
    "    from cupy.linalg import qr as cp_qr\n",
    "    from cupyx.scipy.sparse.linalg import SuperLU as cp_SuperLU\n",
    "\n",
    "\n",
    "\n",
    "import matplotlib.pyplot as plt\n",
    "import matplotlib as mpl\n",
    "\n",
    "mpl.rcParams['text.usetex'] = True\n",
    "#mpl.rcParams['text.latex.preamble']=[r\"\\usepackage{amsmath}\"]\n",
    "mpl.rc('text.latex', preamble=r'\\usepackage{amsmath}')\n",
    "\n"
   ]
  },
  {
   "cell_type": "code",
   "execution_count": 2,
   "metadata": {},
   "outputs": [],
   "source": [
    "N = 200"
   ]
  },
  {
   "cell_type": "code",
   "execution_count": 4,
   "metadata": {},
   "outputs": [],
   "source": [
    "w = np.random.uniform(low=1, high=50, size=2*N*N)\n",
    "Apinv = jlinops.CGWeightedNeumann2DPinvOperator((N,N), 1.0/np.sqrt(w) , tol=1e-4)\n",
    "R = jlinops.Dirichlet2D((N,N))\n",
    "WR = DiagonalOperator(1.0/np.sqrt(w)) @ R "
   ]
  },
  {
   "cell_type": "code",
   "execution_count": 5,
   "metadata": {},
   "outputs": [],
   "source": [
    "it_counts = []\n",
    "for j in range(50):\n",
    "    \n",
    "    # Initialize a counter for the iterations\n",
    "    iteration_count = 0\n",
    "\n",
    "    # Define the callback function\n",
    "    def callback(xk):\n",
    "        global iteration_count\n",
    "        iteration_count += 1\n",
    "\n",
    "    v = np.random.normal(size=2*N*N)\n",
    "    _ = sp_cg(Apinv.Rwpinv.C, Apinv.Rwpinv.A.T @ v, callback=callback, M=Apinv.Rwpinv.Mpinv)\n",
    "\n",
    "    it_counts.append(iteration_count)\n",
    "    #print(iteration_count)"
   ]
  },
  {
   "cell_type": "code",
   "execution_count": 6,
   "metadata": {},
   "outputs": [
    {
     "data": {
      "image/png": "[encoded data removed]",
      "text/plain": [
       "<Figure size 640x480 with 1 Axes>"
      ]
     },
     "metadata": {},
     "output_type": "display_data"
    }
   ],
   "source": [
    "plt.hist(it_counts)\n",
    "plt.show()"
   ]
  },
  {
   "cell_type": "code",
   "execution_count": 7,
   "metadata": {},
   "outputs": [
    {
     "data": {
      "text/plain": [
       "32.98"
      ]
     },
     "execution_count": 7,
     "metadata": {},
     "output_type": "execute_result"
    }
   ],
   "source": [
    "np.mean(it_counts)"
   ]
  },
  {
   "cell_type": "code",
   "execution_count": null,
   "metadata": {},
   "outputs": [],
   "source": []
  }
 ],
 "metadata": {
  "kernelspec": {
   "display_name": "jlinops",
   "language": "python",
   "name": "python3"
  },
  "language_info": {
   "codemirror_mode": {
    "name": "ipython",
    "version": 3
   },
   "file_extension": ".py",
   "mimetype": "text/x-python",
   "name": "python",
   "nbconvert_exporter": "python",
   "pygments_lexer": "ipython3",
   "version": "3.11.6"
  }
 },
 "nbformat": 4,
 "nbformat_minor": 2
}
