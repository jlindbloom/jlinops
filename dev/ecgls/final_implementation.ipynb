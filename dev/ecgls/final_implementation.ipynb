{
 "cells": [
  {
   "cell_type": "code",
   "execution_count": 1,
   "metadata": {},
   "outputs": [],
   "source": [
    "import numpy as np\n",
    "import matplotlib.pyplot as plt\n",
    "from scipy.linalg import null_space\n",
    "import jlinops"
   ]
  },
  {
   "cell_type": "markdown",
   "metadata": {},
   "source": [
    "# Helper functions"
   ]
  },
  {
   "cell_type": "code",
   "execution_count": 2,
   "metadata": {},
   "outputs": [],
   "source": [
    "def generate_matrix_with_rank(k, n, r):\n",
    "    if r > min(k, n):\n",
    "        raise ValueError(\"Rank r cannot be greater than min(k, n)\")\n",
    "\n",
    "    # Step 1: Generate a k x r matrix with rank r\n",
    "    # This is done by generating a random matrix and using QR decomposition to ensure it has rank r.\n",
    "    A = np.random.rand(k, r)\n",
    "    Q, R = np.linalg.qr(A)  # QR decomposition\n",
    "    A = Q[:, :r]  # Ensure the matrix has rank r\n",
    "\n",
    "    # Step 2: Extend to a k x n matrix while preserving rank r\n",
    "    if n > r:\n",
    "        # Generate a random r x (n-r) matrix\n",
    "        B = np.random.rand(r, n-r)\n",
    "        # Multiply to get the additional columns\n",
    "        additional_columns = np.dot(A, B)\n",
    "        # Concatenate to get the final k x n matrix\n",
    "        final_matrix = np.hstack((A, additional_columns))\n",
    "    else:\n",
    "        final_matrix = A\n",
    "\n",
    "    return final_matrix"
   ]
  },
  {
   "cell_type": "markdown",
   "metadata": {},
   "source": [
    "# Make random test problem"
   ]
  },
  {
   "cell_type": "code",
   "execution_count": 3,
   "metadata": {},
   "outputs": [
    {
     "name": "stderr",
     "output_type": "stream",
     "text": [
      "/var/folders/fn/xbs7g2ln57x3xrdggzf_dzzm0000gr/T/ipykernel_88740/2421180631.py:23: FutureWarning: `rcond` parameter will change to the default of machine precision times ``max(M, N)`` where M and N are the input matrix dimensions.\n",
      "To use the future default and silence this warning we advise to pass `rcond=None`, to keep using the old, explicitly pass `rcond=-1`.\n",
      "  x_original_sol, _, _, _ = np.linalg.lstsq( A, bstack )\n",
      "/var/folders/fn/xbs7g2ln57x3xrdggzf_dzzm0000gr/T/ipykernel_88740/2421180631.py:38: FutureWarning: `rcond` parameter will change to the default of machine precision times ``max(M, N)`` where M and N are the input matrix dimensions.\n",
      "To use the future default and silence this warning we advise to pass `rcond=None`, to keep using the old, explicitly pass `rcond=-1`.\n",
      "  w_original_sol, _, _, _ = np.linalg.lstsq( Atilde, bt)\n"
     ]
    }
   ],
   "source": [
    "np.random.seed(1)\n",
    "\n",
    "# Parameters\n",
    "n = 100\n",
    "m = 65\n",
    "k = 150\n",
    "rF = 23\n",
    "rR = n-3\n",
    "\n",
    "# Gen matrices\n",
    "F = generate_matrix_with_rank(m, n, rF)\n",
    "R = generate_matrix_with_rank(k, n, rR)\n",
    "\n",
    "# Check common kernel\n",
    "A = np.vstack([F, R])\n",
    "assert np.linalg.matrix_rank(A) == n, \"common kernel condition not satisfied\"\n",
    "\n",
    "b1 = np.random.normal(size=m)\n",
    "b2 = np.random.normal(size=k)\n",
    "bstack = np.hstack([b1, b2])\n",
    "\n",
    "# Get solution from original problem form\n",
    "x_original_sol, _, _, _ = np.linalg.lstsq( A, bstack )\n",
    "\n",
    "Rpinv = np.linalg.pinv(R)\n",
    "W = null_space(R)\n",
    "FWpinv = np.linalg.pinv(F @ W)\n",
    "xker = W @ FWpinv @ b1\n",
    "\n",
    "G = np.eye(n) - ( W @ FWpinv @ F )\n",
    "H = F @ G\n",
    "Mpinv = np.linalg.pinv(R.T @ R)\n",
    "Ropinv = G @ Rpinv \n",
    "\n",
    "# Get solution via transformed method\n",
    "Atilde = np.vstack([F @ Ropinv, np.eye(k)])\n",
    "bt = np.hstack([b1, R @ Rpinv @ b2])\n",
    "w_original_sol, _, _, _ = np.linalg.lstsq( Atilde, bt)\n",
    "x_transformed_sol = xker + (Ropinv @ w_original_sol)\n"
   ]
  },
  {
   "cell_type": "code",
   "execution_count": 4,
   "metadata": {},
   "outputs": [],
   "source": [
    "def epcgls(F, R, Mpinv, W, b1, b2, x0=None, maxiter=None, tol=1e-3, FWpinv=None, relative=True, early_stopping=True):\n",
    "    \"\"\"Implements the efficient priorconditioned CGLS algorithm.\n",
    "    \"\"\"\n",
    "\n",
    "    n = F.shape[1]\n",
    "    m = F.shape[0]\n",
    "    k = R.shape[0]\n",
    "\n",
    "    if FWpinv is None:\n",
    "        FWpinv = jlinops.QRPinvOperator(F @ W.A)\n",
    "    else:\n",
    "        pass\n",
    "\n",
    "    G = jlinops.IdentityOperator((n,n)) - W @ FWpinv @ F\n",
    "    H = F @ G\n",
    "\n",
    "    # Compute solution in the kernel\n",
    "    xker = W @ (FWpinv @ b1)\n",
    "\n",
    "    # Handle initialization\n",
    "    if x0 is None:\n",
    "        x = np.zeros(n)\n",
    "    else:\n",
    "        x = x0\n",
    "\n",
    "    if maxiter is None:\n",
    "        maxiter = n\n",
    "\n",
    "    # Other setup\n",
    "    b2tilde = Mpinv @ (R.T @  b2)\n",
    "    b2bar = R @ b2tilde\n",
    "    d = np.hstack([b1 - F @ x  , b2bar - R @ x])\n",
    "    d1, d2 = d[:m], d[m:]\n",
    "    omega = Mpinv @ ( H.T @ d1)\n",
    "    r_prev = (R @ omega) + d2\n",
    "    p = r_prev.copy()\n",
    "    xi = (G @ b2tilde) - x\n",
    "    zeta = (G @ omega) + xi\n",
    "    z = np.hstack([ F @ zeta, p ])\n",
    "    n_iters = 0\n",
    "\n",
    "    # Tracking residual norm\n",
    "    bstacked = np.hstack([b1, b2])\n",
    "    bnorm = np.linalg.norm(bstacked)\n",
    "    x_sol = xker + x\n",
    "    init_residual = np.hstack([F @ x_sol, R @ x_sol]) - bstacked\n",
    "    init_residual_tr = (F.T @ init_residual[:m]) + (R.T @ init_residual[m:])\n",
    "    init_residual_tr_norm = np.linalg.norm(init_residual_tr)\n",
    "    residual_tr_norms = [init_residual_tr_norm]\n",
    "\n",
    "\n",
    "    # Check if stopping criterion already satisfied?\n",
    "    stopping_criteria_satisfied = False\n",
    "    if early_stopping:\n",
    "        if relative:\n",
    "            if (init_residual_tr_norm/bnorm) < tol:\n",
    "                stopping_criteria_satisfied = True\n",
    "        else:\n",
    "            if init_residual_tr_norm < tol:\n",
    "                stopping_criteria_satisfied = True\n",
    "\n",
    "    if stopping_criteria_satisfied:\n",
    "        data = {\n",
    "            \"x\": x_sol,\n",
    "            #\"residual_norms\": residual_tr_norms,\n",
    "            #\"x_norms\": xp.asarray(x_norms),\n",
    "            \"n_iters\": n_iters,\n",
    "            \"converged\": stopping_criteria_satisfied,\n",
    "            \"At_residual_norms\": residual_tr_norms,\n",
    "        }\n",
    "        return data\n",
    "    \n",
    "    else:\n",
    "\n",
    "        for j in range(maxiter):\n",
    "\n",
    "            # Compute update\n",
    "            alpha = (np.linalg.norm(r_prev)**2)/(np.linalg.norm(z)**2)\n",
    "            x += alpha*zeta\n",
    "            d -= alpha*z\n",
    "            d1, d2 = d[:m], d[m:]\n",
    "            omega = Mpinv @ (H.T @ d1)\n",
    "            r_next = (R @ omega) + d2\n",
    "            beta = ((np.linalg.norm(r_next))**2)/(np.linalg.norm(r_prev)**2)\n",
    "            p = r_next + beta*p\n",
    "            xi -= alpha*zeta\n",
    "            zeta = (G @ omega) + xi + beta*zeta\n",
    "            z = np.hstack([F @ zeta, p])\n",
    "\n",
    "            # Update remaining\n",
    "            r_prev = r_next\n",
    "            n_iters += 1\n",
    "\n",
    "            # Track residual and solution norm\n",
    "            x_sol = xker + x\n",
    "            residual = np.hstack([F @ x_sol, R @ x_sol]) - bstacked\n",
    "            residual_tr = (F.T @ residual[:m]) + (R.T @ residual[m:])\n",
    "            residual_tr_norm = np.linalg.norm(residual_tr)\n",
    "            residual_tr_norms.append(residual_tr_norm)\n",
    "\n",
    "\n",
    "            # Stopping criteria?\n",
    "            if early_stopping:\n",
    "                if relative:\n",
    "                    if (residual_tr_norm/bnorm) < tol:\n",
    "                        stopping_criteria_satisfied = True\n",
    "                        break\n",
    "                else:\n",
    "                    if residual_tr_norm < tol:\n",
    "                        stopping_criteria_satisfied = True\n",
    "                        break\n",
    "        \n",
    "        data = {\n",
    "            \"x\": x_sol,\n",
    "            # \"residual_norms\": xp.asarray(residual_norms),\n",
    "            #\"x_norms\": xp.asarray(x_norms),\n",
    "            \"n_iters\": n_iters,\n",
    "            #\"iterates\": None,\n",
    "            #\"search_vectors\": None,\n",
    "            \"converged\": stopping_criteria_satisfied,\n",
    "            \"At_residual_norms\": residual_tr_norms,\n",
    "        }\n",
    "\n",
    "        # if return_search_vectors:\n",
    "        #     data[\"search_vectors\"] = xp.vstack(search_vectors).T\n",
    "\n",
    "        # if return_iterates:\n",
    "        #     data[\"iterates\"] = xp.vstack(iterates).T\n",
    "\n",
    "        return data"
   ]
  },
  {
   "cell_type": "code",
   "execution_count": 6,
   "metadata": {},
   "outputs": [],
   "source": [
    "F = jlinops.MatrixLinearOperator(F)\n",
    "R = jlinops.MatrixLinearOperator(R)\n",
    "Mpinv = jlinops.MatrixLinearOperator(Mpinv)\n",
    "W = jlinops.MatrixLinearOperator(W)"
   ]
  },
  {
   "cell_type": "code",
   "execution_count": 7,
   "metadata": {},
   "outputs": [],
   "source": [
    "soldata = epcgls(F, R, Mpinv, W, b1, b2, x0=None, maxiter=None, tol=1e-10, relative=True, early_stopping=True)"
   ]
  },
  {
   "cell_type": "code",
   "execution_count": 8,
   "metadata": {},
   "outputs": [
    {
     "data": {
      "text/plain": [
       "1.3597443637623524e-10"
      ]
     },
     "execution_count": 8,
     "metadata": {},
     "output_type": "execute_result"
    }
   ],
   "source": [
    "np.linalg.norm( x_original_sol - soldata[\"x\"] )"
   ]
  },
  {
   "cell_type": "code",
   "execution_count": 9,
   "metadata": {},
   "outputs": [
    {
     "data": {
      "text/plain": [
       "3.763163892659184e-14"
      ]
     },
     "execution_count": 9,
     "metadata": {},
     "output_type": "execute_result"
    }
   ],
   "source": [
    "np.linalg.norm(x_original_sol - x_transformed_sol)"
   ]
  },
  {
   "cell_type": "code",
   "execution_count": 10,
   "metadata": {},
   "outputs": [
    {
     "data": {
      "text/plain": [
       "<100x3 MatrixLinearOperator with dtype=float64>"
      ]
     },
     "execution_count": 10,
     "metadata": {},
     "output_type": "execute_result"
    }
   ],
   "source": [
    "W"
   ]
  },
  {
   "cell_type": "code",
   "execution_count": 11,
   "metadata": {},
   "outputs": [
    {
     "data": {
      "text/plain": [
       "<3x65 QRPinvOperator with dtype=float64>"
      ]
     },
     "execution_count": 11,
     "metadata": {},
     "output_type": "execute_result"
    }
   ],
   "source": [
    "jlinops.QRPinvOperator(F @ W.A)"
   ]
  },
  {
   "cell_type": "code",
   "execution_count": 12,
   "metadata": {},
   "outputs": [],
   "source": [
    "soldata = jlinops.epcgls(F, R, Mpinv, W, b1, shift=b2, x0=None, maxiter=None, tol=1e-10, relative=True, early_stopping=True)"
   ]
  },
  {
   "cell_type": "code",
   "execution_count": 13,
   "metadata": {},
   "outputs": [
    {
     "data": {
      "text/plain": [
       "1.3597442599472647e-10"
      ]
     },
     "execution_count": 13,
     "metadata": {},
     "output_type": "execute_result"
    }
   ],
   "source": [
    "np.linalg.norm( x_original_sol - soldata[\"x\"] )"
   ]
  },
  {
   "cell_type": "code",
   "execution_count": 14,
   "metadata": {},
   "outputs": [
    {
     "data": {
      "text/plain": [
       "3.763163892659184e-14"
      ]
     },
     "execution_count": 14,
     "metadata": {},
     "output_type": "execute_result"
    }
   ],
   "source": [
    "np.linalg.norm(x_original_sol - x_transformed_sol)"
   ]
  },
  {
   "cell_type": "markdown",
   "metadata": {},
   "source": [
    "# Now load from library?"
   ]
  },
  {
   "cell_type": "code",
   "execution_count": 110,
   "metadata": {},
   "outputs": [
    {
     "name": "stderr",
     "output_type": "stream",
     "text": [
      "/var/folders/fn/xbs7g2ln57x3xrdggzf_dzzm0000gr/T/ipykernel_34264/1473450752.py:30: FutureWarning: `rcond` parameter will change to the default of machine precision times ``max(M, N)`` where M and N are the input matrix dimensions.\n",
      "To use the future default and silence this warning we advise to pass `rcond=None`, to keep using the old, explicitly pass `rcond=-1`.\n",
      "  x_original_sol, _, _, _ = np.linalg.lstsq( A, bstack )\n",
      "/var/folders/fn/xbs7g2ln57x3xrdggzf_dzzm0000gr/T/ipykernel_34264/1473450752.py:45: FutureWarning: `rcond` parameter will change to the default of machine precision times ``max(M, N)`` where M and N are the input matrix dimensions.\n",
      "To use the future default and silence this warning we advise to pass `rcond=None`, to keep using the old, explicitly pass `rcond=-1`.\n",
      "  w_original_sol, _, _, _ = np.linalg.lstsq( Atilde, bt)\n"
     ]
    }
   ],
   "source": [
    "np.random.seed(2)\n",
    "\n",
    "# Parameters\n",
    "n = 1000\n",
    "m = 1000\n",
    "k = 3000\n",
    "rF = 900\n",
    "rR = n-3\n",
    "\n",
    "# n = 1000\n",
    "# m = 1000\n",
    "# k = 1000\n",
    "# rF = 1000\n",
    "# rR = n-3\n",
    "\n",
    "# Gen matrices\n",
    "F = generate_matrix_with_rank(m, n, rF)\n",
    "R = generate_matrix_with_rank(k, n, rR)\n",
    "\n",
    "# Check common kernel\n",
    "A = np.vstack([F, R])\n",
    "assert np.linalg.matrix_rank(A) == n, \"common kernel condition not satisfied\"\n",
    "\n",
    "b1 = np.random.normal(size=m)\n",
    "#b2 = np.random.normal(size=k)\n",
    "b2 = np.zeros(k)\n",
    "bstack = np.hstack([b1, b2])\n",
    "\n",
    "# Get solution from original problem form\n",
    "x_original_sol, _, _, _ = np.linalg.lstsq( A, bstack )\n",
    "\n",
    "Rpinv = np.linalg.pinv(R)\n",
    "W = null_space(R)\n",
    "FWpinv = np.linalg.pinv(F @ W)\n",
    "xker = W @ FWpinv @ b1\n",
    "\n",
    "G = np.eye(n) - ( W @ FWpinv @ F )\n",
    "H = F @ G\n",
    "Mpinv = np.linalg.pinv(R.T @ R)\n",
    "Ropinv = G @ Rpinv \n",
    "\n",
    "# Get solution via transformed method\n",
    "Atilde = np.vstack([F @ Ropinv, np.eye(k)])\n",
    "bt = np.hstack([b1, R @ Rpinv @ b2])\n",
    "w_original_sol, _, _, _ = np.linalg.lstsq( Atilde, bt)\n",
    "x_transformed_sol = xker + (Ropinv @ w_original_sol)\n"
   ]
  },
  {
   "cell_type": "code",
   "execution_count": 111,
   "metadata": {},
   "outputs": [
    {
     "data": {
      "text/plain": [
       "array([[ 1.00093340e+00,  4.10750063e-04,  7.58272211e-04, ...,\n",
       "        -4.96205252e-03, -3.77207472e-02,  6.79795979e-03],\n",
       "       [ 3.05572497e-04,  9.99890645e-01, -2.21417609e-05, ...,\n",
       "         1.42804180e-02, -1.35325314e-02, -2.59415773e-02],\n",
       "       [-4.79081503e-04, -1.29509510e-05,  9.99930205e-01, ...,\n",
       "        -3.60793221e-02, -3.61053910e-03,  3.19758991e-03],\n",
       "       ...,\n",
       "       [-1.50901217e-03, -4.88307686e-05, -4.28752554e-04, ...,\n",
       "         9.38331560e-01,  3.64637797e-02,  4.14947299e-02],\n",
       "       [ 2.44319147e-03,  8.87072897e-04,  1.58761965e-03, ...,\n",
       "         4.78014834e-02,  9.45502643e-01,  2.65774597e-02],\n",
       "       [-9.25907347e-04, -8.08298388e-04, -1.21528803e-03, ...,\n",
       "         3.58540878e-02,  3.99239773e-02,  9.49958632e-01]])"
      ]
     },
     "execution_count": 111,
     "metadata": {},
     "output_type": "execute_result"
    }
   ],
   "source": [
    "(Ropinv @ R) + (W @ FWpinv)"
   ]
  },
  {
   "cell_type": "code",
   "execution_count": 112,
   "metadata": {},
   "outputs": [
    {
     "data": {
      "image/png": "[encoded data removed]",
      "text/plain": [
       "<Figure size 640x480 with 1 Axes>"
      ]
     },
     "metadata": {},
     "output_type": "display_data"
    }
   ],
   "source": [
    "plt.imshow( (Ropinv @ R) + (W @ FWpinv) )\n",
    "plt.show()"
   ]
  },
  {
   "cell_type": "code",
   "execution_count": 113,
   "metadata": {},
   "outputs": [],
   "source": [
    "from jlinops import _CustomLinearOperator\n",
    "from scipy.sparse.linalg import cg"
   ]
  },
  {
   "cell_type": "code",
   "execution_count": 114,
   "metadata": {},
   "outputs": [],
   "source": [
    "F = jlinops.MatrixLinearOperator(F)\n",
    "#Mpinv = jlinops.BandedCholeskyPinvOperator( jlinops.MatrixLinearOperator(R.T @ R), delta=1e-12 )\n",
    "Mpinv = jlinops.MatrixLinearOperator(Mpinv)\n",
    "#R = jlinops.MatrixLinearOperator(R)\n",
    "W = jlinops.MatrixLinearOperator(W)\n",
    "R = jlinops.MatrixLinearOperator(R)"
   ]
  },
  {
   "cell_type": "code",
   "execution_count": 115,
   "metadata": {},
   "outputs": [],
   "source": [
    "# class InvCGOp(_CustomLinearOperator):\n",
    "#     \"\"\"Implements a Gaussian blurring operator for 1D vectors.\n",
    "#     \"\"\"\n",
    "\n",
    "#     def __init__(self, M, tol=1e-3):\n",
    "\n",
    "#         self.M = M\n",
    "#         self.n = M.shape[0]\n",
    "#         self.tol = tol\n",
    "\n",
    "#         def _matvec(x):\n",
    "#             res, _ = cg(self.M, x, x0=np.zeros(self.n), tol=self.tol)\n",
    "#             #print(res)\n",
    "#             return res\n",
    "      \n",
    "#         super().__init__( (n, n), _matvec, _matvec, dtype=np.float32)\n",
    "\n",
    "\n",
    "# Mpinv = InvCGOp( R.T @ R, tol=1e-5)"
   ]
  },
  {
   "cell_type": "code",
   "execution_count": 116,
   "metadata": {},
   "outputs": [],
   "source": [
    "soldata = jlinops.epcgls(F, R, Mpinv, W, b1, shift=b2, x0=None, maxiter=None, tol=1e-8, relative=True, early_stopping=True)"
   ]
  },
  {
   "cell_type": "code",
   "execution_count": 117,
   "metadata": {},
   "outputs": [
    {
     "data": {
      "text/plain": [
       "2.7854129509525877e-09"
      ]
     },
     "execution_count": 117,
     "metadata": {},
     "output_type": "execute_result"
    }
   ],
   "source": [
    "np.linalg.norm( x_original_sol - soldata[\"x\"] )"
   ]
  },
  {
   "cell_type": "code",
   "execution_count": 118,
   "metadata": {},
   "outputs": [
    {
     "data": {
      "text/plain": [
       "1.9389210464175753e-13"
      ]
     },
     "execution_count": 118,
     "metadata": {},
     "output_type": "execute_result"
    }
   ],
   "source": [
    "np.linalg.norm( x_original_sol - x_transformed_sol )"
   ]
  },
  {
   "cell_type": "code",
   "execution_count": null,
   "metadata": {},
   "outputs": [],
   "source": []
  },
  {
   "cell_type": "code",
   "execution_count": null,
   "metadata": {},
   "outputs": [],
   "source": []
  },
  {
   "cell_type": "code",
   "execution_count": null,
   "metadata": {},
   "outputs": [],
   "source": []
  },
  {
   "cell_type": "code",
   "execution_count": null,
   "metadata": {},
   "outputs": [],
   "source": []
  },
  {
   "cell_type": "code",
   "execution_count": null,
   "metadata": {},
   "outputs": [],
   "source": []
  },
  {
   "cell_type": "code",
   "execution_count": null,
   "metadata": {},
   "outputs": [],
   "source": []
  },
  {
   "cell_type": "code",
   "execution_count": null,
   "metadata": {},
   "outputs": [],
   "source": []
  },
  {
   "cell_type": "code",
   "execution_count": null,
   "metadata": {},
   "outputs": [],
   "source": []
  },
  {
   "cell_type": "code",
   "execution_count": null,
   "metadata": {},
   "outputs": [],
   "source": []
  },
  {
   "cell_type": "code",
   "execution_count": null,
   "metadata": {},
   "outputs": [],
   "source": []
  },
  {
   "cell_type": "code",
   "execution_count": null,
   "metadata": {},
   "outputs": [],
   "source": []
  }
 ],
 "metadata": {
  "kernelspec": {
   "display_name": "jlinops",
   "language": "python",
   "name": "python3"
  },
  "language_info": {
   "codemirror_mode": {
    "name": "ipython",
    "version": 3
   },
   "file_extension": ".py",
   "mimetype": "text/x-python",
   "name": "python",
   "nbconvert_exporter": "python",
   "pygments_lexer": "ipython3",
   "version": "3.11.6"
  }
 },
 "nbformat": 4,
 "nbformat_minor": 2
}
