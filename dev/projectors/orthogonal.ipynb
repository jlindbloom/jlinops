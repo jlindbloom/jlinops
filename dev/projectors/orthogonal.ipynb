{
 "cells": [
  {
   "cell_type": "code",
   "execution_count": 2,
   "metadata": {},
   "outputs": [],
   "source": [
    "import numpy as np\n",
    "import matplotlib.pyplot as plt\n",
    "\n",
    "from jlinops import _CustomLinearOperator\n",
    "import jlinops"
   ]
  },
  {
   "cell_type": "code",
   "execution_count": 38,
   "metadata": {},
   "outputs": [],
   "source": [
    "class GeneralSplitting:\n",
    "    \"\"\"Represents a splitting of R^n into the direct sum of trivially-intersecting subspaces\n",
    "    \\mathcal{X} and \\mathcal{Y}, as well as the orthogonal complement of their union.\n",
    "    \"\"\"\n",
    "\n",
    "    def __init__(self, X=None, Xperp=None, Y=None, Yperp=None):\n",
    "\n",
    "        # Checks for what combination we have been passed\n",
    "        assert (X is not None) and (Yperp is not None), \"Must pass X and Xperp.\"\n",
    "        \n",
    "        self.n = X.shape[0]\n",
    "        self.X = X\n",
    "        self.Y = Y\n",
    "        self.Xperp = Xperp\n",
    "        self.Yperp = Yperp\n",
    "\n",
    "\n",
    "    def orthogonal_projector(self, which):\n",
    "        assert which in [\"X\", \"Y\", \"Z\"], \"Must be one of X, Y, or Z.\"\n",
    "        \n",
    "        if which == \"X\":\n",
    "            if self.X is not None:\n",
    "                return self.X @ np.linalg.pinv(self.X)\n",
    "            elif self.Xperp is not None:\n",
    "                return np.eye(self.n) - ( self.Xperp @ np.linalg.norm(self.Xperp)  )\n",
    "            else:\n",
    "                raise NotImplementedError\n",
    "        \n",
    "        elif which == \"Y\":\n",
    "            if self.Y is not None:\n",
    "                return self.Y @ np.linalg.pinv(self.Y)\n",
    "            elif self.Yperp is not None:\n",
    "                return np.eye(self.n) - ( self.Yperp @ np.linalg.norm(self.Yperp) )\n",
    "            else:\n",
    "                raise NotImplementedError\n",
    "\n",
    "        elif which == \"Z\":\n",
    "            if (self.X is not None) and (self.Y is not None):\n",
    "                A = np.hstack([self.X, self.Y])\n",
    "                return np.eye(self.n) - (A @ np.linalg.pinv(A))\n",
    "            else:\n",
    "                raise NotImplementedError\n",
    "\n",
    "        else:\n",
    "            raise NotImplementedError\n",
    "        \n"
   ]
  },
  {
   "cell_type": "markdown",
   "metadata": {},
   "source": [
    "# Test it out"
   ]
  },
  {
   "cell_type": "code",
   "execution_count": 39,
   "metadata": {},
   "outputs": [],
   "source": [
    "n = 7\n",
    "x_dim = 2\n",
    "y_dim = 3\n",
    "X = np.random.normal(size=(n, x_dim))\n",
    "Y = np.random.normal(size=(n,y_dim))\n",
    "\n",
    "_qr = np.linalg.qr(X, mode=\"complete\")\n",
    "Xperp = _qr.Q[:,x_dim:]\n",
    "_qr = np.linalg.qr(Y, mode=\"complete\")\n",
    "Yperp = _qr.Q[:,y_dim:]"
   ]
  },
  {
   "cell_type": "code",
   "execution_count": 40,
   "metadata": {},
   "outputs": [],
   "source": [
    "splitting = GeneralSplitting(X=X, Yperp=Yperp)"
   ]
  },
  {
   "cell_type": "code",
   "execution_count": 52,
   "metadata": {},
   "outputs": [
    {
     "data": {
      "text/plain": [
       "array([-5.55111512e-16, -3.21964677e-15])"
      ]
     },
     "execution_count": 52,
     "metadata": {},
     "output_type": "execute_result"
    }
   ],
   "source": [
    "P = splitting.orthogonal_projector(\"X\")\n",
    "\n",
    "r = np.random.normal(size=n)\n",
    "p = r - (P @ r)\n",
    "\n",
    "X.T @ p"
   ]
  },
  {
   "cell_type": "code",
   "execution_count": 54,
   "metadata": {},
   "outputs": [
    {
     "ename": "ValueError",
     "evalue": "matmul: Input operand 1 does not have enough dimensions (has 0, gufunc core with signature (n?,k),(k,m?)->(n?,m?) requires 1)",
     "output_type": "error",
     "traceback": [
      "\u001b[0;31m---------------------------------------------------------------------------\u001b[0m",
      "\u001b[0;31mValueError\u001b[0m                                Traceback (most recent call last)",
      "Cell \u001b[0;32mIn[54], line 1\u001b[0m\n\u001b[0;32m----> 1\u001b[0m P \u001b[38;5;241m=\u001b[39m \u001b[43msplitting\u001b[49m\u001b[38;5;241;43m.\u001b[39;49m\u001b[43morthogonal_projector\u001b[49m\u001b[43m(\u001b[49m\u001b[38;5;124;43m\"\u001b[39;49m\u001b[38;5;124;43mY\u001b[39;49m\u001b[38;5;124;43m\"\u001b[39;49m\u001b[43m)\u001b[49m\n\u001b[1;32m      3\u001b[0m r \u001b[38;5;241m=\u001b[39m np\u001b[38;5;241m.\u001b[39mrandom\u001b[38;5;241m.\u001b[39mnormal(size\u001b[38;5;241m=\u001b[39mn)\n\u001b[1;32m      4\u001b[0m p \u001b[38;5;241m=\u001b[39m r \u001b[38;5;241m-\u001b[39m (P \u001b[38;5;241m@\u001b[39m r)\n",
      "Cell \u001b[0;32mIn[38], line 33\u001b[0m, in \u001b[0;36mGeneralSplitting.orthogonal_projector\u001b[0;34m(self, which)\u001b[0m\n\u001b[1;32m     31\u001b[0m     \u001b[38;5;28;01mreturn\u001b[39;00m \u001b[38;5;28mself\u001b[39m\u001b[38;5;241m.\u001b[39mY \u001b[38;5;241m@\u001b[39m np\u001b[38;5;241m.\u001b[39mlinalg\u001b[38;5;241m.\u001b[39mpinv(\u001b[38;5;28mself\u001b[39m\u001b[38;5;241m.\u001b[39mY)\n\u001b[1;32m     32\u001b[0m \u001b[38;5;28;01melif\u001b[39;00m \u001b[38;5;28mself\u001b[39m\u001b[38;5;241m.\u001b[39mYperp \u001b[38;5;129;01mis\u001b[39;00m \u001b[38;5;129;01mnot\u001b[39;00m \u001b[38;5;28;01mNone\u001b[39;00m:\n\u001b[0;32m---> 33\u001b[0m     \u001b[38;5;28;01mreturn\u001b[39;00m np\u001b[38;5;241m.\u001b[39meye(\u001b[38;5;28mself\u001b[39m\u001b[38;5;241m.\u001b[39mn) \u001b[38;5;241m-\u001b[39m ( \u001b[38;5;28;43mself\u001b[39;49m\u001b[38;5;241;43m.\u001b[39;49m\u001b[43mYperp\u001b[49m\u001b[43m \u001b[49m\u001b[38;5;241;43m@\u001b[39;49m\u001b[43m \u001b[49m\u001b[43mnp\u001b[49m\u001b[38;5;241;43m.\u001b[39;49m\u001b[43mlinalg\u001b[49m\u001b[38;5;241;43m.\u001b[39;49m\u001b[43mnorm\u001b[49m\u001b[43m(\u001b[49m\u001b[38;5;28;43mself\u001b[39;49m\u001b[38;5;241;43m.\u001b[39;49m\u001b[43mYperp\u001b[49m\u001b[43m)\u001b[49m )\n\u001b[1;32m     34\u001b[0m \u001b[38;5;28;01melse\u001b[39;00m:\n\u001b[1;32m     35\u001b[0m     \u001b[38;5;28;01mraise\u001b[39;00m \u001b[38;5;167;01mNotImplementedError\u001b[39;00m\n",
      "\u001b[0;31mValueError\u001b[0m: matmul: Input operand 1 does not have enough dimensions (has 0, gufunc core with signature (n?,k),(k,m?)->(n?,m?) requires 1)"
     ]
    }
   ],
   "source": [
    "P = splitting.orthogonal_projector(\"Y\")\n",
    "\n",
    "r = np.random.normal(size=n)\n",
    "p = r - (P @ r)\n",
    "\n",
    "Yperp.T @ p"
   ]
  },
  {
   "cell_type": "code",
   "execution_count": null,
   "metadata": {},
   "outputs": [],
   "source": []
  },
  {
   "cell_type": "code",
   "execution_count": null,
   "metadata": {},
   "outputs": [],
   "source": []
  },
  {
   "cell_type": "code",
   "execution_count": null,
   "metadata": {},
   "outputs": [],
   "source": []
  },
  {
   "cell_type": "code",
   "execution_count": null,
   "metadata": {},
   "outputs": [],
   "source": []
  },
  {
   "cell_type": "code",
   "execution_count": 16,
   "metadata": {},
   "outputs": [],
   "source": [
    "qr_result = np.linalg.qr(X, mode=\"complete\")"
   ]
  },
  {
   "cell_type": "code",
   "execution_count": null,
   "metadata": {},
   "outputs": [],
   "source": []
  },
  {
   "cell_type": "code",
   "execution_count": null,
   "metadata": {},
   "outputs": [],
   "source": []
  },
  {
   "cell_type": "code",
   "execution_count": 18,
   "metadata": {},
   "outputs": [
    {
     "data": {
      "image/png": "[encoded data removed]",
      "text/plain": [
       "<Figure size 640x480 with 1 Axes>"
      ]
     },
     "metadata": {},
     "output_type": "display_data"
    }
   ],
   "source": [
    "plt.imshow(qr_result.Q)\n",
    "plt.show()"
   ]
  },
  {
   "cell_type": "code",
   "execution_count": 19,
   "metadata": {},
   "outputs": [
    {
     "data": {
      "image/png": "[encoded data removed]",
      "text/plain": [
       "<Figure size 640x480 with 1 Axes>"
      ]
     },
     "metadata": {},
     "output_type": "display_data"
    }
   ],
   "source": [
    "plt.imshow(qr_result.R)\n",
    "plt.show()"
   ]
  },
  {
   "cell_type": "code",
   "execution_count": 13,
   "metadata": {},
   "outputs": [
    {
     "data": {
      "text/plain": [
       "array([[-1.19074286,  0.24000431],\n",
       "       [ 0.6358134 , -1.29841957],\n",
       "       [-1.00074863, -1.20902945],\n",
       "       [ 1.82801866, -0.12912171],\n",
       "       [ 0.31206176, -0.48281133],\n",
       "       [-0.08203562, -0.95860468],\n",
       "       [-0.37531745,  1.47807141]])"
      ]
     },
     "execution_count": 13,
     "metadata": {},
     "output_type": "execute_result"
    }
   ],
   "source": [
    "X"
   ]
  },
  {
   "cell_type": "code",
   "execution_count": 15,
   "metadata": {},
   "outputs": [
    {
     "data": {
      "text/plain": [
       "array([ 0.09371562, -0.50700004, -0.47209546, -0.05041877, -0.18852563,\n",
       "       -0.37431091,  0.57714955])"
      ]
     },
     "execution_count": 15,
     "metadata": {},
     "output_type": "execute_result"
    }
   ],
   "source": [
    "X[:,1] / np.linalg.norm(X[:,1])"
   ]
  },
  {
   "cell_type": "code",
   "execution_count": 14,
   "metadata": {},
   "outputs": [
    {
     "data": {
      "text/plain": [
       "array([-0.47030588,  0.25112624, -0.39526415,  0.72200972,  0.12325455,\n",
       "       -0.03240148, -0.14823855])"
      ]
     },
     "execution_count": 14,
     "metadata": {},
     "output_type": "execute_result"
    }
   ],
   "source": [
    "X[:,0] / np.linalg.norm(X[:,0])"
   ]
  },
  {
   "cell_type": "code",
   "execution_count": null,
   "metadata": {},
   "outputs": [],
   "source": [
    "Orthogonal"
   ]
  },
  {
   "cell_type": "code",
   "execution_count": null,
   "metadata": {},
   "outputs": [],
   "source": []
  },
  {
   "cell_type": "code",
   "execution_count": null,
   "metadata": {},
   "outputs": [],
   "source": [
    "class OrthogonalProjector()"
   ]
  },
  {
   "cell_type": "code",
   "execution_count": null,
   "metadata": {},
   "outputs": [],
   "source": []
  },
  {
   "cell_type": "code",
   "execution_count": null,
   "metadata": {},
   "outputs": [],
   "source": []
  },
  {
   "cell_type": "code",
   "execution_count": null,
   "metadata": {},
   "outputs": [],
   "source": []
  },
  {
   "cell_type": "code",
   "execution_count": null,
   "metadata": {},
   "outputs": [],
   "source": []
  },
  {
   "cell_type": "code",
   "execution_count": null,
   "metadata": {},
   "outputs": [],
   "source": []
  },
  {
   "cell_type": "code",
   "execution_count": null,
   "metadata": {},
   "outputs": [],
   "source": []
  },
  {
   "cell_type": "code",
   "execution_count": null,
   "metadata": {},
   "outputs": [],
   "source": []
  },
  {
   "cell_type": "code",
   "execution_count": null,
   "metadata": {},
   "outputs": [],
   "source": []
  }
 ],
 "metadata": {
  "kernelspec": {
   "display_name": "jlinops",
   "language": "python",
   "name": "python3"
  },
  "language_info": {
   "codemirror_mode": {
    "name": "ipython",
    "version": 3
   },
   "file_extension": ".py",
   "mimetype": "text/x-python",
   "name": "python",
   "nbconvert_exporter": "python",
   "pygments_lexer": "ipython3",
   "version": "3.11.6"
  }
 },
 "nbformat": 4,
 "nbformat_minor": 2
}
