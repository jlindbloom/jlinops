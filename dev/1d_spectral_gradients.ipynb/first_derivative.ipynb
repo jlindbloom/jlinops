{
 "cells": [
  {
   "cell_type": "code",
   "execution_count": 28,
   "metadata": {},
   "outputs": [],
   "source": [
    "import numpy as np\n",
    "import matplotlib.pyplot as plt\n",
    "\n",
    "from scipy.fft import dct as sp_dct\n",
    "from scipy.fft import idct as sp_idct\n",
    "\n",
    "from jlinops import _CustomLinearOperator\n",
    "import jlinops"
   ]
  },
  {
   "cell_type": "markdown",
   "metadata": {},
   "source": [
    "# First derivative"
   ]
  },
  {
   "cell_type": "code",
   "execution_count": 167,
   "metadata": {},
   "outputs": [],
   "source": [
    "n = 10\n",
    "R, W = jlinops.second_order_derivative_1d(n, boundary=\"none\")\n",
    "R = R.toarray()\n",
    "A = R.T @ R"
   ]
  },
  {
   "cell_type": "code",
   "execution_count": 168,
   "metadata": {},
   "outputs": [
    {
     "data": {
      "image/png": "[encoded data removed]",
      "text/plain": [
       "<Figure size 640x480 with 1 Axes>"
      ]
     },
     "metadata": {},
     "output_type": "display_data"
    }
   ],
   "source": [
    "plt.imshow(R)\n",
    "plt.show()"
   ]
  },
  {
   "cell_type": "code",
   "execution_count": 169,
   "metadata": {},
   "outputs": [
    {
     "data": {
      "image/png": "[encoded data removed]",
      "text/plain": [
       "<Figure size 640x480 with 1 Axes>"
      ]
     },
     "metadata": {},
     "output_type": "display_data"
    }
   ],
   "source": [
    "plt.imshow(A)\n",
    "plt.show()"
   ]
  },
  {
   "cell_type": "code",
   "execution_count": 164,
   "metadata": {},
   "outputs": [],
   "source": [
    "v = np.random.normal(size=n) + 10.0\n",
    "#v = np.ones(n)\n",
    "tmp = A @ sp_idct( v, norm=\"ortho\" )  \n",
    "tmp = sp_dct( tmp, norm=\"ortho\" )\n",
    "res = tmp/v.flatten()\n",
    "# if make_pos:\n",
    "#     res = np.abs(res)\n",
    "# return res"
   ]
  },
  {
   "cell_type": "code",
   "execution_count": 165,
   "metadata": {},
   "outputs": [
    {
     "data": {
      "text/plain": [
       "array([2.57092048e-17, 9.78869674e-02, 3.81966011e-01, 8.24429495e-01,\n",
       "       1.38196601e+00, 2.00000000e+00, 2.61803399e+00, 3.17557050e+00,\n",
       "       3.61803399e+00, 3.90211303e+00])"
      ]
     },
     "execution_count": 165,
     "metadata": {},
     "output_type": "execute_result"
    }
   ],
   "source": [
    "res"
   ]
  },
  {
   "cell_type": "code",
   "execution_count": 166,
   "metadata": {},
   "outputs": [
    {
     "data": {
      "text/plain": [
       "array([ 3.90211303e+00,  3.61803399e+00,  3.17557050e+00,  2.61803399e+00,\n",
       "        2.00000000e+00,  1.38196601e+00,  8.24429495e-01, -2.40543504e-16,\n",
       "        9.78869674e-02,  3.81966011e-01])"
      ]
     },
     "execution_count": 166,
     "metadata": {},
     "output_type": "execute_result"
    }
   ],
   "source": [
    "np.linalg.eigvals(A)"
   ]
  },
  {
   "cell_type": "code",
   "execution_count": null,
   "metadata": {},
   "outputs": [],
   "source": []
  },
  {
   "cell_type": "code",
   "execution_count": null,
   "metadata": {},
   "outputs": [],
   "source": []
  },
  {
   "cell_type": "code",
   "execution_count": 29,
   "metadata": {},
   "outputs": [],
   "source": [
    "\n",
    "class DCT(_CustomLinearOperator):\n",
    "    \"\"\"Represents a 1-dimensional DCT transform.\n",
    "    \"\"\"\n",
    "    def __init__(self, n, device=\"cpu\", type=2):\n",
    "        \n",
    "        # Handle shape\n",
    "        self.n = n\n",
    "        self.type = type\n",
    "        shape = (n,n)\n",
    "        \n",
    "        if device == \"cpu\":\n",
    "            \n",
    "            def _matvec(x):\n",
    "                return sp_dct( x, norm=\"ortho\", type=self.type )\n",
    "            \n",
    "            def _rmatvec(x):\n",
    "                return sp_idct( x, norm=\"ortho\", type=self.type )\n",
    "            \n",
    "        else:\n",
    "            \n",
    "            raise NotImplementedError\n",
    "        \n",
    "            # def _matvec(x):\n",
    "            #     return cp_dctn( x.reshape(self.grid_shape), norm=\"ortho\", type=self.type ).flatten()\n",
    "            \n",
    "            # def _rmatvec(x):\n",
    "            #     return cp_idctn( x.reshape(self.grid_shape), norm=\"ortho\", type=self.type ).flatten()\n",
    "              \n",
    "        super().__init__(shape, _matvec, _rmatvec, device=device)\n",
    "        \n",
    "    \n",
    "    def to_gpu(self):\n",
    "        return DCT(self.n, device=\"gpu\", type=self.type)\n",
    "    \n",
    "    def to_cpu(self):\n",
    "        return DCT(self.n, device=\"cpu\", type=self.type)\n"
   ]
  },
  {
   "cell_type": "code",
   "execution_count": 32,
   "metadata": {},
   "outputs": [],
   "source": [
    "from jlinops import DiagonalOperator, first_order_derivative_1d"
   ]
  },
  {
   "cell_type": "code",
   "execution_count": 89,
   "metadata": {},
   "outputs": [],
   "source": [
    "def get_1d_lap_reflexive_pinv(n, eps=1e-14):\n",
    "    \"\"\"Returns a linear operator implementing M^\\dagger, \n",
    "    where M = R^T R is a laplacian with reflexive boundary \n",
    "    conditions made using first_order_derivative_1d\n",
    "    with reflexive boundary.\n",
    "    \"\"\"\n",
    "\n",
    "    R, _ = first_order_derivative_1d(n, boundary=\"reflexive\")\n",
    "    A = R.T @ R\n",
    "\n",
    "    # Compute eigenvalues\n",
    "    v = np.random.normal(size=n) + 10.0\n",
    "    tmp = A @ sp_idct( v, norm=\"ortho\" )  \n",
    "    tmp = sp_dct( tmp, norm=\"ortho\" )\n",
    "    eigvals = tmp/v.flatten()\n",
    "    \n",
    "    # Take reciprocal of nonzeros and build pinv operator\n",
    "    recip_eigvals = np.where( np.abs(eigvals) < eps, eigvals, 1.0 / np.clip(eigvals, a_min=eps, a_max=None) )\n",
    "    recip_eigvals = np.where( np.abs(eigvals) < eps, np.zeros_like(eigvals), recip_eigvals )\n",
    "    D = DiagonalOperator(recip_eigvals)\n",
    "    P = DCT(n)\n",
    "\n",
    "    return P.T @ (D @ P)"
   ]
  },
  {
   "cell_type": "code",
   "execution_count": 90,
   "metadata": {},
   "outputs": [],
   "source": [
    "Mpinv2 = get_1d_lap_reflexive_pinv(10)"
   ]
  },
  {
   "cell_type": "code",
   "execution_count": 91,
   "metadata": {},
   "outputs": [],
   "source": [
    "R, _ = jlinops.first_order_derivative_1d(n)\n",
    "R = R.toarray()"
   ]
  },
  {
   "cell_type": "code",
   "execution_count": 92,
   "metadata": {},
   "outputs": [],
   "source": [
    "A = R.T @ R"
   ]
  },
  {
   "cell_type": "code",
   "execution_count": 93,
   "metadata": {},
   "outputs": [
    {
     "data": {
      "text/plain": [
       "4.5096057258543755e-14"
      ]
     },
     "execution_count": 93,
     "metadata": {},
     "output_type": "execute_result"
    }
   ],
   "source": [
    "np.linalg.norm( np.linalg.pinv(A) - jlinops.black_box_to_dense(Mpinv2) )"
   ]
  },
  {
   "cell_type": "code",
   "execution_count": null,
   "metadata": {},
   "outputs": [],
   "source": []
  },
  {
   "cell_type": "markdown",
   "metadata": {},
   "source": [
    "# Try it on the weighted version"
   ]
  },
  {
   "cell_type": "code",
   "execution_count": 97,
   "metadata": {},
   "outputs": [],
   "source": [
    "from scipy.sparse.linalg import cg\n",
    "import scipy.sparse as sps"
   ]
  },
  {
   "cell_type": "code",
   "execution_count": 125,
   "metadata": {},
   "outputs": [],
   "source": [
    "np.random.seed(0)\n",
    "\n",
    "n = 1000\n",
    "R, W = jlinops.first_order_derivative_1d(n)\n",
    "Wpinv = np.linalg.pinv(W)\n",
    "w = np.random.uniform(low=1e-1, high=1e1, size=R.shape[0])\n",
    "L = R.T @ sps.diags(w) @ R\n",
    "b = np.random.normal(size=n)\n",
    "b -= W @ (Wpinv @ b)"
   ]
  },
  {
   "cell_type": "code",
   "execution_count": 128,
   "metadata": {},
   "outputs": [
    {
     "name": "stdout",
     "output_type": "stream",
     "text": [
      "without preconditioner: 1214\n",
      "with preconditioner: 26\n"
     ]
    }
   ],
   "source": [
    "tol = 1e-1\n",
    "\n",
    "iteration_count = [0]\n",
    "def callback(xk):\n",
    "    iteration_count[0] += 1\n",
    "\n",
    "sol, _ = cg(L, b, tol=tol, callback=callback)\n",
    "tot_its = iteration_count[0]\n",
    "print(f\"without preconditioner: {tot_its}\")\n",
    "\n",
    "\n",
    "Mpinv = get_1d_lap_reflexive_pinv(n)\n",
    "\n",
    "iteration_count = [0]\n",
    "def callback(xk):\n",
    "    iteration_count[0] += 1\n",
    "\n",
    "sol, _ = cg(L, b, tol=tol, callback=callback, M=Mpinv)\n",
    "tot_its = iteration_count[0]\n",
    "print(f\"with preconditioner: {tot_its}\")"
   ]
  },
  {
   "cell_type": "code",
   "execution_count": null,
   "metadata": {},
   "outputs": [],
   "source": []
  },
  {
   "cell_type": "code",
   "execution_count": null,
   "metadata": {},
   "outputs": [],
   "source": []
  },
  {
   "cell_type": "markdown",
   "metadata": {},
   "source": [
    "# Make pinv CG operator"
   ]
  },
  {
   "cell_type": "code",
   "execution_count": 130,
   "metadata": {},
   "outputs": [],
   "source": [
    "from jlinops import QRPinvOperator\n",
    "from scipy.sparse.linalg import cg as sp_cg"
   ]
  },
  {
   "cell_type": "code",
   "execution_count": 144,
   "metadata": {},
   "outputs": [],
   "source": [
    "class PCGSSPDPinvOperator(_CustomLinearOperator):\n",
    "    \"\"\"Returns a linear operator that approximately computes the pseudoinverse of a SSPD matrix A using \n",
    "    a preconditioned conjugate gradient method. Modifed so that it only ever solves systems with A^T A. \n",
    "    \n",
    "    W: a LinearOperator representing a matrix with linearly independent columns that spans null(A).\n",
    "    Wpinv: a LinearOperator represening the pseudoinverse of W.\n",
    "    Mpinv: preconditioner with col(M) = col(A).\n",
    "    \"\"\"\n",
    "\n",
    "    def __init__(self, A, Mpinv, W, Wpinv=None, check=False, *args, **kwargs):\n",
    "        \n",
    "        device = A.device\n",
    "        n = A.shape[1]\n",
    "        shape = (n,n)\n",
    "        self.A = A\n",
    "        self.Mpinv = Mpinv\n",
    "        self.W = W\n",
    "        self.check = check\n",
    "\n",
    "        # Build Wpinv if not passed\n",
    "        if Wpinv is None:\n",
    "            self.Wpinv = QRPinvOperator(W.A)\n",
    "        else:\n",
    "            self.Wpinv = Wpinv\n",
    "\n",
    "        if device == \"cpu\":\n",
    "\n",
    "            def _matvec(x):\n",
    "                # Project onto col(A)\n",
    "                x -= self.W @ (self.Wpinv @ x)\n",
    "                sol, converged = sp_cg(self.A, x, *args, **kwargs) \n",
    "                if self.check:\n",
    "                    assert converged == 0, \"CG algorithm did not converge!\"\n",
    "                \n",
    "                return sol\n",
    "        else:\n",
    "            raise NotImplementedError\n",
    "\n",
    "\n",
    "\n",
    "\n",
    "\n",
    "        super().__init__( shape, _matvec, _matvec, dtype=np.float64, device=device)\n",
    "        \n",
    "        \n",
    "    def to_gpu(self):\n",
    "        raise NotImplementedError\n",
    "       \n",
    "    \n",
    "        \n",
    "    def to_cpu(self):\n",
    "        raise NotImplementedError\n",
    "    "
   ]
  },
  {
   "cell_type": "code",
   "execution_count": 145,
   "metadata": {},
   "outputs": [],
   "source": [
    "np.random.seed(0)\n",
    "\n",
    "n = 1000\n",
    "R, W = jlinops.first_order_derivative_1d(n)\n",
    "Wpinv = np.linalg.pinv(W)\n",
    "Mpinv = get_1d_lap_reflexive_pinv(n)\n",
    "w = np.random.uniform(low=1e-1, high=1e1, size=R.shape[0])\n",
    "L = jlinops.MatrixLinearOperator(R.T @ sps.diags(w) @ R)"
   ]
  },
  {
   "cell_type": "code",
   "execution_count": 150,
   "metadata": {},
   "outputs": [],
   "source": [
    "Apinv = PCGSSPDPinvOperator(L, Mpinv, jlinops.MatrixLinearOperator(W), jlinops.MatrixLinearOperator(Wpinv) , tol=1e-8)"
   ]
  },
  {
   "cell_type": "code",
   "execution_count": 152,
   "metadata": {},
   "outputs": [
    {
     "name": "stdout",
     "output_type": "stream",
     "text": [
      "8.437075827375068e-07\n",
      "9.276002891748891e-07\n",
      "4.231744839698986e-06\n",
      "1.6763477847182637e-06\n",
      "9.104792383371485e-07\n",
      "3.812797847443244e-07\n",
      "1.7733535164671878e-06\n",
      "3.0573908715995366e-07\n",
      "1.5840570778420764e-06\n",
      "4.603522715252106e-06\n",
      "4.631035208994678e-06\n",
      "2.4978050033916537e-06\n",
      "2.039936714068831e-06\n",
      "3.3085589965239385e-06\n",
      "1.2953424304304457e-06\n",
      "7.723378719655148e-07\n",
      "3.7697530158048492e-06\n",
      "2.370971529029612e-06\n",
      "1.6098288875584443e-06\n",
      "1.3936497207843411e-06\n"
     ]
    }
   ],
   "source": [
    "Apinv_true = np.linalg.pinv(L.A.toarray())\n",
    "for j in range(20):\n",
    "    u = np.random.normal(size=n)\n",
    "    true_matvec = Apinv_true @ u\n",
    "    test_matvec = Apinv @ u\n",
    "    print(np.linalg.norm(true_matvec - test_matvec))"
   ]
  },
  {
   "cell_type": "markdown",
   "metadata": {},
   "source": []
  },
  {
   "cell_type": "markdown",
   "metadata": {},
   "source": [
    "# Now operator that builds it"
   ]
  },
  {
   "cell_type": "code",
   "execution_count": null,
   "metadata": {},
   "outputs": [],
   "source": [
    "class Weighted1DGradGramPinv:\n",
    "\n",
    "    def __init__(self, n, weights, order=1):\n",
    "\n",
    "        \n",
    "        self.order = order\n",
    "        if self.order == 1:\n",
    "            R, W = first_order_derivative_1d(n, boundary=\"none\")\n",
    "        elif self.order == 2:\n",
    "            R, W = first_order_derivative_1d(n, boundary=\"none\")\n",
    "        elif self.order == 3:\n",
    "            return "
   ]
  },
  {
   "cell_type": "code",
   "execution_count": 155,
   "metadata": {},
   "outputs": [
    {
     "data": {
      "text/plain": [
       "(<8x10 sparse matrix of type '<class 'numpy.float64'>'\n",
       " \twith 24 stored elements in List of Lists format>,\n",
       " array([[0.31622777, 0.        ],\n",
       "        [0.31622777, 0.05923489],\n",
       "        [0.31622777, 0.11846978],\n",
       "        [0.31622777, 0.17770466],\n",
       "        [0.31622777, 0.23693955],\n",
       "        [0.31622777, 0.29617444],\n",
       "        [0.31622777, 0.35540933],\n",
       "        [0.31622777, 0.41464421],\n",
       "        [0.31622777, 0.4738791 ],\n",
       "        [0.31622777, 0.53311399]]))"
      ]
     },
     "execution_count": 155,
     "metadata": {},
     "output_type": "execute_result"
    }
   ],
   "source": [
    "jlinops.second_order_derivative_1d(10, boundary=\"none\")"
   ]
  },
  {
   "cell_type": "code",
   "execution_count": 156,
   "metadata": {},
   "outputs": [],
   "source": [
    "\n",
    "def second_order_derivative_1d(N, boundary=\"none\"):\n",
    "    \"\"\"Constructs a SciPy sparse matrix that extracts the (1D) discrete gradient of an input signal.\n",
    "    Boundary parameter specifies how to handle the boundary conditions.\n",
    "    \"\"\"\n",
    "    \n",
    "    assert boundary in [\"none\"], \"Invalid boundary parameter.\"\n",
    "    \n",
    "    d_mat = -sps.eye(N)\n",
    "    d_mat.setdiag(2,k=1)\n",
    "    d_mat.setdiag(-1,k=2)\n",
    "    d_mat = d_mat.tolil()\n",
    "    \n",
    "    if boundary == \"periodic\":\n",
    "        d_mat[-2,0] = -1\n",
    "        d_mat[-1,0] = 2\n",
    "        d_mat[-1,1] = -1\n",
    "        raise NotImplementedError\n",
    "    elif boundary == \"zero\":\n",
    "        raise NotImplementedError\n",
    "    elif boundary == \"none\":\n",
    "        d_mat = d_mat[:-2, :]\n",
    "        w1 = np.ones(N)/np.linalg.norm(np.ones(N))\n",
    "        w2 = np.arange(N)/np.linalg.norm(np.arange(N))\n",
    "        W = np.vstack([w1, w2]).T\n",
    "    else:\n",
    "        pass\n",
    "    \n",
    "    return d_mat, W"
   ]
  },
  {
   "cell_type": "code",
   "execution_count": 159,
   "metadata": {},
   "outputs": [
    {
     "data": {
      "image/png": "[encoded data removed]",
      "text/plain": [
       "<Figure size 640x480 with 1 Axes>"
      ]
     },
     "metadata": {},
     "output_type": "display_data"
    }
   ],
   "source": [
    "R, _ = second_order_derivative_1d(10, boundary=\"none\")\n",
    "R = R.toarray()\n",
    "\n",
    "plt.imshow(R.T @ R)\n",
    "plt.show()"
   ]
  },
  {
   "cell_type": "code",
   "execution_count": 160,
   "metadata": {},
   "outputs": [
    {
     "ename": "AssertionError",
     "evalue": "Invalid boundary parameter.",
     "output_type": "error",
     "traceback": [
      "\u001b[0;31m---------------------------------------------------------------------------\u001b[0m",
      "\u001b[0;31mAssertionError\u001b[0m                            Traceback (most recent call last)",
      "Cell \u001b[0;32mIn[160], line 1\u001b[0m\n\u001b[0;32m----> 1\u001b[0m R, _ \u001b[38;5;241m=\u001b[39m \u001b[43msecond_order_derivative_1d\u001b[49m\u001b[43m(\u001b[49m\u001b[38;5;241;43m10\u001b[39;49m\u001b[43m,\u001b[49m\u001b[43m \u001b[49m\u001b[43mboundary\u001b[49m\u001b[38;5;241;43m=\u001b[39;49m\u001b[38;5;124;43m\"\u001b[39;49m\u001b[38;5;124;43mzero\u001b[39;49m\u001b[38;5;124;43m\"\u001b[39;49m\u001b[43m)\u001b[49m\n\u001b[1;32m      2\u001b[0m R \u001b[38;5;241m=\u001b[39m R\u001b[38;5;241m.\u001b[39mtoarray()\n\u001b[1;32m      4\u001b[0m plt\u001b[38;5;241m.\u001b[39mimshow(R\u001b[38;5;241m.\u001b[39mT \u001b[38;5;241m@\u001b[39m R)\n",
      "Cell \u001b[0;32mIn[156], line 6\u001b[0m, in \u001b[0;36msecond_order_derivative_1d\u001b[0;34m(N, boundary)\u001b[0m\n\u001b[1;32m      1\u001b[0m \u001b[38;5;28;01mdef\u001b[39;00m \u001b[38;5;21msecond_order_derivative_1d\u001b[39m(N, boundary\u001b[38;5;241m=\u001b[39m\u001b[38;5;124m\"\u001b[39m\u001b[38;5;124mnone\u001b[39m\u001b[38;5;124m\"\u001b[39m):\n\u001b[1;32m      2\u001b[0m \u001b[38;5;250m    \u001b[39m\u001b[38;5;124;03m\"\"\"Constructs a SciPy sparse matrix that extracts the (1D) discrete gradient of an input signal.\u001b[39;00m\n\u001b[1;32m      3\u001b[0m \u001b[38;5;124;03m    Boundary parameter specifies how to handle the boundary conditions.\u001b[39;00m\n\u001b[1;32m      4\u001b[0m \u001b[38;5;124;03m    \"\"\"\u001b[39;00m\n\u001b[0;32m----> 6\u001b[0m     \u001b[38;5;28;01massert\u001b[39;00m boundary \u001b[38;5;129;01min\u001b[39;00m [\u001b[38;5;124m\"\u001b[39m\u001b[38;5;124mnone\u001b[39m\u001b[38;5;124m\"\u001b[39m], \u001b[38;5;124m\"\u001b[39m\u001b[38;5;124mInvalid boundary parameter.\u001b[39m\u001b[38;5;124m\"\u001b[39m\n\u001b[1;32m      8\u001b[0m     d_mat \u001b[38;5;241m=\u001b[39m \u001b[38;5;241m-\u001b[39msps\u001b[38;5;241m.\u001b[39meye(N)\n\u001b[1;32m      9\u001b[0m     d_mat\u001b[38;5;241m.\u001b[39msetdiag(\u001b[38;5;241m2\u001b[39m,k\u001b[38;5;241m=\u001b[39m\u001b[38;5;241m1\u001b[39m)\n",
      "\u001b[0;31mAssertionError\u001b[0m: Invalid boundary parameter."
     ]
    }
   ],
   "source": [
    "R, _ = second_order_derivative_1d(10, boundary=\"none\")\n",
    "R = R.toarray()\n",
    "\n",
    "plt.imshow(R.T @ R)\n",
    "plt.show()"
   ]
  },
  {
   "cell_type": "code",
   "execution_count": null,
   "metadata": {},
   "outputs": [],
   "source": []
  },
  {
   "cell_type": "code",
   "execution_count": null,
   "metadata": {},
   "outputs": [],
   "source": []
  },
  {
   "cell_type": "code",
   "execution_count": null,
   "metadata": {},
   "outputs": [],
   "source": []
  },
  {
   "cell_type": "code",
   "execution_count": null,
   "metadata": {},
   "outputs": [],
   "source": []
  }
 ],
 "metadata": {
  "kernelspec": {
   "display_name": "jlinops",
   "language": "python",
   "name": "python3"
  },
  "language_info": {
   "codemirror_mode": {
    "name": "ipython",
    "version": 3
   },
   "file_extension": ".py",
   "mimetype": "text/x-python",
   "name": "python",
   "nbconvert_exporter": "python",
   "pygments_lexer": "ipython3",
   "version": "3.11.6"
  }
 },
 "nbformat": 4,
 "nbformat_minor": 2
}
