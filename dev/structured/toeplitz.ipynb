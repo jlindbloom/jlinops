{
 "cells": [
  {
   "cell_type": "code",
   "execution_count": 13,
   "metadata": {},
   "outputs": [],
   "source": [
    "import numpy as np\n",
    "import matplotlib.pyplot as plt\n",
    "\n",
    "from scipy.linalg import toeplitz as sp_toeplitz\n",
    "\n",
    "from scipy.sparse.linalg import LinearOperator\n",
    "from numpy.fft import fft, ifft\n",
    "\n",
    "import jlinops"
   ]
  },
  {
   "cell_type": "code",
   "execution_count": 71,
   "metadata": {},
   "outputs": [],
   "source": [
    "def toeplitz_linear_operator(first_column, first_row):\n",
    "    n = len(first_column)  # Number of rows\n",
    "    m = len(first_row)     # Number of columns\n",
    "    p = max(n, m)          # Size of the embedding circulant matrix (at least as large as the longest dimension)\n",
    "\n",
    "    # Check if the first element of first_column and first_row is the same\n",
    "    if first_column[0] != first_row[0]:\n",
    "        raise ValueError(\"The first element of first_column and first_row must be the same.\")\n",
    "\n",
    "    # Create the embedding circulant matrix's first column\n",
    "    c = np.concatenate((first_column, np.zeros(p - n)))\n",
    "    r = np.concatenate((first_row, np.zeros(p - m)))\n",
    "    circulant_first_col = np.concatenate((c, r[-1:0:-1]))\n",
    "\n",
    "    circulant_first_col_fft = fft(circulant_first_col, n=2*p - 1)  # FFT with padding\n",
    "\n",
    "    def matvec(v):\n",
    "        if len(v) != m:\n",
    "            raise ValueError(\"Vector length must match the number of columns of the Toeplitz matrix.\")\n",
    "        v_padded = np.concatenate((v, np.zeros(2*p - 1 - m)))\n",
    "        v_fft = fft(v_padded)\n",
    "        result_fft = circulant_first_col_fft * v_fft\n",
    "        result = np.real(ifft(result_fft))\n",
    "        return result[:n]\n",
    "\n",
    "    return LinearOperator((n, m), matvec=matvec)\n"
   ]
  },
  {
   "cell_type": "code",
   "execution_count": 72,
   "metadata": {},
   "outputs": [
    {
     "name": "stdout",
     "output_type": "stream",
     "text": [
      "[101.  67.  46.  70.]\n"
     ]
    }
   ],
   "source": [
    "\n",
    "# Example Usage for a rectangular Toeplitz matrix\n",
    "first_column = np.array([1, 2, 3, 4])  # First column of the Toeplitz matrix\n",
    "first_row = np.array([1, 5, 6])       # First row of the Toeplitz matrix\n",
    "T = toeplitz_linear_operator(first_column, first_row)\n",
    "v = np.array([7, 8, 9])               # Vector for multiplication\n",
    "result = T @ v                        # Perform the matrix-vector multiplication\n",
    "print(result)\n"
   ]
  },
  {
   "cell_type": "code",
   "execution_count": 73,
   "metadata": {},
   "outputs": [
    {
     "data": {
      "text/plain": [
       "array([[1., 5., 6.],\n",
       "       [2., 1., 5.],\n",
       "       [3., 2., 1.],\n",
       "       [4., 3., 2.]])"
      ]
     },
     "execution_count": 73,
     "metadata": {},
     "output_type": "execute_result"
    }
   ],
   "source": [
    "jlinops.black_box_to_dense(T)"
   ]
  },
  {
   "cell_type": "code",
   "execution_count": 74,
   "metadata": {},
   "outputs": [
    {
     "data": {
      "image/png": "[encoded data removed]",
      "text/plain": [
       "<Figure size 640x480 with 1 Axes>"
      ]
     },
     "metadata": {},
     "output_type": "display_data"
    }
   ],
   "source": [
    "plt.imshow(jlinops.black_box_to_dense(T))\n",
    "plt.show()"
   ]
  },
  {
   "cell_type": "markdown",
   "metadata": {},
   "source": [
    "# Operator"
   ]
  },
  {
   "cell_type": "code",
   "execution_count": 92,
   "metadata": {},
   "outputs": [],
   "source": [
    "from jlinops import _CustomLinearOperator, get_device"
   ]
  },
  {
   "cell_type": "code",
   "execution_count": 93,
   "metadata": {},
   "outputs": [],
   "source": [
    "class ToeplitzOperator(_CustomLinearOperator):\n",
    "    \"\"\"Represents a circulant LinearOperator.\n",
    "    \"\"\"\n",
    "    def __init__(self, first_column, first_row=None):\n",
    "        \n",
    "        n = len(first_column)  # Number of rows\n",
    "        device = get_device(first_column) # get device\n",
    "\n",
    "        # Make symmetric if first_row is not given\n",
    "        if first_row is None:\n",
    "            first_row = first_column\n",
    "\n",
    "        m = len(first_row)     # Number of columns\n",
    "        p = max(n, m)          # Size of the embedding circulant matrix (at least as large as the longest dimension)\n",
    "        shape = (n, m)         # Shape\n",
    "\n",
    "        # Check if the first element of first_column and first_row is the same\n",
    "        if first_column[0] != first_row[0]:\n",
    "            raise ValueError(\"The first element of first_column and first_row must be the same.\")\n",
    "\n",
    "        # Store column\n",
    "        self.first_column = first_column\n",
    "        self.first_row = first_row\n",
    "\n",
    "        if device == \"cpu\":\n",
    "\n",
    "            # Setup\n",
    "            c = np.concatenate((first_column, np.zeros(p - n)))\n",
    "            r = np.concatenate((first_row, np.zeros(p - m)))\n",
    "            circulant_first_col = np.concatenate((c, r[-1:0:-1]))\n",
    "            circulant_first_col_fft = fft(circulant_first_col, n=2*p - 1)  # FFT with padding\n",
    "            \n",
    "            adjoint_first_col = np.concatenate((first_row[::-1], np.zeros(p - m)))\n",
    "            adjoint_first_row = np.concatenate((first_column[::-1], np.zeros(p - n)))\n",
    "            adjoint_circulant_first_col = np.concatenate((adjoint_first_col, adjoint_first_row[-1:0:-1]))\n",
    "            adjoint_circulant_first_col_fft = fft(adjoint_circulant_first_col, n=2*p - 1)\n",
    "\n",
    "\n",
    "            def _matvec(v):\n",
    "                if len(v) != m:\n",
    "                    raise ValueError(\"Vector length must match the number of columns of the Toeplitz matrix.\")\n",
    "                v_padded = np.concatenate((v, np.zeros(2*p - 1 - m)))\n",
    "                v_fft = fft(v_padded)\n",
    "                result_fft = circulant_first_col_fft * v_fft\n",
    "                result = np.real(ifft(result_fft))\n",
    "                return result[:n]\n",
    "            \n",
    "            def _rmatvec(v):\n",
    "                if len(v) != n:\n",
    "                    raise ValueError(\"Vector length must match the number of rows of the Toeplitz matrix.\")\n",
    "                v_padded = np.concatenate((v, np.zeros(2*p - 1 - n)))\n",
    "                v_fft = fft(v_padded)\n",
    "                result_fft = adjoint_circulant_first_col_fft * v_fft\n",
    "                result = np.real(ifft(result_fft))\n",
    "                return result[:m]\n",
    "\n",
    "\n",
    "        else:\n",
    "\n",
    "            pass\n",
    "        \n",
    "\n",
    "        super().__init__(shape, _matvec, rmatvec=_rmatvec, device=device)\n",
    "\n",
    "\n",
    "\n",
    "    #     # shape\n",
    "    #     n = len(self.column)\n",
    "\n",
    "    #     # Get device\n",
    "    #     device = get_device(self.column)\n",
    "\n",
    "    #     if device == \"cpu\":\n",
    "            \n",
    "    #         self.first_col_fft = fft(first_column)\n",
    "    #         self.first_col_fft_conj = np.conj(self.first_col_fft)\n",
    "\n",
    "    #         def _matvec(v):\n",
    "    #             v_fft = fft(v)\n",
    "    #             result_fft = self.first_col_fft * v_fft  # Element-wise multiplication\n",
    "    #             return np.real(ifft(result_fft))  # Inverse FFT and take the real part\n",
    "            \n",
    "    #         def _rmatvec(v):\n",
    "    #             v_fft = fft(v)\n",
    "    #             result_fft = self.first_col_fft_conj * v_fft\n",
    "    #             return np.real(ifft(result_fft))\n",
    "            \n",
    "    #     else:\n",
    "\n",
    "    #         self.first_col_fft = fft(first_column)\n",
    "    #         self.first_col_fft_conj = np.conj(self.first_col_fft)\n",
    "\n",
    "    #         def _matvec(v):\n",
    "    #             v_fft = fft(v)\n",
    "    #             result_fft = self.first_col_fft * v_fft  # Element-wise multiplication\n",
    "    #             return np.real(ifft(result_fft))  # Inverse FFT and take the real part\n",
    "            \n",
    "    #         def _rmatvec(v):\n",
    "    #             v_fft = fft(v)\n",
    "    #             result_fft = self.first_col_fft_conj * v_fft\n",
    "    #             return np.real(ifft(result_fft))\n",
    "\n",
    "    #     super().__init__((n,n), _matvec, _rmatvec, device=device)\n",
    "\n",
    "    # def to_gpu(self):\n",
    "    #     return ToeplitzOperator(cp.asarray(self.column))\n",
    "    \n",
    "    # def to_cpu(self):\n",
    "    #     return ToeplitzOperator(cp.asnumpy(self.column))"
   ]
  },
  {
   "cell_type": "code",
   "execution_count": 94,
   "metadata": {},
   "outputs": [],
   "source": [
    "T = ToeplitzOperator(np.random.normal(size=5))"
   ]
  },
  {
   "cell_type": "code",
   "execution_count": 95,
   "metadata": {},
   "outputs": [
    {
     "data": {
      "image/png": "[encoded data removed]",
      "text/plain": [
       "<Figure size 640x480 with 1 Axes>"
      ]
     },
     "metadata": {},
     "output_type": "display_data"
    }
   ],
   "source": [
    "plt.imshow( jlinops.black_box_to_dense(T) )\n",
    "plt.show()"
   ]
  },
  {
   "cell_type": "code",
   "execution_count": 96,
   "metadata": {},
   "outputs": [],
   "source": [
    "first_col = np.random.normal(size=5)\n",
    "first_row = np.random.normal(size=7)\n",
    "first_row[0] = first_col[0]\n",
    "T = ToeplitzOperator(first_row, first_col)"
   ]
  },
  {
   "cell_type": "code",
   "execution_count": 97,
   "metadata": {},
   "outputs": [
    {
     "data": {
      "text/plain": [
       "<7x5 ToeplitzOperator with dtype=float64>"
      ]
     },
     "execution_count": 97,
     "metadata": {},
     "output_type": "execute_result"
    }
   ],
   "source": [
    "T"
   ]
  },
  {
   "cell_type": "code",
   "execution_count": 98,
   "metadata": {},
   "outputs": [
    {
     "data": {
      "text/plain": [
       "False"
      ]
     },
     "execution_count": 98,
     "metadata": {},
     "output_type": "execute_result"
    }
   ],
   "source": [
    "jlinops.check_adjoint(T)"
   ]
  },
  {
   "cell_type": "code",
   "execution_count": null,
   "metadata": {},
   "outputs": [],
   "source": []
  },
  {
   "cell_type": "code",
   "execution_count": null,
   "metadata": {},
   "outputs": [],
   "source": []
  },
  {
   "cell_type": "code",
   "execution_count": null,
   "metadata": {},
   "outputs": [],
   "source": []
  },
  {
   "cell_type": "code",
   "execution_count": null,
   "metadata": {},
   "outputs": [],
   "source": []
  },
  {
   "cell_type": "code",
   "execution_count": null,
   "metadata": {},
   "outputs": [],
   "source": []
  },
  {
   "cell_type": "code",
   "execution_count": null,
   "metadata": {},
   "outputs": [],
   "source": []
  },
  {
   "cell_type": "code",
   "execution_count": 9,
   "metadata": {},
   "outputs": [],
   "source": [
    "def random_toeplitz_matrix(n, which=\"matrix\"):\n",
    "    \"\"\"Generates a random circulant matrix.\n",
    "    \"\"\"\n",
    "    \n",
    "    # Draw random column vector\n",
    "    col = np.random.normal(size=n)\n",
    "\n",
    "    if which == \"matrix\":\n",
    "        return sp_toeplitz(col)\n",
    "\n",
    "    # elif which == \"operator\":\n",
    "    #     return CirculantOperator(col)\n",
    "\n",
    "    else:\n",
    "        raise NotImplementedError"
   ]
  },
  {
   "cell_type": "code",
   "execution_count": 11,
   "metadata": {},
   "outputs": [
    {
     "data": {
      "image/png": "[encoded data removed]",
      "text/plain": [
       "<Figure size 640x480 with 1 Axes>"
      ]
     },
     "metadata": {},
     "output_type": "display_data"
    }
   ],
   "source": [
    "plt.imshow(random_toeplitz_matrix(5))\n",
    "plt.show()"
   ]
  },
  {
   "cell_type": "code",
   "execution_count": null,
   "metadata": {},
   "outputs": [],
   "source": []
  },
  {
   "cell_type": "code",
   "execution_count": null,
   "metadata": {},
   "outputs": [],
   "source": []
  },
  {
   "cell_type": "code",
   "execution_count": null,
   "metadata": {},
   "outputs": [],
   "source": []
  },
  {
   "cell_type": "code",
   "execution_count": null,
   "metadata": {},
   "outputs": [],
   "source": []
  },
  {
   "cell_type": "code",
   "execution_count": null,
   "metadata": {},
   "outputs": [],
   "source": []
  }
 ],
 "metadata": {
  "kernelspec": {
   "display_name": "jlinops",
   "language": "python",
   "name": "python3"
  },
  "language_info": {
   "codemirror_mode": {
    "name": "ipython",
    "version": 3
   },
   "file_extension": ".py",
   "mimetype": "text/x-python",
   "name": "python",
   "nbconvert_exporter": "python",
   "pygments_lexer": "ipython3",
   "version": "3.11.6"
  }
 },
 "nbformat": 4,
 "nbformat_minor": 2
}
