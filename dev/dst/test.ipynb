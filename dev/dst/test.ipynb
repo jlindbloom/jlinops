{
 "cells": [
  {
   "cell_type": "code",
   "execution_count": 67,
   "metadata": {},
   "outputs": [],
   "source": [
    "import numpy as np\n",
    "import matplotlib.pyplot as plt\n",
    "import jlinops\n",
    "\n",
    "import numpy as np\n",
    "import math\n",
    "from scipy.fft import dstn as sp_dstn\n",
    "from scipy.fft import idstn as sp_idstn\n",
    "from scipy.sparse.linalg import LinearOperator\n",
    "# from scipy.sparse.linalg._interface import _CustomLinearOperator\n",
    "\n",
    "\n",
    "from jlinops import _CustomLinearOperator, DiagonalOperator, get_device\n",
    "\n",
    "# from ..base import _CustomLinearOperator\n",
    "# from ..diagonal import DiagonalOperator\n",
    "# from ..util import get_device\n",
    "\n",
    "from jlinops import CUPY_INSTALLED\n",
    "# from .. import CUPY_INSTALLED\n",
    "if CUPY_INSTALLED:\n",
    "    import cupy as cp\n",
    "    from cupyx.scipy.fft import dctn as cp_dctn\n",
    "    from cupyx.scipy.fft import idctn as cp_idctn\n"
   ]
  },
  {
   "cell_type": "markdown",
   "metadata": {},
   "source": [
    "# Definitions"
   ]
  },
  {
   "cell_type": "code",
   "execution_count": 87,
   "metadata": {},
   "outputs": [],
   "source": [
    "class DST2D(_CustomLinearOperator):\n",
    "    \"\"\"Represents a 2-dimensional DST transform.\n",
    "    \"\"\"\n",
    "    def __init__(self, grid_shape, device=\"cpu\", type=1):\n",
    "        \n",
    "        # Handle shape\n",
    "        self.grid_shape = grid_shape\n",
    "        n = math.prod(self.grid_shape)\n",
    "        self.type = type\n",
    "        shape = (n,n)\n",
    "        \n",
    "        if device == \"cpu\":\n",
    "            \n",
    "            def _matvec(x):\n",
    "                return sp_dstn( x.reshape(self.grid_shape), norm=\"ortho\", type=self.type ).flatten()\n",
    "            \n",
    "            def _rmatvec(x):\n",
    "                return sp_idstn( x.reshape(self.grid_shape), norm=\"ortho\", type=self.type ).flatten()\n",
    "            \n",
    "        else:\n",
    "            \n",
    "            def _matvec(x):\n",
    "                return cp_dctn( x.reshape(self.grid_shape), norm=\"ortho\", ).flatten()\n",
    "            \n",
    "            def _rmatvec(x):\n",
    "                return cp_idctn( x.reshape(self.grid_shape), norm=\"ortho\" ).flatten()\n",
    "              \n",
    "        super().__init__(shape, _matvec, _rmatvec, device=device)\n",
    "        \n",
    "    \n",
    "    def to_gpu(self):\n",
    "        return DST2D(self.grid_shape, device=\"gpu\")\n",
    "    \n",
    "    def to_cpu(self):\n",
    "        return DST2D(self.grid_shape, device=\"cpu\")\n",
    "    \n",
    "    \n",
    "    \n",
    "def dst_get_eigvals(A, grid_shape, make_pos=False, type=1):\n",
    "    \"\"\"Given an SSPD LinearOperator A that is diagonalized by the 2-dimensional DST, computes its eigenvalues.\n",
    "    \"\"\"\n",
    "    # Shape of dct\n",
    "    M, N = grid_shape\n",
    "    \n",
    "    device = A.device\n",
    "    if device == \"cpu\":\n",
    "        v = np.random.normal(size=(M,N)) + 10.0\n",
    "        #v = np.ones((M,N))\n",
    "        tmp = A @ ( sp_idstn( v, norm=\"ortho\", type=type ).flatten()  )\n",
    "        tmp = tmp.reshape((M,N))\n",
    "        tmp = sp_dstn( tmp, norm=\"ortho\", type=type ).flatten()\n",
    "        res = tmp/v.flatten()\n",
    "        if make_pos:\n",
    "            res = np.abs(res)\n",
    "        return res\n",
    "    else:\n",
    "        v = cp.random.normal(size=(M,N)) + 10.0\n",
    "        #v = cp.ones((M,N))\n",
    "        tmp = A @ ( cp_idctn( v, norm=\"ortho\", type=type ).flatten()  )\n",
    "        tmp = tmp.reshape((M,N))\n",
    "        tmp = cp_dctn( tmp, norm=\"ortho\", type=type ).flatten()\n",
    "        res = tmp/v.flatten()\n",
    "        if make_pos:\n",
    "            res = cp.abs(res)\n",
    "        return res\n",
    "\n",
    "    \n",
    "\n",
    "def dst_sqrt(A, grid_shape, type=1):\n",
    "    \"\"\"Given a LinearOperator A that is diagonalized by the 2-dimensional DST, performs the diagonalization (computes \n",
    "    eigenvalues), computes the square root L in A = L L^T, and returns a LinearOperator representing L.\n",
    "    \"\"\"\n",
    "    \n",
    "    # Get eigenvalues\n",
    "    eigvals = dst_get_eigvals(A, grid_shape, make_pos=True, type=type)\n",
    "    \n",
    "    # Setup \n",
    "    device = get_device(eigvals)\n",
    "    P = DST2D(grid_shape, device=device, type=type)\n",
    "    sqrt_lam = DiagonalOperator( eigvals**0.5 )\n",
    "    sqrt_op = P.T @ sqrt_lam\n",
    "    \n",
    "    return sqrt_op\n",
    "\n",
    "\n",
    "\n",
    "def dst_pinv(A, grid_shape, eps=1e-14, type=1):\n",
    "    \"\"\"Given a LinearOperator A that is diagonalized by the DST, performs the diagonalization (computes eigenvalues), returns a LinearOperator representing A^\\dagger (pseudoinverse).\n",
    "    \"\"\"\n",
    "    # Get eigenvalues\n",
    "    eigvals = dst_get_eigvals(A, grid_shape, type=type)\n",
    "    device = get_device(eigvals)\n",
    "\n",
    "    # Take reciprocals of nonzero eigenvalues\n",
    "    if device == \"cpu\":\n",
    "        recip_eigvals = np.where( np.abs(eigvals) < eps, eigvals, 1.0 / np.clip(eigvals, a_min=eps, a_max=None) )\n",
    "        recip_eigvals = np.where( np.abs(eigvals) < eps, np.zeros_like(eigvals), recip_eigvals )\n",
    "    else:\n",
    "        recip_eigvals = cp.where( cp.abs(eigvals) < eps, eigvals, 1.0 / cp.clip(eigvals, a_min=eps, a_max=None) )\n",
    "        recip_eigvals = cp.where( cp.abs(eigvals) < eps, cp.zeros_like(eigvals), recip_eigvals )\n",
    "    \n",
    "    # DCT op\n",
    "    P = DST2D(grid_shape, device=device, type=type)\n",
    "    \n",
    "    # Apinv op\n",
    "    Apinv = P.T @ ( DiagonalOperator(recip_eigvals) @ P)\n",
    "    \n",
    "    return Apinv\n",
    "\n",
    "\n",
    "def dct_sqrt_pinv(A, grid_shape, eps=1e-14, type=1):\n",
    "    \"\"\"Given an SSPD LinearOperator A that is diagonalized by the DST, performs the diagonalization (computes eigenvalues),\n",
    "    computes the square root L in A = L L^T, and returns a LinearOperator representing L^\\dagger (pseudoinverse).\n",
    "    \"\"\"\n",
    "    # Get eigenvalues\n",
    "    eigvals = dst_get_eigvals(A, grid_shape, make_pos=True, type=type)\n",
    "    device = get_device(eigvals)\n",
    "\n",
    "    # Take reciprocals of nonzero eigenvalues\n",
    "    if device == \"cpu\":\n",
    "        recip_eigvals = np.where( np.abs(eigvals) < 1e-14, eigvals, 1.0 / np.clip(eigvals, a_min=eps, a_max=None) )\n",
    "        recip_eigvals = np.where( np.abs(eigvals) < 1e-14, np.zeros_like(eigvals), recip_eigvals )\n",
    "    else:\n",
    "        recip_eigvals = cp.where( cp.abs(eigvals) < 1e-14, eigvals, 1.0 / cp.clip(eigvals, a_min=eps, a_max=None) )\n",
    "        recip_eigvals = cp.where( cp.abs(eigvals) < 1e-14, cp.zeros_like(eigvals), recip_eigvals )\n",
    "    \n",
    "    # DCT op\n",
    "    P = DST2D(grid_shape, device=device, type=type)\n",
    "    \n",
    "    # Lpinv op\n",
    "    Lpinv = DiagonalOperator(recip_eigvals**0.5) @ P\n",
    "\n",
    "    return Lpinv"
   ]
  },
  {
   "cell_type": "code",
   "execution_count": 94,
   "metadata": {},
   "outputs": [],
   "source": [
    "grid_shape = (5, 9)\n",
    "R = jlinops.Dirichlet2DSym(grid_shape)\n",
    "A = R.T @ R"
   ]
  },
  {
   "cell_type": "code",
   "execution_count": 95,
   "metadata": {},
   "outputs": [
    {
     "data": {
      "image/png": "[encoded data removed]",
      "text/plain": [
       "<Figure size 640x480 with 1 Axes>"
      ]
     },
     "metadata": {},
     "output_type": "display_data"
    }
   ],
   "source": [
    "plt.imshow(jlinops.black_box_to_dense(A))\n",
    "plt.show()"
   ]
  },
  {
   "cell_type": "code",
   "execution_count": 105,
   "metadata": {},
   "outputs": [
    {
     "data": {
      "image/png": "[encoded data removed]",
      "text/plain": [
       "<Figure size 640x480 with 1 Axes>"
      ]
     },
     "metadata": {},
     "output_type": "display_data"
    }
   ],
   "source": [
    "for j in range(10):\n",
    "    eigvals = dst_get_eigvals(A, grid_shape, make_pos=False, type=1)\n",
    "    z = np.sort(eigvals)\n",
    "    #print(z)\n",
    "    plt.plot(z)\n",
    "\n",
    "plt.show()"
   ]
  },
  {
   "cell_type": "code",
   "execution_count": null,
   "metadata": {},
   "outputs": [],
   "source": []
  },
  {
   "cell_type": "code",
   "execution_count": null,
   "metadata": {},
   "outputs": [],
   "source": []
  },
  {
   "cell_type": "code",
   "execution_count": null,
   "metadata": {},
   "outputs": [],
   "source": []
  },
  {
   "cell_type": "code",
   "execution_count": null,
   "metadata": {},
   "outputs": [],
   "source": []
  },
  {
   "cell_type": "code",
   "execution_count": null,
   "metadata": {},
   "outputs": [],
   "source": []
  }
 ],
 "metadata": {
  "kernelspec": {
   "display_name": "jlinops",
   "language": "python",
   "name": "python3"
  },
  "language_info": {
   "codemirror_mode": {
    "name": "ipython",
    "version": 3
   },
   "file_extension": ".py",
   "mimetype": "text/x-python",
   "name": "python",
   "nbconvert_exporter": "python",
   "pygments_lexer": "ipython3",
   "version": "3.11.6"
  }
 },
 "nbformat": 4,
 "nbformat_minor": 2
}
