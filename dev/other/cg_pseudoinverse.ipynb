{
 "cells": [
  {
   "cell_type": "code",
   "execution_count": 1,
   "metadata": {},
   "outputs": [],
   "source": [
    "import numpy as np\n",
    "import matplotlib.pyplot as plt\n",
    "from jlinops import CGApproximatePseudoinverse, MatrixOperator\n",
    "from scipy.linalg import null_space"
   ]
  },
  {
   "cell_type": "code",
   "execution_count": 2,
   "metadata": {},
   "outputs": [],
   "source": [
    "m, n = 8, 5\n",
    "Amat = np.random.normal(size=(m,n))\n",
    "Amat[:,-1] = Amat[:,-2]\n",
    "A = MatrixOperator(Amat)\n",
    "W = null_space(Amat)"
   ]
  },
  {
   "cell_type": "code",
   "execution_count": 3,
   "metadata": {},
   "outputs": [
    {
     "data": {
      "text/plain": [
       "array([[-0.00000000e+00],\n",
       "       [ 3.78009215e-17],\n",
       "       [ 6.68175082e-18],\n",
       "       [ 7.07106781e-01],\n",
       "       [-7.07106781e-01]])"
      ]
     },
     "execution_count": 3,
     "metadata": {},
     "output_type": "execute_result"
    }
   ],
   "source": [
    "W"
   ]
  },
  {
   "cell_type": "code",
   "execution_count": 4,
   "metadata": {},
   "outputs": [
    {
     "data": {
      "text/plain": [
       "array([ 0.62783335,  0.56387124,  4.43606439, -3.81431161, -1.52647492,\n",
       "       -3.29220331,  0.86927562,  3.15949813])"
      ]
     },
     "execution_count": 4,
     "metadata": {},
     "output_type": "execute_result"
    }
   ],
   "source": [
    "A.matvec(np.ones(5))"
   ]
  },
  {
   "cell_type": "code",
   "execution_count": 5,
   "metadata": {},
   "outputs": [
    {
     "data": {
      "text/plain": [
       "(8, 5)"
      ]
     },
     "execution_count": 5,
     "metadata": {},
     "output_type": "execute_result"
    }
   ],
   "source": [
    "A.shape"
   ]
  },
  {
   "cell_type": "code",
   "execution_count": 6,
   "metadata": {},
   "outputs": [
    {
     "name": "stderr",
     "output_type": "stream",
     "text": [
      "/Users/jonathanlindbloom/Github/jlinops/src/jlinops/linear_solvers.py:39: RuntimeWarning: invalid value encountered in double_scalars\n",
      "  rel_residual_norm = residual_norm/bnorm\n",
      "/Users/jonathanlindbloom/Github/jlinops/src/jlinops/linear_solvers.py:44: RuntimeWarning: invalid value encountered in double_scalars\n",
      "  alpha = (r.T @ r)/(d.T @ A.matvec(d) )\n"
     ]
    }
   ],
   "source": [
    "Apinv = CGApproximatePseudoinverse(A)"
   ]
  },
  {
   "cell_type": "code",
   "execution_count": 7,
   "metadata": {},
   "outputs": [
    {
     "data": {
      "text/plain": [
       "array([-0.45450923, -0.64135153,  0.62660438,  0.20691699,  0.20691699])"
      ]
     },
     "execution_count": 7,
     "metadata": {},
     "output_type": "execute_result"
    }
   ],
   "source": [
    "Apinv @ np.ones(8)"
   ]
  },
  {
   "cell_type": "code",
   "execution_count": 8,
   "metadata": {},
   "outputs": [
    {
     "data": {
      "text/plain": [
       "array([-0.45450923, -0.64135153,  0.62660438,  0.20691699,  0.20691699])"
      ]
     },
     "execution_count": 8,
     "metadata": {},
     "output_type": "execute_result"
    }
   ],
   "source": [
    "np.linalg.pinv(Amat) @ np.ones(8)"
   ]
  },
  {
   "cell_type": "code",
   "execution_count": 9,
   "metadata": {},
   "outputs": [
    {
     "data": {
      "text/plain": [
       "(5, 8)"
      ]
     },
     "execution_count": 9,
     "metadata": {},
     "output_type": "execute_result"
    }
   ],
   "source": [
    "Apinv.shape"
   ]
  },
  {
   "cell_type": "code",
   "execution_count": 10,
   "metadata": {},
   "outputs": [
    {
     "data": {
      "text/plain": [
       "(8, 5)"
      ]
     },
     "execution_count": 10,
     "metadata": {},
     "output_type": "execute_result"
    }
   ],
   "source": [
    "Apinv.T.shape"
   ]
  },
  {
   "cell_type": "code",
   "execution_count": 11,
   "metadata": {},
   "outputs": [
    {
     "data": {
      "text/plain": [
       "(5,)"
      ]
     },
     "execution_count": 11,
     "metadata": {},
     "output_type": "execute_result"
    }
   ],
   "source": [
    "Apinv.prev_eval.shape"
   ]
  },
  {
   "cell_type": "code",
   "execution_count": 12,
   "metadata": {},
   "outputs": [
    {
     "data": {
      "text/plain": [
       "(5,)"
      ]
     },
     "execution_count": 12,
     "metadata": {},
     "output_type": "execute_result"
    }
   ],
   "source": [
    "Apinv.prev_eval_t.shape"
   ]
  },
  {
   "cell_type": "code",
   "execution_count": 13,
   "metadata": {},
   "outputs": [
    {
     "data": {
      "text/plain": [
       "array([-0.29127033,  0.01642752,  0.66250401, -0.21705657, -0.41410413,\n",
       "       -0.06000017,  0.09024346,  0.1578338 ])"
      ]
     },
     "execution_count": 13,
     "metadata": {},
     "output_type": "execute_result"
    }
   ],
   "source": [
    "Apinv.rmatvec( np.ones(5) )"
   ]
  },
  {
   "cell_type": "code",
   "execution_count": 14,
   "metadata": {},
   "outputs": [
    {
     "data": {
      "text/plain": [
       "array([-0.29127033,  0.01642752,  0.66250401, -0.21705657, -0.41410413,\n",
       "       -0.06000017,  0.09024346,  0.1578338 ])"
      ]
     },
     "execution_count": 14,
     "metadata": {},
     "output_type": "execute_result"
    }
   ],
   "source": [
    "np.linalg.pinv(Amat).T @ np.ones(5)"
   ]
  },
  {
   "cell_type": "code",
   "execution_count": null,
   "metadata": {},
   "outputs": [],
   "source": []
  },
  {
   "cell_type": "code",
   "execution_count": 35,
   "metadata": {},
   "outputs": [
    {
     "data": {
      "text/plain": [
       "6.515543783841503e-16"
      ]
     },
     "execution_count": 35,
     "metadata": {},
     "output_type": "execute_result"
    }
   ],
   "source": [
    "z = np.random.normal(size=8)\n",
    "np.linalg.norm( Apinv.matvec( z ) - np.linalg.pinv(Amat) @ z )"
   ]
  },
  {
   "cell_type": "code",
   "execution_count": 34,
   "metadata": {},
   "outputs": [
    {
     "data": {
      "text/plain": [
       "5.28085841456928e-16"
      ]
     },
     "execution_count": 34,
     "metadata": {},
     "output_type": "execute_result"
    }
   ],
   "source": [
    "z = np.random.normal(size=5)\n",
    "zmod = z - (1.0/(W[:,0].dot(W[:,0])))*(W[:,0].dot(z))*W[:,0]\n",
    "np.linalg.norm( Apinv.rmatvec( zmod ) - np.linalg.pinv(Amat).T @ zmod )"
   ]
  },
  {
   "cell_type": "code",
   "execution_count": null,
   "metadata": {},
   "outputs": [],
   "source": []
  },
  {
   "cell_type": "code",
   "execution_count": null,
   "metadata": {},
   "outputs": [],
   "source": []
  },
  {
   "cell_type": "code",
   "execution_count": null,
   "metadata": {},
   "outputs": [],
   "source": []
  },
  {
   "cell_type": "code",
   "execution_count": 30,
   "metadata": {},
   "outputs": [
    {
     "data": {
      "text/plain": [
       "array([ 0.55840508,  0.44673225,  0.2207046 , -0.51774679, -1.19024621,\n",
       "       -0.09294918, -0.18788914,  0.73149426])"
      ]
     },
     "execution_count": 30,
     "metadata": {},
     "output_type": "execute_result"
    }
   ],
   "source": [
    "np.linalg.pinv(Amat).T @ np.ones(5)"
   ]
  },
  {
   "cell_type": "code",
   "execution_count": null,
   "metadata": {},
   "outputs": [],
   "source": []
  },
  {
   "cell_type": "markdown",
   "metadata": {},
   "source": [
    "# Experiment with large random matrix?"
   ]
  },
  {
   "cell_type": "code",
   "execution_count": 19,
   "metadata": {},
   "outputs": [
    {
     "name": "stderr",
     "output_type": "stream",
     "text": [
      "/Users/jonathanlindbloom/Github/jlinops/src/jlinops/linear_solvers.py:39: RuntimeWarning: invalid value encountered in double_scalars\n",
      "  rel_residual_norm = residual_norm/bnorm\n",
      "/Users/jonathanlindbloom/Github/jlinops/src/jlinops/linear_solvers.py:44: RuntimeWarning: invalid value encountered in double_scalars\n",
      "  alpha = (r.T @ r)/(d.T @ A.matvec(d) )\n"
     ]
    }
   ],
   "source": [
    "m, n = 100, 63\n",
    "\n",
    "errors = []\n",
    "terrors = []\n",
    "n_trials = 1000\n",
    "\n",
    "for j in range(n_trials):   \n",
    "\n",
    "    Amat = np.random.normal(size=(m,n))\n",
    "    A = MatrixOperator(Amat)\n",
    "    Apinv = CGApproximatePseudoinverse(A)\n",
    "    x1 = np.random.normal(size=(m,))\n",
    "    x2 = np.random.normal(size=(n,))\n",
    "    \n",
    "    matvec = Apinv @ x1\n",
    "    error = np.linalg.norm(matvec - (np.linalg.pinv(Amat) @ x1 ))\n",
    "    errors.append(error)\n",
    "\n",
    "    rmatvec = Apinv.T @ x2\n",
    "    terror = np.linalg.norm(rmatvec - (np.linalg.pinv(Amat).T @ x2 ))\n",
    "    terrors.append(terror)"
   ]
  },
  {
   "cell_type": "code",
   "execution_count": 20,
   "metadata": {},
   "outputs": [
    {
     "data": {
      "image/png": "[encoded data removed]",
      "text/plain": [
       "<Figure size 432x288 with 1 Axes>"
      ]
     },
     "metadata": {
      "needs_background": "light"
     },
     "output_type": "display_data"
    }
   ],
   "source": [
    "plt.hist(errors)\n",
    "plt.show()"
   ]
  },
  {
   "cell_type": "code",
   "execution_count": 21,
   "metadata": {},
   "outputs": [
    {
     "data": {
      "image/png": "[encoded data removed]",
      "text/plain": [
       "<Figure size 432x288 with 1 Axes>"
      ]
     },
     "metadata": {
      "needs_background": "light"
     },
     "output_type": "display_data"
    }
   ],
   "source": [
    "plt.hist(terrors)\n",
    "plt.show()"
   ]
  },
  {
   "cell_type": "code",
   "execution_count": null,
   "metadata": {},
   "outputs": [],
   "source": []
  },
  {
   "cell_type": "code",
   "execution_count": null,
   "metadata": {},
   "outputs": [],
   "source": []
  },
  {
   "cell_type": "code",
   "execution_count": null,
   "metadata": {},
   "outputs": [],
   "source": []
  }
 ],
 "metadata": {
  "kernelspec": {
   "display_name": "speckle38",
   "language": "python",
   "name": "python3"
  },
  "language_info": {
   "codemirror_mode": {
    "name": "ipython",
    "version": 3
   },
   "file_extension": ".py",
   "mimetype": "text/x-python",
   "name": "python",
   "nbconvert_exporter": "python",
   "pygments_lexer": "ipython3",
   "version": "3.8.12"
  }
 },
 "nbformat": 4,
 "nbformat_minor": 2
}
