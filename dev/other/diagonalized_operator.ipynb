{
 "cells": [
  {
   "cell_type": "code",
   "execution_count": 45,
   "metadata": {},
   "outputs": [],
   "source": [
    "import numpy as np\n",
    "import matplotlib.pyplot as plt\n",
    "\n",
    "from scipy.sparse.linalg import LinearOperator\n",
    "from scipy.sparse.linalg._interface import _CustomLinearOperator\n",
    "\n",
    "import jlinops\n",
    "from jlinops import DiagonalizedOperator, Gaussian1DBlurOperator"
   ]
  },
  {
   "cell_type": "code",
   "execution_count": 46,
   "metadata": {},
   "outputs": [],
   "source": [
    "N = 10\n",
    "blur_op = Gaussian1DBlurOperator(N, 3.0, mode=\"wrap\")"
   ]
  },
  {
   "cell_type": "code",
   "execution_count": 62,
   "metadata": {},
   "outputs": [],
   "source": [
    "def convert_to_diagonalized(linear_operator, how=\"C\"):\n",
    "    \"\"\"Attemps to build a DiagonalizedOperator.\n",
    "\n",
    "    C: circulant (basis is 1D FFT)\n",
    "    BCCB: block-circulant-circulant-blocks (basis is 2D FFT)\n",
    "    \"\"\"\n",
    "    valid_hows = [\"C\"]\n",
    "    assert how in valid_hows, f\"Invalid choice of how, must be one of {valid_hows}\"\n",
    "    \n",
    "\n",
    "    # Create P operator\n",
    "    in_shape = (linear_operator.shape[1],)\n",
    "    if how == \"C\":\n",
    "        \n",
    "        def _matvec(x):\n",
    "            return np.fft.ifft( x, norm=\"ortho\" )\n",
    "        \n",
    "        def _rmatvec(x):\n",
    "            return np.real(np.fft.fft( x, norm=\"ortho\"))\n",
    "        \n",
    "        P = LinearOperator( linear_operator.shape, _matvec, _rmatvec  )\n",
    "\n",
    "    else:\n",
    "        raise NotImplementedError\n",
    "    \n",
    "    # Draw random vector\n",
    "    rand_vec = np.clip( 10.0 + np.random.normal(size=linear_operator.shape[1]) , a_min = 1, a_max = 20 )\n",
    "    tmp = P.matvec(rand_vec)\n",
    "    tmp = linear_operator.matvec(tmp)\n",
    "    tmp = P.rmatvec(rand_vec)\n",
    "    eigenvalues = tmp/rand_vec\n",
    "\n",
    "    return DiagonalizedOperator(P, eigenvalues)"
   ]
  },
  {
   "cell_type": "code",
   "execution_count": 63,
   "metadata": {},
   "outputs": [],
   "source": [
    "P = convert_to_diagonalized(blur_op, how=\"C\")"
   ]
  },
  {
   "cell_type": "code",
   "execution_count": 65,
   "metadata": {},
   "outputs": [
    {
     "data": {
      "text/plain": [
       "2.6953014165799387"
      ]
     },
     "execution_count": 65,
     "metadata": {},
     "output_type": "execute_result"
    }
   ],
   "source": [
    "z = np.random.normal(size=10)\n",
    "np.linalg.norm( (P @ z) - (blur_op @ z)  )"
   ]
  },
  {
   "cell_type": "code",
   "execution_count": null,
   "metadata": {},
   "outputs": [],
   "source": []
  },
  {
   "cell_type": "code",
   "execution_count": null,
   "metadata": {},
   "outputs": [],
   "source": []
  },
  {
   "cell_type": "code",
   "execution_count": 17,
   "metadata": {},
   "outputs": [
    {
     "data": {
      "text/plain": [
       "array([5.+0.j, 0.+0.j, 0.+0.j])"
      ]
     },
     "execution_count": 17,
     "metadata": {},
     "output_type": "execute_result"
    }
   ],
   "source": [
    "np.fft.rfft(np.ones(5))"
   ]
  },
  {
   "cell_type": "code",
   "execution_count": 43,
   "metadata": {},
   "outputs": [],
   "source": [
    "z = np.ones(11)\n",
    "rfft = np.fft.rfftn(z, norm=\"ortho\")\n",
    "fft = np.fft.fftn(z, norm=\"ortho\")"
   ]
  },
  {
   "cell_type": "code",
   "execution_count": 44,
   "metadata": {},
   "outputs": [
    {
     "name": "stdout",
     "output_type": "stream",
     "text": [
      "[ 3.31662479e+00+0.j -6.69489674e-17+0.j  0.00000000e+00+0.j\n",
      " -6.69489674e-17+0.j  0.00000000e+00+0.j  1.67372418e-17+0.j]\n",
      "[3.31662479e+00+0.j 0.00000000e+00+0.j 0.00000000e+00+0.j\n",
      " 0.00000000e+00+0.j 0.00000000e+00+0.j 1.67372418e-17+0.j\n",
      " 1.67372418e-17+0.j 0.00000000e+00+0.j 0.00000000e+00+0.j\n",
      " 0.00000000e+00+0.j 0.00000000e+00+0.j]\n"
     ]
    }
   ],
   "source": [
    "print(rfft)\n",
    "print(fft)"
   ]
  },
  {
   "cell_type": "code",
   "execution_count": 40,
   "metadata": {},
   "outputs": [],
   "source": [
    "def rfft_to_fft_shape(rfft_vec):\n",
    "    \"\"\"Takes output of rfft and reshapes to size of output from fft.\"\"\"\n",
    "    return None"
   ]
  },
  {
   "cell_type": "code",
   "execution_count": 41,
   "metadata": {},
   "outputs": [
    {
     "name": "stdout",
     "output_type": "stream",
     "text": [
      "(6,)\n"
     ]
    }
   ],
   "source": [
    "print(rfft.shape)"
   ]
  },
  {
   "cell_type": "code",
   "execution_count": null,
   "metadata": {},
   "outputs": [],
   "source": []
  },
  {
   "cell_type": "code",
   "execution_count": null,
   "metadata": {},
   "outputs": [],
   "source": []
  },
  {
   "cell_type": "code",
   "execution_count": null,
   "metadata": {},
   "outputs": [],
   "source": []
  },
  {
   "cell_type": "code",
   "execution_count": null,
   "metadata": {},
   "outputs": [],
   "source": []
  },
  {
   "cell_type": "code",
   "execution_count": 42,
   "metadata": {},
   "outputs": [
    {
     "name": "stdout",
     "output_type": "stream",
     "text": [
      "(11,)\n"
     ]
    }
   ],
   "source": [
    "print(fft.shape)"
   ]
  },
  {
   "cell_type": "code",
   "execution_count": null,
   "metadata": {},
   "outputs": [],
   "source": []
  },
  {
   "cell_type": "code",
   "execution_count": 10,
   "metadata": {},
   "outputs": [],
   "source": [
    "rand_vec = np.clip( 10.0 + np.random.normal(size=N) , a_min = 1, a_max = 20 )\n",
    "matvec_rand_vec = np.fft.ifftn(blur_op.matvec(np.fft.fftn(rand_vec, norm=\"ortho\")), norm=\"ortho\")\n",
    "diagonalization = matvec_rand_vec/rand_vec"
   ]
  },
  {
   "cell_type": "code",
   "execution_count": 11,
   "metadata": {},
   "outputs": [
    {
     "data": {
      "text/plain": [
       "array([ 1.00000000e+00+6.78008234e-19j,  1.69241383e-01-7.77383709e-20j,\n",
       "        8.35542922e-04+2.99010953e-19j, -1.85021865e-05-6.87684465e-20j,\n",
       "       -3.71641180e-06-1.31116701e-19j,  1.81225122e-05-7.75158179e-20j,\n",
       "       -3.71641180e-06-1.50798663e-19j, -1.85021865e-05-7.00528315e-20j,\n",
       "        8.35542922e-04+4.23174617e-19j,  1.69241383e-01-7.82739581e-20j])"
      ]
     },
     "execution_count": 11,
     "metadata": {},
     "output_type": "execute_result"
    }
   ],
   "source": [
    "diagonalization"
   ]
  },
  {
   "cell_type": "code",
   "execution_count": 8,
   "metadata": {},
   "outputs": [],
   "source": [
    "rand_vec = np.clip( 10.0 + np.random.normal(size=N) , a_min = 1, a_max = 20 )\n",
    "matvec_rand_vec = np.fft.ifftn(blur_op.matvec(np.fft.ifft(rand_vec, norm=\"ortho\")), norm=\"ortho\")\n",
    "diagonalization2 = matvec_rand_vec/rand_vec"
   ]
  },
  {
   "cell_type": "code",
   "execution_count": 9,
   "metadata": {},
   "outputs": [
    {
     "data": {
      "text/plain": [
       "array([ 1.00000000e+00+7.84856427e-19j,  1.44117612e-01+1.32744908e-19j,\n",
       "        8.13590536e-04+3.77504910e-19j, -1.97935429e-05+1.37100034e-19j,\n",
       "       -4.00663558e-06-3.21796343e-19j,  1.81225122e-05+1.31579191e-19j,\n",
       "       -3.44721060e-06-2.98486773e-19j, -1.72950798e-05+1.28155449e-19j,\n",
       "        8.58087630e-04+3.87690787e-19j,  1.98744937e-01+1.55886096e-19j])"
      ]
     },
     "execution_count": 9,
     "metadata": {},
     "output_type": "execute_result"
    }
   ],
   "source": [
    "diagonalization2"
   ]
  },
  {
   "cell_type": "code",
   "execution_count": null,
   "metadata": {},
   "outputs": [],
   "source": []
  },
  {
   "cell_type": "code",
   "execution_count": null,
   "metadata": {},
   "outputs": [],
   "source": []
  },
  {
   "cell_type": "code",
   "execution_count": null,
   "metadata": {},
   "outputs": [],
   "source": []
  },
  {
   "cell_type": "code",
   "execution_count": null,
   "metadata": {},
   "outputs": [],
   "source": []
  },
  {
   "cell_type": "code",
   "execution_count": null,
   "metadata": {},
   "outputs": [],
   "source": [
    "\n",
    "def build_diagonalizable_operator_from_operator(\n",
    "    linear_operator: LinearOperator,\n",
    "    how: str = \"bccb\",\n",
    "    with_cupy = False,\n",
    "    trust=False,\n",
    "    ):\n",
    "    \"\"\"\n",
    "    Given a matrix that is diagonalizable, computes the diagonalization\n",
    "    and returns a operator that performs matvecs using this basis.\n",
    "\n",
    "    :param mat: a :py:class:`MatrixOperator` representing the matrix.\n",
    "    :param how: how the operator is diagonalizable. Currently only BCCB is supported.\n",
    "    \"\"\"\n",
    "   \n",
    "    \n",
    "    if with_cupy:\n",
    "        assert CUPY_INSTALLED, \"Unavailable, CuPy not installed.\"\n",
    "        xp = cp\n",
    "    else:\n",
    "        xp = np\n",
    "\n",
    "    # Make sure the method is supported\n",
    "    if how == \"bccb\":\n",
    "\n",
    "        # Compute the diagonalization\n",
    "        input_shape = linear_operator.input_shape\n",
    "        rand_vec = xp.clip( 10.0 + xp.random.normal(size=input_shape) , a_min = 1, a_max = 20 )\n",
    "        matvec_rand_vec = xp.fft.fftn(linear_operator.matvec_shaped(xp.fft.ifftn(rand_vec, norm=\"ortho\")), norm=\"ortho\")\n",
    "        diagonalization = matvec_rand_vec/rand_vec\n",
    "\n",
    "        # Do it again, and check we get same result\n",
    "        rand_vec2 = xp.clip( 10.0 + xp.random.normal(size=input_shape) , a_min = 1, a_max = 20 )\n",
    "        matvec_rand_vec2 = xp.fft.fftn(linear_operator.matvec_shaped(xp.fft.ifftn(rand_vec2, norm=\"ortho\")), norm=\"ortho\")\n",
    "        diagonalization2 = matvec_rand_vec2/rand_vec2\n",
    "\n",
    "        if not trust:\n",
    "            assert xp.linalg.norm(diagonalization - diagonalization2, ord=2)/math.prod(input_shape) < 1e-6, \"Matrix operator doesn't appear to be diagonalized by an FFT.\"\n",
    "\n",
    "        return BCCBOperator(diagonalization)\n",
    "\n",
    "    else:\n",
    "        raise NotImplementedError(\"Not currently supported.\")\n",
    "\n"
   ]
  },
  {
   "cell_type": "code",
   "execution_count": null,
   "metadata": {},
   "outputs": [],
   "source": []
  },
  {
   "cell_type": "code",
   "execution_count": null,
   "metadata": {},
   "outputs": [],
   "source": []
  },
  {
   "cell_type": "code",
   "execution_count": null,
   "metadata": {},
   "outputs": [],
   "source": []
  }
 ],
 "metadata": {
  "kernelspec": {
   "display_name": "speckle38",
   "language": "python",
   "name": "python3"
  },
  "language_info": {
   "codemirror_mode": {
    "name": "ipython",
    "version": 3
   },
   "file_extension": ".py",
   "mimetype": "text/x-python",
   "name": "python",
   "nbconvert_exporter": "python",
   "pygments_lexer": "ipython3",
   "version": "3.8.12"
  },
  "orig_nbformat": 4
 },
 "nbformat": 4,
 "nbformat_minor": 2
}
