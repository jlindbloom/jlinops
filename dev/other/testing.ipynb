{
 "cells": [
  {
   "cell_type": "code",
   "execution_count": 1,
   "metadata": {},
   "outputs": [],
   "source": [
    "import numpy as np\n",
    "import matplotlib.pyplot as plt\n",
    "\n",
    "import jlinops"
   ]
  },
  {
   "cell_type": "code",
   "execution_count": 10,
   "metadata": {},
   "outputs": [
    {
     "data": {
      "text/plain": [
       "<3x3 MatrixLinearOperator with dtype=float64>"
      ]
     },
     "execution_count": 10,
     "metadata": {},
     "output_type": "execute_result"
    }
   ],
   "source": [
    "jlinops.build_1d_first_order_derivative(3)"
   ]
  },
  {
   "cell_type": "code",
   "execution_count": 11,
   "metadata": {},
   "outputs": [],
   "source": [
    "A = jlinops.build_2d_first_order_derivative((3,4))"
   ]
  },
  {
   "cell_type": "code",
   "execution_count": 9,
   "metadata": {},
   "outputs": [
    {
     "data": {
      "text/plain": [
       "(<12x12 MatrixLinearOperator with dtype=float64>,\n",
       " <12x12 MatrixLinearOperator with dtype=float64>)"
      ]
     },
     "execution_count": 9,
     "metadata": {},
     "output_type": "execute_result"
    }
   ],
   "source": [
    "jlinops.build_2d_first_order_derivative_split((3,4))"
   ]
  },
  {
   "cell_type": "code",
   "execution_count": 6,
   "metadata": {},
   "outputs": [
    {
     "data": {
      "text/plain": [
       "<24x12 _SumLinearOperator with dtype=float64>"
      ]
     },
     "execution_count": 6,
     "metadata": {},
     "output_type": "execute_result"
    }
   ],
   "source": [
    "A + A"
   ]
  },
  {
   "cell_type": "markdown",
   "metadata": {},
   "source": [
    "# Matrix operator"
   ]
  },
  {
   "cell_type": "code",
   "execution_count": 88,
   "metadata": {},
   "outputs": [],
   "source": [
    "from scipy.sparse.linalg._interface import MatrixLinearOperator\n",
    "from scipy.sparse.linalg import LinearOperator\n",
    "from scipy.sparse import issparse"
   ]
  },
  {
   "cell_type": "code",
   "execution_count": 140,
   "metadata": {},
   "outputs": [],
   "source": [
    "class MatrixOperator(MatrixLinearOperator):\n",
    "\n",
    "    def __init__(self, A):\n",
    "\n",
    "        super().__init__(A)\n",
    "\n",
    "\n",
    "    def __matmul__(self, B):\n",
    "        \"Overload matrix multiplication symbol.\"\n",
    "\n",
    "        if isinstance(B, MatrixOperator):\n",
    "            # If hitting with a linear operator.\n",
    "            return MatrixOperator( self.A.dot(B.A) )\n",
    "        elif isinstance(B, LinearOperator):\n",
    "            # If hitting with a LinearOperator, the best we can do is return a LinearOperator\n",
    "            return self @ B\n",
    "        elif isinstance(B, np.ndarray):\n",
    "            # If hitting with a NumPy array, we can dot then return MatrixOperator.\n",
    "            return MatrixOperator(self.A.dot(B))\n",
    "        elif issparse(B):\n",
    "            # If sparse, we can dot then return MatrixOperator.\n",
    "            return MatrixOperator(self.dot(B))\n",
    "        else:\n",
    "            raise Exception(\"matmul not implemented for these types.\")\n",
    "        \n",
    "\n",
    "\n",
    "    def __rmatmul__(self, B):\n",
    "        if isinstance(B, MatrixOperator):\n",
    "            # If hitting with a linear operator.\n",
    "            return MatrixOperator( B.A.dot(self.A) )\n",
    "        elif isinstance(B, LinearOperator):\n",
    "            # If hitting with a LinearOperator, the best we can do is return a LinearOperator\n",
    "            return B @ self\n",
    "        elif isinstance(B, np.ndarray):\n",
    "            # If hitting with a NumPy array, we can dot then return MatrixOperator.\n",
    "            return MatrixOperator(B.dot(self.A))\n",
    "        elif issparse(B):\n",
    "            # If sparse, we can dot then return MatrixOperator.\n",
    "            return MatrixOperator(B.dot(self.A))\n",
    "        else:\n",
    "            raise Exception(\"matmul not implemented for these types.\")\n",
    "\n",
    "\n",
    "    \n",
    "    def _transpose(self):\n",
    "        return MatrixOperator(self.A.T)\n",
    "        \n",
    "    T = property(_transpose)\n",
    "\n",
    "    def _adjoint(self):\n",
    "        return MatrixOperator(self.A.H)\n",
    "    \n",
    "    H = property(_adjoint)\n",
    "\n",
    "\n",
    "\n",
    "    def __add__(self, B):\n",
    "        \"\"\"Overload matrix addition.\"\"\"\n",
    "\n",
    "        return MatrixOperator( self.A + B.A )\n",
    "    \n",
    "    def __sub__(self, B):\n",
    "        \"\"\"Overload matrix addition.\"\"\"\n",
    "\n",
    "        return self.__add__(-B)\n",
    "    \n",
    "    def __neg__(self):\n",
    "        \"\"\"Overload negation.\"\"\"\n",
    "\n",
    "        return MatrixOperator(-self.A)\n",
    "    \n",
    "    def __mul__(self, c):\n",
    "        \"\"\"Multiplication by a scalar.\"\"\"\n",
    "        return MatrixOperator(c*self.A)\n",
    "    \n",
    "    def __rmul__(self, c):\n",
    "        \"\"\"Multiplication by a scalar.\"\"\"\n",
    "        return MatrixOperator(c*self.A)\n",
    "\n",
    "\n"
   ]
  },
  {
   "cell_type": "code",
   "execution_count": 141,
   "metadata": {},
   "outputs": [],
   "source": [
    "A = jlinops.build_1d_first_order_derivative(5, boundary=\"zero\").A\n",
    "A = MatrixOperator(A)"
   ]
  },
  {
   "cell_type": "code",
   "execution_count": 142,
   "metadata": {},
   "outputs": [],
   "source": [
    "assert type( A @ A ) is MatrixOperator\n",
    "assert type( A + A ) is MatrixOperator\n",
    "assert type( -A ) is MatrixOperator\n",
    "assert type( A - A ) is MatrixOperator\n",
    "assert type( 3*A ) is MatrixOperator\n",
    "assert type( A @ np.ones(A.shape).T ) is MatrixOperator"
   ]
  },
  {
   "cell_type": "code",
   "execution_count": 150,
   "metadata": {},
   "outputs": [
    {
     "data": {
      "text/plain": [
       "array([[ 1., -1.,  0.,  0.,  0.],\n",
       "       [ 0.,  1., -1.,  0.,  0.],\n",
       "       [ 0.,  0.,  1., -1.,  0.],\n",
       "       [ 0.,  0.,  0.,  1., -1.],\n",
       "       [ 0.,  0.,  0.,  0.,  1.]])"
      ]
     },
     "execution_count": 150,
     "metadata": {},
     "output_type": "execute_result"
    }
   ],
   "source": [
    "A.H.A.toarray()"
   ]
  },
  {
   "cell_type": "code",
   "execution_count": null,
   "metadata": {},
   "outputs": [],
   "source": []
  },
  {
   "cell_type": "code",
   "execution_count": null,
   "metadata": {},
   "outputs": [],
   "source": []
  }
 ],
 "metadata": {
  "kernelspec": {
   "display_name": "speckle38",
   "language": "python",
   "name": "python3"
  },
  "language_info": {
   "codemirror_mode": {
    "name": "ipython",
    "version": 3
   },
   "file_extension": ".py",
   "mimetype": "text/x-python",
   "name": "python",
   "nbconvert_exporter": "python",
   "pygments_lexer": "ipython3",
   "version": "3.8.12"
  },
  "orig_nbformat": 4
 },
 "nbformat": 4,
 "nbformat_minor": 2
}
