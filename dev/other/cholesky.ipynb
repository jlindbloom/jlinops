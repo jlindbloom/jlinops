{
 "cells": [
  {
   "cell_type": "code",
   "execution_count": 1,
   "metadata": {},
   "outputs": [],
   "source": [
    "import numpy as np\n",
    "import matplotlib.pyplot as plt\n",
    "\n",
    "import jlinops"
   ]
  },
  {
   "cell_type": "code",
   "execution_count": 2,
   "metadata": {},
   "outputs": [],
   "source": [
    "R = jlinops.build_2d_first_order_derivative( (20, 20), boundary=\"zero\" )\n",
    "A = R.T @ R"
   ]
  },
  {
   "cell_type": "code",
   "execution_count": 3,
   "metadata": {},
   "outputs": [
    {
     "data": {
      "text/plain": [
       "<400x400 MatrixOperator with dtype=float64>"
      ]
     },
     "execution_count": 3,
     "metadata": {},
     "output_type": "execute_result"
    }
   ],
   "source": [
    "A"
   ]
  },
  {
   "cell_type": "code",
   "execution_count": 4,
   "metadata": {},
   "outputs": [
    {
     "name": "stderr",
     "output_type": "stream",
     "text": [
      "/Users/jonathanlindbloom/opt/miniconda3/envs/speckle38/lib/python3.8/site-packages/scipy/sparse/linalg/_dsolve/linsolve.py:394: SparseEfficiencyWarning: splu converted its input to CSC format\n",
      "  warn('splu converted its input to CSC format', SparseEfficiencyWarning)\n"
     ]
    }
   ],
   "source": [
    "B = jlinops.build_banded_cholesky_factor(A)"
   ]
  },
  {
   "cell_type": "code",
   "execution_count": 5,
   "metadata": {},
   "outputs": [],
   "source": [
    "C = B.A.toarray()"
   ]
  },
  {
   "cell_type": "code",
   "execution_count": 6,
   "metadata": {},
   "outputs": [
    {
     "data": {
      "image/png": "[encoded data removed]",
      "text/plain": [
       "<Figure size 432x288 with 1 Axes>"
      ]
     },
     "metadata": {
      "needs_background": "light"
     },
     "output_type": "display_data"
    }
   ],
   "source": [
    "plt.imshow(C[:200,:200])\n",
    "plt.show()"
   ]
  },
  {
   "cell_type": "markdown",
   "metadata": {},
   "source": [
    "# Sparse banded matrices"
   ]
  },
  {
   "cell_type": "code",
   "execution_count": 7,
   "metadata": {},
   "outputs": [],
   "source": [
    "import numpy as np\n",
    "import matplotlib.pyplot as plt\n",
    "\n",
    "from jlinops import MatrixOperator, build_1d_first_order_derivative\n",
    "from scipy.sparse import issparse"
   ]
  },
  {
   "cell_type": "markdown",
   "metadata": {},
   "source": [
    "### 1. Start with generic SciPy sparse matrix"
   ]
  },
  {
   "cell_type": "code",
   "execution_count": 13,
   "metadata": {},
   "outputs": [],
   "source": [
    "from scipy.sparse.linalg._interface import MatrixLinearOperator, _CustomLinearOperator\n",
    "from scipy.sparse.linalg import splu"
   ]
  },
  {
   "cell_type": "code",
   "execution_count": 16,
   "metadata": {},
   "outputs": [],
   "source": [
    "class SparseMatrixOperator(MatrixOperator):\n",
    "    \"\"\"Represents a SciPy sparse matrix.\n",
    "    \"\"\"\n",
    "\n",
    "    def __init__(self, A):\n",
    "\n",
    "        super().__init__(A)\n",
    "\n",
    "\n",
    "\n",
    "    def _inv(self):\n",
    "        \"\"\"Return the inverse operator.\n",
    "        \"\"\"\n",
    "        return SparseMatrixLUInverseOperator(self)\n",
    "    \n",
    "    Inv = property(_inv)\n",
    "\n",
    "\n",
    "\n",
    "class SparseMatrixLUInverseOperator(_CustomLinearOperator):\n",
    "    \"\"\"Represents the inverse operator of a matrix, where an LU factorization is performed.\n",
    "    \"\"\"\n",
    "\n",
    "    def __init__(self, mat_operator):\n",
    "        \n",
    "        # Store the original operator\n",
    "        self.original_op = mat_operator\n",
    "\n",
    "        # Perform LU decomposition\n",
    "        self.lu = splu(self.original_op.A)\n",
    "\n",
    "\n",
    "        # Define matvec and rmatvec\n",
    "        def _matvec(x):\n",
    "             return self.lu.solve(x, trans=\"N\")\n",
    "        \n",
    "        def _rmatvec(x):\n",
    "            return self.lu.solve(x, trans=\"T\")\n",
    "\n",
    "        super().__init__(self.original_op.shape, _matvec, _rmatvec)\n"
   ]
  },
  {
   "cell_type": "code",
   "execution_count": 26,
   "metadata": {},
   "outputs": [],
   "source": [
    "R = jlinops.build_2d_first_order_derivative( (20, 20), boundary=\"zero\" )\n",
    "R = R.A.T @ R.A"
   ]
  },
  {
   "cell_type": "code",
   "execution_count": 27,
   "metadata": {},
   "outputs": [],
   "source": [
    "Z = SparseMatrixOperator(R)"
   ]
  },
  {
   "cell_type": "code",
   "execution_count": 29,
   "metadata": {},
   "outputs": [
    {
     "name": "stderr",
     "output_type": "stream",
     "text": [
      "/Users/jonathanlindbloom/opt/miniconda3/envs/speckle38/lib/python3.8/site-packages/scipy/sparse/linalg/_dsolve/linsolve.py:394: SparseEfficiencyWarning: splu converted its input to CSC format\n",
      "  warn('splu converted its input to CSC format', SparseEfficiencyWarning)\n"
     ]
    }
   ],
   "source": [
    "Zinv = Z.Inv"
   ]
  },
  {
   "cell_type": "code",
   "execution_count": 30,
   "metadata": {},
   "outputs": [
    {
     "data": {
      "text/plain": [
       "(400, 400)"
      ]
     },
     "execution_count": 30,
     "metadata": {},
     "output_type": "execute_result"
    }
   ],
   "source": [
    "Z.shape"
   ]
  },
  {
   "cell_type": "code",
   "execution_count": 31,
   "metadata": {},
   "outputs": [
    {
     "data": {
      "text/plain": [
       "array([  2.18199923,   3.86399846,   5.24364401,   6.41387486,\n",
       "         7.42554639,   8.30996395,   9.08812759,   9.775019  ,\n",
       "        10.38181055,  10.91710565,  11.38768468,  11.79897835,\n",
       "        12.1553812 ,  12.46046628,  12.71713598,  12.92772989,\n",
       "        13.0941028 ,  13.21768113,  13.29950318,  13.34024682,\n",
       "         3.86399846,   7.0303506 ,   9.69670274,  11.98630904,\n",
       "        13.97834673,  15.72618183,  17.2675274 ,  18.63013788,\n",
       "        19.83511755,  20.89892737,  21.83465473,  22.65284752,\n",
       "        23.36208015,  23.96934794,  24.48034775,  24.89968078,\n",
       "        25.23100018,  25.47711853,  25.64008476,  25.72123729,\n",
       "         5.24364401,   9.69670274,  13.52650729,  16.85631184,\n",
       "        19.77534967,  22.34888924,  24.62566229,  26.64288757,\n",
       "        28.42959438,  30.00883157,  31.39915934,  32.61567685,\n",
       "        33.67074396,  34.57449757,  35.33522631,  35.95964529,\n",
       "        36.45309863,  36.81970804,  37.06248005,  37.18338029,\n",
       "         6.41387486,  11.98630904,  16.85631184,  21.13708136,\n",
       "        24.91785087,  28.26836318,  31.24334493,  33.88615574,\n",
       "        36.23154085,  38.30764516,  40.13747423,  41.73995657,\n",
       "        43.13072126,  44.32267209,  45.32641461,  46.15057543,\n",
       "        46.80204101,  47.28613494,  47.60674709,  47.76642354,\n",
       "         7.42554639,  13.97834673,  19.77534967,  24.91785087,\n",
       "        29.49060928,  33.56336769,  37.19319852,  40.4268496 ,\n",
       "        43.30276814,  45.85273399,  48.10313585,  50.07595394,\n",
       "        51.78951243,  53.25905492,  54.49718461,  55.51420083,\n",
       "        56.31835503,  56.91604364,  57.31194984,  57.50914324,\n",
       "         8.30996395,  15.72618183,  22.34888924,  28.26836318,\n",
       "        33.56336769,  38.30129977,  42.53923185,  46.32527599,\n",
       "        49.69994811,  52.6973868 ,  55.34638123,  57.6712109 ,\n",
       "        59.6923196 ,  61.42685053,  62.8890681 ,  64.09068824,\n",
       "        65.04113465,  65.74773474,  66.21586538,  66.44905634,\n",
       "         9.08812759,  17.2675274 ,  24.62566229,  31.24334493,\n",
       "        37.19319852,  42.53923185,  47.33715313,  51.63507441,\n",
       "        55.47436151,  58.89048389,  61.91379137,  64.57018883,\n",
       "        66.88170455,  68.86695951,  70.54154902,  71.91834936,\n",
       "        73.0077606 ,  73.81789528,  74.35472062,  74.62216039,\n",
       "         9.775019  ,  18.63013788,  26.64288757,  33.88615574,\n",
       "        40.4268496 ,  46.32527599,  51.63507441,  56.40350701,\n",
       "        60.67193961,  64.47639588,  67.84811155,  70.81404848,\n",
       "        73.39735027,  75.61773394,  77.49181911,  79.03339958,\n",
       "        80.25366313,  81.16136514,  81.76296144,  82.0627042 ,\n",
       "        10.38181055,  19.83511755,  28.42959438,  36.23154085,\n",
       "        43.30276814,  49.69994811,  55.47436151,  60.67193961,\n",
       "        65.33349404,  69.49504848,  73.18821046,  76.44054326,\n",
       "        79.27591412,  81.71480687,  83.77459388,  85.46976674,\n",
       "        86.81212718,  87.81094072,  88.4730558 ,  88.80299078,\n",
       "        10.91710565,  20.89892737,  30.00883157,  38.30764516,\n",
       "        45.85273399,  52.6973868 ,  58.89048389,  64.47639588,\n",
       "        69.49504848,  73.98209352,  77.96913856,  81.48399998,\n",
       "        84.55095608,  87.19098554,  89.4219828 ,  91.25894632,\n",
       "        92.71413812,  93.79721476,  94.51533027,  94.87321233,\n",
       "        11.38768468,  21.83465473,  31.39915934,  40.13747423,\n",
       "        48.10313585,  55.34638123,  61.91379137,  67.84811155,\n",
       "        73.18821046,  77.96913856,  82.22225029,  85.97536202,\n",
       "        89.25292468,  92.07619641,  94.46340548,  96.42989761,\n",
       "        97.98826424,  99.14844991,  99.9178382 , 100.30131595,\n",
       "        11.79897835,  22.65284752,  32.61567685,  41.73995657,\n",
       "        50.07595394,  57.6712109 ,  64.57018883,  70.81404848,\n",
       "        76.44054326,  81.48399998,  85.97536202,  89.94227312,\n",
       "        93.40918422,  96.39746994,  98.92554508, 101.00897441,\n",
       "       102.66057131, 103.89048244, 104.70625666, 105.11289732,\n",
       "        12.1553812 ,  23.36208015,  33.67074396,  43.13072126,\n",
       "        51.78951243,  59.6923196 ,  66.88170455,  73.39735027,\n",
       "        79.27591412,  84.55095608,  89.25292468,  93.40918422,\n",
       "        97.04406913, 100.17895405, 102.83233049, 105.01988364,\n",
       "       106.75456417, 108.04665188, 108.90380867, 109.33111935,\n",
       "        12.46046628,  23.96934794,  34.57449757,  44.32267209,\n",
       "        53.25905492,  61.42685053,  68.86695951,  75.61773394,\n",
       "        81.71480687,  87.19098554,  92.07619641,  96.39746994,\n",
       "       100.17895405, 103.44194662, 106.2049392 , 108.48366548,\n",
       "       110.29114984, 111.63775224, 112.53120679, 112.97665207,\n",
       "        12.71713598,  24.48034775,  35.33522631,  45.32641461,\n",
       "        54.49718461,  62.8890681 ,  70.54154902,  77.49181911,\n",
       "        83.77459388,  89.4219828 ,  94.46340548,  98.92554508,\n",
       "       102.83233049, 106.2049392 , 109.06181422, 111.41868923,\n",
       "       113.28861746, 114.68200046, 115.60661417, 116.06763006,\n",
       "        12.92772989,  24.89968078,  35.95964529,  46.15057543,\n",
       "        55.51420083,  64.09068824,  71.91834936,  79.03339958,\n",
       "        85.46976674,  91.25894632,  96.42989761, 101.00897441,\n",
       "       105.01988364, 108.48366548, 111.41868923, 113.84065978,\n",
       "       115.76263032, 117.19501798, 118.14561936, 118.61962396,\n",
       "        13.0941028 ,  25.23100018,  36.45309863,  46.80204101,\n",
       "        56.31835503,  65.04113465,  73.0077606 ,  80.25366313,\n",
       "        86.81212718,  92.71413812,  97.98826424, 102.66057131,\n",
       "       106.75456417, 110.29114984, 113.28861746, 115.76263032,\n",
       "       117.72622605, 119.18982178, 120.16122134, 120.64562245,\n",
       "        13.21768113,  25.47711853,  36.81970804,  47.28613494,\n",
       "        56.91604364,  65.74773474,  73.81789528,  81.16136514,\n",
       "        87.81094072,  93.79721476,  99.14844991, 103.89048244,\n",
       "       108.04665188, 111.63775224, 114.68200046, 117.19501798,\n",
       "       119.18982178, 120.67682177, 121.66382175, 122.15602205,\n",
       "        13.29950318,  25.64008476,  37.06248005,  47.60674709,\n",
       "        57.31194984,  66.21586538,  74.35472062,  81.76296144,\n",
       "        88.4730558 ,  94.51533027,  99.9178382 , 104.70625666,\n",
       "       108.90380867, 112.53120679, 115.60661417, 118.14561936,\n",
       "       120.16122134, 121.66382175, 122.66122185, 123.15862195,\n",
       "        13.34024682,  25.72123729,  37.18338029,  47.76642354,\n",
       "        57.50914324,  66.44905634,  74.62216039,  82.0627042 ,\n",
       "        88.80299078,  94.87321233, 100.30131595, 105.11289732,\n",
       "       109.33111935, 112.97665207, 116.06763006, 118.61962396,\n",
       "       120.64562245, 122.15602205, 123.15862195, 123.65862195])"
      ]
     },
     "execution_count": 31,
     "metadata": {},
     "output_type": "execute_result"
    }
   ],
   "source": [
    "Zinv @ np.ones(400)"
   ]
  },
  {
   "cell_type": "code",
   "execution_count": 33,
   "metadata": {},
   "outputs": [
    {
     "data": {
      "text/plain": [
       "array([  2.18199923,   3.86399846,   5.24364401,   6.41387486,\n",
       "         7.42554639,   8.30996395,   9.08812759,   9.775019  ,\n",
       "        10.38181055,  10.91710565,  11.38768468,  11.79897835,\n",
       "        12.1553812 ,  12.46046628,  12.71713598,  12.92772989,\n",
       "        13.0941028 ,  13.21768113,  13.29950318,  13.34024682,\n",
       "         3.86399846,   7.0303506 ,   9.69670274,  11.98630904,\n",
       "        13.97834673,  15.72618183,  17.2675274 ,  18.63013788,\n",
       "        19.83511755,  20.89892737,  21.83465473,  22.65284752,\n",
       "        23.36208015,  23.96934794,  24.48034775,  24.89968078,\n",
       "        25.23100018,  25.47711853,  25.64008476,  25.72123729,\n",
       "         5.24364401,   9.69670274,  13.52650729,  16.85631184,\n",
       "        19.77534967,  22.34888924,  24.62566229,  26.64288757,\n",
       "        28.42959438,  30.00883157,  31.39915934,  32.61567685,\n",
       "        33.67074396,  34.57449757,  35.33522631,  35.95964529,\n",
       "        36.45309863,  36.81970804,  37.06248005,  37.18338029,\n",
       "         6.41387486,  11.98630904,  16.85631184,  21.13708136,\n",
       "        24.91785087,  28.26836318,  31.24334493,  33.88615574,\n",
       "        36.23154085,  38.30764516,  40.13747423,  41.73995657,\n",
       "        43.13072126,  44.32267209,  45.32641461,  46.15057543,\n",
       "        46.80204101,  47.28613494,  47.60674709,  47.76642354,\n",
       "         7.42554639,  13.97834673,  19.77534967,  24.91785087,\n",
       "        29.49060928,  33.56336769,  37.19319852,  40.4268496 ,\n",
       "        43.30276814,  45.85273399,  48.10313585,  50.07595394,\n",
       "        51.78951243,  53.25905492,  54.49718461,  55.51420083,\n",
       "        56.31835503,  56.91604364,  57.31194984,  57.50914324,\n",
       "         8.30996395,  15.72618183,  22.34888924,  28.26836318,\n",
       "        33.56336769,  38.30129977,  42.53923185,  46.32527599,\n",
       "        49.69994811,  52.6973868 ,  55.34638123,  57.6712109 ,\n",
       "        59.6923196 ,  61.42685053,  62.8890681 ,  64.09068824,\n",
       "        65.04113465,  65.74773474,  66.21586538,  66.44905634,\n",
       "         9.08812759,  17.2675274 ,  24.62566229,  31.24334493,\n",
       "        37.19319852,  42.53923185,  47.33715313,  51.63507441,\n",
       "        55.47436151,  58.89048389,  61.91379137,  64.57018883,\n",
       "        66.88170455,  68.86695951,  70.54154902,  71.91834936,\n",
       "        73.0077606 ,  73.81789528,  74.35472062,  74.62216039,\n",
       "         9.775019  ,  18.63013788,  26.64288757,  33.88615574,\n",
       "        40.4268496 ,  46.32527599,  51.63507441,  56.40350701,\n",
       "        60.67193961,  64.47639588,  67.84811155,  70.81404848,\n",
       "        73.39735027,  75.61773394,  77.49181911,  79.03339958,\n",
       "        80.25366313,  81.16136514,  81.76296144,  82.0627042 ,\n",
       "        10.38181055,  19.83511755,  28.42959438,  36.23154085,\n",
       "        43.30276814,  49.69994811,  55.47436151,  60.67193961,\n",
       "        65.33349404,  69.49504848,  73.18821046,  76.44054326,\n",
       "        79.27591412,  81.71480687,  83.77459388,  85.46976674,\n",
       "        86.81212718,  87.81094072,  88.4730558 ,  88.80299078,\n",
       "        10.91710565,  20.89892737,  30.00883157,  38.30764516,\n",
       "        45.85273399,  52.6973868 ,  58.89048389,  64.47639588,\n",
       "        69.49504848,  73.98209352,  77.96913856,  81.48399998,\n",
       "        84.55095608,  87.19098554,  89.4219828 ,  91.25894632,\n",
       "        92.71413812,  93.79721476,  94.51533027,  94.87321233,\n",
       "        11.38768468,  21.83465473,  31.39915934,  40.13747423,\n",
       "        48.10313585,  55.34638123,  61.91379137,  67.84811155,\n",
       "        73.18821046,  77.96913856,  82.22225029,  85.97536202,\n",
       "        89.25292468,  92.07619641,  94.46340548,  96.42989761,\n",
       "        97.98826424,  99.14844991,  99.9178382 , 100.30131595,\n",
       "        11.79897835,  22.65284752,  32.61567685,  41.73995657,\n",
       "        50.07595394,  57.6712109 ,  64.57018883,  70.81404848,\n",
       "        76.44054326,  81.48399998,  85.97536202,  89.94227312,\n",
       "        93.40918422,  96.39746994,  98.92554508, 101.00897441,\n",
       "       102.66057131, 103.89048244, 104.70625666, 105.11289732,\n",
       "        12.1553812 ,  23.36208015,  33.67074396,  43.13072126,\n",
       "        51.78951243,  59.6923196 ,  66.88170455,  73.39735027,\n",
       "        79.27591412,  84.55095608,  89.25292468,  93.40918422,\n",
       "        97.04406913, 100.17895405, 102.83233049, 105.01988364,\n",
       "       106.75456417, 108.04665188, 108.90380867, 109.33111935,\n",
       "        12.46046628,  23.96934794,  34.57449757,  44.32267209,\n",
       "        53.25905492,  61.42685053,  68.86695951,  75.61773394,\n",
       "        81.71480687,  87.19098554,  92.07619641,  96.39746994,\n",
       "       100.17895405, 103.44194662, 106.2049392 , 108.48366548,\n",
       "       110.29114984, 111.63775224, 112.53120679, 112.97665207,\n",
       "        12.71713598,  24.48034775,  35.33522631,  45.32641461,\n",
       "        54.49718461,  62.8890681 ,  70.54154902,  77.49181911,\n",
       "        83.77459388,  89.4219828 ,  94.46340548,  98.92554508,\n",
       "       102.83233049, 106.2049392 , 109.06181422, 111.41868923,\n",
       "       113.28861746, 114.68200046, 115.60661417, 116.06763006,\n",
       "        12.92772989,  24.89968078,  35.95964529,  46.15057543,\n",
       "        55.51420083,  64.09068824,  71.91834936,  79.03339958,\n",
       "        85.46976674,  91.25894632,  96.42989761, 101.00897441,\n",
       "       105.01988364, 108.48366548, 111.41868923, 113.84065978,\n",
       "       115.76263032, 117.19501798, 118.14561936, 118.61962396,\n",
       "        13.0941028 ,  25.23100018,  36.45309863,  46.80204101,\n",
       "        56.31835503,  65.04113465,  73.0077606 ,  80.25366313,\n",
       "        86.81212718,  92.71413812,  97.98826424, 102.66057131,\n",
       "       106.75456417, 110.29114984, 113.28861746, 115.76263032,\n",
       "       117.72622605, 119.18982178, 120.16122134, 120.64562245,\n",
       "        13.21768113,  25.47711853,  36.81970804,  47.28613494,\n",
       "        56.91604364,  65.74773474,  73.81789528,  81.16136514,\n",
       "        87.81094072,  93.79721476,  99.14844991, 103.89048244,\n",
       "       108.04665188, 111.63775224, 114.68200046, 117.19501798,\n",
       "       119.18982178, 120.67682177, 121.66382175, 122.15602205,\n",
       "        13.29950318,  25.64008476,  37.06248005,  47.60674709,\n",
       "        57.31194984,  66.21586538,  74.35472062,  81.76296144,\n",
       "        88.4730558 ,  94.51533027,  99.9178382 , 104.70625666,\n",
       "       108.90380867, 112.53120679, 115.60661417, 118.14561936,\n",
       "       120.16122134, 121.66382175, 122.66122185, 123.15862195,\n",
       "        13.34024682,  25.72123729,  37.18338029,  47.76642354,\n",
       "        57.50914324,  66.44905634,  74.62216039,  82.0627042 ,\n",
       "        88.80299078,  94.87321233, 100.30131595, 105.11289732,\n",
       "       109.33111935, 112.97665207, 116.06763006, 118.61962396,\n",
       "       120.64562245, 122.15602205, 123.15862195, 123.65862195])"
      ]
     },
     "execution_count": 33,
     "metadata": {},
     "output_type": "execute_result"
    }
   ],
   "source": [
    "np.linalg.solve(Z.A.toarray(), np.ones(400))"
   ]
  },
  {
   "cell_type": "markdown",
   "metadata": {},
   "source": [
    "# 2.5 Sparse SPD matrix"
   ]
  },
  {
   "cell_type": "code",
   "execution_count": null,
   "metadata": {},
   "outputs": [],
   "source": [
    "from jlinops import banded_cholesky_factorization"
   ]
  },
  {
   "cell_type": "code",
   "execution_count": null,
   "metadata": {},
   "outputs": [],
   "source": [
    "class SparseSPDMatrixOperator(SparseMatrixOperator):\n",
    "    \"\"\"Represents a SPD sparse matrix.\n",
    "    \"\"\"\n",
    "\n",
    "    def __init__(self, A):\n",
    "\n",
    "        super().__init__(A)\n",
    "\n",
    "\n",
    "\n",
    "    def _inv(self):\n",
    "        \n",
    "        return\n",
    "    \n",
    "\n",
    "class SparseCholInvSPDMatrixOperator(_CustomLinearOperator):\n",
    "    \"\"\"Represents the inverse operator of a sparse SPD matrix,\n",
    "    computed using the LU decomposition. Also binds Cholesky\n",
    "    factor as an attribute.\n",
    "    \"\"\"\n",
    "\n",
    "    def __init__(self, mat_operator):\n",
    "\n",
    "        # Store original operator\n",
    "        self.original_op = mat_operator\n",
    "\n",
    "        # Compute cholesky\n",
    "        self.chol_fac, self.LU = banded_cholesky_factorization(self.original_op.mat)\n",
    "\n",
    "        # Define matvec and rmatvec\n",
    "        def _matvec(x):\n",
    "            return self.LU.solve(x, trans=\"N\")\n",
    "        \n",
    "        def _rmatvec(x):\n",
    "            return self.LU.solve(x, trans=\"T\")\n",
    "        \n",
    "        super().__init__(self.original_op.shape, _matvec, _rmatvec)\n",
    "    \n",
    "\n",
    "\n",
    "    def _inv(self):\n",
    "        return self.original_op\n",
    "    \n",
    "    Inv = property(_inv)"
   ]
  },
  {
   "cell_type": "code",
   "execution_count": null,
   "metadata": {},
   "outputs": [],
   "source": []
  },
  {
   "cell_type": "code",
   "execution_count": null,
   "metadata": {},
   "outputs": [],
   "source": []
  },
  {
   "cell_type": "code",
   "execution_count": null,
   "metadata": {},
   "outputs": [],
   "source": []
  },
  {
   "cell_type": "code",
   "execution_count": null,
   "metadata": {},
   "outputs": [],
   "source": []
  },
  {
   "cell_type": "code",
   "execution_count": null,
   "metadata": {},
   "outputs": [],
   "source": []
  },
  {
   "cell_type": "code",
   "execution_count": null,
   "metadata": {},
   "outputs": [],
   "source": []
  },
  {
   "cell_type": "markdown",
   "metadata": {},
   "source": [
    "### 3. Cholesky factor"
   ]
  },
  {
   "cell_type": "code",
   "execution_count": null,
   "metadata": {},
   "outputs": [],
   "source": []
  },
  {
   "cell_type": "code",
   "execution_count": null,
   "metadata": {},
   "outputs": [],
   "source": []
  },
  {
   "cell_type": "code",
   "execution_count": null,
   "metadata": {},
   "outputs": [],
   "source": []
  },
  {
   "cell_type": "code",
   "execution_count": null,
   "metadata": {},
   "outputs": [],
   "source": []
  },
  {
   "cell_type": "code",
   "execution_count": null,
   "metadata": {},
   "outputs": [],
   "source": []
  },
  {
   "cell_type": "code",
   "execution_count": null,
   "metadata": {},
   "outputs": [],
   "source": []
  },
  {
   "cell_type": "markdown",
   "metadata": {},
   "source": [
    "# Old"
   ]
  },
  {
   "cell_type": "code",
   "execution_count": null,
   "metadata": {},
   "outputs": [],
   "source": []
  },
  {
   "cell_type": "code",
   "execution_count": null,
   "metadata": {},
   "outputs": [],
   "source": [
    "class SparseLowerTriangularMatrixOperator(MatrixOperator):\n",
    "    \"\"\"Represents a sparse lower triangular matrix of a SciPy sparse type.\n",
    "    \"\"\"\n",
    "\n",
    "    def __init__(self, A):\n",
    "\n",
    "        assert issparse(A), \"This operator is only meant to represent matrices that are SciPy sparse matrices.\"\n",
    "\n",
    "        super().__init__(A)\n",
    "\n",
    "    def \n",
    "    "
   ]
  },
  {
   "cell_type": "code",
   "execution_count": null,
   "metadata": {},
   "outputs": [],
   "source": [
    "t"
   ]
  },
  {
   "cell_type": "code",
   "execution_count": null,
   "metadata": {},
   "outputs": [],
   "source": []
  },
  {
   "cell_type": "code",
   "execution_count": 20,
   "metadata": {},
   "outputs": [],
   "source": [
    "class SPDBandedMatrixOperator(MatrixOperator):\n",
    "    \"\"\"Represents a sparse banded matrix.\n",
    "    \"\"\"\n",
    "\n",
    "    def __init__(self, A):\n",
    "\n",
    "        assert issparse(A), \"This operator is only meant to represent matrices that are SciPy sparse matrices.\"\n",
    "        \n",
    "        super().__init__(A)\n",
    "\n",
    "    def _solve"
   ]
  },
  {
   "cell_type": "code",
   "execution_count": 21,
   "metadata": {},
   "outputs": [],
   "source": [
    "R = build_1d_first_order_derivative(5, boundary=\"zero\")"
   ]
  },
  {
   "cell_type": "code",
   "execution_count": 27,
   "metadata": {},
   "outputs": [],
   "source": [
    "Z = BandedMatrixOperator(R.A) + BandedMatrixOperator(R.A)"
   ]
  },
  {
   "cell_type": "code",
   "execution_count": 28,
   "metadata": {},
   "outputs": [
    {
     "data": {
      "text/plain": [
       "(5, 5)"
      ]
     },
     "execution_count": 28,
     "metadata": {},
     "output_type": "execute_result"
    }
   ],
   "source": [
    "Z.shape"
   ]
  },
  {
   "cell_type": "code",
   "execution_count": 32,
   "metadata": {},
   "outputs": [
    {
     "data": {
      "text/plain": [
       "<5x1 MatrixOperator with dtype=float64>"
      ]
     },
     "execution_count": 32,
     "metadata": {},
     "output_type": "execute_result"
    }
   ],
   "source": [
    "Z @ np.ones((5,1))"
   ]
  },
  {
   "cell_type": "code",
   "execution_count": 34,
   "metadata": {},
   "outputs": [
    {
     "data": {
      "text/plain": [
       "<5x5 MatrixOperator with dtype=float64>"
      ]
     },
     "execution_count": 34,
     "metadata": {},
     "output_type": "execute_result"
    }
   ],
   "source": [
    "type(Z)(R)"
   ]
  },
  {
   "cell_type": "code",
   "execution_count": null,
   "metadata": {},
   "outputs": [],
   "source": []
  },
  {
   "cell_type": "code",
   "execution_count": null,
   "metadata": {},
   "outputs": [],
   "source": []
  },
  {
   "cell_type": "code",
   "execution_count": null,
   "metadata": {},
   "outputs": [],
   "source": []
  },
  {
   "cell_type": "code",
   "execution_count": null,
   "metadata": {},
   "outputs": [],
   "source": []
  }
 ],
 "metadata": {
  "kernelspec": {
   "display_name": "speckle38",
   "language": "python",
   "name": "python3"
  },
  "language_info": {
   "codemirror_mode": {
    "name": "ipython",
    "version": 3
   },
   "file_extension": ".py",
   "mimetype": "text/x-python",
   "name": "python",
   "nbconvert_exporter": "python",
   "pygments_lexer": "ipython3",
   "version": "3.8.12"
  },
  "orig_nbformat": 4
 },
 "nbformat": 4,
 "nbformat_minor": 2
}
