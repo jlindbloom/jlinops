{
 "cells": [
  {
   "cell_type": "code",
   "execution_count": 49,
   "metadata": {},
   "outputs": [],
   "source": [
    "import numpy as np\n",
    "import matplotlib.pyplot as plt\n",
    "# from jlinops import CGPseudoinverse, MatrixOperator\n",
    "from jlinops import MatrixOperator, QRPseudoInverseOperator\n",
    "from scipy.linalg import null_space\n",
    "\n",
    "from scipy.sparse.linalg import cg as scipy_cg\n",
    "from jlinops import cg\n",
    "\n",
    "from scipy.linalg import qr as scipy_qr\n",
    "from scipy.linalg import solve_triangular as scipy_solve_triangular\n",
    "from scipy.sparse.linalg._interface import MatrixLinearOperator, _CustomLinearOperator\n",
    "import scipy.sparse as sps"
   ]
  },
  {
   "cell_type": "code",
   "execution_count": 77,
   "metadata": {},
   "outputs": [],
   "source": [
    "m, n = 8, 5\n",
    "Amat = np.random.normal(size=(m,n))\n",
    "Amat[:,-1] = Amat[:,-2]\n",
    "Amat[:,2] = Amat[:,1]\n",
    "A = MatrixOperator(Amat)\n",
    "W = null_space(Amat)"
   ]
  },
  {
   "cell_type": "markdown",
   "metadata": {},
   "source": [
    "# Basic pseudoinverse"
   ]
  },
  {
   "cell_type": "code",
   "execution_count": 78,
   "metadata": {},
   "outputs": [],
   "source": [
    "class CGPseudoinverseOperator(_CustomLinearOperator):\n",
    "    \"\"\"Returns a linear operator that approximately computes the pseudoinverse of a matrix A using \n",
    "    a conjugate gradient method.\n",
    "    \"\"\"\n",
    "\n",
    "    def __init__(self, operator, warmstart_prev=False, which=\"jlinops\", *args, **kwargs):\n",
    "\n",
    "        assert which in [\"jlinops\", \"scipy\"], \"Invalid choice for which!\"\n",
    "\n",
    "        # Store operator\n",
    "        self.original_op = operator\n",
    "\n",
    "        # Setup\n",
    "        self.which = which\n",
    "        self.in_shape = self.original_op.shape[0]\n",
    "        self.out_shape = self.original_op.shape[1]\n",
    "        self.prev_eval = np.zeros(self.out_shape)\n",
    "        self.prev_eval_t = np.zeros(self.in_shape)\n",
    "        self.warmstart_prev = warmstart_prev\n",
    "\n",
    "        # Build both operators we need\n",
    "        self.AtA = self.original_op.T @ self.original_op\n",
    "        self.AAt = self.original_op @ self.original_op.T\n",
    "\n",
    "        # Define matvec and rmatvec\n",
    "        def _matvec(x):\n",
    "            if self.which == \"scipy\":\n",
    "                sol, converged = scipy_cg(self.AtA, self.original_op.T @ x, x0=self.prev_eval, *args, **kwargs) \n",
    "                assert converged == 0, \"CG algorithm did not converge!\"\n",
    "            elif self.which == \"jlinops\":\n",
    "                solver_data = cg(self.AtA, self.original_op.T @ x, x0=self.prev_eval, *args, **kwargs)\n",
    "                sol = solver_data[\"x\"]\n",
    "            else:\n",
    "                raise ValueError\n",
    "\n",
    "            if self.warmstart_prev:\n",
    "                self.prev_eval = sol.copy()\n",
    "\n",
    "            return sol\n",
    "        \n",
    "        def _rmatvec(x):\n",
    "            if self.which == \"scipy\":\n",
    "                sol, converged = scipy_cg(self.AAt, self.original_op @ x, x0=self.prev_eval_t, *args, **kwargs) \n",
    "                assert converged == 0, \"CG algorithm did not converge!\"\n",
    "            elif self.which == \"jlinops\":\n",
    "                solver_data = cg(self.AAt, self.original_op @ x, x0=self.prev_eval_t, *args, **kwargs)\n",
    "                sol = solver_data[\"x\"]\n",
    "            else:\n",
    "                raise ValueError\n",
    "\n",
    "            if self.warmstart_prev:\n",
    "                self.prev_eval_t = sol.copy()\n",
    "                \n",
    "            return sol\n",
    "        \n",
    "        super().__init__( (self.out_shape, self.in_shape), _matvec, _rmatvec )\n"
   ]
  },
  {
   "cell_type": "code",
   "execution_count": 79,
   "metadata": {},
   "outputs": [],
   "source": [
    "Apinv = CGPseudoinverseOperator(A)"
   ]
  },
  {
   "cell_type": "code",
   "execution_count": 80,
   "metadata": {},
   "outputs": [
    {
     "data": {
      "text/plain": [
       "7.580880525408319e-16"
      ]
     },
     "execution_count": 80,
     "metadata": {},
     "output_type": "execute_result"
    }
   ],
   "source": [
    "z = np.random.normal(size=8)\n",
    "np.linalg.norm( Apinv.matvec( z ) - np.linalg.pinv(Amat) @ z )"
   ]
  },
  {
   "cell_type": "code",
   "execution_count": 81,
   "metadata": {},
   "outputs": [
    {
     "data": {
      "text/plain": [
       "7.480440612324231e-16"
      ]
     },
     "execution_count": 81,
     "metadata": {},
     "output_type": "execute_result"
    }
   ],
   "source": [
    "z = np.random.normal(size=5)\n",
    "np.linalg.norm( Apinv.rmatvec( z ) - np.linalg.pinv(Amat).T @ z )"
   ]
  },
  {
   "cell_type": "code",
   "execution_count": null,
   "metadata": {},
   "outputs": [],
   "source": []
  },
  {
   "cell_type": "markdown",
   "metadata": {},
   "source": [
    "# Special basic pseudoinverse"
   ]
  },
  {
   "cell_type": "code",
   "execution_count": 82,
   "metadata": {},
   "outputs": [],
   "source": [
    "class CGModPseudoinverseOperator(_CustomLinearOperator):\n",
    "    \"\"\"Returns a linear operator that approximately computes the pseudoinverse of a matrix A using \n",
    "    a conjugate gradient method. Modifed so that it only ever solves systems with A^T A. \n",
    "    \"\"\"\n",
    "\n",
    "    def __init__(self, operator, W, Wpinv, warmstart_prev=False, which=\"jlinops\", *args, **kwargs):\n",
    "\n",
    "        assert which in [\"jlinops\", \"scipy\"], \"Invalid choice for which!\"\n",
    "\n",
    "        # Store operator\n",
    "        self.original_op = operator\n",
    "        self.W = W\n",
    "        self.Wpinv = Wpinv\n",
    "\n",
    "        # Setup\n",
    "        self.which = which\n",
    "        self.in_shape = self.original_op.shape[0]\n",
    "        self.out_shape = self.original_op.shape[1]\n",
    "        self.prev_eval = np.zeros(self.out_shape)\n",
    "        self.prev_eval_t = np.zeros(self.out_shape)\n",
    "        self.warmstart_prev = warmstart_prev\n",
    "\n",
    "        # Build both operators we need\n",
    "        self.AtA = self.original_op.T @ self.original_op\n",
    "        self.AAt = self.original_op @ self.original_op.T\n",
    "\n",
    "        # Define matvec and rmatvec\n",
    "        def _matvec(x):\n",
    "            if self.which == \"scipy\":\n",
    "                sol, converged = scipy_cg(self.AtA, self.original_op.T @ x, x0=self.prev_eval, *args, **kwargs) \n",
    "                assert converged == 0, \"CG algorithm did not converge!\"\n",
    "            elif self.which == \"jlinops\":\n",
    "                solver_data = cg(self.AtA, self.original_op.T @ x, x0=self.prev_eval, *args, **kwargs)\n",
    "                sol = solver_data[\"x\"]\n",
    "            else:\n",
    "                raise ValueError\n",
    "\n",
    "            if self.warmstart_prev:\n",
    "                self.prev_eval = sol.copy()\n",
    "\n",
    "            return sol\n",
    "        \n",
    "        def _rmatvec(x):\n",
    "\n",
    "            # Project x onto range(A^T A) = range(A^T).\n",
    "            x = x - (self.W @ (self.Wpinv @ x))\n",
    "\n",
    "            if self.which == \"scipy\":\n",
    "                sol, converged = scipy_cg(self.AtA, x, x0=self.prev_eval_t, *args, **kwargs) \n",
    "                assert converged == 0, \"CG algorithm did not converge!\"\n",
    "            elif self.which == \"jlinops\":\n",
    "                solver_data = cg(self.AtA, x, x0=self.prev_eval_t, *args, **kwargs)\n",
    "                sol = solver_data[\"x\"]\n",
    "            else:\n",
    "                raise ValueError\n",
    "\n",
    "            if self.warmstart_prev:\n",
    "                self.prev_eval_t = sol.copy()\n",
    "                \n",
    "            return self.original_op @ sol\n",
    "        \n",
    "        super().__init__( (self.out_shape, self.in_shape), _matvec, _rmatvec )\n"
   ]
  },
  {
   "cell_type": "code",
   "execution_count": 83,
   "metadata": {},
   "outputs": [],
   "source": [
    "W = null_space(Amat)\n",
    "W = MatrixOperator(W)\n",
    "Wpinv = QRPseudoInverseOperator(W)"
   ]
  },
  {
   "cell_type": "code",
   "execution_count": 84,
   "metadata": {},
   "outputs": [],
   "source": [
    "Apinv = CGModPseudoinverseOperator(A, W, Wpinv)"
   ]
  },
  {
   "cell_type": "code",
   "execution_count": 85,
   "metadata": {},
   "outputs": [
    {
     "data": {
      "text/plain": [
       "5.689046731696577e-16"
      ]
     },
     "execution_count": 85,
     "metadata": {},
     "output_type": "execute_result"
    }
   ],
   "source": [
    "z = np.random.normal(size=8)\n",
    "np.linalg.norm( Apinv.matvec( z ) - np.linalg.pinv(Amat) @ z )"
   ]
  },
  {
   "cell_type": "code",
   "execution_count": 86,
   "metadata": {},
   "outputs": [
    {
     "data": {
      "text/plain": [
       "1.4038533086086518e-15"
      ]
     },
     "execution_count": 86,
     "metadata": {},
     "output_type": "execute_result"
    }
   ],
   "source": [
    "z = np.random.normal(size=5)\n",
    "np.linalg.norm( Apinv.rmatvec( z ) - np.linalg.pinv(Amat).T @ z )"
   ]
  },
  {
   "cell_type": "code",
   "execution_count": 87,
   "metadata": {},
   "outputs": [
    {
     "data": {
      "text/plain": [
       "array([[ 0.00000000e+00, -3.92523115e-17],\n",
       "       [ 7.07106781e-01, -1.94289029e-16],\n",
       "       [-7.07106781e-01,  1.38777878e-16],\n",
       "       [-7.21644966e-16, -7.07106781e-01],\n",
       "       [-3.88578059e-16,  7.07106781e-01]])"
      ]
     },
     "execution_count": 87,
     "metadata": {},
     "output_type": "execute_result"
    }
   ],
   "source": [
    "Wpinv.Q_fac"
   ]
  },
  {
   "cell_type": "code",
   "execution_count": 88,
   "metadata": {},
   "outputs": [
    {
     "data": {
      "text/plain": [
       "array([[-1.00000000e+00,  2.35513869e-16],\n",
       "       [ 0.00000000e+00,  1.00000000e+00]])"
      ]
     },
     "execution_count": 88,
     "metadata": {},
     "output_type": "execute_result"
    }
   ],
   "source": [
    "Wpinv.R_fac"
   ]
  },
  {
   "cell_type": "code",
   "execution_count": 89,
   "metadata": {},
   "outputs": [
    {
     "data": {
      "text/plain": [
       "<2x5 QRPseudoInverseOperator with dtype=float64>"
      ]
     },
     "execution_count": 89,
     "metadata": {},
     "output_type": "execute_result"
    }
   ],
   "source": [
    "Wpinv"
   ]
  },
  {
   "cell_type": "markdown",
   "metadata": {},
   "source": [
    "# Preconditioned CG pseudoinverse"
   ]
  },
  {
   "cell_type": "code",
   "execution_count": 90,
   "metadata": {},
   "outputs": [],
   "source": [
    "class CGPreconditionedPseudoinverseOperator(_CustomLinearOperator):\n",
    "    \"\"\"Returns a linear operator that approximately computes the pseudoinverse of a matrix A using \n",
    "    a conjugate gradient method. Modifed so that it only ever solves systems with A^T A. \n",
    "    \"\"\"\n",
    "\n",
    "    def __init__(self, operator, W, Wpinv, Lpinv, Ltpinv, warmstart_prev=False, which=\"jlinops\", *args, **kwargs):\n",
    "\n",
    "        assert which in [\"jlinops\", \"scipy\"], \"Invalid choice for which!\"\n",
    "\n",
    "        # Store operator\n",
    "        self.original_op = operator\n",
    "        self.W = W\n",
    "        self.Wpinv = Wpinv\n",
    "        self.Lpinv = Lpinv\n",
    "        self.Ltpinv = Ltpinv\n",
    "\n",
    "        # Setup\n",
    "        self.which = which\n",
    "        self.in_shape = self.original_op.shape[0]\n",
    "        self.out_shape = self.original_op.shape[1]\n",
    "        self.prev_eval = np.zeros(self.out_shape)\n",
    "        self.prev_eval_t = np.zeros(self.out_shape)\n",
    "        self.warmstart_prev = warmstart_prev\n",
    "\n",
    "        # Build both operators we need\n",
    "        self.AtA = self.original_op.T @ self.original_op\n",
    "        self.Q = self.Lpinv @ self.AtA @ self.Ltpinv\n",
    "\n",
    "        # Define matvec and rmatvec\n",
    "        def _matvec(x):\n",
    "            if self.which == \"scipy\":\n",
    "                sol, converged = scipy_cg(self.Q, self.Lpinv @ (self.original_op.T @ x), x0=self.prev_eval, *args, **kwargs) \n",
    "                assert converged == 0, \"CG algorithm did not converge!\"\n",
    "            elif self.which == \"jlinops\":\n",
    "                solver_data = cg(self.Q, self.Lpinv @ (self.original_op.T @ x), x0=self.prev_eval, *args, **kwargs)\n",
    "                sol = solver_data[\"x\"]\n",
    "            else:\n",
    "                raise ValueError\n",
    "\n",
    "            if self.warmstart_prev:\n",
    "                self.prev_eval = sol.copy()\n",
    "\n",
    "            return self.Ltpinv @ sol\n",
    "        \n",
    "        def _rmatvec(x):\n",
    "\n",
    "            # Project x onto range(A^T A) = range(A^T).\n",
    "            x = x - (self.W @ (self.Wpinv @ x))\n",
    "\n",
    "            if self.which == \"scipy\":\n",
    "                sol, converged = scipy_cg(self.Q, self.Lpinv @ x, x0=self.prev_eval_t, *args, **kwargs) \n",
    "                assert converged == 0, \"CG algorithm did not converge!\"\n",
    "            elif self.which == \"jlinops\":\n",
    "                solver_data = cg(self.Q, self.Lpinv @ x, x0=self.prev_eval_t, *args, **kwargs)\n",
    "                sol = solver_data[\"x\"]\n",
    "            else:\n",
    "                raise ValueError\n",
    "\n",
    "            if self.warmstart_prev:\n",
    "                self.prev_eval_t = sol.copy()\n",
    "                \n",
    "            return self.original_op @ (self.Ltpinv @ sol)\n",
    "        \n",
    "        super().__init__( (self.out_shape, self.in_shape), _matvec, _rmatvec )\n"
   ]
  },
  {
   "cell_type": "code",
   "execution_count": null,
   "metadata": {},
   "outputs": [],
   "source": []
  },
  {
   "cell_type": "code",
   "execution_count": null,
   "metadata": {},
   "outputs": [],
   "source": []
  }
 ],
 "metadata": {
  "kernelspec": {
   "display_name": "speckle38",
   "language": "python",
   "name": "python3"
  },
  "language_info": {
   "codemirror_mode": {
    "name": "ipython",
    "version": 3
   },
   "file_extension": ".py",
   "mimetype": "text/x-python",
   "name": "python",
   "nbconvert_exporter": "python",
   "pygments_lexer": "ipython3",
   "version": "3.8.12"
  }
 },
 "nbformat": 4,
 "nbformat_minor": 2
}
