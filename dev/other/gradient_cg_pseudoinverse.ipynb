{
 "cells": [
  {
   "cell_type": "code",
   "execution_count": 1,
   "metadata": {},
   "outputs": [],
   "source": [
    "import numpy as np\n",
    "import matplotlib.pyplot as plt\n",
    "# from jlinops import CGPseudoinverse, MatrixOperator\n",
    "from jlinops import MatrixLinearOperator, QRPinvOperator\n",
    "from scipy.linalg import null_space\n",
    "\n",
    "from scipy.sparse.linalg import cg as scipy_cg\n",
    "from jlinops import cg\n",
    "\n",
    "from scipy.linalg import qr as scipy_qr\n",
    "from scipy.linalg import solve_triangular as scipy_solve_triangular\n",
    "#from scipy.sparse.linalg._interface import MatrixLinearOperator, _CustomLinearOperator\n",
    "import scipy.sparse as sps\n",
    "\n",
    "from scipy.sparse import diags\n",
    "# from jlinops import SparseMatrixOperator\n",
    "\n",
    "from jlinops import CGWeightedNeumann2DPinvOperator\n",
    "#from jlinops import CGWeightedDiscreteGradientNeumann2DPseudoinverse"
   ]
  },
  {
   "cell_type": "markdown",
   "metadata": {},
   "source": [
    "# Preconditioned pseudoinverse op"
   ]
  },
  {
   "cell_type": "code",
   "execution_count": 2,
   "metadata": {},
   "outputs": [],
   "source": [
    "# class CGPreconditionedPseudoinverseOperator(_CustomLinearOperator):\n",
    "#     \"\"\"Returns a linear operator that approximately computes the pseudoinverse of a matrix A using \n",
    "#     a conjugate gradient method. Modifed so that it only ever solves systems with A^T A. \n",
    "#     \"\"\"\n",
    "\n",
    "#     def __init__(self, operator, W, Wpinv, Lpinv, Ltpinv, warmstart_prev=True, which=\"jlinops\", *args, **kwargs):\n",
    "\n",
    "#         assert which in [\"jlinops\", \"scipy\"], \"Invalid choice for which!\"\n",
    "\n",
    "#         # Store operator\n",
    "#         self.original_op = operator\n",
    "#         self.W = W\n",
    "#         self.Wpinv = Wpinv\n",
    "#         self.Lpinv = Lpinv\n",
    "#         self.Ltpinv = Ltpinv\n",
    "\n",
    "#         # Setup\n",
    "#         self.which = which\n",
    "#         self.in_shape = self.original_op.shape[0]\n",
    "#         self.out_shape = self.original_op.shape[1]\n",
    "#         self.prev_eval = np.zeros(self.out_shape)\n",
    "#         self.prev_eval_t = np.zeros(self.out_shape)\n",
    "#         self.warmstart_prev = warmstart_prev\n",
    "\n",
    "#         # Build both operators we need\n",
    "#         self.AtA = self.original_op.T @ self.original_op\n",
    "#         self.Q = self.Lpinv @ self.AtA @ self.Ltpinv\n",
    "\n",
    "#         # Define matvec and rmatvec\n",
    "#         def _matvec(x):\n",
    "#             if self.which == \"scipy\":\n",
    "#                 sol, converged = scipy_cg(self.Q, self.Lpinv @ (self.original_op.T @ x), x0=self.prev_eval, *args, **kwargs) \n",
    "#                 assert converged == 0, \"CG algorithm did not converge!\"\n",
    "#             elif self.which == \"jlinops\":\n",
    "#                 solver_data = cg(self.Q, self.Lpinv @ (self.original_op.T @ x), x0=self.prev_eval, *args, **kwargs)\n",
    "#                 sol = solver_data[\"x\"]\n",
    "#             else:\n",
    "#                 raise ValueError\n",
    "\n",
    "#             if self.warmstart_prev:\n",
    "#                 self.prev_eval = sol.copy()\n",
    "\n",
    "#             return self.Ltpinv @ sol\n",
    "        \n",
    "#         def _rmatvec(x):\n",
    "\n",
    "#             # Project x onto range(A^T A) = range(A^T).\n",
    "#             x = x - (self.W @ (self.Wpinv @ x))\n",
    "\n",
    "#             if self.which == \"scipy\":\n",
    "#                 sol, converged = scipy_cg(self.Q, self.Lpinv @ x, x0=self.prev_eval_t, *args, **kwargs) \n",
    "#                 assert converged == 0, \"CG algorithm did not converge!\"\n",
    "#             elif self.which == \"jlinops\":\n",
    "#                 solver_data = cg(self.Q, self.Lpinv @ x, x0=self.prev_eval_t, *args, **kwargs)\n",
    "#                 sol = solver_data[\"x\"]\n",
    "#             else:\n",
    "#                 raise ValueError\n",
    "\n",
    "#             if self.warmstart_prev:\n",
    "#                 self.prev_eval_t = sol.copy()\n",
    "                \n",
    "#             return self.original_op @ (self.Ltpinv @ sol)\n",
    "        \n",
    "#         super().__init__( (self.out_shape, self.in_shape), _matvec, _rmatvec, dtype=np.float64 )\n"
   ]
  },
  {
   "cell_type": "markdown",
   "metadata": {},
   "source": [
    "# Neumann gradient 2D"
   ]
  },
  {
   "cell_type": "code",
   "execution_count": 3,
   "metadata": {},
   "outputs": [],
   "source": [
    "from jlinops import Neumann2D"
   ]
  },
  {
   "cell_type": "code",
   "execution_count": 4,
   "metadata": {},
   "outputs": [],
   "source": [
    "m, n = 5, 8\n",
    "R = Neumann2D( (m,n) )"
   ]
  },
  {
   "cell_type": "code",
   "execution_count": 5,
   "metadata": {},
   "outputs": [],
   "source": [
    "# Extract matrix form of R\n",
    "out_size, in_size = R.shape\n",
    "grad_op_mat_rep = np.zeros((out_size, in_size))\n",
    "\n",
    "for j in range(in_size):\n",
    "    tmp = np.zeros(in_size)\n",
    "    tmp[j] = 1.0\n",
    "    op_tmp = R @ tmp\n",
    "    grad_op_mat_rep[:,j] = op_tmp.copy()"
   ]
  },
  {
   "cell_type": "code",
   "execution_count": 6,
   "metadata": {},
   "outputs": [
    {
     "data": {
      "image/png": "[encoded data removed]",
      "text/plain": [
       "<Figure size 640x480 with 1 Axes>"
      ]
     },
     "metadata": {},
     "output_type": "display_data"
    }
   ],
   "source": [
    "plt.imshow(grad_op_mat_rep)\n",
    "plt.show()"
   ]
  },
  {
   "cell_type": "code",
   "execution_count": null,
   "metadata": {},
   "outputs": [],
   "source": []
  },
  {
   "cell_type": "code",
   "execution_count": 40,
   "metadata": {},
   "outputs": [],
   "source": [
    "Rh = -1*np.eye(n)\n",
    "i = np.arange(Rh.shape[0] - 1)\n",
    "Rh[i, i+1] = 1\n",
    "Rh[-1,-1] = 0"
   ]
  },
  {
   "cell_type": "code",
   "execution_count": 41,
   "metadata": {},
   "outputs": [
    {
     "data": {
      "text/plain": [
       "array([[-1.,  1., -0., -0., -0., -0., -0., -0.],\n",
       "       [-0., -1.,  1., -0., -0., -0., -0., -0.],\n",
       "       [-0., -0., -1.,  1., -0., -0., -0., -0.],\n",
       "       [-0., -0., -0., -1.,  1., -0., -0., -0.],\n",
       "       [-0., -0., -0., -0., -1.,  1., -0., -0.],\n",
       "       [-0., -0., -0., -0., -0., -1.,  1., -0.],\n",
       "       [-0., -0., -0., -0., -0., -0., -1.,  1.],\n",
       "       [-0., -0., -0., -0., -0., -0., -0.,  0.]])"
      ]
     },
     "execution_count": 41,
     "metadata": {},
     "output_type": "execute_result"
    }
   ],
   "source": [
    "Rh"
   ]
  },
  {
   "cell_type": "code",
   "execution_count": 49,
   "metadata": {},
   "outputs": [
    {
     "data": {
      "image/png": "[encoded data removed]",
      "text/plain": [
       "<Figure size 640x480 with 1 Axes>"
      ]
     },
     "metadata": {},
     "output_type": "display_data"
    }
   ],
   "source": [
    "plt.imshow( np.kron(np.eye(m), Rh) )\n",
    "plt.show()"
   ]
  },
  {
   "cell_type": "code",
   "execution_count": 50,
   "metadata": {},
   "outputs": [],
   "source": [
    "Rv = -1*np.eye(m)\n",
    "i = np.arange(Rv.shape[0] - 1)\n",
    "Rv[i, i+1] = 1\n",
    "Rv[-1,-1] = 0"
   ]
  },
  {
   "cell_type": "code",
   "execution_count": 53,
   "metadata": {},
   "outputs": [
    {
     "data": {
      "text/plain": [
       "<matplotlib.image.AxesImage at 0x15ec02b10>"
      ]
     },
     "execution_count": 53,
     "metadata": {},
     "output_type": "execute_result"
    },
    {
     "data": {
      "image/png": "[encoded data removed]",
      "text/plain": [
       "<Figure size 640x480 with 1 Axes>"
      ]
     },
     "metadata": {},
     "output_type": "display_data"
    }
   ],
   "source": [
    "plt.imshow( np.kron(Rv, np.eye(n)) )"
   ]
  },
  {
   "cell_type": "code",
   "execution_count": 58,
   "metadata": {},
   "outputs": [
    {
     "data": {
      "text/plain": [
       "array([[-1., -0., -0., ..., -0., -0., -0.],\n",
       "       [-0., -1., -0., ..., -0., -0., -0.],\n",
       "       [-0., -0., -1., ..., -0., -0., -0.],\n",
       "       ...,\n",
       "       [-0., -0., -0., ...,  0.,  0.,  0.],\n",
       "       [-0., -0., -0., ...,  0.,  0.,  0.],\n",
       "       [-0., -0., -0., ...,  0.,  0.,  0.]])"
      ]
     },
     "execution_count": 58,
     "metadata": {},
     "output_type": "execute_result"
    }
   ],
   "source": [
    " np.kron(Rv, np.eye(n))"
   ]
  },
  {
   "cell_type": "code",
   "execution_count": 59,
   "metadata": {},
   "outputs": [
    {
     "data": {
      "text/plain": [
       "(5, 8)"
      ]
     },
     "execution_count": 59,
     "metadata": {},
     "output_type": "execute_result"
    }
   ],
   "source": [
    "m, n"
   ]
  },
  {
   "cell_type": "code",
   "execution_count": 60,
   "metadata": {},
   "outputs": [
    {
     "data": {
      "text/plain": [
       "(5, 5)"
      ]
     },
     "execution_count": 60,
     "metadata": {},
     "output_type": "execute_result"
    }
   ],
   "source": [
    "Rv.shape"
   ]
  },
  {
   "cell_type": "code",
   "execution_count": 56,
   "metadata": {},
   "outputs": [
    {
     "data": {
      "image/png": "[encoded data removed]",
      "text/plain": [
       "<Figure size 640x480 with 1 Axes>"
      ]
     },
     "metadata": {},
     "output_type": "display_data"
    }
   ],
   "source": [
    "plt.imshow(  np.vstack([np.kron(Rv, np.eye(n)), np.kron(np.eye(m), Rh) ])  )\n",
    "plt.show(\n",
    "\n",
    ")"
   ]
  },
  {
   "cell_type": "code",
   "execution_count": 57,
   "metadata": {},
   "outputs": [
    {
     "data": {
      "text/plain": [
       "0.0"
      ]
     },
     "execution_count": 57,
     "metadata": {},
     "output_type": "execute_result"
    }
   ],
   "source": [
    "np.linalg.norm( grad_op_mat_rep -  np.vstack([np.kron(Rv, np.eye(n)), np.kron(np.eye(m), Rh) ]) )"
   ]
  },
  {
   "cell_type": "code",
   "execution_count": 62,
   "metadata": {},
   "outputs": [
    {
     "data": {
      "image/png": "[encoded data removed]",
      "text/plain": [
       "<Figure size 640x480 with 1 Axes>"
      ]
     },
     "metadata": {},
     "output_type": "display_data"
    }
   ],
   "source": [
    "plt.imshow( grad_op_mat_rep.T @ grad_op_mat_rep )\n",
    "plt.show()"
   ]
  },
  {
   "cell_type": "code",
   "execution_count": 63,
   "metadata": {},
   "outputs": [
    {
     "data": {
      "image/png": "[encoded data removed]",
      "text/plain": [
       "<Figure size 640x480 with 1 Axes>"
      ]
     },
     "metadata": {},
     "output_type": "display_data"
    }
   ],
   "source": [
    "plt.imshow( grad_op_mat_rep.T @ np.diag(weights) @ grad_op_mat_rep )\n",
    "plt.show()"
   ]
  },
  {
   "cell_type": "code",
   "execution_count": null,
   "metadata": {},
   "outputs": [],
   "source": []
  },
  {
   "cell_type": "code",
   "execution_count": 64,
   "metadata": {},
   "outputs": [],
   "source": [
    "A1 = grad_op_mat_rep.T @ grad_op_mat_rep \n",
    "A2 = grad_op_mat_rep.T @ np.diag(weights) @ grad_op_mat_rep"
   ]
  },
  {
   "cell_type": "code",
   "execution_count": 68,
   "metadata": {},
   "outputs": [],
   "source": [
    "P1 = np.linalg.eigh(A1).eigenvectors\n",
    "P2 = np.linalg.eigh(A2).eigenvectors"
   ]
  },
  {
   "cell_type": "code",
   "execution_count": 75,
   "metadata": {},
   "outputs": [
    {
     "data": {
      "text/plain": [
       "array([0.15811388, 0.15811388, 0.15811388, 0.15811388, 0.15811388,\n",
       "       0.15811388, 0.15811388, 0.15811388, 0.15811388, 0.15811388,\n",
       "       0.15811388, 0.15811388, 0.15811388, 0.15811388, 0.15811388,\n",
       "       0.15811388, 0.15811388, 0.15811388, 0.15811388, 0.15811388,\n",
       "       0.15811388, 0.15811388, 0.15811388, 0.15811388, 0.15811388,\n",
       "       0.15811388, 0.15811388, 0.15811388, 0.15811388, 0.15811388,\n",
       "       0.15811388, 0.15811388, 0.15811388, 0.15811388, 0.15811388,\n",
       "       0.15811388, 0.15811388, 0.15811388, 0.15811388, 0.15811388])"
      ]
     },
     "execution_count": 75,
     "metadata": {},
     "output_type": "execute_result"
    }
   ],
   "source": [
    "P2[:,0]"
   ]
  },
  {
   "cell_type": "code",
   "execution_count": 71,
   "metadata": {},
   "outputs": [
    {
     "data": {
      "text/plain": [
       "<matplotlib.image.AxesImage at 0x15ee4b310>"
      ]
     },
     "execution_count": 71,
     "metadata": {},
     "output_type": "execute_result"
    },
    {
     "data": {
      "image/png": "[encoded data removed]",
      "text/plain": [
       "<Figure size 640x480 with 1 Axes>"
      ]
     },
     "metadata": {},
     "output_type": "display_data"
    }
   ],
   "source": [
    "plt.imshow(P1)"
   ]
  },
  {
   "cell_type": "code",
   "execution_count": 72,
   "metadata": {},
   "outputs": [
    {
     "data": {
      "text/plain": [
       "<matplotlib.image.AxesImage at 0x15ef2fe90>"
      ]
     },
     "execution_count": 72,
     "metadata": {},
     "output_type": "execute_result"
    },
    {
     "data": {
      "image/png": "[encoded data removed]",
      "text/plain": [
       "<Figure size 640x480 with 1 Axes>"
      ]
     },
     "metadata": {},
     "output_type": "display_data"
    }
   ],
   "source": [
    "plt.imshow(P2)"
   ]
  },
  {
   "cell_type": "code",
   "execution_count": null,
   "metadata": {},
   "outputs": [],
   "source": []
  },
  {
   "cell_type": "markdown",
   "metadata": {},
   "source": [
    "# Function that builds Lpinv and Ltpinv"
   ]
  },
  {
   "cell_type": "code",
   "execution_count": 7,
   "metadata": {},
   "outputs": [],
   "source": [
    "from scipy.fft import dctn, idctn\n",
    "from scipy.sparse.linalg import LinearOperator"
   ]
  },
  {
   "cell_type": "code",
   "execution_count": 8,
   "metadata": {},
   "outputs": [],
   "source": [
    "def dct_diagonalized_operator_get_eigvals(A, grid_shape):\n",
    "    \"\"\"Given a LinearOperator A that is diagonalized by the 2-dimensional DCT, computes its eigenvalues.\n",
    "    \"\"\"\n",
    "    M, N = grid_shape\n",
    "    v = np.random.normal(size=(M,N)) + 10.0\n",
    "    tmp = A @ ( idctn( v, norm=\"ortho\" ).flatten()  )\n",
    "    tmp = tmp.reshape((M,N))\n",
    "    tmp = dctn( tmp, norm=\"ortho\" ).flatten()\n",
    "    res = tmp/v.flatten()\n",
    "    return res\n"
   ]
  },
  {
   "cell_type": "code",
   "execution_count": 9,
   "metadata": {},
   "outputs": [
    {
     "data": {
      "text/plain": [
       "array([0.        , 0.15224093, 0.58578644, 1.23463314, 2.        ,\n",
       "       2.76536686, 3.41421356, 3.84775907, 0.38196601, 0.53420695,\n",
       "       0.96775245, 1.61659915, 2.38196601, 3.14733288, 3.79617957,\n",
       "       4.22972508, 1.38196601, 1.53420695, 1.96775245, 2.61659915,\n",
       "       3.38196601, 4.14733288, 4.79617957, 5.22972508, 2.61803399,\n",
       "       2.77027492, 3.20382043, 3.85266712, 4.61803399, 5.38340085,\n",
       "       6.03224755, 6.46579305, 3.61803399, 3.77027492, 4.20382043,\n",
       "       4.85266712, 5.61803399, 6.38340085, 7.03224755, 7.46579305])"
      ]
     },
     "execution_count": 9,
     "metadata": {},
     "output_type": "execute_result"
    }
   ],
   "source": [
    "eigvals = dct_diagonalized_operator_get_eigvals(R.T @ R, (m,n))\n",
    "eigvals"
   ]
  },
  {
   "cell_type": "code",
   "execution_count": 10,
   "metadata": {},
   "outputs": [],
   "source": [
    "def build_Lpinv(A, grid_shape):\n",
    "    \"\"\"Given a LinearOperator A that is diagonalized by the DCT, performs the diagonalization (computes eigenvalues),\n",
    "    computes the square root E in M = E E^T, and returns a LinearOperator representing E^{-1}.\n",
    "\n",
    "    This can be used as a preconditioner. Instead of solving A x = b, it is equivalent to solve\n",
    "        E^{-1} A E^{-T} w = E^{-1} b\n",
    "    and recovering x = E^{-T} w.\n",
    "    \"\"\"\n",
    "    # Get eigenvalues\n",
    "    eigvals = dct_diagonalized_operator_get_eigvals(A, grid_shape)\n",
    "    print(np.amin(eigvals))\n",
    "    print(np.abs(np.amin(eigvals)) < 1e-14)\n",
    "\n",
    "    # Take reciprocals of nonzero eigenvalues\n",
    "    recip_eigvals = np.where(np.abs(eigvals) < 1e-14, eigvals, 1.0 / eigvals)\n",
    "    recip_eigvals = np.where(np.abs(eigvals) < 1e-14, np.zeros_like(eigvals), recip_eigvals)\n",
    "\n",
    "\n",
    "    # Shape\n",
    "    M, N = grid_shape\n",
    "\n",
    "    def _matvec(x):\n",
    "        x = x.reshape(grid_shape)\n",
    "        tmp = dctn( x, norm=\"ortho\" ).flatten()\n",
    "        tmp = np.sqrt(recip_eigvals)*tmp\n",
    "        return tmp\n",
    "    \n",
    "    def _rmatvec(x):\n",
    "        tmp = np.sqrt(recip_eigvals)*x\n",
    "        tmp = tmp.reshape(grid_shape)\n",
    "        tmp = idctn( tmp, norm=\"ortho\" ).flatten()\n",
    "        return tmp\n",
    "\n",
    "    Lpinv = LinearOperator(A.shape, matvec=_matvec, rmatvec=_rmatvec)\n",
    "\n",
    "    return Lpinv"
   ]
  },
  {
   "cell_type": "code",
   "execution_count": 11,
   "metadata": {},
   "outputs": [
    {
     "name": "stdout",
     "output_type": "stream",
     "text": [
      "0.0\n",
      "True\n"
     ]
    },
    {
     "name": "stderr",
     "output_type": "stream",
     "text": [
      "/var/folders/8y/4mq6cs_x20j1gp06wytwhlwm0000gn/T/ipykernel_9741/2383819813.py:15: RuntimeWarning: divide by zero encountered in divide\n",
      "  recip_eigvals = np.where(np.abs(eigvals) < 1e-14, eigvals, 1.0 / eigvals)\n"
     ]
    }
   ],
   "source": [
    "Lpinv = build_Lpinv(R.T @ R, (m,n))"
   ]
  },
  {
   "cell_type": "markdown",
   "metadata": {},
   "source": [
    "# W"
   ]
  },
  {
   "cell_type": "code",
   "execution_count": 12,
   "metadata": {},
   "outputs": [],
   "source": [
    "W = null_space(grad_op_mat_rep)\n",
    "W = MatrixLinearOperator(W)\n",
    "Wpinv = QRPinvOperator(W.A)"
   ]
  },
  {
   "cell_type": "markdown",
   "metadata": {},
   "source": [
    "# Put together"
   ]
  },
  {
   "cell_type": "code",
   "execution_count": 13,
   "metadata": {},
   "outputs": [],
   "source": [
    "w = np.random.uniform(low=1, high=1, size=R.shape[0])\n",
    "Apinv = CGWeightedNeumann2DPinvOperator((m,n), w)"
   ]
  },
  {
   "cell_type": "code",
   "execution_count": 14,
   "metadata": {},
   "outputs": [
    {
     "data": {
      "text/plain": [
       "(40, 80)"
      ]
     },
     "execution_count": 14,
     "metadata": {},
     "output_type": "execute_result"
    }
   ],
   "source": [
    "Apinv.shape"
   ]
  },
  {
   "cell_type": "code",
   "execution_count": 15,
   "metadata": {},
   "outputs": [
    {
     "data": {
      "text/plain": [
       "1.3020915299481635e-14"
      ]
     },
     "execution_count": 15,
     "metadata": {},
     "output_type": "execute_result"
    }
   ],
   "source": [
    "z = np.random.normal(size=80)\n",
    "np.linalg.norm( Apinv.matvec( z ) - np.linalg.pinv(grad_op_mat_rep) @ z )"
   ]
  },
  {
   "cell_type": "code",
   "execution_count": 16,
   "metadata": {},
   "outputs": [
    {
     "data": {
      "text/plain": [
       "1.0195006741477847e-14"
      ]
     },
     "execution_count": 16,
     "metadata": {},
     "output_type": "execute_result"
    }
   ],
   "source": [
    "z = np.random.normal(size=40)\n",
    "np.linalg.norm( Apinv.rmatvec( z ) - np.linalg.pinv(grad_op_mat_rep.T) @ z )"
   ]
  },
  {
   "cell_type": "markdown",
   "metadata": {},
   "source": [
    "# Weight it"
   ]
  },
  {
   "cell_type": "code",
   "execution_count": 17,
   "metadata": {},
   "outputs": [],
   "source": [
    "l, u = 1e-1, 1e1\n",
    "np.random.seed(0)\n",
    "weights = np.random.uniform(low=l, high=u, size=R.shape[0])\n",
    "Dwmat = np.diag(weights)\n",
    "Dw = MatrixLinearOperator(Dwmat)\n",
    "Rtilde = Dw @ R"
   ]
  },
  {
   "cell_type": "code",
   "execution_count": 28,
   "metadata": {},
   "outputs": [],
   "source": [
    "Apinv = CGWeightedNeumann2DPinvOperator((m,n), weights, tol=1e-3)"
   ]
  },
  {
   "cell_type": "code",
   "execution_count": 29,
   "metadata": {},
   "outputs": [
    {
     "data": {
      "text/plain": [
       "0.0012650790742436823"
      ]
     },
     "execution_count": 29,
     "metadata": {},
     "output_type": "execute_result"
    }
   ],
   "source": [
    "z = np.random.normal(size=80)\n",
    "np.linalg.norm( Apinv.matvec( z ) - np.linalg.pinv(Dwmat @ grad_op_mat_rep) @ z )"
   ]
  },
  {
   "cell_type": "code",
   "execution_count": 30,
   "metadata": {},
   "outputs": [
    {
     "data": {
      "text/plain": [
       "0.0010192823188145664"
      ]
     },
     "execution_count": 30,
     "metadata": {},
     "output_type": "execute_result"
    }
   ],
   "source": [
    "z = np.random.normal(size=40)\n",
    "np.linalg.norm( Apinv.rmatvec( z ) - np.linalg.pinv(grad_op_mat_rep.T @ Dwmat) @ z )"
   ]
  },
  {
   "cell_type": "code",
   "execution_count": null,
   "metadata": {},
   "outputs": [],
   "source": []
  },
  {
   "cell_type": "code",
   "execution_count": null,
   "metadata": {},
   "outputs": [],
   "source": []
  },
  {
   "cell_type": "markdown",
   "metadata": {},
   "source": [
    "# Weight and do for very large example!"
   ]
  },
  {
   "cell_type": "code",
   "execution_count": 263,
   "metadata": {},
   "outputs": [
    {
     "name": "stdout",
     "output_type": "stream",
     "text": [
      "3.3696728562823657e-16\n",
      "True\n"
     ]
    }
   ],
   "source": [
    "m, n = 50, 50\n",
    "R = DiscreteGradientNeumann2D( (m,n) )\n",
    "\n",
    "# Lpinv\n",
    "Lpinv = build_Lpinv(R.T @ R, (m,n))\n",
    "\n",
    "# W\n",
    "W = np.atleast_2d(np.ones(R.shape[1])).T\n",
    "W = MatrixOperator(W)\n",
    "Wpinv = QRPseudoInverseOperator(W)\n",
    "\n"
   ]
  },
  {
   "cell_type": "code",
   "execution_count": 207,
   "metadata": {},
   "outputs": [],
   "source": [
    "\n",
    "# Extract matrix form of R\n",
    "out_size, in_size = R.shape\n",
    "grad_op_mat_rep = np.zeros((out_size, in_size))\n",
    "\n",
    "for j in range(in_size):\n",
    "    tmp = np.zeros(in_size)\n",
    "    tmp[j] = 1.0\n",
    "    op_tmp = R @ tmp\n",
    "    grad_op_mat_rep[:,j] = op_tmp.copy()"
   ]
  },
  {
   "cell_type": "code",
   "execution_count": 264,
   "metadata": {},
   "outputs": [],
   "source": [
    "# Pseudoinverse\n",
    "Apinv = CGPreconditionedPseudoinverseOperator(R, W, Wpinv, Lpinv, Lpinv.T, eps=1e-3)"
   ]
  },
  {
   "cell_type": "code",
   "execution_count": 265,
   "metadata": {},
   "outputs": [
    {
     "data": {
      "text/plain": [
       "(2500, 5000)"
      ]
     },
     "execution_count": 265,
     "metadata": {},
     "output_type": "execute_result"
    }
   ],
   "source": [
    "Apinv.shape"
   ]
  },
  {
   "cell_type": "code",
   "execution_count": 268,
   "metadata": {},
   "outputs": [],
   "source": [
    "grad_op_pinv = np.linalg.pinv(grad_op_mat_rep)"
   ]
  },
  {
   "cell_type": "code",
   "execution_count": 269,
   "metadata": {},
   "outputs": [
    {
     "data": {
      "text/plain": [
       "4.54595651084539e-12"
      ]
     },
     "execution_count": 269,
     "metadata": {},
     "output_type": "execute_result"
    }
   ],
   "source": [
    "z = np.random.normal(size=5000)\n",
    "np.linalg.norm( Apinv.matvec( z ) - (grad_op_pinv @ z) )"
   ]
  },
  {
   "cell_type": "code",
   "execution_count": 222,
   "metadata": {},
   "outputs": [
    {
     "data": {
      "text/plain": [
       "6.71068276079514e-12"
      ]
     },
     "execution_count": 222,
     "metadata": {},
     "output_type": "execute_result"
    }
   ],
   "source": [
    "z = np.random.normal(size=2500)\n",
    "np.linalg.norm( Apinv.rmatvec( z ) - (grad_op_pinv.T @ z) )"
   ]
  },
  {
   "cell_type": "code",
   "execution_count": null,
   "metadata": {},
   "outputs": [],
   "source": []
  },
  {
   "cell_type": "code",
   "execution_count": null,
   "metadata": {},
   "outputs": [],
   "source": []
  },
  {
   "cell_type": "code",
   "execution_count": 230,
   "metadata": {},
   "outputs": [],
   "source": [
    "l, u = 1e-1, 1e1\n",
    "np.random.seed(0)\n",
    "weights = np.random.uniform(low=l, high=u, size=R.shape[0])\n",
    "\n",
    "Dw = diags(weights)\n",
    "Dw = SparseMatrixOperator(Dw)\n",
    "\n",
    "\n",
    "Rtilde = Dw @ R"
   ]
  },
  {
   "cell_type": "code",
   "execution_count": 242,
   "metadata": {},
   "outputs": [
    {
     "name": "stderr",
     "output_type": "stream",
     "text": [
      "/Users/jonathanlindbloom/Github/jlinops/src/jlinops/linear_solvers.py:39: RuntimeWarning: invalid value encountered in double_scalars\n",
      "  rel_residual_norm = residual_norm/bnorm\n",
      "/Users/jonathanlindbloom/Github/jlinops/src/jlinops/linear_solvers.py:44: RuntimeWarning: invalid value encountered in double_scalars\n",
      "  alpha = (r.T @ r)/(d.T @ A.matvec(d) )\n"
     ]
    }
   ],
   "source": [
    "Apinv = CGPreconditionedPseudoinverseOperator(Rtilde, W, Wpinv, Lpinv, Lpinv.T, eps=1e-6)"
   ]
  },
  {
   "cell_type": "code",
   "execution_count": 243,
   "metadata": {},
   "outputs": [
    {
     "data": {
      "text/plain": [
       "array([ 0.09342456,  0.09652901, -0.02343534, ..., -0.04644347,\n",
       "        0.24212912,  0.06297604])"
      ]
     },
     "execution_count": 243,
     "metadata": {},
     "output_type": "execute_result"
    }
   ],
   "source": [
    "z = np.random.normal(size=5000)\n",
    "Apinv.matvec(z)"
   ]
  },
  {
   "cell_type": "code",
   "execution_count": 237,
   "metadata": {},
   "outputs": [],
   "source": [
    "grad_op_pinv = np.linalg.pinv(np.diag(weights) @ grad_op_mat_rep)"
   ]
  },
  {
   "cell_type": "code",
   "execution_count": 252,
   "metadata": {},
   "outputs": [
    {
     "data": {
      "text/plain": [
       "2.9238939001955866e-05"
      ]
     },
     "execution_count": 252,
     "metadata": {},
     "output_type": "execute_result"
    }
   ],
   "source": [
    "z = np.random.normal(size=5000)\n",
    "np.linalg.norm( Apinv.matvec( z ) - (grad_op_pinv @ z) )"
   ]
  },
  {
   "cell_type": "code",
   "execution_count": 261,
   "metadata": {},
   "outputs": [
    {
     "data": {
      "text/plain": [
       "1.1641823402876251e-05"
      ]
     },
     "execution_count": 261,
     "metadata": {},
     "output_type": "execute_result"
    }
   ],
   "source": [
    "z = np.random.normal(size=2500)\n",
    "np.linalg.norm( Apinv.rmatvec( z ) - (grad_op_pinv.T @ z) )"
   ]
  },
  {
   "cell_type": "code",
   "execution_count": 253,
   "metadata": {},
   "outputs": [
    {
     "data": {
      "text/plain": [
       "(2500, 5000)"
      ]
     },
     "execution_count": 253,
     "metadata": {},
     "output_type": "execute_result"
    }
   ],
   "source": [
    "Apinv.shape"
   ]
  },
  {
   "cell_type": "code",
   "execution_count": null,
   "metadata": {},
   "outputs": [],
   "source": []
  },
  {
   "cell_type": "code",
   "execution_count": null,
   "metadata": {},
   "outputs": [],
   "source": []
  },
  {
   "cell_type": "markdown",
   "metadata": {},
   "source": [
    "# Stupidly large example"
   ]
  },
  {
   "cell_type": "code",
   "execution_count": 322,
   "metadata": {},
   "outputs": [
    {
     "name": "stdout",
     "output_type": "stream",
     "text": [
      "-2.8619961430493507e-16\n",
      "True\n"
     ]
    }
   ],
   "source": [
    "m, n = 256, 256\n",
    "R = DiscreteGradientNeumann2D( (m,n) )\n",
    "\n",
    "# Lpinv\n",
    "Lpinv = build_Lpinv(R.T @ R, (m,n))\n",
    "\n",
    "# W\n",
    "W = np.atleast_2d(np.ones(R.shape[1])).T\n",
    "W = MatrixOperator(W)\n",
    "Wpinv = QRPseudoInverseOperator(W)\n",
    "\n",
    "# Weights\n",
    "l, u = 1e-1, 1e0\n",
    "np.random.seed(0)\n",
    "weights = np.random.uniform(low=l, high=u, size=R.shape[0])\n",
    "\n",
    "Dw = diags(weights)\n",
    "Dw = SparseMatrixOperator(Dw)\n",
    "\n",
    "\n",
    "# Make op\n",
    "Rtilde = Dw @ R\n",
    "\n",
    "\n",
    "# Make pseudoinverse \n",
    "Apinv = CGPreconditionedPseudoinverseOperator(Rtilde, W, Wpinv, Lpinv, Lpinv.T, eps=1e-2)"
   ]
  },
  {
   "cell_type": "code",
   "execution_count": 325,
   "metadata": {},
   "outputs": [
    {
     "data": {
      "text/plain": [
       "array([-0.90264644, -0.20305595, -0.6107864 , ..., -0.74839322,\n",
       "        0.43571692, -0.30842561])"
      ]
     },
     "execution_count": 325,
     "metadata": {},
     "output_type": "execute_result"
    }
   ],
   "source": [
    "np.random.seed(0)\n",
    "z = np.random.normal(size=Apinv.shape[1])\n",
    "Apinv.matvec(z)"
   ]
  },
  {
   "cell_type": "code",
   "execution_count": 326,
   "metadata": {},
   "outputs": [
    {
     "data": {
      "text/plain": [
       "array([-0.90264644, -0.20305595, -0.6107864 , ..., -0.74839322,\n",
       "        0.43571692, -0.30842561])"
      ]
     },
     "execution_count": 326,
     "metadata": {},
     "output_type": "execute_result"
    }
   ],
   "source": [
    "np.random.seed(0)\n",
    "z = np.random.normal(size=Apinv.shape[1])\n",
    "Apinv.matvec(z)"
   ]
  },
  {
   "cell_type": "code",
   "execution_count": 319,
   "metadata": {},
   "outputs": [
    {
     "data": {
      "text/plain": [
       "array([-0.90264644, -0.20305595, -0.6107864 , ..., -0.74839322,\n",
       "        0.43571692, -0.30842561])"
      ]
     },
     "execution_count": 319,
     "metadata": {},
     "output_type": "execute_result"
    }
   ],
   "source": [
    "np.random.seed(0)\n",
    "z = np.random.normal(size=Apinv.shape[1])\n",
    "Apinv.matvec(z)"
   ]
  },
  {
   "cell_type": "code",
   "execution_count": 333,
   "metadata": {},
   "outputs": [
    {
     "data": {
      "text/plain": [
       "array([-0.06638821,  1.09271439,  0.91799749, ...,  0.49293683,\n",
       "        0.81539141,  0.        ])"
      ]
     },
     "execution_count": 333,
     "metadata": {},
     "output_type": "execute_result"
    }
   ],
   "source": [
    "# np.random.seed(0)\n",
    "z = np.random.normal(size=Apinv.shape[0])\n",
    "Apinv.rmatvec(z)"
   ]
  },
  {
   "cell_type": "code",
   "execution_count": null,
   "metadata": {},
   "outputs": [],
   "source": []
  },
  {
   "cell_type": "code",
   "execution_count": null,
   "metadata": {},
   "outputs": [],
   "source": []
  },
  {
   "cell_type": "markdown",
   "metadata": {},
   "source": [
    "# Special preconditioned weighted gradient pseudoinverse"
   ]
  },
  {
   "cell_type": "code",
   "execution_count": null,
   "metadata": {},
   "outputs": [],
   "source": []
  },
  {
   "cell_type": "code",
   "execution_count": null,
   "metadata": {},
   "outputs": [],
   "source": [
    "class CGWeightedDiscreteGradientNeumann2DPseudoinverse(_CustomLinearOperator):\n",
    "    \"\"\"Represents the pseudoinverse (D_w R)^\\dagger of a linear operator D_w R, where\n",
    "    D_w is a diagonal matrix of weights and R is a DiscreteGradientNeumann2D operator.\n",
    "    Here matvecs/rmatvecs are applied approximately using a preconditioned conjugate\n",
    "    gradient method, where the preconditioner is based on the operator with identity weights. \n",
    "    \"\"\"\n",
    "\n",
    "    def __init__(self, grid_size, weights, *args, **kwargs):\n",
    "\n",
    "\n",
    "        # \n",
    "\n",
    "\n",
    "        op = CGPreconditionedPseudoinverseOperator\n",
    "\n"
   ]
  },
  {
   "cell_type": "code",
   "execution_count": null,
   "metadata": {},
   "outputs": [],
   "source": []
  },
  {
   "cell_type": "code",
   "execution_count": null,
   "metadata": {},
   "outputs": [],
   "source": []
  },
  {
   "cell_type": "code",
   "execution_count": null,
   "metadata": {},
   "outputs": [],
   "source": []
  },
  {
   "cell_type": "code",
   "execution_count": null,
   "metadata": {},
   "outputs": [],
   "source": []
  },
  {
   "cell_type": "markdown",
   "metadata": {},
   "source": [
    "# Use new class"
   ]
  },
  {
   "cell_type": "code",
   "execution_count": 22,
   "metadata": {},
   "outputs": [],
   "source": [
    "m, n = 500, 500\n",
    "\n",
    "weights = np.random.uniform(low=1e-1, high=0.5*1e0, size=2*m*n)\n",
    "Rwpinv = CGWeightedDiscreteGradientNeumann2DPseudoinverse((m,n), weights=weights, eps=1e-5)\n"
   ]
  },
  {
   "cell_type": "code",
   "execution_count": 23,
   "metadata": {},
   "outputs": [],
   "source": [
    "z = np.random.normal(size=Rwpinv.shape[1])\n",
    "_ = Rwpinv @ z"
   ]
  },
  {
   "cell_type": "code",
   "execution_count": 4,
   "metadata": {},
   "outputs": [],
   "source": [
    "# Extract matrix form of R\n",
    "R = Rwpinv.Rw\n",
    "out_size, in_size = R.shape\n",
    "grad_op_mat_rep = np.zeros((out_size, in_size))\n",
    "\n",
    "for j in range(in_size):\n",
    "    tmp = np.zeros(in_size)\n",
    "    tmp[j] = 1.0\n",
    "    op_tmp = R @ tmp\n",
    "    grad_op_mat_rep[:,j] = op_tmp.copy()"
   ]
  },
  {
   "cell_type": "code",
   "execution_count": 4,
   "metadata": {},
   "outputs": [],
   "source": [
    "Rwpinv_exact = np.linalg.pinv(grad_op_mat_rep)"
   ]
  },
  {
   "cell_type": "code",
   "execution_count": 5,
   "metadata": {},
   "outputs": [
    {
     "data": {
      "text/plain": [
       "0.0010929432856956166"
      ]
     },
     "execution_count": 5,
     "metadata": {},
     "output_type": "execute_result"
    }
   ],
   "source": [
    "z = np.random.normal(size=Rwpinv.shape[1])\n",
    "np.linalg.norm( (Rwpinv @ z) - (Rwpinv_exact @ z) )"
   ]
  },
  {
   "cell_type": "code",
   "execution_count": 6,
   "metadata": {},
   "outputs": [
    {
     "data": {
      "text/plain": [
       "0.001123737965478582"
      ]
     },
     "execution_count": 6,
     "metadata": {},
     "output_type": "execute_result"
    }
   ],
   "source": [
    "z = np.random.normal(size=Rwpinv.shape[1])\n",
    "np.linalg.norm( (Rwpinv @ z) - (Rwpinv_exact @ z) )"
   ]
  },
  {
   "cell_type": "code",
   "execution_count": 7,
   "metadata": {},
   "outputs": [
    {
     "data": {
      "text/plain": [
       "0.0006141588788609933"
      ]
     },
     "execution_count": 7,
     "metadata": {},
     "output_type": "execute_result"
    }
   ],
   "source": [
    "z = np.random.normal(size=Rwpinv.shape[0])\n",
    "np.linalg.norm( (Rwpinv.T @ z) - (Rwpinv_exact.T @ z) )"
   ]
  },
  {
   "cell_type": "code",
   "execution_count": 8,
   "metadata": {},
   "outputs": [],
   "source": [
    "Rwpinv.weights = 0*np.random.uniform(low=1e-1, high=1e5, size=2*m*n) + 3"
   ]
  },
  {
   "cell_type": "code",
   "execution_count": 10,
   "metadata": {},
   "outputs": [
    {
     "data": {
      "text/plain": [
       "0.0005863821679208212"
      ]
     },
     "execution_count": 10,
     "metadata": {},
     "output_type": "execute_result"
    }
   ],
   "source": [
    "z = np.random.normal(size=Rwpinv.shape[0])\n",
    "np.linalg.norm( (Rwpinv.T @ z) - (Rwpinv_exact.T @ z) )"
   ]
  },
  {
   "cell_type": "code",
   "execution_count": null,
   "metadata": {},
   "outputs": [],
   "source": []
  },
  {
   "cell_type": "code",
   "execution_count": null,
   "metadata": {},
   "outputs": [],
   "source": []
  },
  {
   "cell_type": "code",
   "execution_count": null,
   "metadata": {},
   "outputs": [],
   "source": []
  }
 ],
 "metadata": {
  "kernelspec": {
   "display_name": "speckle38",
   "language": "python",
   "name": "python3"
  },
  "language_info": {
   "codemirror_mode": {
    "name": "ipython",
    "version": 3
   },
   "file_extension": ".py",
   "mimetype": "text/x-python",
   "name": "python",
   "nbconvert_exporter": "python",
   "pygments_lexer": "ipython3",
   "version": "3.11.6"
  }
 },
 "nbformat": 4,
 "nbformat_minor": 2
}
