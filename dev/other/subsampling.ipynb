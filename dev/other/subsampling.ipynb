{
 "cells": [
  {
   "cell_type": "code",
   "execution_count": 1,
   "metadata": {},
   "outputs": [],
   "source": [
    "import numpy as np\n",
    "import matplotlib.pyplot as plt\n",
    "\n",
    "from scipy.sparse.linalg._interface import MatrixLinearOperator, _CustomLinearOperator\n",
    "from scipy.sparse.linalg import splu\n",
    "\n",
    "import jlinops"
   ]
  },
  {
   "cell_type": "code",
   "execution_count": 2,
   "metadata": {},
   "outputs": [],
   "source": [
    "class SubsamplingOperator(_CustomLinearOperator):\n",
    "    \"\"\"Represents a subsampling operator.\n",
    "    \"\"\"\n",
    "\n",
    "    def __init__(self, mask):\n",
    "        \"\"\"\n",
    "        mask: an array representing a binary mask for subsampling, where 1 means observed and 0 means unobserved.\n",
    "        \"\"\"\n",
    "\n",
    "        # Bind mask\n",
    "        self.mask = mask\n",
    "        \n",
    "        # Figure out input and output shapes\n",
    "        input_shape = self.mask.size\n",
    "        num_nz = self.mask.sum()\n",
    "        output_shape = num_nz\n",
    "\n",
    "        # Other\n",
    "        self.idxs_observed = np.where(self.mask == 1)\n",
    "\n",
    "        # Define matvec and rmatvec\n",
    "        def _matvec(x):\n",
    "            return x[self.idxs_observed]\n",
    "        \n",
    "        def _rmatvec(x):\n",
    "            tmp = np.zeros(input_shape)\n",
    "            tmp[self.idxs_observed] = x\n",
    "            return tmp\n",
    "\n",
    "        super().__init__( (output_shape, input_shape), _matvec, _rmatvec)\n"
   ]
  },
  {
   "cell_type": "code",
   "execution_count": 12,
   "metadata": {},
   "outputs": [],
   "source": [
    "z = np.arange(10)"
   ]
  },
  {
   "cell_type": "code",
   "execution_count": 13,
   "metadata": {},
   "outputs": [],
   "source": [
    "mask = np.zeros_like(z)\n",
    "mask[3:6] = 1"
   ]
  },
  {
   "cell_type": "code",
   "execution_count": 14,
   "metadata": {},
   "outputs": [],
   "source": [
    "op = SubsamplingOperator(mask)"
   ]
  },
  {
   "cell_type": "code",
   "execution_count": 17,
   "metadata": {},
   "outputs": [
    {
     "data": {
      "text/plain": [
       "array([0., 0., 0., 3., 4., 5., 0., 0., 0., 0.])"
      ]
     },
     "execution_count": 17,
     "metadata": {},
     "output_type": "execute_result"
    }
   ],
   "source": [
    "op.T @ (op @ z)"
   ]
  },
  {
   "cell_type": "code",
   "execution_count": 19,
   "metadata": {},
   "outputs": [
    {
     "data": {
      "text/plain": [
       "<3x10 SubsamplingOperator with dtype=float64>"
      ]
     },
     "execution_count": 19,
     "metadata": {},
     "output_type": "execute_result"
    }
   ],
   "source": [
    "op"
   ]
  },
  {
   "cell_type": "code",
   "execution_count": 21,
   "metadata": {},
   "outputs": [],
   "source": [
    "Z = np.random.normal(size=(10,8))"
   ]
  },
  {
   "cell_type": "code",
   "execution_count": 22,
   "metadata": {},
   "outputs": [
    {
     "data": {
      "text/plain": [
       "array([[ 2.37761391,  1.06071361,  1.72052361, -0.38591186, -0.00944256,\n",
       "        -0.48328705,  0.09914962, -0.14124938],\n",
       "       [ 0.60353896, -1.42941432,  0.49668285,  0.92159309, -0.35457249,\n",
       "         1.52475159, -0.04940085, -0.94798063],\n",
       "       [ 0.42308792, -0.44220155, -0.57637946, -1.76496579, -0.37384834,\n",
       "        -0.60020262, -0.44054927,  0.25691646]])"
      ]
     },
     "execution_count": 22,
     "metadata": {},
     "output_type": "execute_result"
    }
   ],
   "source": [
    "op @ Z"
   ]
  },
  {
   "cell_type": "code",
   "execution_count": null,
   "metadata": {},
   "outputs": [],
   "source": []
  }
 ],
 "metadata": {
  "kernelspec": {
   "display_name": "speckle38",
   "language": "python",
   "name": "python3"
  },
  "language_info": {
   "codemirror_mode": {
    "name": "ipython",
    "version": 3
   },
   "file_extension": ".py",
   "mimetype": "text/x-python",
   "name": "python",
   "nbconvert_exporter": "python",
   "pygments_lexer": "ipython3",
   "version": "3.8.12"
  },
  "orig_nbformat": 4
 },
 "nbformat": 4,
 "nbformat_minor": 2
}
