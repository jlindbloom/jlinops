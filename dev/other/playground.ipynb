{
 "cells": [
  {
   "cell_type": "code",
   "execution_count": 1,
   "metadata": {},
   "outputs": [],
   "source": [
    "import numpy as np\n",
    "import matplotlib.pyplot as plt\n",
    "\n",
    "import jlinops"
   ]
  },
  {
   "cell_type": "markdown",
   "metadata": {},
   "source": [
    "# Check pseudoinverse?"
   ]
  },
  {
   "cell_type": "code",
   "execution_count": 7,
   "metadata": {},
   "outputs": [],
   "source": [
    "m, n = 4, 10\n",
    "R = jlinops.build_2d_first_order_derivative( (m, n), boundary=\"zero\" )"
   ]
  },
  {
   "cell_type": "code",
   "execution_count": 8,
   "metadata": {},
   "outputs": [
    {
     "name": "stderr",
     "output_type": "stream",
     "text": [
      "/Users/jonathanlindbloom/opt/miniconda3/envs/speckle38/lib/python3.8/site-packages/scipy/sparse/linalg/_dsolve/linsolve.py:394: SparseEfficiencyWarning: splu converted its input to CSC format\n",
      "  warn('splu converted its input to CSC format', SparseEfficiencyWarning)\n"
     ]
    }
   ],
   "source": [
    "Rpseudo = jlinops.SparseCholeskyApproximatePseudoInverseOperator(R)"
   ]
  },
  {
   "cell_type": "code",
   "execution_count": 9,
   "metadata": {},
   "outputs": [
    {
     "data": {
      "text/plain": [
       "(40, 80)"
      ]
     },
     "execution_count": 9,
     "metadata": {},
     "output_type": "execute_result"
    }
   ],
   "source": [
    "Rpseudo.shape"
   ]
  },
  {
   "cell_type": "code",
   "execution_count": 10,
   "metadata": {},
   "outputs": [],
   "source": [
    "z = np.random.normal(size=80)"
   ]
  },
  {
   "cell_type": "code",
   "execution_count": 11,
   "metadata": {},
   "outputs": [
    {
     "data": {
      "text/plain": [
       "array([-0.63045612, -0.39842763,  1.09846508,  0.49998213, -1.10139888,\n",
       "       -1.41719105, -0.95610318,  0.37289283, -0.53631932, -1.79836677,\n",
       "       -1.42440921, -0.79940442, -0.1455499 , -0.57198892, -1.63907383,\n",
       "       -1.7566131 , -1.14159697, -1.08505015, -1.02792095, -0.43053251,\n",
       "       -1.02571507, -0.65320237, -1.86203423, -2.19030562, -1.4662002 ,\n",
       "       -0.17988352, -1.29512173, -1.147966  , -0.93314001, -0.57634837,\n",
       "       -0.88708466, -0.75650909, -0.78779692, -0.89332448, -1.6224558 ,\n",
       "       -1.34611326, -1.31025843, -1.13440965, -1.44902187, -1.12114698])"
      ]
     },
     "execution_count": 11,
     "metadata": {},
     "output_type": "execute_result"
    }
   ],
   "source": [
    "Rpseudo @ z"
   ]
  },
  {
   "cell_type": "code",
   "execution_count": 15,
   "metadata": {},
   "outputs": [
    {
     "data": {
      "text/plain": [
       "array([-0.63151345, -0.40000501,  1.0970013 ,  0.49843083, -1.10342032,\n",
       "       -1.42058104, -0.95992812,  0.36920276, -0.53885639, -1.80308579,\n",
       "       -1.430209  , -0.80547131, -0.14842139, -0.57733977, -1.64623772,\n",
       "       -1.76452449, -1.14504947, -1.09112718, -1.0358754 , -0.43927931,\n",
       "       -1.02943495, -0.65966763, -1.8708364 , -2.20024964, -1.47013624,\n",
       "       -0.18649228, -1.30410465, -1.15805879, -0.93708933, -0.58321931,\n",
       "       -0.89621747, -0.76671255, -0.7918541 , -0.900541  , -1.63204265,\n",
       "       -1.35674153, -1.3145335 , -1.14186743, -1.45876921, -1.13189535])"
      ]
     },
     "execution_count": 15,
     "metadata": {},
     "output_type": "execute_result"
    }
   ],
   "source": [
    "np.linalg.pinv(R.A.toarray()) @ z"
   ]
  },
  {
   "cell_type": "code",
   "execution_count": 17,
   "metadata": {},
   "outputs": [
    {
     "data": {
      "text/plain": [
       "(80, 40)"
      ]
     },
     "execution_count": 17,
     "metadata": {},
     "output_type": "execute_result"
    }
   ],
   "source": [
    "R.shape"
   ]
  },
  {
   "cell_type": "code",
   "execution_count": 18,
   "metadata": {},
   "outputs": [],
   "source": [
    "W = np.random.normal(size=(40,3))"
   ]
  },
  {
   "cell_type": "code",
   "execution_count": 21,
   "metadata": {},
   "outputs": [],
   "source": [
    "Rpseudo = jlinops.QRPseudoInverseOperator( jlinops.MatrixOperator(R @ W) )"
   ]
  },
  {
   "cell_type": "code",
   "execution_count": 23,
   "metadata": {},
   "outputs": [
    {
     "data": {
      "text/plain": [
       "array([ 0.0722201 ,  0.1037814 , -0.04314348])"
      ]
     },
     "execution_count": 23,
     "metadata": {},
     "output_type": "execute_result"
    }
   ],
   "source": [
    "Rpseudo @ z"
   ]
  },
  {
   "cell_type": "code",
   "execution_count": 26,
   "metadata": {},
   "outputs": [
    {
     "data": {
      "text/plain": [
       "array([ 0.0722201 ,  0.1037814 , -0.04314348])"
      ]
     },
     "execution_count": 26,
     "metadata": {},
     "output_type": "execute_result"
    }
   ],
   "source": [
    "np.linalg.pinv( R.A.toarray() @ W ) @ z"
   ]
  },
  {
   "cell_type": "code",
   "execution_count": null,
   "metadata": {},
   "outputs": [],
   "source": []
  },
  {
   "cell_type": "code",
   "execution_count": null,
   "metadata": {},
   "outputs": [],
   "source": []
  }
 ],
 "metadata": {
  "kernelspec": {
   "display_name": "speckle38",
   "language": "python",
   "name": "python3"
  },
  "language_info": {
   "codemirror_mode": {
    "name": "ipython",
    "version": 3
   },
   "file_extension": ".py",
   "mimetype": "text/x-python",
   "name": "python",
   "nbconvert_exporter": "python",
   "pygments_lexer": "ipython3",
   "version": "3.8.12"
  },
  "orig_nbformat": 4
 },
 "nbformat": 4,
 "nbformat_minor": 2
}
