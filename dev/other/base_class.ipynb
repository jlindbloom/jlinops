{
 "cells": [
  {
   "cell_type": "code",
   "execution_count": 1,
   "metadata": {},
   "outputs": [],
   "source": [
    "import numpy as np\n",
    "import matplotlib.pyplot as plt"
   ]
  },
  {
   "cell_type": "code",
   "execution_count": 5,
   "metadata": {},
   "outputs": [],
   "source": [
    "from scipy.sparse.linalg import LinearOperator"
   ]
  },
  {
   "cell_type": "code",
   "execution_count": 7,
   "metadata": {},
   "outputs": [],
   "source": [
    "class BaseLinearOperator(LinearOperator):\n",
    "    \"\"\"Base class for representing a linear operators. Built as a subclass of SciPy's LinearOperator.\n",
    "    \"\"\"\n",
    "    \n",
    "    def __init__(self, dtype, shape, device=\"cpu\"):\n",
    "\n",
    "        # Device for cpu/gpu\n",
    "        self.device = device\n",
    "\n",
    "        super().__init__(dtype, shape)"
   ]
  },
  {
   "cell_type": "code",
   "execution_count": null,
   "metadata": {},
   "outputs": [],
   "source": [
    "class CustomLinearOperator(BaseLinearOperator):\n",
    "    \"\"\"Class for implementing linear operators from matvec/rmatvec functions.\n",
    "    \"\"\"\n",
    "\n",
    "    \"\"\"Linear operator defined in terms of user-specified operations.\"\"\"\n",
    "\n",
    "    def __init__(self, shape, matvec, rmatvec=None, matmat=None,\n",
    "                 dtype=None, rmatmat=None):\n",
    "        \n",
    "        super().__init__(dtype, shape)\n",
    "\n",
    "        self.args = ()\n",
    "\n",
    "        self.__matvec_impl = matvec\n",
    "        self.__rmatvec_impl = rmatvec\n",
    "        self.__rmatmat_impl = rmatmat\n",
    "        self.__matmat_impl = matmat\n",
    "\n",
    "        self._init_dtype()\n",
    "\n",
    "    def _matmat(self, X):\n",
    "        if self.__matmat_impl is not None:\n",
    "            return self.__matmat_impl(X)\n",
    "        else:\n",
    "            return super()._matmat(X)\n",
    "\n",
    "    def _matvec(self, x):\n",
    "        return self.__matvec_impl(x)\n",
    "\n",
    "    def _rmatvec(self, x):\n",
    "        func = self.__rmatvec_impl\n",
    "        if func is None:\n",
    "            raise NotImplementedError(\"rmatvec is not defined\")\n",
    "        return self.__rmatvec_impl(x)\n",
    "\n",
    "    def _rmatmat(self, X):\n",
    "        if self.__rmatmat_impl is not None:\n",
    "            return self.__rmatmat_impl(X)\n",
    "        else:\n",
    "            return super()._rmatmat(X)\n",
    "\n",
    "    def _adjoint(self):\n",
    "        return CustomLinearOperator(shape=(self.shape[1], self.shape[0]),\n",
    "                                     matvec=self.__rmatvec_impl,\n",
    "                                     rmatvec=self.__matvec_impl,\n",
    "                                     matmat=self.__rmatmat_impl,\n",
    "                                     rmatmat=self.__matmat_impl,\n",
    "                                     dtype=self.dtype)"
   ]
  },
  {
   "cell_type": "code",
   "execution_count": null,
   "metadata": {},
   "outputs": [],
   "source": []
  },
  {
   "cell_type": "code",
   "execution_count": null,
   "metadata": {},
   "outputs": [],
   "source": [
    "class CustomLinearOperator(BaseLinearOperator):\n",
    "    \"\"\"A\n",
    "    \"\"\"\n",
    "\n",
    "    \"\"\"Linear operator defined in terms of user-specified operations.\"\"\"\n",
    "\n",
    "    def __init__(self, shape, matvec, rmatvec=None, matmat=None,\n",
    "                 dtype=None, rmatmat=None):\n",
    "        super().__init__(dtype, shape)\n",
    "\n",
    "        self.args = ()\n",
    "\n",
    "        self.__matvec_impl = matvec\n",
    "        self.__rmatvec_impl = rmatvec\n",
    "        self.__rmatmat_impl = rmatmat\n",
    "        self.__matmat_impl = matmat\n",
    "\n",
    "        self._init_dtype()\n",
    "\n",
    "    def _matmat(self, X):\n",
    "        if self.__matmat_impl is not None:\n",
    "            return self.__matmat_impl(X)\n",
    "        else:\n",
    "            return super()._matmat(X)\n",
    "\n",
    "    def _matvec(self, x):\n",
    "        return self.__matvec_impl(x)\n",
    "\n",
    "    def _rmatvec(self, x):\n",
    "        func = self.__rmatvec_impl\n",
    "        if func is None:\n",
    "            raise NotImplementedError(\"rmatvec is not defined\")\n",
    "        return self.__rmatvec_impl(x)\n",
    "\n",
    "    def _rmatmat(self, X):\n",
    "        if self.__rmatmat_impl is not None:\n",
    "            return self.__rmatmat_impl(X)\n",
    "        else:\n",
    "            return super()._rmatmat(X)\n",
    "\n",
    "    def _adjoint(self):\n",
    "        return CustomLinearOperator(shape=(self.shape[1], self.shape[0]),\n",
    "                                     matvec=self.__rmatvec_impl,\n",
    "                                     rmatvec=self.__matvec_impl,\n",
    "                                     matmat=self.__rmatmat_impl,\n",
    "                                     rmatmat=self.__matmat_impl,\n",
    "                                     dtype=self.dtype)"
   ]
  },
  {
   "cell_type": "code",
   "execution_count": null,
   "metadata": {},
   "outputs": [],
   "source": []
  },
  {
   "cell_type": "code",
   "execution_count": null,
   "metadata": {},
   "outputs": [],
   "source": []
  }
 ],
 "metadata": {
  "kernelspec": {
   "display_name": "speckle38",
   "language": "python",
   "name": "python3"
  },
  "language_info": {
   "codemirror_mode": {
    "name": "ipython",
    "version": 3
   },
   "file_extension": ".py",
   "mimetype": "text/x-python",
   "name": "python",
   "nbconvert_exporter": "python",
   "pygments_lexer": "ipython3",
   "version": "3.8.12"
  }
 },
 "nbformat": 4,
 "nbformat_minor": 2
}
