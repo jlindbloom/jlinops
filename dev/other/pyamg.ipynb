{
 "cells": [
  {
   "cell_type": "code",
   "execution_count": 1,
   "metadata": {},
   "outputs": [],
   "source": [
    "import numpy as np\n",
    "import matplotlib.pyplot as plt"
   ]
  },
  {
   "cell_type": "code",
   "execution_count": null,
   "metadata": {},
   "outputs": [],
   "source": []
  },
  {
   "cell_type": "code",
   "execution_count": 3,
   "metadata": {},
   "outputs": [],
   "source": [
    "import pyamg"
   ]
  },
  {
   "cell_type": "code",
   "execution_count": 14,
   "metadata": {},
   "outputs": [
    {
     "name": "stdout",
     "output_type": "stream",
     "text": [
      "MultilevelSolver\n",
      "Number of Levels:     10\n",
      "Operator Complexity:   2.199\n",
      "Grid Complexity:       1.667\n",
      "Coarse Solver:        'pinv'\n",
      "  level   unknowns     nonzeros\n",
      "     0     1000000      4996000 [45.47%]\n",
      "     1      500000      4492002 [40.88%]\n",
      "     2      125247      1124215 [10.23%]\n",
      "     3       31250       280238 [2.55%]\n",
      "     4        7873        71075 [0.65%]\n",
      "     5        1953        17555 [0.16%]\n",
      "     6         495         4485 [0.04%]\n",
      "     7         127         1115 [0.01%]\n",
      "     8          33          273 [0.00%]\n",
      "     9           6           32 [0.00%]\n",
      "\n",
      "residual:  2.2936920924385164e-08\n"
     ]
    }
   ],
   "source": [
    "A = pyamg.gallery.poisson((1000,1000), format='csr')  # 2D Poisson problem on 500x500 grid\n",
    "ml = pyamg.ruge_stuben_solver(A)                    # construct the multigrid hierarchy\n",
    "print(ml)                                           # print hierarchy information\n",
    "b = np.random.rand(A.shape[0])                      # pick a random right hand side\n",
    "x = ml.solve(b, tol=1e-10)                          # solve Ax=b to a tolerance of 1e-10\n",
    "print(\"residual: \", np.linalg.norm(b-A*x))          # compute norm of residual vector"
   ]
  },
  {
   "cell_type": "code",
   "execution_count": 16,
   "metadata": {},
   "outputs": [
    {
     "data": {
      "text/plain": [
       "array([2.1175688 , 4.08427463, 5.67618021, ..., 5.91321034, 4.01377238,\n",
       "       2.14373633])"
      ]
     },
     "execution_count": 16,
     "metadata": {},
     "output_type": "execute_result"
    }
   ],
   "source": [
    "ml.solve(b, tol=1e-4)  "
   ]
  },
  {
   "cell_type": "code",
   "execution_count": null,
   "metadata": {},
   "outputs": [],
   "source": []
  }
 ],
 "metadata": {
  "kernelspec": {
   "display_name": "speckle38",
   "language": "python",
   "name": "python3"
  },
  "language_info": {
   "codemirror_mode": {
    "name": "ipython",
    "version": 3
   },
   "file_extension": ".py",
   "mimetype": "text/x-python",
   "name": "python",
   "nbconvert_exporter": "python",
   "pygments_lexer": "ipython3",
   "version": "3.8.12"
  }
 },
 "nbformat": 4,
 "nbformat_minor": 2
}
