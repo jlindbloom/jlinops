{
 "cells": [
  {
   "cell_type": "code",
   "execution_count": 228,
   "metadata": {},
   "outputs": [],
   "source": [
    "import numpy as np\n",
    "import matplotlib.pyplot as plt\n",
    "\n",
    "from scipy.sparse.linalg import cg as scipy_cg\n",
    "\n",
    "from jlinops import _CustomLinearOperator\n",
    "import jlinops"
   ]
  },
  {
   "cell_type": "markdown",
   "metadata": {},
   "source": [
    "# FCG implementation"
   ]
  },
  {
   "cell_type": "code",
   "execution_count": 235,
   "metadata": {},
   "outputs": [],
   "source": [
    "def cg(A, b, x0=None, atol=1e-5, maxiter=None, residual_method=\"approximate\", x_true=None):\n",
    "    \"\"\"Implements preconditioned conjugate gradient method.\n",
    "    \"\"\"\n",
    "\n",
    "    assert residual_method in [\"exact\", \"approximate\"], \"invalid residual_method parameter!\"\n",
    "\n",
    "    # Get shape\n",
    "    n = A.shape[0]\n",
    "    if maxiter is None: maxiter = n\n",
    "\n",
    "    # Initialization\n",
    "    if x0 is None:\n",
    "        x = np.zeros(n)\n",
    "    else:\n",
    "        x = x0\n",
    "\n",
    "    # Setup\n",
    "    r_prev = b - (A @ x)\n",
    "    p = r_prev.copy()\n",
    "    n_its = 0\n",
    "    residual_norms = [ np.linalg.norm(r_prev) ]\n",
    "    if x_true is not None:\n",
    "        x_err = np.linalg.norm(x - x_true)\n",
    "        x_errs = x_err\n",
    "\n",
    "    # Should we terminate before starting?\n",
    "    if np.linalg.norm(r_prev) < atol:\n",
    "        pass\n",
    "\n",
    "    else:\n",
    "\n",
    "        for i in range(maxiter):\n",
    "            Ap = A @ p\n",
    "            alpha = np.dot(r_prev, r_prev)/np.dot(p, Ap)\n",
    "            x += alpha*p\n",
    "            r_next = r_prev - alpha*Ap\n",
    "            n_its += 1\n",
    "\n",
    "            if residual_method == \"approximate\":\n",
    "                residual = r_next\n",
    "            elif residual_method == \"exact\":\n",
    "                residual = b - (A @ x)\n",
    "            else:\n",
    "                raise NotImplementedError\n",
    "            residual_norms.append( np.linalg.norm(residual) )\n",
    "\n",
    "            if np.linalg.norm(residual) < atol: break\n",
    "\n",
    "            beta = np.dot(r_next, r_next)/np.dot(r_prev, r_prev)\n",
    "            p = r_next + beta*p\n",
    "            r_prev = r_next.copy()\n",
    "\n",
    "            # Track err?\n",
    "            if x_true is not None:\n",
    "                x_err = np.linalg.norm(x - x_true)\n",
    "                x_errs.append(x_err)\n",
    "\n",
    "\n",
    "    data = {\n",
    "        \"x\": x,\n",
    "        \"n_its\": n_its,\n",
    "        \"residual_norms\": np.asarray(residual_norms),\n",
    "    }\n",
    "\n",
    "    if x_true is not None:\n",
    "        data[\"x_errs\"] = np.asarray(x_errs)\n",
    "\n",
    "    return data\n"
   ]
  },
  {
   "cell_type": "code",
   "execution_count": 236,
   "metadata": {},
   "outputs": [],
   "source": [
    "def ipcg(A, b, M, x0=None, rtol=1e-3, eta=1.0, e_norm=1.0, maxiter=None, Mcond=None, beta_formula=\"polyak-ribiere\", residual_method=\"exact\", x_true=None):\n",
    "    \"\"\"Represents inexact preconditioned CG method.\n",
    "\n",
    "    e_norm: expected value of the vector e.\n",
    "    \"\"\"\n",
    "\n",
    "    assert beta_formula in [\"polyak-ribiere\", \"fletcher-reeves\"], \"invalid beta_formula parameter!\"\n",
    "    assert residual_method in [\"exact\", \"approximate\"], \"invalid residual_method parameter!\"\n",
    "\n",
    "    # Get shape\n",
    "    n = A.shape[0]\n",
    "    if maxiter is None: maxiter = n\n",
    "\n",
    "    # Initialization\n",
    "    if x0 is None:\n",
    "        x = np.zeros(n)\n",
    "    else:\n",
    "        x = x0\n",
    "\n",
    "    # eta\n",
    "    eta_tilde = eta/np.sqrt(Mcond)\n",
    "\n",
    "    # bnorm\n",
    "    bnorm = np.linalg.norm(b)\n",
    "\n",
    "    # Setup\n",
    "    r_prev = np.zeros(n)\n",
    "    p = r_prev.copy()\n",
    "    r_next = b - (A @ x)\n",
    "    beta = 0\n",
    "    residual_norms = [np.linalg.norm(r_next)]\n",
    "\n",
    "    if x_true is not None:\n",
    "        x_err = np.linalg.norm(x - x_true)\n",
    "        x_errs = [ x_err ] \n",
    "\n",
    "    n_inner_its = 0\n",
    "    n_outer_its = 0\n",
    "\n",
    "    # Should we terminate before starting?\n",
    "    if np.linalg.norm(r_next)/bnorm < rtol:\n",
    "        pass\n",
    "\n",
    "    else:\n",
    "\n",
    "        for i in range(maxiter):\n",
    "            \n",
    "            cgdata = cg(M, r_next, atol=eta_tilde*np.linalg.norm(r_next) )\n",
    "            n_inner_its += cgdata[\"n_its\"]\n",
    "            z_next = cgdata[\"x\"]\n",
    "\n",
    "            if i > 1:\n",
    "                if beta_formula == \"polyak-ribiere\":\n",
    "                    beta = np.dot( z_next, r_next - r_prev ) / np.dot(z_prev, r_prev)\n",
    "                elif beta_formula == \"fletcher-reeves\":\n",
    "                    beta = np.dot( z_next, r_next ) / np.dot( z_prev, r_prev )\n",
    "                else:\n",
    "                    raise NotImplementedError\n",
    "\n",
    "            p = z_next + beta*p\n",
    "            Ap = A @ p\n",
    "            alpha = np.dot(z_next, r_next)/(np.dot(p, Ap))\n",
    "            r_prev = r_next.copy()\n",
    "            r_next -= alpha * Ap\n",
    "            x += alpha*p\n",
    "            z_prev = z_next.copy()\n",
    "\n",
    "            # Store residual\n",
    "            if residual_method == \"approximate\":\n",
    "                residual_norms.append( np.linalg.norm( r_prev ) )\n",
    "            elif residual_method == \"exact\":\n",
    "                residual_norms.append( np.linalg.norm( b - (A @ x) ) )\n",
    "            else:\n",
    "                raise NotImplementedError\n",
    "            \n",
    "            # Break?\n",
    "            if np.linalg.norm(r_prev)/bnorm < rtol:\n",
    "                break\n",
    "            n_outer_its += 1\n",
    "            \n",
    "            # Track x_err?\n",
    "            if x_true is not None:\n",
    "                x_err = np.linalg.norm(x - x_true)\n",
    "                x_errs.append(x_err)\n",
    "\n",
    "    data = {\n",
    "        \"x\": x,\n",
    "        \"residual_norms\": np.asarray(residual_norms),\n",
    "        \"n_inner_its\": n_inner_its,\n",
    "        \"n_outer_its\": n_outer_its,\n",
    "    }\n",
    "    if x_true is not None:\n",
    "        data[\"x_errs\"] = np.asarray(x_errs)\n",
    "    \n",
    "    return data\n",
    "    "
   ]
  },
  {
   "cell_type": "code",
   "execution_count": 237,
   "metadata": {},
   "outputs": [],
   "source": [
    "def fcg(A, b, Minv, rtol=1e-4, x0=None, maxiter=None, residual_method=\"exact\", x_true=None):\n",
    "    \"\"\"Implements the FCG method.\n",
    "    \"\"\"\n",
    "\n",
    "    assert residual_method in [\"exact\", \"approximate\"], \"invalid residual_method parameter!\"\n",
    "\n",
    "    n = A.shape[0]\n",
    "    if maxiter is None: maxiter = n\n",
    "    bnorm = np.linalg.norm(b)\n",
    "\n",
    "    # Initialization\n",
    "    if x0 is None:\n",
    "        x = np.zeros(n)\n",
    "    else:\n",
    "        x = x0\n",
    "\n",
    "    # Initial residual\n",
    "    r = b - A @ x\n",
    "    residual_norms = [ np.linalg.norm(r) ]\n",
    "\n",
    "    if x_true is not None:\n",
    "        x_err = np.linalg.norm(x - x_true)\n",
    "        x_errs = [ x_err ] \n",
    "\n",
    "    n_basis_vectors = 0\n",
    "    n_iters = 0\n",
    "    lucky_breakdown = False\n",
    "    converged = False\n",
    "\n",
    "    # Should we do anything at all?\n",
    "    if np.linalg.norm(r)/bnorm < rtol:\n",
    "        p = z.copy()\n",
    "        p = p/np.linalg.norm(p)\n",
    "        P = p[:,None]\n",
    "        Ap = None\n",
    "        converged = True\n",
    "        pass\n",
    "\n",
    "    else:\n",
    "        \n",
    "        for i in range(maxiter):\n",
    "\n",
    "            # Apply preconditioner and store result\n",
    "            z = Minv @ r\n",
    "    \n",
    "            # Create new search direction\n",
    "            if i == 0:\n",
    "                p = z.copy()\n",
    "                p = p/np.linalg.norm(p)\n",
    "                P = p[:,None]\n",
    "                n_basis_vectors += 1\n",
    "            else:\n",
    "                p = z.copy()\n",
    "                for j in range(n_basis_vectors):\n",
    "                    coeff = np.dot( z, AP[:,j]  ) / np.dot( P[:,j], AP[:,j] )\n",
    "                    p -= coeff*P[:,j]\n",
    "\n",
    "                if np.linalg.norm(p) < 1e-15:\n",
    "                    lucky_breakdown = True\n",
    "                    break\n",
    "                \n",
    "                p = p/np.linalg.norm(p)\n",
    "                P = np.hstack([P, p[:,None]])\n",
    "                n_basis_vectors += 1\n",
    "\n",
    "            Ap = A @ p\n",
    "            if i == 0:\n",
    "                AP = Ap[:,None]\n",
    "            else:\n",
    "                AP = np.hstack([ AP, Ap[:,None] ])\n",
    "\n",
    "            coeff = np.dot(p, r) / np.dot(p, Ap)\n",
    "            x += coeff*p\n",
    "            r -= coeff*Ap \n",
    "            residual_norms.append(np.linalg.norm(r))\n",
    "            n_iters += 1\n",
    "\n",
    "            # Track x_err?\n",
    "            if x_true is not None:\n",
    "                x_err = np.linalg.norm(x - x_true)\n",
    "                x_errs.append(x_err)\n",
    "\n",
    "            # Should we stop?\n",
    "            if np.linalg.norm(r)/bnorm < rtol:\n",
    "                converged = True\n",
    "                break\n",
    "\n",
    "    data = {\n",
    "        \"x\": x,\n",
    "        \"P\": P,\n",
    "        \"AP\": AP,\n",
    "        \"n_iters\": n_iters,\n",
    "        \"lucky_breakdown\": lucky_breakdown,\n",
    "        \"converged\": converged,\n",
    "        \"residual_norms\": np.asarray(residual_norms),\n",
    "    }\n",
    "    if x_true is not None:\n",
    "        data[\"x_errs\"] = np.asarray(x_errs)\n",
    "\n",
    "    return data\n"
   ]
  },
  {
   "cell_type": "markdown",
   "metadata": {},
   "source": [
    "# Test it out"
   ]
  },
  {
   "cell_type": "code",
   "execution_count": 238,
   "metadata": {},
   "outputs": [],
   "source": [
    "n = 100\n",
    "R, _ = jlinops.first_order_derivative_1d(n, boundary=\"zero\")\n",
    "R = R.toarray()\n",
    "\n",
    "np.random.seed(1)\n",
    "w = np.random.uniform(low=5, high=45, size=R.shape[0])\n",
    "\n",
    "Amat = R.T @ np.diag(w) @ R\n",
    "A = jlinops.MatrixLinearOperator(Amat)\n",
    "Mmat = R.T @ R\n",
    "M = jlinops.MatrixLinearOperator(Mmat)\n",
    "Mcond = np.linalg.cond(Mmat)\n",
    "Minv_mat = np.linalg.inv(Mmat)\n",
    "Minv = jlinops.MatrixLinearOperator(Minv_mat)\n",
    "b = np.random.normal(size=n)\n",
    "x_true = np.linalg.solve(Amat, b)\n",
    "\n",
    "# Make class for representing linear operator with error\n",
    "class ArtificialErrorSPDLinearOperator(_CustomLinearOperator):\n",
    "\n",
    "    def __init__(self, A, delta, method=\"inner\"):\n",
    "        \n",
    "        self.Atrue = A\n",
    "        self.delta = delta\n",
    "        shape = A.shape\n",
    "\n",
    "        assert method in [\"inner\", \"outer\"], \"invalid method choice!\"\n",
    "        \n",
    "        if method == \"outer\":\n",
    "            _matvec = lambda x: self.Atrue.matvec(x) + delta*np.random.normal(size=shape[0])\n",
    "        elif method == \"inner\":\n",
    "            _matvec = lambda x: self.Atrue.matvec( x + delta*np.random.normal(size=shape[0]) )\n",
    "        else:\n",
    "            raise NotImplementedError\n",
    "\n",
    "        super().__init__(shape, _matvec, _matvec, device=A.device)"
   ]
  },
  {
   "cell_type": "code",
   "execution_count": 255,
   "metadata": {},
   "outputs": [],
   "source": [
    "Minv_approx = jlinops.CGInverseOperator(M, tol=1e-2)\n",
    "x_true = np.linalg.solve(Amat, b)"
   ]
  },
  {
   "cell_type": "code",
   "execution_count": 256,
   "metadata": {},
   "outputs": [
    {
     "data": {
      "text/plain": [
       "30434.928333456748"
      ]
     },
     "execution_count": 256,
     "metadata": {},
     "output_type": "execute_result"
    }
   ],
   "source": [
    "np.linalg.cond(Amat)"
   ]
  },
  {
   "cell_type": "code",
   "execution_count": 257,
   "metadata": {},
   "outputs": [
    {
     "data": {
      "text/plain": [
       "False"
      ]
     },
     "execution_count": 257,
     "metadata": {},
     "output_type": "execute_result"
    }
   ],
   "source": [
    "data = fcg(A, b, Minv_approx, x0=None, rtol=1e-6, maxiter=100, x_true=x_true)\n",
    "data[\"converged\"]"
   ]
  },
  {
   "cell_type": "code",
   "execution_count": 258,
   "metadata": {},
   "outputs": [
    {
     "data": {
      "image/png": "[encoded data removed]",
      "text/plain": [
       "<Figure size 640x480 with 1 Axes>"
      ]
     },
     "metadata": {},
     "output_type": "display_data"
    }
   ],
   "source": [
    "plt.semilogy(data[\"x_errs\"])\n",
    "plt.show()"
   ]
  },
  {
   "cell_type": "code",
   "execution_count": 249,
   "metadata": {},
   "outputs": [],
   "source": [
    "# data2 = ipcg(A, b, Minv_approx, x0=None, rtol=1e-6, eta=1e-4, Mcond=np.linalg.cond(Mmat), maxiter=100, x_true=x_true)"
   ]
  },
  {
   "cell_type": "code",
   "execution_count": 247,
   "metadata": {},
   "outputs": [
    {
     "data": {
      "image/png": "[encoded data removed]",
      "text/plain": [
       "<Figure size 640x480 with 1 Axes>"
      ]
     },
     "metadata": {},
     "output_type": "display_data"
    }
   ],
   "source": [
    "plt.semilogy(data2[\"x_errs\"])\n",
    "plt.show()"
   ]
  },
  {
   "cell_type": "code",
   "execution_count": null,
   "metadata": {},
   "outputs": [],
   "source": []
  },
  {
   "cell_type": "code",
   "execution_count": null,
   "metadata": {},
   "outputs": [],
   "source": []
  },
  {
   "cell_type": "code",
   "execution_count": null,
   "metadata": {},
   "outputs": [],
   "source": []
  },
  {
   "cell_type": "code",
   "execution_count": null,
   "metadata": {},
   "outputs": [],
   "source": []
  },
  {
   "cell_type": "code",
   "execution_count": 190,
   "metadata": {},
   "outputs": [
    {
     "data": {
      "text/plain": [
       "dict_keys(['x', 'P', 'AP', 'n_iters', 'lucky_breakdown', 'x_errs'])"
      ]
     },
     "execution_count": 190,
     "metadata": {},
     "output_type": "execute_result"
    }
   ],
   "source": [
    "data.keys()"
   ]
  },
  {
   "cell_type": "code",
   "execution_count": 191,
   "metadata": {},
   "outputs": [
    {
     "data": {
      "text/plain": [
       "23"
      ]
     },
     "execution_count": 191,
     "metadata": {},
     "output_type": "execute_result"
    }
   ],
   "source": [
    "data[\"n_iters\"]"
   ]
  },
  {
   "cell_type": "code",
   "execution_count": 192,
   "metadata": {},
   "outputs": [
    {
     "data": {
      "image/png": "[encoded data removed]",
      "text/plain": [
       "<Figure size 640x480 with 1 Axes>"
      ]
     },
     "metadata": {},
     "output_type": "display_data"
    }
   ],
   "source": [
    "plt.semilogy(data[\"x_errs\"])\n",
    "plt.show()"
   ]
  },
  {
   "cell_type": "code",
   "execution_count": 150,
   "metadata": {},
   "outputs": [
    {
     "data": {
      "text/plain": [
       "nan"
      ]
     },
     "execution_count": 150,
     "metadata": {},
     "output_type": "execute_result"
    }
   ],
   "source": [
    "np.linalg.norm( data[\"x\"] - x_true ) "
   ]
  },
  {
   "cell_type": "code",
   "execution_count": 152,
   "metadata": {},
   "outputs": [
    {
     "data": {
      "text/plain": [
       "dict_keys(['x', 'P', 'AP', 'x_errs'])"
      ]
     },
     "execution_count": 152,
     "metadata": {},
     "output_type": "execute_result"
    }
   ],
   "source": [
    "data.keys()"
   ]
  },
  {
   "cell_type": "code",
   "execution_count": 193,
   "metadata": {},
   "outputs": [
    {
     "data": {
      "image/png": "[encoded data removed]",
      "text/plain": [
       "<Figure size 640x480 with 1 Axes>"
      ]
     },
     "metadata": {},
     "output_type": "display_data"
    }
   ],
   "source": [
    "plt.imshow( data[\"P\"][:,:].T @ A @ data[\"P\"][:,:] )\n",
    "plt.show()"
   ]
  },
  {
   "cell_type": "code",
   "execution_count": null,
   "metadata": {},
   "outputs": [],
   "source": []
  },
  {
   "cell_type": "code",
   "execution_count": null,
   "metadata": {},
   "outputs": [],
   "source": []
  },
  {
   "cell_type": "code",
   "execution_count": null,
   "metadata": {},
   "outputs": [],
   "source": []
  }
 ],
 "metadata": {
  "kernelspec": {
   "display_name": "jlinops",
   "language": "python",
   "name": "python3"
  },
  "language_info": {
   "codemirror_mode": {
    "name": "ipython",
    "version": 3
   },
   "file_extension": ".py",
   "mimetype": "text/x-python",
   "name": "python",
   "nbconvert_exporter": "python",
   "pygments_lexer": "ipython3",
   "version": "3.1.undefined"
  }
 },
 "nbformat": 4,
 "nbformat_minor": 2
}
