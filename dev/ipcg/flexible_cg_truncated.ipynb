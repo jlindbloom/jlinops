{
 "cells": [
  {
   "cell_type": "code",
   "execution_count": 1,
   "metadata": {},
   "outputs": [],
   "source": [
    "import numpy as np\n",
    "import matplotlib.pyplot as plt\n",
    "\n",
    "from scipy.sparse.linalg import cg as scipy_cg\n",
    "\n",
    "from jlinops import _CustomLinearOperator\n",
    "import jlinops"
   ]
  },
  {
   "cell_type": "code",
   "execution_count": 40,
   "metadata": {},
   "outputs": [],
   "source": [
    "def tfcg(A, b, Minv, rtol=1e-4, x0=None, maxiter=None, residual_method=\"exact\", x_true=None, m_max=10):\n",
    "    \"\"\"Implements the T-FCG method.\n",
    "    \"\"\"\n",
    "\n",
    "    assert residual_method in [\"exact\", \"approximate\"], \"invalid residual_method parameter!\"\n",
    "\n",
    "    n = A.shape[0]\n",
    "    if maxiter is None: maxiter = n\n",
    "    bnorm = np.linalg.norm(b)\n",
    "\n",
    "    # Initialization\n",
    "    if x0 is None:\n",
    "        x = np.zeros(n)\n",
    "    else:\n",
    "        x = x0\n",
    "\n",
    "    # Initial residual\n",
    "    r = b - A @ x\n",
    "    residual_norms = [ np.linalg.norm(r) ]\n",
    "\n",
    "    if x_true is not None:\n",
    "        x_err = np.linalg.norm(x - x_true)\n",
    "        x_errs = [ x_err ] \n",
    "\n",
    "    n_basis_vectors = 0\n",
    "    n_iters = 0\n",
    "    lucky_breakdown = False\n",
    "    converged = False\n",
    "\n",
    "    # Should we do anything at all?\n",
    "    if np.linalg.norm(r)/bnorm < rtol:\n",
    "        p = z.copy()\n",
    "        p = p/np.linalg.norm(p)\n",
    "        P = p[:,None]\n",
    "        Ap = None\n",
    "        converged = True\n",
    "        pass\n",
    "\n",
    "    else:\n",
    "        \n",
    "        for i in range(maxiter):\n",
    "\n",
    "            # Apply preconditioner and store result\n",
    "            z = Minv @ r\n",
    "    \n",
    "            # Create new search direction\n",
    "            if i == 0:\n",
    "                p = z.copy()\n",
    "                p = p/np.linalg.norm(p)\n",
    "                P = p[:,None]\n",
    "                n_basis_vectors += 1\n",
    "            else:\n",
    "                p = z.copy()\n",
    "                for j in range(n_basis_vectors):\n",
    "                    coeff = np.dot( z, AP[:,j]  ) / np.dot( P[:,j], AP[:,j] )\n",
    "                    p -= coeff*P[:,j]\n",
    "\n",
    "                if np.linalg.norm(p) < 1e-15:\n",
    "                    lucky_breakdown = True\n",
    "                    break\n",
    "                \n",
    "                # New basis vector\n",
    "                p = p/np.linalg.norm(p)\n",
    "                P = np.hstack([P, p[:,None]])\n",
    "                n_basis_vectors += 1\n",
    "\n",
    "            Ap = A @ p\n",
    "            if i == 0:\n",
    "                AP = Ap[:,None]\n",
    "            else:\n",
    "                AP = np.hstack([ AP, Ap[:,None] ])\n",
    "\n",
    "            coeff = np.dot(p, r) / np.dot(p, Ap)\n",
    "            x += coeff*p\n",
    "            r -= coeff*Ap \n",
    "            residual_norms.append(np.linalg.norm(r))\n",
    "            n_iters += 1\n",
    "\n",
    "            # Track x_err?\n",
    "            if x_true is not None:\n",
    "                x_err = np.linalg.norm(x - x_true)\n",
    "                x_errs.append(x_err)\n",
    "\n",
    "            # Should we stop?\n",
    "            if np.linalg.norm(r)/bnorm < rtol:\n",
    "                converged = True\n",
    "                break\n",
    "\n",
    "            # Edit number of basis vectors\n",
    "            mi = max(1, (i+1)%(m_max+1))\n",
    "            P = P[:,-mi:]\n",
    "            AP = AP[:,-mi:]\n",
    "            n_basis_vectors = mi\n",
    "            print(n_basis_vectors)\n",
    "\n",
    "\n",
    "    data = {\n",
    "        \"x\": x,\n",
    "        \"P\": P,\n",
    "        \"AP\": AP,\n",
    "        \"n_iters\": n_iters,\n",
    "        \"lucky_breakdown\": lucky_breakdown,\n",
    "        \"converged\": converged,\n",
    "        \"residual_norms\": np.asarray(residual_norms),\n",
    "    }\n",
    "    if x_true is not None:\n",
    "        data[\"x_errs\"] = np.asarray(x_errs)\n",
    "\n",
    "    return data\n"
   ]
  },
  {
   "cell_type": "markdown",
   "metadata": {},
   "source": [
    "# Test it out"
   ]
  },
  {
   "cell_type": "code",
   "execution_count": 41,
   "metadata": {},
   "outputs": [],
   "source": [
    "n = 100\n",
    "R, _ = jlinops.first_order_derivative_1d(n, boundary=\"zero\")\n",
    "R = R.toarray()\n",
    "\n",
    "np.random.seed(1)\n",
    "w = np.random.uniform(low=5, high=45, size=R.shape[0])\n",
    "\n",
    "Amat = R.T @ np.diag(w) @ R\n",
    "A = jlinops.MatrixLinearOperator(Amat)\n",
    "Mmat = R.T @ R\n",
    "M = jlinops.MatrixLinearOperator(Mmat)\n",
    "Mcond = np.linalg.cond(Mmat)\n",
    "Minv_mat = np.linalg.inv(Mmat)\n",
    "Minv = jlinops.MatrixLinearOperator(Minv_mat)\n",
    "b = np.random.normal(size=n)\n",
    "x_true = np.linalg.solve(Amat, b)\n",
    "\n",
    "# Make class for representing linear operator with error\n",
    "class ArtificialErrorSPDLinearOperator(_CustomLinearOperator):\n",
    "\n",
    "    def __init__(self, A, delta, method=\"inner\"):\n",
    "        \n",
    "        self.Atrue = A\n",
    "        self.delta = delta\n",
    "        shape = A.shape\n",
    "\n",
    "        assert method in [\"inner\", \"outer\"], \"invalid method choice!\"\n",
    "        \n",
    "        if method == \"outer\":\n",
    "            _matvec = lambda x: self.Atrue.matvec(x) + delta*np.random.normal(size=shape[0])\n",
    "        elif method == \"inner\":\n",
    "            _matvec = lambda x: self.Atrue.matvec( x + delta*np.random.normal(size=shape[0]) )\n",
    "        else:\n",
    "            raise NotImplementedError\n",
    "\n",
    "        super().__init__(shape, _matvec, _matvec, device=A.device)"
   ]
  },
  {
   "cell_type": "code",
   "execution_count": 42,
   "metadata": {},
   "outputs": [],
   "source": [
    "Minv_approx = jlinops.CGInverseOperator(M, tol=1e-5)\n",
    "x_true = np.linalg.solve(Amat, b)"
   ]
  },
  {
   "cell_type": "code",
   "execution_count": 43,
   "metadata": {},
   "outputs": [
    {
     "data": {
      "text/plain": [
       "30434.928333456748"
      ]
     },
     "execution_count": 43,
     "metadata": {},
     "output_type": "execute_result"
    }
   ],
   "source": [
    "np.linalg.cond(Amat)"
   ]
  },
  {
   "cell_type": "code",
   "execution_count": 46,
   "metadata": {},
   "outputs": [
    {
     "name": "stdout",
     "output_type": "stream",
     "text": [
      "1\n",
      "2\n",
      "3\n",
      "4\n",
      "5\n",
      "6\n",
      "7\n",
      "8\n",
      "9\n",
      "10\n",
      "1\n",
      "1\n",
      "2\n",
      "3\n",
      "4\n",
      "5\n",
      "6\n",
      "7\n",
      "8\n",
      "9\n",
      "10\n",
      "1\n",
      "1\n",
      "False\n",
      "True\n"
     ]
    }
   ],
   "source": [
    "data = tfcg(A, b, Minv_approx, x0=None, rtol=1e-7, maxiter=100, x_true=x_true, m_max=10)\n",
    "print(data[\"converged\"] )\n",
    "print(data[\"lucky_breakdown\"])"
   ]
  },
  {
   "cell_type": "code",
   "execution_count": 48,
   "metadata": {},
   "outputs": [
    {
     "data": {
      "image/png": "[encoded data removed]",
      "text/plain": [
       "<Figure size 640x480 with 1 Axes>"
      ]
     },
     "metadata": {},
     "output_type": "display_data"
    }
   ],
   "source": [
    "plt.semilogy(data[\"x_errs\"])\n",
    "plt.show()"
   ]
  },
  {
   "cell_type": "code",
   "execution_count": null,
   "metadata": {},
   "outputs": [],
   "source": []
  },
  {
   "cell_type": "code",
   "execution_count": null,
   "metadata": {},
   "outputs": [],
   "source": []
  }
 ],
 "metadata": {
  "kernelspec": {
   "display_name": "jlinops",
   "language": "python",
   "name": "python3"
  },
  "language_info": {
   "codemirror_mode": {
    "name": "ipython",
    "version": 3
   },
   "file_extension": ".py",
   "mimetype": "text/x-python",
   "name": "python",
   "nbconvert_exporter": "python",
   "pygments_lexer": "ipython3",
   "version": "3.1.undefined"
  }
 },
 "nbformat": 4,
 "nbformat_minor": 2
}
