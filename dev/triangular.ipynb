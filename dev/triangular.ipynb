{
 "cells": [
  {
   "cell_type": "code",
   "execution_count": 1,
   "metadata": {},
   "outputs": [],
   "source": [
    "import numpy as np\n",
    "import matplotlib.pyplot as plt\n",
    "\n",
    "from scipy.linalg import solve_triangular as sp_solve_triangular\n",
    "\n",
    "import jlinops\n",
    "from jlinops import _CustomLinearOperator, get_device"
   ]
  },
  {
   "cell_type": "code",
   "execution_count": 20,
   "metadata": {},
   "outputs": [],
   "source": [
    "# Set the size of the matrix\n",
    "n = 5\n",
    "\n",
    "# Generate a random n x n matrix\n",
    "random_matrix = np.random.rand(n, n)\n",
    "\n",
    "# Extract the upper triangular part of the matrix\n",
    "Umat = np.triu(random_matrix)\n",
    "U = jlinops.MatrixLinearOperator(Umat)\n",
    "Uminv = np.linalg.inv(Umat)"
   ]
  },
  {
   "cell_type": "code",
   "execution_count": 21,
   "metadata": {},
   "outputs": [
    {
     "data": {
      "text/plain": [
       "array([[0.98002196, 0.54286389, 0.98269779, 0.13235562, 0.35842242],\n",
       "       [0.        , 0.53733683, 0.1145083 , 0.62932704, 0.58092173],\n",
       "       [0.        , 0.        , 0.15377439, 0.8814042 , 0.59511893],\n",
       "       [0.        , 0.        , 0.        , 0.50140539, 0.41794074],\n",
       "       [0.        , 0.        , 0.        , 0.        , 0.59089279]])"
      ]
     },
     "execution_count": 21,
     "metadata": {},
     "output_type": "execute_result"
    }
   ],
   "source": [
    "jlinops.black_box_to_dense(U)"
   ]
  },
  {
   "cell_type": "code",
   "execution_count": 22,
   "metadata": {},
   "outputs": [],
   "source": [
    "class UpperTriangularInverse(_CustomLinearOperator):\n",
    "    \"\"\"Represents the inverse of an upper triangular dense matrix.\n",
    "\n",
    "    U: upper triangular dense array U (lower triangular part will be discarded).\n",
    "    \"\"\"\n",
    "\n",
    "    def __init__(self, U):\n",
    "\n",
    "        device = get_device(U)\n",
    "        self.U = np.triu(U.A)\n",
    "        m = U.shape[0]\n",
    "        n = U.shape[1]\n",
    "        assert m == n, \"U must be square.\"\n",
    "        self.n = n\n",
    "\n",
    "        def _matvec(x):\n",
    "            return sp_solve_triangular(self.U, x, trans=0)\n",
    "\n",
    "        def _rmatvec(x):\n",
    "\n",
    "            return sp_solve_triangular(self.U, x, trans=1)\n",
    "        \n",
    "        super().__init__( (self.n, self.n), _matvec, _rmatvec, dtype=None, device=device)\n",
    "\n",
    "    def to_gpu(self):\n",
    "        raise NotImplementedError\n",
    "    "
   ]
  },
  {
   "cell_type": "code",
   "execution_count": 23,
   "metadata": {},
   "outputs": [],
   "source": [
    "Uinv = jlinops.UpperTriangularInverse(U)"
   ]
  },
  {
   "cell_type": "code",
   "execution_count": 24,
   "metadata": {},
   "outputs": [
    {
     "data": {
      "text/plain": [
       "2.1211235096247982e-15"
      ]
     },
     "execution_count": 24,
     "metadata": {},
     "output_type": "execute_result"
    }
   ],
   "source": [
    "np.linalg.norm( jlinops.black_box_to_dense( Uinv ) - Uminv )"
   ]
  },
  {
   "cell_type": "code",
   "execution_count": 25,
   "metadata": {},
   "outputs": [
    {
     "data": {
      "text/plain": [
       "5.149762648337517e-16"
      ]
     },
     "execution_count": 25,
     "metadata": {},
     "output_type": "execute_result"
    }
   ],
   "source": [
    "np.linalg.norm( jlinops.black_box_to_dense( Uinv.T ) - Uminv.T )"
   ]
  },
  {
   "cell_type": "markdown",
   "metadata": {},
   "source": [
    "# Lower triangular"
   ]
  },
  {
   "cell_type": "code",
   "execution_count": 8,
   "metadata": {},
   "outputs": [],
   "source": [
    "class LowerTriangularInverse(_CustomLinearOperator):\n",
    "    \"\"\"Represents the inverse of an lower triangular dense matrix.\n",
    "\n",
    "    L: upper triangular dense array L (upper triangular part will be discarded).\n",
    "    \"\"\"\n",
    "\n",
    "    def __init__(self, L):\n",
    "\n",
    "        device = get_device(L)\n",
    "        self.L = np.tril(L.A)\n",
    "        m = L.shape[0]\n",
    "        n = L.shape[1]\n",
    "        assert m == n, \"L must be square.\"\n",
    "        self.n = n\n",
    "\n",
    "        def _matvec(x):\n",
    "            return sp_solve_triangular(self.L, x, trans=0, lower=True)\n",
    "\n",
    "        def _rmatvec(x):\n",
    "\n",
    "            return sp_solve_triangular(self.L, x, trans=1, lower=True)\n",
    "        \n",
    "        super().__init__( (self.n, self.n), _matvec, _rmatvec, dtype=None, device=device)\n",
    "\n",
    "    def to_gpu(self):\n",
    "        raise NotImplementedError\n",
    "    "
   ]
  },
  {
   "cell_type": "code",
   "execution_count": 9,
   "metadata": {},
   "outputs": [],
   "source": [
    "# Set the size of the matrix\n",
    "n = 5\n",
    "\n",
    "# Generate a random n x n matrix\n",
    "random_matrix = np.random.rand(n, n)\n",
    "\n",
    "# Extract the upper triangular part of the matrix\n",
    "Lmat = np.tril(random_matrix)\n",
    "L = jlinops.MatrixLinearOperator(Lmat)\n",
    "Lminv = np.linalg.inv(Lmat)"
   ]
  },
  {
   "cell_type": "code",
   "execution_count": 13,
   "metadata": {},
   "outputs": [],
   "source": [
    "Linv = jlinops.LowerTriangularInverse(L)"
   ]
  },
  {
   "cell_type": "code",
   "execution_count": 14,
   "metadata": {},
   "outputs": [
    {
     "data": {
      "text/plain": [
       "1.9513187837406125e-15"
      ]
     },
     "execution_count": 14,
     "metadata": {},
     "output_type": "execute_result"
    }
   ],
   "source": [
    "np.linalg.norm( jlinops.black_box_to_dense( Linv ) - Lminv )"
   ]
  },
  {
   "cell_type": "code",
   "execution_count": 15,
   "metadata": {},
   "outputs": [
    {
     "data": {
      "text/plain": [
       "2.2763981646657675e-15"
      ]
     },
     "execution_count": 15,
     "metadata": {},
     "output_type": "execute_result"
    }
   ],
   "source": [
    "np.linalg.norm( jlinops.black_box_to_dense( Linv.T ) - Lminv.T )"
   ]
  },
  {
   "cell_type": "code",
   "execution_count": null,
   "metadata": {},
   "outputs": [],
   "source": []
  },
  {
   "cell_type": "code",
   "execution_count": null,
   "metadata": {},
   "outputs": [],
   "source": []
  },
  {
   "cell_type": "code",
   "execution_count": null,
   "metadata": {},
   "outputs": [],
   "source": []
  }
 ],
 "metadata": {
  "kernelspec": {
   "display_name": "jlinops",
   "language": "python",
   "name": "python3"
  },
  "language_info": {
   "codemirror_mode": {
    "name": "ipython",
    "version": 3
   },
   "file_extension": ".py",
   "mimetype": "text/x-python",
   "name": "python",
   "nbconvert_exporter": "python",
   "pygments_lexer": "ipython3",
   "version": "3.11.6"
  }
 },
 "nbformat": 4,
 "nbformat_minor": 2
}
