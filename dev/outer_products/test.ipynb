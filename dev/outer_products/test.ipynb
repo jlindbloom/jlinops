{
 "cells": [
  {
   "cell_type": "code",
   "execution_count": 3,
   "metadata": {},
   "outputs": [],
   "source": [
    "import numpy as np\n",
    "import matplotlib.pyplot as plt\n",
    "\n",
    "import jlinops\n",
    "\n",
    "from jlinops import _CustomLinearOperator"
   ]
  },
  {
   "cell_type": "code",
   "execution_count": null,
   "metadata": {},
   "outputs": [],
   "source": []
  },
  {
   "cell_type": "code",
   "execution_count": 7,
   "metadata": {},
   "outputs": [],
   "source": [
    "n = 10\n",
    "k = 6\n",
    "m = 14\n",
    "U = np.random.normal(size=(n,k))\n",
    "s = np.random.normal(size=k)\n",
    "Vt = np.random.normal(size=(k,m))\n",
    "A = U @ np.diag(s) @ Vt"
   ]
  },
  {
   "cell_type": "code",
   "execution_count": null,
   "metadata": {},
   "outputs": [],
   "source": [
    "class OuterProductOperator(_CustomLinearOperator):\n",
    "    \"\"\"Implements an outer product operator of the form\n",
    "        A = U diag(s) V^T \n",
    "    where U is n x k, s is k x 1, and V^T is k x m.\n",
    "\n",
    "    If S\n",
    "    \"\"\"\n",
    "\n",
    "    def __init__(self, U, s, Vt):\n",
    "\n",
    "        # Initial\n",
    "        self.U = U\n",
    "        self.Vt = Vt\n",
    "        self.n, self.k = U.shape\n",
    "        assert Vt.shape[0] == self.k, \"invalid shape for Vt\"\n",
    "        self.m = Vt.shape[1]\n",
    "\n",
    "        # Default s to 1's if None\n",
    "        if s is None:\n",
    "            s = np.ones(self.k)\n",
    "\n",
    "        \n",
    "\n",
    "        \n"
   ]
  },
  {
   "cell_type": "code",
   "execution_count": null,
   "metadata": {},
   "outputs": [],
   "source": []
  },
  {
   "cell_type": "code",
   "execution_count": null,
   "metadata": {},
   "outputs": [],
   "source": []
  },
  {
   "cell_type": "code",
   "execution_count": null,
   "metadata": {},
   "outputs": [],
   "source": [
    "\n",
    "class DiagonalOperator(_CustomLinearOperator):\n",
    "    \"\"\"Implements a diagonal linear operator D.\n",
    "    \"\"\"\n",
    "\n",
    "    def __init__(self, diagonal):\n",
    "        \n",
    "        assert diagonal.ndim == 1, \"Diagonal array must be 1-dimensional.\"\n",
    "        self.diagonal = diagonal\n",
    "        n = len(diagonal)\n",
    "        device = get_device(diagonal)\n",
    "\n",
    "        def _matvec(x):\n",
    "            return self.diagonal*x\n",
    "        \n",
    "        def _rmatvec(x):\n",
    "            return self.diagonal.conj()*x\n",
    "        \n",
    "        super().__init__( (n,n), _matvec, _rmatvec, device=device, dtype=self.diagonal.dtype)\n",
    "\n",
    "    def to_gpu(self):\n",
    "\n",
    "        assert CUPY_INSTALLED, \"CuPy must be installed!\"\n",
    "\n",
    "        return DiagonalOperator(cp.asarray(self.diagonal))\n",
    "    \n",
    "    def to_cpu(self):\n",
    "\n",
    "        assert CUPY_INSTALLED, \"CuPy must be installed!\"\n",
    "\n",
    "        return DiagonalOperator(cp.asnumpy(self.diagonal)) \n",
    "\n"
   ]
  },
  {
   "cell_type": "code",
   "execution_count": null,
   "metadata": {},
   "outputs": [],
   "source": []
  },
  {
   "cell_type": "code",
   "execution_count": null,
   "metadata": {},
   "outputs": [],
   "source": []
  },
  {
   "cell_type": "code",
   "execution_count": null,
   "metadata": {},
   "outputs": [],
   "source": []
  },
  {
   "cell_type": "code",
   "execution_count": null,
   "metadata": {},
   "outputs": [],
   "source": []
  }
 ],
 "metadata": {
  "kernelspec": {
   "display_name": "jlinops",
   "language": "python",
   "name": "python3"
  },
  "language_info": {
   "codemirror_mode": {
    "name": "ipython",
    "version": 3
   },
   "file_extension": ".py",
   "mimetype": "text/x-python",
   "name": "python",
   "nbconvert_exporter": "python",
   "pygments_lexer": "ipython3",
   "version": "3.11.6"
  }
 },
 "nbformat": 4,
 "nbformat_minor": 2
}
