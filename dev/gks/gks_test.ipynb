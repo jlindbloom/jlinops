{
 "cells": [
  {
   "cell_type": "code",
   "execution_count": 1,
   "metadata": {},
   "outputs": [],
   "source": [
    "import numpy as np\n",
    "import matplotlib.pyplot as plt"
   ]
  },
  {
   "cell_type": "code",
   "execution_count": null,
   "metadata": {},
   "outputs": [],
   "source": []
  },
  {
   "cell_type": "code",
   "execution_count": 2,
   "metadata": {},
   "outputs": [],
   "source": [
    "# Parameters\n",
    "np.random.seed(0)\n",
    "m = 10\n",
    "k = 8\n",
    "n = 5\n",
    "\n",
    "# Make test matrices\n",
    "A = np.random.normal(size=(m,n))\n",
    "L = np.random.normal(size=(k,n))\n",
    "\n",
    "# Test vector\n",
    "x_true = np.random.normal(size=n)\n",
    "nsigma = 0.1\n",
    "b = (A @ x_true) + nsigma*np.random.normal(size=m)"
   ]
  },
  {
   "cell_type": "code",
   "execution_count": null,
   "metadata": {},
   "outputs": [],
   "source": [
    "# First, get V0 using l steps of the cgls method\n",
    "l = 5\n",
    "\n",
    "V0 = np.zeros((n,l))\n",
    "z = np.zeros(n)\n",
    "d = b - (A @ z)\n",
    "rprev = A.T @ d\n",
    "p = rprev.copy()\n",
    "y = A @ p\n",
    "V0[:,0] = p\n",
    "for j in range(l):\n",
    "    rnorm = np.linalg.norm(r)\n",
    "    ynorm = np.linalg.norm(y)\n",
    "    alpha = (rnorm/ynorm)**2\n",
    "    z += alpha*p\n",
    "    d -= alpha*y\n",
    "    rnext = A.T @ d\n",
    "    rnorm_next = np.linalg.norm(rnext)\n",
    "    beta = (rnorm_next/rnorm)**2\n",
    "    p = rnext + beta*p\n",
    "    y = A @ p\n",
    "\n",
    "\n",
    "\n",
    "\n",
    "\n"
   ]
  },
  {
   "cell_type": "code",
   "execution_count": null,
   "metadata": {},
   "outputs": [],
   "source": []
  },
  {
   "cell_type": "code",
   "execution_count": null,
   "metadata": {},
   "outputs": [],
   "source": []
  }
 ],
 "metadata": {
  "kernelspec": {
   "display_name": "jlinops",
   "language": "python",
   "name": "python3"
  },
  "language_info": {
   "codemirror_mode": {
    "name": "ipython",
    "version": 3
   },
   "file_extension": ".py",
   "mimetype": "text/x-python",
   "name": "python",
   "nbconvert_exporter": "python",
   "pygments_lexer": "ipython3",
   "version": "3.11.6"
  }
 },
 "nbformat": 4,
 "nbformat_minor": 2
}
