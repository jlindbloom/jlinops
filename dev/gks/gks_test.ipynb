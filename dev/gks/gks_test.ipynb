{
 "cells": [
  {
   "cell_type": "code",
   "execution_count": 1,
   "metadata": {},
   "outputs": [],
   "source": [
    "import numpy as np\n",
    "import matplotlib.pyplot as plt"
   ]
  },
  {
   "cell_type": "code",
   "execution_count": 2,
   "metadata": {},
   "outputs": [],
   "source": [
    "# Parameters\n",
    "np.random.seed(0)\n",
    "m = 10\n",
    "k = 8\n",
    "n = 5\n",
    "\n",
    "# Make test matrices\n",
    "A = np.random.normal(size=(m,n))\n",
    "L = np.random.normal(size=(k,n))\n",
    "\n",
    "# Test vector\n",
    "x_true = np.random.normal(size=n)\n",
    "nsigma = 0.1\n",
    "b = (A @ x_true) + nsigma*np.random.normal(size=m)"
   ]
  },
  {
   "cell_type": "code",
   "execution_count": 3,
   "metadata": {},
   "outputs": [],
   "source": [
    "# First, get V0 using l steps of the cgls method\n",
    "l = 5 # number of vectors in initial subspace\n",
    "V0 = np.zeros((n,l))\n",
    "z = np.zeros(n)\n",
    "d = b - (A @ z)\n",
    "rprev = A.T @ d\n",
    "p = rprev.copy()\n",
    "y = A @ p\n",
    "V0[:,0] = p\n",
    "for j in range(l-1):\n",
    "    rnorm = np.linalg.norm(rprev)\n",
    "    ynorm = np.linalg.norm(y)\n",
    "    alpha = (rnorm/ynorm)**2\n",
    "    z += alpha*p\n",
    "    d -= alpha*y\n",
    "    rnext = A.T @ d\n",
    "    rnorm_next = np.linalg.norm(rnext)\n",
    "    beta = (rnorm_next/rnorm)**2\n",
    "    p = rnext + beta*p\n",
    "    y = A @ p\n",
    "    V0[:,j] = p # Add next direction\n",
    "    rprev = rnext\n",
    "    #print(rnorm)\n",
    "\n",
    "V0 = np.linalg.qr(V0).Q # Orthonormalize V0\n"
   ]
  },
  {
   "cell_type": "code",
   "execution_count": 4,
   "metadata": {},
   "outputs": [
    {
     "data": {
      "text/plain": [
       "array([[-0.1421435 , -0.42731103,  0.73535586, -0.4925922 , -0.11749548],\n",
       "       [ 0.88183777, -0.29981463,  0.10000074,  0.07327616,  0.34220432],\n",
       "       [-0.16195179, -0.53736655, -0.62985836, -0.48321725,  0.23406909],\n",
       "       [-0.03183124,  0.5783706 ,  0.11920534, -0.47075015,  0.65472025],\n",
       "       [-0.41822932, -0.32286392,  0.1957553 ,  0.54486596,  0.62100248]])"
      ]
     },
     "execution_count": 4,
     "metadata": {},
     "output_type": "execute_result"
    }
   ],
   "source": [
    "V0"
   ]
  },
  {
   "cell_type": "code",
   "execution_count": null,
   "metadata": {},
   "outputs": [],
   "source": []
  },
  {
   "cell_type": "code",
   "execution_count": null,
   "metadata": {},
   "outputs": [],
   "source": []
  },
  {
   "cell_type": "code",
   "execution_count": null,
   "metadata": {},
   "outputs": [],
   "source": []
  },
  {
   "cell_type": "code",
   "execution_count": null,
   "metadata": {},
   "outputs": [],
   "source": []
  },
  {
   "cell_type": "code",
   "execution_count": null,
   "metadata": {},
   "outputs": [],
   "source": []
  },
  {
   "cell_type": "code",
   "execution_count": null,
   "metadata": {},
   "outputs": [],
   "source": []
  }
 ],
 "metadata": {
  "kernelspec": {
   "display_name": "jlinops",
   "language": "python",
   "name": "python3"
  },
  "language_info": {
   "codemirror_mode": {
    "name": "ipython",
    "version": 3
   },
   "file_extension": ".py",
   "mimetype": "text/x-python",
   "name": "python",
   "nbconvert_exporter": "python",
   "pygments_lexer": "ipython3",
   "version": "3.1.undefined"
  }
 },
 "nbformat": 4,
 "nbformat_minor": 2
}
