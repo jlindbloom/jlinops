{
 "cells": [
  {
   "cell_type": "code",
   "execution_count": 1,
   "metadata": {},
   "outputs": [],
   "source": [
    "import numpy as np\n",
    "import matplotlib.pyplot as plt\n",
    "import jlinops\n",
    "\n",
    "import numpy as np\n",
    "import math\n",
    "from scipy.fft import dstn as sp_dstn\n",
    "from scipy.fft import idstn as sp_idstn\n",
    "from scipy.sparse.linalg import LinearOperator\n",
    "# from scipy.sparse.linalg._interface import _CustomLinearOperator\n",
    "\n",
    "\n",
    "from jlinops import _CustomLinearOperator, DiagonalOperator, get_device\n",
    "\n",
    "# from ..base import _CustomLinearOperator\n",
    "# from ..diagonal import DiagonalOperator\n",
    "# from ..util import get_device\n",
    "\n",
    "from jlinops import CUPY_INSTALLED\n",
    "# from .. import CUPY_INSTALLED\n",
    "if CUPY_INSTALLED:\n",
    "    import cupy as cp\n",
    "    from cupyx.scipy.fft import dctn as cp_dctn\n",
    "    from cupyx.scipy.fft import idctn as cp_idctn\n"
   ]
  },
  {
   "cell_type": "code",
   "execution_count": 2,
   "metadata": {},
   "outputs": [
    {
     "data": {
      "text/plain": [
       "array([0, 1, 2, 3, 4, 0, 1, 2, 3, 4, 5, 6, 7])"
      ]
     },
     "execution_count": 2,
     "metadata": {},
     "output_type": "execute_result"
    }
   ],
   "source": [
    "v1 = np.arange(5)\n",
    "v2 = np.arange(8)\n",
    "np.hstack([v1,v2])"
   ]
  },
  {
   "cell_type": "code",
   "execution_count": 3,
   "metadata": {},
   "outputs": [],
   "source": [
    "b = np.asarray([1,2])\n"
   ]
  },
  {
   "cell_type": "code",
   "execution_count": 4,
   "metadata": {},
   "outputs": [
    {
     "data": {
      "text/plain": [
       "array([1, 2])"
      ]
     },
     "execution_count": 4,
     "metadata": {},
     "output_type": "execute_result"
    }
   ],
   "source": [
    "v1[b]"
   ]
  },
  {
   "cell_type": "code",
   "execution_count": 5,
   "metadata": {},
   "outputs": [
    {
     "data": {
      "text/plain": [
       "array([0, 1, 2, 3])"
      ]
     },
     "execution_count": 5,
     "metadata": {},
     "output_type": "execute_result"
    }
   ],
   "source": [
    "np.arange(4)"
   ]
  },
  {
   "cell_type": "code",
   "execution_count": 6,
   "metadata": {},
   "outputs": [
    {
     "data": {
      "text/plain": [
       "array([3, 4, 5])"
      ]
     },
     "execution_count": 6,
     "metadata": {},
     "output_type": "execute_result"
    }
   ],
   "source": [
    "np.arange(3,6)"
   ]
  },
  {
   "cell_type": "code",
   "execution_count": null,
   "metadata": {},
   "outputs": [],
   "source": []
  },
  {
   "cell_type": "code",
   "execution_count": null,
   "metadata": {},
   "outputs": [],
   "source": []
  },
  {
   "cell_type": "code",
   "execution_count": 18,
   "metadata": {},
   "outputs": [],
   "source": [
    "class BlockDiagonalOperator(_CustomLinearOperator):\n",
    "    \"\"\"Given square operators A_1, \\ldots, A_p of shapes n_i \\times n_i, represents the block diagonal operator diag(A_1, \\ldots, A_p).\n",
    "    \"\"\"\n",
    "    def __init__(self, As, device=\"cpu\", type=1):\n",
    "\n",
    "        # Setup\n",
    "        self.As = As # list of operators\n",
    "        self.p = len(self.As) # number of operators\n",
    "        self.ns = [] # list of shapes\n",
    "        self.idxs = []\n",
    "        tmp = 0\n",
    "        for j, op in enumerate(self.As):\n",
    "            nj = op.shape[0]\n",
    "            assert op.shape[1] == nj, \"Not all A_i are square!\"\n",
    "            self.ns.append(nj)\n",
    "\n",
    "            if j == 0:\n",
    "                self.idxs.append( np.arange(nj) )     \n",
    "            else:\n",
    "                self.idxs.append( np.arange(tmp, tmp+nj) )\n",
    "                \n",
    "            tmp += nj\n",
    "\n",
    "\n",
    "        # Set shape\n",
    "        n = sum(self.ns)\n",
    "        shape = (n, n)\n",
    "\n",
    "        # Define matvecs\n",
    "        def _matvec(x):\n",
    "            pieces = []\n",
    "            for j, op in enumerate(self.As):\n",
    "                pieces.append( op.matvec(x[self.idxs[j]]) )\n",
    "            return np.hstack(pieces)\n",
    "        \n",
    "        def _rmatvec(x):\n",
    "            pieces = []\n",
    "            for j, op in enumerate(self.As):\n",
    "                pieces.append( op.rmatvec(x[self.idxs[j]]) )\n",
    "            return np.hstack(pieces)\n",
    "\n",
    "            \n",
    "        super().__init__(shape, _matvec, _rmatvec, device=device)\n",
    "                \n",
    "                \n",
    "        \n",
    "    def to_gpu(self):\n",
    "\n",
    "        As_gpu = []\n",
    "        for op in self.As:\n",
    "            gpu_op = op.to_gpu()\n",
    "            As_gpu.append(gpu_op)\n",
    "\n",
    "        return BlockDiagonalOperator(As_gpu, device=\"gpu\")\n",
    "    \n",
    "    def to_cpu(self):\n",
    "\n",
    "        As_cpu = []\n",
    "        for op in self.As:\n",
    "            cpu_op = op.to_cpu()\n",
    "            As_cpu.append(cpu_op)\n",
    "\n",
    "        return BlockDiagonalOperator(As_cpu, device=\"cpu\")"
   ]
  },
  {
   "cell_type": "code",
   "execution_count": 19,
   "metadata": {},
   "outputs": [],
   "source": [
    "n1 = 5\n",
    "n2 = 9\n",
    "np.random.seed(0)\n",
    "A1 = jlinops.MatrixLinearOperator( np.random.normal(size=(n1,n1)) )\n",
    "A2 = jlinops.MatrixLinearOperator( np.random.normal(size=(n2,n2)) )\n",
    "A = jlinops.BlockDiagonalOperator([A1, A2])"
   ]
  },
  {
   "cell_type": "code",
   "execution_count": 20,
   "metadata": {},
   "outputs": [],
   "source": [
    "v1 = np.arange(5)\n",
    "v2 = np.arange(5,5+9)\n",
    "v = np.hstack([v1, v2])"
   ]
  },
  {
   "cell_type": "code",
   "execution_count": 21,
   "metadata": {},
   "outputs": [
    {
     "data": {
      "text/plain": [
       "array([ -9.90012702,  10.95534703,   4.21298825,  -1.8893258 ,\n",
       "         7.81505625,  15.24971629, -16.3875941 ,   9.30814004,\n",
       "        43.05642643, -20.51545741, -19.86233757,  22.22613981,\n",
       "       -29.88856451,  -2.04708387])"
      ]
     },
     "execution_count": 21,
     "metadata": {},
     "output_type": "execute_result"
    }
   ],
   "source": [
    "A.T @ v"
   ]
  },
  {
   "cell_type": "code",
   "execution_count": 22,
   "metadata": {},
   "outputs": [
    {
     "data": {
      "text/plain": [
       "array([-9.90012702, 10.95534703,  4.21298825, -1.8893258 ,  7.81505625])"
      ]
     },
     "execution_count": 22,
     "metadata": {},
     "output_type": "execute_result"
    }
   ],
   "source": [
    "A1.T @ v1"
   ]
  },
  {
   "cell_type": "code",
   "execution_count": 23,
   "metadata": {},
   "outputs": [
    {
     "data": {
      "text/plain": [
       "array([ 15.24971629, -16.3875941 ,   9.30814004,  43.05642643,\n",
       "       -20.51545741, -19.86233757,  22.22613981, -29.88856451,\n",
       "        -2.04708387])"
      ]
     },
     "execution_count": 23,
     "metadata": {},
     "output_type": "execute_result"
    }
   ],
   "source": [
    "A2.T @ v2"
   ]
  },
  {
   "cell_type": "code",
   "execution_count": null,
   "metadata": {},
   "outputs": [],
   "source": []
  },
  {
   "cell_type": "code",
   "execution_count": null,
   "metadata": {},
   "outputs": [],
   "source": []
  }
 ],
 "metadata": {
  "kernelspec": {
   "display_name": "jlinops",
   "language": "python",
   "name": "python3"
  },
  "language_info": {
   "codemirror_mode": {
    "name": "ipython",
    "version": 3
   },
   "file_extension": ".py",
   "mimetype": "text/x-python",
   "name": "python",
   "nbconvert_exporter": "python",
   "pygments_lexer": "ipython3",
   "version": "3.11.6"
  }
 },
 "nbformat": 4,
 "nbformat_minor": 2
}
